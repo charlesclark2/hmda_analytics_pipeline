{
 "cells": [
  {
   "cell_type": "code",
   "execution_count": 1,
   "id": "22eef65a",
   "metadata": {},
   "outputs": [],
   "source": [
    "import pandas as pd\n",
    "import numpy as np\n",
    "import matplotlib.pyplot as plt\n",
    "import seaborn as sns"
   ]
  },
  {
   "cell_type": "code",
   "execution_count": 3,
   "id": "0e84e71d",
   "metadata": {},
   "outputs": [],
   "source": [
    "def split_txt_file(filepath, path_prefix='./data/hmda/', lines_per_file=100000, target_state=\"WI\", target_county=\"55079\"):\n",
    "    filenames = []\n",
    "    root_file_name = filepath.split('/')[-1].split('.txt')[0]\n",
    "    smallfile = None\n",
    "    file_counter = 0\n",
    "    line_counter = 0\n",
    "    with open(filepath, \"r\") as bigfile:\n",
    "        for line in bigfile: \n",
    "            columns = line.strip().split(\"|\")\n",
    "            if len(columns) > 9 and columns[9] == target_state and columns[10] == target_county: \n",
    "                if line_counter % lines_per_file == 0: \n",
    "                    if smallfile: \n",
    "                        smallfile.close()\n",
    "                    small_filename = f\"{path_prefix}{root_file_name}_part{file_counter}.txt\"\n",
    "                    smallfile = open(small_filename, \"w\")\n",
    "                    file_counter += 1\n",
    "                    filenames.append(small_filename)\n",
    "                smallfile.write(line)\n",
    "                line_counter += 1\n",
    "                \n",
    "    if smallfile: \n",
    "        smallfile.close()\n",
    "    return filenames"
   ]
  },
  {
   "cell_type": "code",
   "execution_count": 4,
   "id": "e1f0b159",
   "metadata": {},
   "outputs": [],
   "source": [
    "comb_mlar_filenames = split_txt_file(\"./data/hmda/2023_hmda_combined_mlar_raw.txt\")"
   ]
  },
  {
   "cell_type": "code",
   "execution_count": 2,
   "id": "26cb720e",
   "metadata": {},
   "outputs": [],
   "source": [
    "combined_mlar_cols = [\n",
    "    'activity_year', \n",
    "    'legal_entity_identifier', \n",
    "    'loan_type', \n",
    "    'loan_purpose', \n",
    "    'preapproval', \n",
    "    'construction_method', \n",
    "    'occupancy_type', \n",
    "    'loan_amount', \n",
    "    'action_taken', \n",
    "    'property_state', \n",
    "    'property_county', \n",
    "    'census_tract', \n",
    "    'borrower_one_ethnicity', \n",
    "    'borrower_two_ethnicity', \n",
    "    'borrower_three_ethnicity', \n",
    "    'borrower_four_ethnicity', \n",
    "    'borrower_five_ethnicity', \n",
    "    'co_borrower_one_ethnicity', \n",
    "    'co_borrower_two_ethnicity', \n",
    "    'co_borrower_three_ethnicity', \n",
    "    'co_borrower_four_ethnicity', \n",
    "    'co_borrower_five_ethnicity', \n",
    "    'borrower_ethnicity_based_on_obs', \n",
    "    'co_borrower_ethnicity_based_on_obs', \n",
    "    'borrower_one_race', \n",
    "    'borrower_two_race', \n",
    "    'borrower_three_race', \n",
    "    'borrower_four_race', \n",
    "    'borrower_five_race', \n",
    "    'co_borrower_one_race', \n",
    "    'co_borrower_two_race', \n",
    "    'co_borrower_three_race', \n",
    "    'co_borrower_four_race', \n",
    "    'co_borrower_five_race', \n",
    "    'borrower_race_based_on_obs', \n",
    "    'co_borrower_race_based_on_obs',\n",
    "    'borrower_gender', \n",
    "    'co_borrower_gender', \n",
    "    'borrower_gender_based_on_obs', \n",
    "    'co_borrower_gender_based_on_obs',\n",
    "    'borrower_age', \n",
    "    'is_borrower_62_or_older', \n",
    "    'co_borrower_age', \n",
    "    'is_co_borrower_62_or_older', \n",
    "    'income', \n",
    "    'type_of_purchaser', \n",
    "    'rate_spread', \n",
    "    'hoepa_status', \n",
    "    'lien_status', \n",
    "    'borrower_credit_score_model', \n",
    "    'co_borrower_credit_score_model', \n",
    "    'reason_for_denial_one',\n",
    "    'reason_for_denial_two', \n",
    "    'reason_for_denial_three', \n",
    "    'reason_for_denial_four', \n",
    "    'total_loan_costs', \n",
    "    'total_points_and_fees', \n",
    "    'origination_charges', \n",
    "    'discount_points', \n",
    "    'lender_credits', \n",
    "    'interest_rate', \n",
    "    'prepayment_penalty_term', \n",
    "    'debt_to_income_ratio', \n",
    "    'combined_loan_to_value_ratio', \n",
    "    'loan_term_months', \n",
    "    'intro_rate_period', \n",
    "    'balloon_payment', \n",
    "    'interest_only_payments', \n",
    "    'negative_amortization', \n",
    "    'other_non_amortizing_features', \n",
    "    'property_value', \n",
    "    'manufactured_home_property_type', \n",
    "    'manufactured_home_land_property_interest', \n",
    "    'total_units', \n",
    "    'multifamily_affordable_units', \n",
    "    'submission_of_application', \n",
    "    'is_init_payable_to_institution', \n",
    "    'auto_underwriting_system_one', \n",
    "    'auto_underwriting_system_two', \n",
    "    'auto_underwriting_system_three', \n",
    "    'auto_underwriting_system_four', \n",
    "    'auto_underwriting_system_five', \n",
    "    'is_reverse_mortgage', \n",
    "    'is_open_end_line_of_credit', \n",
    "    'is_for_business_purpose'\n",
    "]"
   ]
  },
  {
   "cell_type": "code",
   "execution_count": 5,
   "id": "c752e3f9",
   "metadata": {},
   "outputs": [
    {
     "data": {
      "text/html": [
       "<div>\n",
       "<style scoped>\n",
       "    .dataframe tbody tr th:only-of-type {\n",
       "        vertical-align: middle;\n",
       "    }\n",
       "\n",
       "    .dataframe tbody tr th {\n",
       "        vertical-align: top;\n",
       "    }\n",
       "\n",
       "    .dataframe thead th {\n",
       "        text-align: right;\n",
       "    }\n",
       "</style>\n",
       "<table border=\"1\" class=\"dataframe\">\n",
       "  <thead>\n",
       "    <tr style=\"text-align: right;\">\n",
       "      <th></th>\n",
       "      <th>activity_year</th>\n",
       "      <th>legal_entity_identifier</th>\n",
       "      <th>loan_type</th>\n",
       "      <th>loan_purpose</th>\n",
       "      <th>preapproval</th>\n",
       "      <th>construction_method</th>\n",
       "      <th>occupancy_type</th>\n",
       "      <th>loan_amount</th>\n",
       "      <th>action_taken</th>\n",
       "      <th>property_state</th>\n",
       "      <th>...</th>\n",
       "      <th>submission_of_application</th>\n",
       "      <th>is_init_payable_to_institution</th>\n",
       "      <th>auto_underwriting_system_one</th>\n",
       "      <th>auto_underwriting_system_two</th>\n",
       "      <th>auto_underwriting_system_three</th>\n",
       "      <th>auto_underwriting_system_four</th>\n",
       "      <th>auto_underwriting_system_five</th>\n",
       "      <th>is_reverse_mortgage</th>\n",
       "      <th>is_open_end_line_of_credit</th>\n",
       "      <th>is_for_business_purpose</th>\n",
       "    </tr>\n",
       "  </thead>\n",
       "  <tbody>\n",
       "    <tr>\n",
       "      <th>0</th>\n",
       "      <td>2023</td>\n",
       "      <td>549300HN58ONH5KNJJ12</td>\n",
       "      <td>1</td>\n",
       "      <td>31</td>\n",
       "      <td>2</td>\n",
       "      <td>1</td>\n",
       "      <td>1</td>\n",
       "      <td>595000</td>\n",
       "      <td>1</td>\n",
       "      <td>WI</td>\n",
       "      <td>...</td>\n",
       "      <td>1</td>\n",
       "      <td>1</td>\n",
       "      <td>1</td>\n",
       "      <td>NaN</td>\n",
       "      <td>NaN</td>\n",
       "      <td>NaN</td>\n",
       "      <td>NaN</td>\n",
       "      <td>2</td>\n",
       "      <td>2</td>\n",
       "      <td>2</td>\n",
       "    </tr>\n",
       "    <tr>\n",
       "      <th>1</th>\n",
       "      <td>2023</td>\n",
       "      <td>549300HN58ONH5KNJJ12</td>\n",
       "      <td>1</td>\n",
       "      <td>1</td>\n",
       "      <td>1</td>\n",
       "      <td>1</td>\n",
       "      <td>1</td>\n",
       "      <td>75000</td>\n",
       "      <td>1</td>\n",
       "      <td>WI</td>\n",
       "      <td>...</td>\n",
       "      <td>1</td>\n",
       "      <td>1</td>\n",
       "      <td>6</td>\n",
       "      <td>NaN</td>\n",
       "      <td>NaN</td>\n",
       "      <td>NaN</td>\n",
       "      <td>NaN</td>\n",
       "      <td>2</td>\n",
       "      <td>2</td>\n",
       "      <td>2</td>\n",
       "    </tr>\n",
       "    <tr>\n",
       "      <th>2</th>\n",
       "      <td>2023</td>\n",
       "      <td>549300HN58ONH5KNJJ12</td>\n",
       "      <td>1</td>\n",
       "      <td>1</td>\n",
       "      <td>1</td>\n",
       "      <td>1</td>\n",
       "      <td>1</td>\n",
       "      <td>135000</td>\n",
       "      <td>1</td>\n",
       "      <td>WI</td>\n",
       "      <td>...</td>\n",
       "      <td>1</td>\n",
       "      <td>1</td>\n",
       "      <td>6</td>\n",
       "      <td>NaN</td>\n",
       "      <td>NaN</td>\n",
       "      <td>NaN</td>\n",
       "      <td>NaN</td>\n",
       "      <td>2</td>\n",
       "      <td>2</td>\n",
       "      <td>2</td>\n",
       "    </tr>\n",
       "    <tr>\n",
       "      <th>3</th>\n",
       "      <td>2023</td>\n",
       "      <td>549300HN58ONH5KNJJ12</td>\n",
       "      <td>1</td>\n",
       "      <td>1</td>\n",
       "      <td>1</td>\n",
       "      <td>1</td>\n",
       "      <td>1</td>\n",
       "      <td>205000</td>\n",
       "      <td>1</td>\n",
       "      <td>WI</td>\n",
       "      <td>...</td>\n",
       "      <td>1</td>\n",
       "      <td>1</td>\n",
       "      <td>2</td>\n",
       "      <td>NaN</td>\n",
       "      <td>NaN</td>\n",
       "      <td>NaN</td>\n",
       "      <td>NaN</td>\n",
       "      <td>2</td>\n",
       "      <td>2</td>\n",
       "      <td>2</td>\n",
       "    </tr>\n",
       "    <tr>\n",
       "      <th>4</th>\n",
       "      <td>2023</td>\n",
       "      <td>549300HN58ONH5KNJJ12</td>\n",
       "      <td>1</td>\n",
       "      <td>1</td>\n",
       "      <td>2</td>\n",
       "      <td>1</td>\n",
       "      <td>1</td>\n",
       "      <td>255000</td>\n",
       "      <td>4</td>\n",
       "      <td>WI</td>\n",
       "      <td>...</td>\n",
       "      <td>1</td>\n",
       "      <td>3</td>\n",
       "      <td>6</td>\n",
       "      <td>NaN</td>\n",
       "      <td>NaN</td>\n",
       "      <td>NaN</td>\n",
       "      <td>NaN</td>\n",
       "      <td>2</td>\n",
       "      <td>2</td>\n",
       "      <td>2</td>\n",
       "    </tr>\n",
       "  </tbody>\n",
       "</table>\n",
       "<p>5 rows × 85 columns</p>\n",
       "</div>"
      ],
      "text/plain": [
       "  activity_year legal_entity_identifier loan_type loan_purpose preapproval  \\\n",
       "0          2023    549300HN58ONH5KNJJ12         1           31           2   \n",
       "1          2023    549300HN58ONH5KNJJ12         1            1           1   \n",
       "2          2023    549300HN58ONH5KNJJ12         1            1           1   \n",
       "3          2023    549300HN58ONH5KNJJ12         1            1           1   \n",
       "4          2023    549300HN58ONH5KNJJ12         1            1           2   \n",
       "\n",
       "  construction_method occupancy_type loan_amount action_taken property_state  \\\n",
       "0                   1              1      595000            1             WI   \n",
       "1                   1              1       75000            1             WI   \n",
       "2                   1              1      135000            1             WI   \n",
       "3                   1              1      205000            1             WI   \n",
       "4                   1              1      255000            4             WI   \n",
       "\n",
       "   ... submission_of_application is_init_payable_to_institution  \\\n",
       "0  ...                         1                              1   \n",
       "1  ...                         1                              1   \n",
       "2  ...                         1                              1   \n",
       "3  ...                         1                              1   \n",
       "4  ...                         1                              3   \n",
       "\n",
       "  auto_underwriting_system_one auto_underwriting_system_two  \\\n",
       "0                            1                          NaN   \n",
       "1                            6                          NaN   \n",
       "2                            6                          NaN   \n",
       "3                            2                          NaN   \n",
       "4                            6                          NaN   \n",
       "\n",
       "  auto_underwriting_system_three auto_underwriting_system_four  \\\n",
       "0                            NaN                           NaN   \n",
       "1                            NaN                           NaN   \n",
       "2                            NaN                           NaN   \n",
       "3                            NaN                           NaN   \n",
       "4                            NaN                           NaN   \n",
       "\n",
       "  auto_underwriting_system_five is_reverse_mortgage  \\\n",
       "0                           NaN                   2   \n",
       "1                           NaN                   2   \n",
       "2                           NaN                   2   \n",
       "3                           NaN                   2   \n",
       "4                           NaN                   2   \n",
       "\n",
       "  is_open_end_line_of_credit is_for_business_purpose  \n",
       "0                          2                       2  \n",
       "1                          2                       2  \n",
       "2                          2                       2  \n",
       "3                          2                       2  \n",
       "4                          2                       2  \n",
       "\n",
       "[5 rows x 85 columns]"
      ]
     },
     "execution_count": 5,
     "metadata": {},
     "output_type": "execute_result"
    }
   ],
   "source": [
    "df = pd.read_csv(comb_mlar_filenames[0], delimiter='|', header=None, names=combined_mlar_cols, dtype=str)\n",
    "df.head()"
   ]
  },
  {
   "cell_type": "code",
   "execution_count": 31,
   "id": "e63e6ac0",
   "metadata": {},
   "outputs": [
    {
     "data": {
      "text/plain": [
       "property_county\n",
       "55025    13936\n",
       "55079    12542\n",
       "55133     7002\n",
       "55009     3263\n",
       "55105     3161\n",
       "         ...  \n",
       "55065      147\n",
       "55023      146\n",
       "55091      122\n",
       "55037       82\n",
       "55078       47\n",
       "Name: count, Length: 72, dtype: int64"
      ]
     },
     "execution_count": 31,
     "metadata": {},
     "output_type": "execute_result"
    }
   ],
   "source": [
    "df.property_county.value_counts()"
   ]
  },
  {
   "cell_type": "code",
   "execution_count": 30,
   "id": "4a887711",
   "metadata": {},
   "outputs": [
    {
     "data": {
      "text/plain": [
       "property_state\n",
       "WI    100000\n",
       "Name: count, dtype: int64"
      ]
     },
     "execution_count": 30,
     "metadata": {},
     "output_type": "execute_result"
    }
   ],
   "source": [
    "df.property_state.value_counts()"
   ]
  },
  {
   "cell_type": "code",
   "execution_count": 6,
   "id": "738aac94",
   "metadata": {},
   "outputs": [],
   "source": [
    "import requests\n",
    "from io import StringIO\n",
    "fips_url = \"https://www2.census.gov/geo/docs/reference/codes2020/cou/st55_wi_cou2020.txt\"\n",
    "headers = {\n",
    "    \"User-Agent\": \"Mozilla/5.0 (Windows NT 10.0; Win64; x64) AppleWebKit/537.36 (KHTML, like Gecko) Chrome/98.0.4758.102 Safari/537.36\"\n",
    "}\n",
    "\n",
    "response = requests.get(fips_url, headers=headers)\n",
    "\n",
    "if response.status_code == 200: \n",
    "    file_content = StringIO(response.text)\n",
    "    fips_wi_df = pd.read_csv(file_content, delimiter=\"|\", header=0, dtype=str)\n",
    "    fips_wi_df.columns = [\n",
    "        \"state_abbr\", \n",
    "        \"state_fips_cd\", \n",
    "        \"county_fips_cd\", \n",
    "        \"county_ns_cd\", \n",
    "        \"county_name\", \n",
    "        \"fips_class_cd\", \n",
    "        \"functional_status\"\n",
    "    ]\n",
    "else: \n",
    "    print(f\"Failed to download file: Status code {response.status_code}\")"
   ]
  },
  {
   "cell_type": "code",
   "execution_count": 7,
   "id": "43b9fa7b",
   "metadata": {},
   "outputs": [
    {
     "data": {
      "text/html": [
       "<div>\n",
       "<style scoped>\n",
       "    .dataframe tbody tr th:only-of-type {\n",
       "        vertical-align: middle;\n",
       "    }\n",
       "\n",
       "    .dataframe tbody tr th {\n",
       "        vertical-align: top;\n",
       "    }\n",
       "\n",
       "    .dataframe thead th {\n",
       "        text-align: right;\n",
       "    }\n",
       "</style>\n",
       "<table border=\"1\" class=\"dataframe\">\n",
       "  <thead>\n",
       "    <tr style=\"text-align: right;\">\n",
       "      <th></th>\n",
       "      <th>state_abbr</th>\n",
       "      <th>state_fips_cd</th>\n",
       "      <th>county_fips_cd</th>\n",
       "      <th>county_ns_cd</th>\n",
       "      <th>county_name</th>\n",
       "      <th>fips_class_cd</th>\n",
       "      <th>functional_status</th>\n",
       "    </tr>\n",
       "  </thead>\n",
       "  <tbody>\n",
       "    <tr>\n",
       "      <th>0</th>\n",
       "      <td>WI</td>\n",
       "      <td>55</td>\n",
       "      <td>001</td>\n",
       "      <td>01581060</td>\n",
       "      <td>Adams County</td>\n",
       "      <td>H1</td>\n",
       "      <td>A</td>\n",
       "    </tr>\n",
       "    <tr>\n",
       "      <th>1</th>\n",
       "      <td>WI</td>\n",
       "      <td>55</td>\n",
       "      <td>003</td>\n",
       "      <td>01581061</td>\n",
       "      <td>Ashland County</td>\n",
       "      <td>H1</td>\n",
       "      <td>A</td>\n",
       "    </tr>\n",
       "    <tr>\n",
       "      <th>2</th>\n",
       "      <td>WI</td>\n",
       "      <td>55</td>\n",
       "      <td>005</td>\n",
       "      <td>01581062</td>\n",
       "      <td>Barron County</td>\n",
       "      <td>H1</td>\n",
       "      <td>A</td>\n",
       "    </tr>\n",
       "    <tr>\n",
       "      <th>3</th>\n",
       "      <td>WI</td>\n",
       "      <td>55</td>\n",
       "      <td>007</td>\n",
       "      <td>01581063</td>\n",
       "      <td>Bayfield County</td>\n",
       "      <td>H1</td>\n",
       "      <td>A</td>\n",
       "    </tr>\n",
       "    <tr>\n",
       "      <th>4</th>\n",
       "      <td>WI</td>\n",
       "      <td>55</td>\n",
       "      <td>009</td>\n",
       "      <td>01581064</td>\n",
       "      <td>Brown County</td>\n",
       "      <td>H1</td>\n",
       "      <td>A</td>\n",
       "    </tr>\n",
       "  </tbody>\n",
       "</table>\n",
       "</div>"
      ],
      "text/plain": [
       "  state_abbr state_fips_cd county_fips_cd county_ns_cd      county_name  \\\n",
       "0         WI            55            001     01581060     Adams County   \n",
       "1         WI            55            003     01581061   Ashland County   \n",
       "2         WI            55            005     01581062    Barron County   \n",
       "3         WI            55            007     01581063  Bayfield County   \n",
       "4         WI            55            009     01581064     Brown County   \n",
       "\n",
       "  fips_class_cd functional_status  \n",
       "0            H1                 A  \n",
       "1            H1                 A  \n",
       "2            H1                 A  \n",
       "3            H1                 A  \n",
       "4            H1                 A  "
      ]
     },
     "execution_count": 7,
     "metadata": {},
     "output_type": "execute_result"
    }
   ],
   "source": [
    "fips_wi_df.head()"
   ]
  },
  {
   "cell_type": "code",
   "execution_count": 8,
   "id": "1979f7e7",
   "metadata": {},
   "outputs": [],
   "source": [
    "fips_wi_df['census_county_cd'] = fips_wi_df['state_fips_cd'] + fips_wi_df['county_fips_cd']"
   ]
  },
  {
   "cell_type": "code",
   "execution_count": 9,
   "id": "ccbe6539",
   "metadata": {},
   "outputs": [
    {
     "data": {
      "text/plain": [
       "census_county_cd\n",
       "55001    1\n",
       "55003    1\n",
       "55103    1\n",
       "55101    1\n",
       "55099    1\n",
       "        ..\n",
       "55047    1\n",
       "55045    1\n",
       "55043    1\n",
       "55041    1\n",
       "55141    1\n",
       "Name: count, Length: 72, dtype: int64"
      ]
     },
     "execution_count": 9,
     "metadata": {},
     "output_type": "execute_result"
    }
   ],
   "source": [
    "fips_wi_df.census_county_cd.value_counts()"
   ]
  },
  {
   "cell_type": "code",
   "execution_count": 10,
   "id": "759da183",
   "metadata": {},
   "outputs": [
    {
     "data": {
      "text/html": [
       "<div>\n",
       "<style scoped>\n",
       "    .dataframe tbody tr th:only-of-type {\n",
       "        vertical-align: middle;\n",
       "    }\n",
       "\n",
       "    .dataframe tbody tr th {\n",
       "        vertical-align: top;\n",
       "    }\n",
       "\n",
       "    .dataframe thead th {\n",
       "        text-align: right;\n",
       "    }\n",
       "</style>\n",
       "<table border=\"1\" class=\"dataframe\">\n",
       "  <thead>\n",
       "    <tr style=\"text-align: right;\">\n",
       "      <th></th>\n",
       "      <th>state_abbr</th>\n",
       "      <th>state_fips_cd</th>\n",
       "      <th>county_fips_cd</th>\n",
       "      <th>county_ns_cd</th>\n",
       "      <th>county_name</th>\n",
       "      <th>fips_class_cd</th>\n",
       "      <th>functional_status</th>\n",
       "      <th>census_county_cd</th>\n",
       "    </tr>\n",
       "  </thead>\n",
       "  <tbody>\n",
       "    <tr>\n",
       "      <th>40</th>\n",
       "      <td>WI</td>\n",
       "      <td>55</td>\n",
       "      <td>079</td>\n",
       "      <td>01581100</td>\n",
       "      <td>Milwaukee County</td>\n",
       "      <td>H1</td>\n",
       "      <td>A</td>\n",
       "      <td>55079</td>\n",
       "    </tr>\n",
       "  </tbody>\n",
       "</table>\n",
       "</div>"
      ],
      "text/plain": [
       "   state_abbr state_fips_cd county_fips_cd county_ns_cd       county_name  \\\n",
       "40         WI            55            079     01581100  Milwaukee County   \n",
       "\n",
       "   fips_class_cd functional_status census_county_cd  \n",
       "40            H1                 A            55079  "
      ]
     },
     "execution_count": 10,
     "metadata": {},
     "output_type": "execute_result"
    }
   ],
   "source": [
    "fips_wi_df.query(\"county_name == 'Milwaukee County'\")"
   ]
  },
  {
   "cell_type": "code",
   "execution_count": 13,
   "id": "52e451fd",
   "metadata": {},
   "outputs": [
    {
     "data": {
      "text/plain": [
       "451"
      ]
     },
     "execution_count": 13,
     "metadata": {},
     "output_type": "execute_result"
    }
   ],
   "source": [
    "### LEI Work\n",
    "unique_legal_entity_identifier_list = df['legal_entity_identifier'].unique().tolist()\n",
    "len(unique_legal_entity_identifier_list)"
   ]
  },
  {
   "cell_type": "code",
   "execution_count": 54,
   "id": "b8e42553",
   "metadata": {},
   "outputs": [],
   "source": [
    "import warnings\n",
    "warnings.simplefilter(action='ignore', category=Warning)\n",
    "rows_per_chunk = 100000\n",
    "reader = pd.read_csv('./data/20250426-0000-gleif-goldencopy-lei2-golden-copy.csv', chunksize=rows_per_chunk)\n",
    "for i, chunk in enumerate(reader): \n",
    "    chunk.to_csv(f\"./data/gleif_lei2_{i}.csv\", index=False)"
   ]
  },
  {
   "cell_type": "code",
   "execution_count": 15,
   "id": "5f48d2f7",
   "metadata": {},
   "outputs": [
    {
     "name": "stdout",
     "output_type": "stream",
     "text": [
      "Searching ./data/lei/gleif_lei2_9.csv for matches\n"
     ]
    },
    {
     "name": "stderr",
     "output_type": "stream",
     "text": [
      "/var/folders/88/q8wq3ss94k3bvmkq1j1f_j0w0000gn/T/ipykernel_42529/3205639819.py:6: DtypeWarning: Columns (9,10,11,12,13,14,15,16,17,21,22,23,24,25,26,35,36,40,47,48,52,57,58,59,63,64,66,67,68,69,70,71,72,76,77,79,80,81,82,122,123,124,125,126,127,128,129,131,132,133,134,135,136,137,138,139,140,141,142,144,145,146,147,188,192,205,220,226,229,230,231,232,234,235,236,239,245,246,247,258,264,265,266,277,283,284,285,296,302,303,304,306,307,308,309,310,312,320,322,324) have mixed types. Specify dtype option on import or set low_memory=False.\n",
      "  lei_df = pd.read_csv(lei_file)\n"
     ]
    },
    {
     "name": "stdout",
     "output_type": "stream",
     "text": [
      "Searching ./data/lei/gleif_lei2_8.csv for matches\n"
     ]
    },
    {
     "name": "stderr",
     "output_type": "stream",
     "text": [
      "/var/folders/88/q8wq3ss94k3bvmkq1j1f_j0w0000gn/T/ipykernel_42529/3205639819.py:6: DtypeWarning: Columns (9,10,11,12,13,14,15,16,17,18,19,20,21,22,23,35,36,37,39,40,44,47,48,49,51,52,57,58,59,63,64,65,66,67,68,69,70,71,72,76,77,78,79,80,81,82,122,123,124,126,127,128,129,131,132,133,134,135,136,137,140,141,142,144,145,146,147,188,192,205,206,220,226,229,230,231,232,233,234,236,239,245,246,247,248,249,251,252,253,258,264,265,266,277,283,284,285,296,302,303,304,306,307,308,309,310,312,320,322,323,324) have mixed types. Specify dtype option on import or set low_memory=False.\n",
      "  lei_df = pd.read_csv(lei_file)\n"
     ]
    },
    {
     "name": "stdout",
     "output_type": "stream",
     "text": [
      "Searching ./data/lei/gleif_lei2_19.csv for matches\n"
     ]
    },
    {
     "name": "stderr",
     "output_type": "stream",
     "text": [
      "/var/folders/88/q8wq3ss94k3bvmkq1j1f_j0w0000gn/T/ipykernel_42529/3205639819.py:6: DtypeWarning: Columns (6,7,8,9,10,11,18,19,20,37,38,44,49,56,57,58,59,63,64,66,67,68,220,226,239,245,246,247,264,283,322) have mixed types. Specify dtype option on import or set low_memory=False.\n",
      "  lei_df = pd.read_csv(lei_file)\n"
     ]
    },
    {
     "name": "stdout",
     "output_type": "stream",
     "text": [
      "Searching ./data/lei/gleif_lei2_25.csv for matches\n"
     ]
    },
    {
     "name": "stderr",
     "output_type": "stream",
     "text": [
      "/var/folders/88/q8wq3ss94k3bvmkq1j1f_j0w0000gn/T/ipykernel_42529/3205639819.py:6: DtypeWarning: Columns (9,10,11,12,13,14,15,16,17,35,36,37,39,40,44,47,48,49,52,56,57,58,59,62,63,64,65,66,67,68,69,70,71,72,75,76,77,78,79,80,81,82,122,123,124,127,128,131,132,133,134,135,136,137,140,141,144,145,146,147,188,192,203,204,205,206,207,208,220,226,227,228,229,230,239,245,246,247,258,264,265,266,267,268,277,283,284,285,294,295,296,298,299,300,301,302,303,304,320,322,323,324,325,327,328,330) have mixed types. Specify dtype option on import or set low_memory=False.\n",
      "  lei_df = pd.read_csv(lei_file)\n"
     ]
    },
    {
     "name": "stdout",
     "output_type": "stream",
     "text": [
      "Searching ./data/lei/gleif_lei2_24.csv for matches\n"
     ]
    },
    {
     "name": "stderr",
     "output_type": "stream",
     "text": [
      "/var/folders/88/q8wq3ss94k3bvmkq1j1f_j0w0000gn/T/ipykernel_42529/3205639819.py:6: DtypeWarning: Columns (6,7,8,9,10,11,12,13,14,15,16,17,21,22,23,35,36,37,39,40,44,47,48,49,51,52,56,57,58,59,63,66,67,68,70,71,72,76,79,80,81,122,123,124,126,127,128,129,131,132,133,134,135,136,137,139,140,141,142,144,145,146,147,188,192,204,205,220,226,227,228,229,230,231,232,233,234,235,236,239,245,246,247,248,249,251,252,253,258,264,265,266,277,283,284,285,294,295,296,298,299,300,301,302,303,304,320,322,324) have mixed types. Specify dtype option on import or set low_memory=False.\n",
      "  lei_df = pd.read_csv(lei_file)\n"
     ]
    },
    {
     "name": "stdout",
     "output_type": "stream",
     "text": [
      "Searching ./data/lei/gleif_lei2_18.csv for matches\n"
     ]
    },
    {
     "name": "stderr",
     "output_type": "stream",
     "text": [
      "/var/folders/88/q8wq3ss94k3bvmkq1j1f_j0w0000gn/T/ipykernel_42529/3205639819.py:6: DtypeWarning: Columns (6,7,8,9,10,11,12,13,14,15,16,17,18,19,20,21,22,23,35,36,37,38,39,40,44,47,48,49,51,52,56,57,58,59,63,66,67,68,69,70,71,72,76,79,80,81,82,122,123,124,125,126,127,128,131,132,133,135,136,137,140,141,144,145,146,188,189,192,194,204,205,206,207,208,209,210,211,212,213,214,215,216,217,220,226,229,230,231,232,233,234,239,245,246,247,248,249,250,251,252,253,254,255,258,264,265,266,267,268,269,270,271,272,273,274,277,283,284,285,286,287,289,296,302,303,304,320,321,322,324,325) have mixed types. Specify dtype option on import or set low_memory=False.\n",
      "  lei_df = pd.read_csv(lei_file)\n"
     ]
    },
    {
     "name": "stdout",
     "output_type": "stream",
     "text": [
      "Searching ./data/lei/gleif_lei2_26.csv for matches\n"
     ]
    },
    {
     "name": "stderr",
     "output_type": "stream",
     "text": [
      "/var/folders/88/q8wq3ss94k3bvmkq1j1f_j0w0000gn/T/ipykernel_42529/3205639819.py:6: DtypeWarning: Columns (15,16,17,35,36,47,48,57,58,59,62,63,64,65,66,67,68,69,70,71,72,75,76,77,78,79,80,81,82,122,123,124,127,128,131,132,133,134,135,136,137,140,141,144,145,146,147,188,192,203,204,205,206,207,208,209,220,227,228,229,230,231,232,239,246,247,258,264,265,266,277,283,284,285,294,295,296,298,299,300,301,302,303,304,320,323,326,328,330) have mixed types. Specify dtype option on import or set low_memory=False.\n",
      "  lei_df = pd.read_csv(lei_file)\n"
     ]
    },
    {
     "name": "stdout",
     "output_type": "stream",
     "text": [
      "Searching ./data/lei/gleif_lei2_27.csv for matches\n"
     ]
    },
    {
     "name": "stderr",
     "output_type": "stream",
     "text": [
      "/var/folders/88/q8wq3ss94k3bvmkq1j1f_j0w0000gn/T/ipykernel_42529/3205639819.py:6: DtypeWarning: Columns (15,16,17,18,19,20,35,36,47,48,57,58,59,63,64,65,66,67,68,69,70,71,72,75,76,77,78,79,80,81,82,122,123,124,127,128,131,132,133,134,135,136,137,140,141,144,145,146,147,188,192,203,204,205,206,207,208,209,210,211,212,213,214,215,227,228,229,230,231,232,233,234,235,236,246,247,258,264,265,266,267,268,277,283,284,285,294,295,296,298,299,300,301,303,304,320,323,328,330,331,333,334,336) have mixed types. Specify dtype option on import or set low_memory=False.\n",
      "  lei_df = pd.read_csv(lei_file)\n"
     ]
    },
    {
     "name": "stdout",
     "output_type": "stream",
     "text": [
      "Searching ./data/lei/gleif_lei2_23.csv for matches\n"
     ]
    },
    {
     "name": "stderr",
     "output_type": "stream",
     "text": [
      "/var/folders/88/q8wq3ss94k3bvmkq1j1f_j0w0000gn/T/ipykernel_42529/3205639819.py:6: DtypeWarning: Columns (6,7,8,9,10,11,37,39,40,49,51,52,57,58,59,66,68,70,71,72,79,81,122,123,124,125,126,128,129,131,132,133,135,136,137,139,141,142,144,145,146,192,205,220,229,230,231,232,234,235,236,239,246,247,258,264,265,266,277,283,284,285,294,295,296,298,299,300,301,302,303,304) have mixed types. Specify dtype option on import or set low_memory=False.\n",
      "  lei_df = pd.read_csv(lei_file)\n"
     ]
    },
    {
     "name": "stdout",
     "output_type": "stream",
     "text": [
      "Searching ./data/lei/gleif_lei2_22.csv for matches\n"
     ]
    },
    {
     "name": "stderr",
     "output_type": "stream",
     "text": [
      "/var/folders/88/q8wq3ss94k3bvmkq1j1f_j0w0000gn/T/ipykernel_42529/3205639819.py:6: DtypeWarning: Columns (6,7,8,9,10,11,12,13,14,15,16,17,21,22,23,35,37,39,40,44,47,49,51,52,56,57,58,59,63,64,65,66,67,68,69,70,71,72,76,77,78,79,80,81,82,122,123,124,127,128,129,131,132,133,134,135,136,137,140,141,142,144,145,146,147,188,192,203,204,205,207,208,220,226,227,228,229,230,231,232,234,235,236,239,245,246,247,258,264,265,266,277,283,284,285,294,295,296,298,299,300,301,302,303,304,320,325,327,328,330) have mixed types. Specify dtype option on import or set low_memory=False.\n",
      "  lei_df = pd.read_csv(lei_file)\n"
     ]
    },
    {
     "name": "stdout",
     "output_type": "stream",
     "text": [
      "Searching ./data/lei/gleif_lei2_20.csv for matches\n"
     ]
    },
    {
     "name": "stderr",
     "output_type": "stream",
     "text": [
      "/var/folders/88/q8wq3ss94k3bvmkq1j1f_j0w0000gn/T/ipykernel_42529/3205639819.py:6: DtypeWarning: Columns (6,7,8,9,10,11,12,13,14,15,16,17,18,19,20,35,36,37,38,39,40,44,47,48,49,50,51,52,56,57,58,59,66,67,68,69,70,71,72,79,80,81,82,188,192,194,203,204,205,220,226,227,228,229,230,232,233,234,239,246,247,258,275,276,277,279,280,281,282,294,295,298,299,300,301,320,322) have mixed types. Specify dtype option on import or set low_memory=False.\n",
      "  lei_df = pd.read_csv(lei_file)\n"
     ]
    },
    {
     "name": "stdout",
     "output_type": "stream",
     "text": [
      "Searching ./data/lei/gleif_lei2_21.csv for matches\n"
     ]
    },
    {
     "name": "stderr",
     "output_type": "stream",
     "text": [
      "/var/folders/88/q8wq3ss94k3bvmkq1j1f_j0w0000gn/T/ipykernel_42529/3205639819.py:6: DtypeWarning: Columns (6,7,8,9,10,11,12,13,14,15,16,17,21,22,23,35,36,40,47,48,52,57,58,59,61,62,63,64,65,66,67,68,69,70,71,72,76,77,78,79,80,81,122,123,124,126,127,128,129,130,131,132,133,134,135,136,137,139,140,141,142,144,145,146,147,188,192,203,204,205,206,207,208,209,210,211,212,215,220,226,227,228,229,230,231,232,233,234,235,236,239,245,246,247,248,249,251,252,253,258,264,265,266,267,268,269,270,271,272,273,274,277,283,284,285,294,295,296,298,299,300,301,302,320,322,323,324,325,327,328,330) have mixed types. Specify dtype option on import or set low_memory=False.\n",
      "  lei_df = pd.read_csv(lei_file)\n"
     ]
    },
    {
     "name": "stdout",
     "output_type": "stream",
     "text": [
      "Searching ./data/lei/gleif_lei2_10.csv for matches\n"
     ]
    },
    {
     "name": "stderr",
     "output_type": "stream",
     "text": [
      "/var/folders/88/q8wq3ss94k3bvmkq1j1f_j0w0000gn/T/ipykernel_42529/3205639819.py:6: DtypeWarning: Columns (12,13,14,15,16,17,21,22,23,24,25,26,35,40,47,52,57,58,59,62,63,64,65,66,67,68,69,70,71,72,75,76,77,78,79,80,81,82,122,123,124,125,126,127,128,129,130,131,132,133,134,135,136,137,138,139,140,141,142,143,144,145,146,147,188,192,205,206,207,208,220,229,230,231,232,233,234,235,236,239,245,246,247,248,249,250,251,252,253,254,255,258,264,265,266,267,268,269,270,271,272,274,277,283,284,285,296,302,303,304,320,325,327,328,330) have mixed types. Specify dtype option on import or set low_memory=False.\n",
      "  lei_df = pd.read_csv(lei_file)\n"
     ]
    },
    {
     "name": "stdout",
     "output_type": "stream",
     "text": [
      "Searching ./data/lei/gleif_lei2_11.csv for matches\n"
     ]
    },
    {
     "name": "stderr",
     "output_type": "stream",
     "text": [
      "/var/folders/88/q8wq3ss94k3bvmkq1j1f_j0w0000gn/T/ipykernel_42529/3205639819.py:6: DtypeWarning: Columns (12,13,14,15,16,17,24,25,26,35,47,57,58,59,63,64,65,66,67,68,69,70,71,72,76,77,78,79,80,81,82,125,126,129,130,138,139,142,143,188,192,205,206,207,208,210,211,220,229,230,231,232,233,234,239,246,247,248,249,250,251,252,253,258,265,266,267,268,269,270,272,277,283,284,285,294,295,296,298,299,300,301,302,303,304,305,306,307,308,320,325,327,328,330) have mixed types. Specify dtype option on import or set low_memory=False.\n",
      "  lei_df = pd.read_csv(lei_file)\n"
     ]
    },
    {
     "name": "stdout",
     "output_type": "stream",
     "text": [
      "Searching ./data/lei/gleif_lei2_13.csv for matches\n"
     ]
    },
    {
     "name": "stderr",
     "output_type": "stream",
     "text": [
      "/var/folders/88/q8wq3ss94k3bvmkq1j1f_j0w0000gn/T/ipykernel_42529/3205639819.py:6: DtypeWarning: Columns (15,16,17,35,47,63,64,65,67,69,76,77,78,80,82,125,126,129,130,138,139,142,143,188,192,205,206,207,208,210,211,220,229,230,231,232,233,234,235,236,239,246,247,248,249,250,251,252,253,254,255,258,265,266,277,284,285,294,295,296,298,299,300,301,302,303,304,320,325,327,328,330) have mixed types. Specify dtype option on import or set low_memory=False.\n",
      "  lei_df = pd.read_csv(lei_file)\n"
     ]
    },
    {
     "name": "stdout",
     "output_type": "stream",
     "text": [
      "Searching ./data/lei/gleif_lei2_12.csv for matches\n"
     ]
    },
    {
     "name": "stderr",
     "output_type": "stream",
     "text": [
      "/var/folders/88/q8wq3ss94k3bvmkq1j1f_j0w0000gn/T/ipykernel_42529/3205639819.py:6: DtypeWarning: Columns (12,13,14,15,16,17,21,22,23,35,47,63,64,65,67,69,76,77,78,80,82,125,126,129,130,138,139,142,143,188,192,205,206,207,208,209,220,229,230,231,232,233,234,235,236,239,246,247,248,249,250,251,252,253,254,255,258,265,266,267,268,269,270,272,273,274,277,284,285,286,287,288,289,291,292,293,294,295,296,298,299,300,301,302,303,304,320,323,325,327) have mixed types. Specify dtype option on import or set low_memory=False.\n",
      "  lei_df = pd.read_csv(lei_file)\n"
     ]
    },
    {
     "name": "stdout",
     "output_type": "stream",
     "text": [
      "Searching ./data/lei/gleif_lei2_16.csv for matches\n"
     ]
    },
    {
     "name": "stderr",
     "output_type": "stream",
     "text": [
      "/var/folders/88/q8wq3ss94k3bvmkq1j1f_j0w0000gn/T/ipykernel_42529/3205639819.py:6: DtypeWarning: Columns (6,7,8,9,10,11,12,13,14,15,16,17,18,19,20,21,22,23,35,36,37,38,39,40,47,48,49,50,51,52,56,57,58,59,63,64,65,66,67,68,69,70,71,72,76,77,78,79,80,81,82,122,123,124,125,126,127,128,129,130,131,132,133,134,135,136,137,138,139,140,141,142,143,144,145,146,147,189,192,194,203,204,205,207,208,220,226,227,228,229,230,239,245,246,247,256,257,258,260,261,262,263,264,265,266,275,276,277,279,280,281,282,283,284,285,294,295,298,299,300,301,302,303,304,320,321,322,324) have mixed types. Specify dtype option on import or set low_memory=False.\n",
      "  lei_df = pd.read_csv(lei_file)\n"
     ]
    },
    {
     "name": "stdout",
     "output_type": "stream",
     "text": [
      "Searching ./data/lei/gleif_lei2_17.csv for matches\n"
     ]
    },
    {
     "name": "stderr",
     "output_type": "stream",
     "text": [
      "/var/folders/88/q8wq3ss94k3bvmkq1j1f_j0w0000gn/T/ipykernel_42529/3205639819.py:6: DtypeWarning: Columns (6,7,8,9,10,11,12,13,14,18,19,20,35,36,37,39,47,48,49,122,123,124,131,132,133,135,136,137,144,145,146,189,192,194,220,239,246,247,265,266,277,284,285,296,303,304,321,322,324) have mixed types. Specify dtype option on import or set low_memory=False.\n",
      "  lei_df = pd.read_csv(lei_file)\n"
     ]
    },
    {
     "name": "stdout",
     "output_type": "stream",
     "text": [
      "Searching ./data/lei/gleif_lei2_15.csv for matches\n"
     ]
    },
    {
     "name": "stderr",
     "output_type": "stream",
     "text": [
      "/var/folders/88/q8wq3ss94k3bvmkq1j1f_j0w0000gn/T/ipykernel_42529/3205639819.py:6: DtypeWarning: Columns (6,7,8,9,10,11,12,13,14,15,16,17,21,22,23,24,25,26,35,36,37,40,47,48,49,52,57,58,59,63,64,65,66,67,68,69,70,71,72,76,77,78,79,80,81,82,122,123,124,125,126,127,128,129,130,131,132,133,134,135,136,137,138,139,140,141,142,143,144,145,146,147,188,189,192,204,205,207,208,220,226,227,228,229,230,231,232,233,234,239,245,246,247,248,249,250,251,252,253,254,255,256,257,258,260,261,262,263,264,265,266,267,268,269,270,275,276,277,279,280,281,282,283,284,285,286,287,288,289,294,295,296,298,299,300,301,302,303,304,320,321,322,324,325,327) have mixed types. Specify dtype option on import or set low_memory=False.\n",
      "  lei_df = pd.read_csv(lei_file)\n"
     ]
    },
    {
     "name": "stdout",
     "output_type": "stream",
     "text": [
      "Searching ./data/lei/gleif_lei2_29.csv for matches\n"
     ]
    },
    {
     "name": "stderr",
     "output_type": "stream",
     "text": [
      "/var/folders/88/q8wq3ss94k3bvmkq1j1f_j0w0000gn/T/ipykernel_42529/3205639819.py:6: DtypeWarning: Columns (15,16,17,18,19,20,35,36,47,48,57,58,59,63,64,66,67,68,69,70,71,72,75,76,77,79,80,81,82,122,123,124,127,128,131,132,133,134,135,136,137,140,141,144,145,146,147,188,192,203,204,205,207,208,229,230,231,232,233,234,236,239,246,247,248,249,250,251,252,253,255,258,264,265,266,277,283,284,285,294,295,296,298,299,300,301,303,304,320,323,325,326,327,328,330) have mixed types. Specify dtype option on import or set low_memory=False.\n",
      "  lei_df = pd.read_csv(lei_file)\n"
     ]
    },
    {
     "name": "stdout",
     "output_type": "stream",
     "text": [
      "Searching ./data/lei/gleif_lei2_28.csv for matches\n"
     ]
    },
    {
     "name": "stderr",
     "output_type": "stream",
     "text": [
      "/var/folders/88/q8wq3ss94k3bvmkq1j1f_j0w0000gn/T/ipykernel_42529/3205639819.py:6: DtypeWarning: Columns (15,16,17,35,36,47,48,57,58,59,62,63,64,65,66,67,68,69,70,71,72,75,76,77,78,79,80,81,82,122,123,124,126,127,128,129,131,132,133,134,135,136,137,139,140,141,142,144,145,146,147,188,192,203,204,205,206,207,208,227,228,229,230,245,246,247,258,264,265,266,267,268,277,283,284,285,294,295,296,298,299,300,301,302,303,304,320,323,326,328,330,331,333) have mixed types. Specify dtype option on import or set low_memory=False.\n",
      "  lei_df = pd.read_csv(lei_file)\n"
     ]
    },
    {
     "name": "stdout",
     "output_type": "stream",
     "text": [
      "Searching ./data/lei/gleif_lei2_14.csv for matches\n"
     ]
    },
    {
     "name": "stderr",
     "output_type": "stream",
     "text": [
      "/var/folders/88/q8wq3ss94k3bvmkq1j1f_j0w0000gn/T/ipykernel_42529/3205639819.py:6: DtypeWarning: Columns (12,13,14,15,16,17,24,25,26,35,47,63,64,65,67,69,76,77,78,80,82,125,126,129,130,138,139,142,143,188,192,206,207,208,220,229,230,232,239,246,247,248,249,250,251,253,258,265,266,267,268,270,277,284,285,286,287,289,294,295,296,298,299,300,301,302,303,304,320,323,325,327,328,330) have mixed types. Specify dtype option on import or set low_memory=False.\n",
      "  lei_df = pd.read_csv(lei_file)\n"
     ]
    },
    {
     "name": "stdout",
     "output_type": "stream",
     "text": [
      "Searching ./data/lei/gleif_lei2_0.csv for matches\n"
     ]
    },
    {
     "name": "stderr",
     "output_type": "stream",
     "text": [
      "/var/folders/88/q8wq3ss94k3bvmkq1j1f_j0w0000gn/T/ipykernel_42529/3205639819.py:6: DtypeWarning: Columns (6,7,8,9,10,11,12,13,14,15,16,17,21,22,23,35,36,37,38,39,40,47,48,49,51,52,57,58,59,63,64,65,66,67,68,69,70,71,72,76,77,78,79,80,81,82,122,123,124,125,126,127,128,129,130,131,132,133,134,135,136,137,138,139,140,141,142,143,144,145,146,147,188,192,194,204,205,207,208,220,226,227,228,229,230,239,245,246,247,258,264,265,266,275,276,277,279,280,281,282,283,284,285,294,295,296,298,299,300,301,303,304,320,322,324) have mixed types. Specify dtype option on import or set low_memory=False.\n",
      "  lei_df = pd.read_csv(lei_file)\n"
     ]
    },
    {
     "name": "stdout",
     "output_type": "stream",
     "text": [
      "Searching ./data/lei/gleif_lei2_1.csv for matches\n"
     ]
    },
    {
     "name": "stderr",
     "output_type": "stream",
     "text": [
      "/var/folders/88/q8wq3ss94k3bvmkq1j1f_j0w0000gn/T/ipykernel_42529/3205639819.py:6: DtypeWarning: Columns (12,13,14,15,16,17,21,22,23,35,36,47,48,57,58,59,63,66,67,68,69,70,71,72,76,77,78,79,80,81,82,122,123,124,125,126,127,128,129,130,131,132,133,134,135,136,137,138,139,140,141,142,143,144,145,146,147,204,205,220,226,229,230,231,232,233,234,236,239,245,246,247,248,249,250,251,252,253,255,258,264,265,266,277,283,294,295,296,298,299,300,301,302,303,304,322,324) have mixed types. Specify dtype option on import or set low_memory=False.\n",
      "  lei_df = pd.read_csv(lei_file)\n"
     ]
    },
    {
     "name": "stdout",
     "output_type": "stream",
     "text": [
      "Searching ./data/lei/gleif_lei2_3.csv for matches\n"
     ]
    },
    {
     "name": "stderr",
     "output_type": "stream",
     "text": [
      "/var/folders/88/q8wq3ss94k3bvmkq1j1f_j0w0000gn/T/ipykernel_42529/3205639819.py:6: DtypeWarning: Columns (9,10,11,12,13,14,15,16,17,21,22,23,35,36,47,48,65,82,126,127,128,129,134,139,140,141,142,147,192,203,204,205,220,227,228,229,230,231,232,233,234,235,236,239,245,246,247,248,249,250,251,252,253,254,255,258,264,265,266,268,269,270,275,276,277,279,280,281,282,283,284,285,294,295,296,298,299,300,301,302,323,327,328,330) have mixed types. Specify dtype option on import or set low_memory=False.\n",
      "  lei_df = pd.read_csv(lei_file)\n"
     ]
    },
    {
     "name": "stdout",
     "output_type": "stream",
     "text": [
      "Searching ./data/lei/gleif_lei2_2.csv for matches\n"
     ]
    },
    {
     "name": "stderr",
     "output_type": "stream",
     "text": [
      "/var/folders/88/q8wq3ss94k3bvmkq1j1f_j0w0000gn/T/ipykernel_42529/3205639819.py:6: DtypeWarning: Columns (9,10,11,12,13,14,15,16,17,21,22,23,35,36,39,40,44,47,48,51,52,56,57,58,59,62,63,64,65,66,67,68,69,70,71,72,76,77,78,79,80,81,82,122,123,124,126,127,128,129,131,132,133,134,135,136,137,139,140,141,142,144,145,146,147,188,192,203,204,205,207,208,220,226,227,228,229,230,231,232,233,234,235,236,239,245,246,247,248,249,250,251,253,258,264,265,266,267,268,269,270,271,272,274,277,283,284,285,294,295,296,298,299,300,301,302,303,304,320,322,324,325,327,328,330) have mixed types. Specify dtype option on import or set low_memory=False.\n",
      "  lei_df = pd.read_csv(lei_file)\n"
     ]
    },
    {
     "name": "stdout",
     "output_type": "stream",
     "text": [
      "Searching ./data/lei/gleif_lei2_6.csv for matches\n"
     ]
    },
    {
     "name": "stderr",
     "output_type": "stream",
     "text": [
      "/var/folders/88/q8wq3ss94k3bvmkq1j1f_j0w0000gn/T/ipykernel_42529/3205639819.py:6: DtypeWarning: Columns (9,10,11,12,13,14,18,19,20,21,22,23,36,37,39,40,44,48,49,51,52,56,57,58,59,63,66,67,68,69,70,71,72,76,79,80,81,82,192,204,205,220,226,239,245,246,247,258,264,265,266,277,284,285,294,295,298,299,300,301,303,304,322,324,325,326,327,328,330) have mixed types. Specify dtype option on import or set low_memory=False.\n",
      "  lei_df = pd.read_csv(lei_file)\n"
     ]
    },
    {
     "name": "stdout",
     "output_type": "stream",
     "text": [
      "Searching ./data/lei/gleif_lei2_7.csv for matches\n"
     ]
    },
    {
     "name": "stderr",
     "output_type": "stream",
     "text": [
      "/var/folders/88/q8wq3ss94k3bvmkq1j1f_j0w0000gn/T/ipykernel_42529/3205639819.py:6: DtypeWarning: Columns (6,7,8,9,10,11,12,13,14,15,16,17,18,19,20,21,22,23,35,36,37,40,42,47,48,49,52,54,57,58,59,60,61,62,63,64,66,67,68,69,70,71,72,73,76,77,79,80,81,82,122,123,124,125,126,127,128,129,131,132,133,134,135,136,137,138,139,140,141,142,143,144,145,146,147,188,192,204,205,220,226,229,230,231,232,233,234,235,236,239,245,246,247,248,249,250,251,258,265,266,267,268,269,270,271,272,273,274,275,276,277,279,280,281,282,294,295,296,298,299,300,301,303,304,320,322,324,325,327) have mixed types. Specify dtype option on import or set low_memory=False.\n",
      "  lei_df = pd.read_csv(lei_file)\n"
     ]
    },
    {
     "name": "stdout",
     "output_type": "stream",
     "text": [
      "Searching ./data/lei/gleif_lei2_5.csv for matches\n"
     ]
    },
    {
     "name": "stderr",
     "output_type": "stream",
     "text": [
      "/var/folders/88/q8wq3ss94k3bvmkq1j1f_j0w0000gn/T/ipykernel_42529/3205639819.py:6: DtypeWarning: Columns (6,7,8,9,10,11,12,13,14,15,16,17,18,19,20,21,22,23,35,36,37,38,39,40,44,47,48,49,50,51,52,56,57,58,59,63,64,65,66,67,68,69,70,71,72,76,77,78,79,80,81,82,122,123,124,128,131,132,133,134,135,136,137,140,141,144,145,146,147,188,192,194,203,204,205,206,207,208,220,226,227,228,229,230,239,245,246,247,258,264,265,266,277,283,284,285,294,295,296,298,299,300,301,302,320,322,323,324,325,327,328,330) have mixed types. Specify dtype option on import or set low_memory=False.\n",
      "  lei_df = pd.read_csv(lei_file)\n"
     ]
    },
    {
     "name": "stdout",
     "output_type": "stream",
     "text": [
      "Searching ./data/lei/gleif_lei2_4.csv for matches\n"
     ]
    },
    {
     "name": "stderr",
     "output_type": "stream",
     "text": [
      "/var/folders/88/q8wq3ss94k3bvmkq1j1f_j0w0000gn/T/ipykernel_42529/3205639819.py:6: DtypeWarning: Columns (9,10,11,12,13,14,15,16,17,21,22,23,35,36,37,39,40,47,48,51,52,57,58,59,63,64,65,66,67,68,69,70,71,72,76,77,78,79,80,81,82,122,123,124,125,126,127,128,129,131,132,133,134,135,136,137,139,140,141,142,144,145,146,147,188,192,194,203,204,205,220,226,229,230,231,232,233,234,235,236,239,245,246,247,248,249,250,251,252,253,254,255,258,264,265,266,267,268,269,270,271,272,274,277,283,294,295,296,298,299,300,301,320,324,325,327,328,330) have mixed types. Specify dtype option on import or set low_memory=False.\n",
      "  lei_df = pd.read_csv(lei_file)\n",
      "/var/folders/88/q8wq3ss94k3bvmkq1j1f_j0w0000gn/T/ipykernel_42529/3205639819.py:9: FutureWarning: The behavior of DataFrame concatenation with empty or all-NA entries is deprecated. In a future version, this will no longer exclude empty or all-NA columns when determining the result dtypes. To retain the old behavior, exclude the relevant entries before the concat operation.\n",
      "  lei_df = pd.concat(lei_df_list, ignore_index=True)\n"
     ]
    },
    {
     "data": {
      "text/html": [
       "<div>\n",
       "<style scoped>\n",
       "    .dataframe tbody tr th:only-of-type {\n",
       "        vertical-align: middle;\n",
       "    }\n",
       "\n",
       "    .dataframe tbody tr th {\n",
       "        vertical-align: top;\n",
       "    }\n",
       "\n",
       "    .dataframe thead th {\n",
       "        text-align: right;\n",
       "    }\n",
       "</style>\n",
       "<table border=\"1\" class=\"dataframe\">\n",
       "  <thead>\n",
       "    <tr style=\"text-align: right;\">\n",
       "      <th></th>\n",
       "      <th>LEI</th>\n",
       "      <th>Entity.LegalName</th>\n",
       "      <th>Entity.LegalName.xmllang</th>\n",
       "      <th>Entity.OtherEntityNames.OtherEntityName.1</th>\n",
       "      <th>Entity.OtherEntityNames.OtherEntityName.1.xmllang</th>\n",
       "      <th>Entity.OtherEntityNames.OtherEntityName.1.type</th>\n",
       "      <th>Entity.OtherEntityNames.OtherEntityName.2</th>\n",
       "      <th>Entity.OtherEntityNames.OtherEntityName.2.xmllang</th>\n",
       "      <th>Entity.OtherEntityNames.OtherEntityName.2.type</th>\n",
       "      <th>Entity.OtherEntityNames.OtherEntityName.3</th>\n",
       "      <th>...</th>\n",
       "      <th>Registration.OtherValidationAuthorities.OtherValidationAuthority.3.ValidationAuthorityID</th>\n",
       "      <th>Registration.OtherValidationAuthorities.OtherValidationAuthority.3.OtherValidationAuthorityID</th>\n",
       "      <th>Registration.OtherValidationAuthorities.OtherValidationAuthority.3.ValidationAuthorityEntityID</th>\n",
       "      <th>Registration.OtherValidationAuthorities.OtherValidationAuthority.4.ValidationAuthorityID</th>\n",
       "      <th>Registration.OtherValidationAuthorities.OtherValidationAuthority.4.OtherValidationAuthorityID</th>\n",
       "      <th>Registration.OtherValidationAuthorities.OtherValidationAuthority.4.ValidationAuthorityEntityID</th>\n",
       "      <th>Registration.OtherValidationAuthorities.OtherValidationAuthority.5.ValidationAuthorityID</th>\n",
       "      <th>Registration.OtherValidationAuthorities.OtherValidationAuthority.5.OtherValidationAuthorityID</th>\n",
       "      <th>Registration.OtherValidationAuthorities.OtherValidationAuthority.5.ValidationAuthorityEntityID</th>\n",
       "      <th>ConformityFlag</th>\n",
       "    </tr>\n",
       "  </thead>\n",
       "  <tbody>\n",
       "    <tr>\n",
       "      <th>0</th>\n",
       "      <td>7H6GLXDRUGQFU57RNE97</td>\n",
       "      <td>JPMorgan Chase Bank, National Association</td>\n",
       "      <td>en</td>\n",
       "      <td>JPMorgan Chase Bank, N.A.</td>\n",
       "      <td>en</td>\n",
       "      <td>TRADING_OR_OPERATING_NAME</td>\n",
       "      <td>CHASE MANHATTAN BANK</td>\n",
       "      <td>en</td>\n",
       "      <td>PREVIOUS_LEGAL_NAME</td>\n",
       "      <td>CHEMICAL BANK</td>\n",
       "      <td>...</td>\n",
       "      <td>NaN</td>\n",
       "      <td>NaN</td>\n",
       "      <td>NaN</td>\n",
       "      <td>NaN</td>\n",
       "      <td>NaN</td>\n",
       "      <td>NaN</td>\n",
       "      <td>NaN</td>\n",
       "      <td>NaN</td>\n",
       "      <td>NaN</td>\n",
       "      <td>CONFORMING</td>\n",
       "    </tr>\n",
       "    <tr>\n",
       "      <th>1</th>\n",
       "      <td>98450040E5B6CD69C657</td>\n",
       "      <td>SIMPLICITY</td>\n",
       "      <td>en</td>\n",
       "      <td>NaN</td>\n",
       "      <td>NaN</td>\n",
       "      <td>NaN</td>\n",
       "      <td>NaN</td>\n",
       "      <td>NaN</td>\n",
       "      <td>NaN</td>\n",
       "      <td>NaN</td>\n",
       "      <td>...</td>\n",
       "      <td>NaN</td>\n",
       "      <td>NaN</td>\n",
       "      <td>NaN</td>\n",
       "      <td>NaN</td>\n",
       "      <td>NaN</td>\n",
       "      <td>NaN</td>\n",
       "      <td>NaN</td>\n",
       "      <td>NaN</td>\n",
       "      <td>NaN</td>\n",
       "      <td>CONFORMING</td>\n",
       "    </tr>\n",
       "    <tr>\n",
       "      <th>2</th>\n",
       "      <td>98450087981AP406JG03</td>\n",
       "      <td>CONVENTUS LLC</td>\n",
       "      <td>en</td>\n",
       "      <td>NaN</td>\n",
       "      <td>NaN</td>\n",
       "      <td>NaN</td>\n",
       "      <td>NaN</td>\n",
       "      <td>NaN</td>\n",
       "      <td>NaN</td>\n",
       "      <td>NaN</td>\n",
       "      <td>...</td>\n",
       "      <td>NaN</td>\n",
       "      <td>NaN</td>\n",
       "      <td>NaN</td>\n",
       "      <td>NaN</td>\n",
       "      <td>NaN</td>\n",
       "      <td>NaN</td>\n",
       "      <td>NaN</td>\n",
       "      <td>NaN</td>\n",
       "      <td>NaN</td>\n",
       "      <td>NON_CONFORMING</td>\n",
       "    </tr>\n",
       "    <tr>\n",
       "      <th>3</th>\n",
       "      <td>894500PCG3NCYFXK0D60</td>\n",
       "      <td>Westby Co-op Credit Union</td>\n",
       "      <td>en</td>\n",
       "      <td>NaN</td>\n",
       "      <td>NaN</td>\n",
       "      <td>NaN</td>\n",
       "      <td>NaN</td>\n",
       "      <td>NaN</td>\n",
       "      <td>NaN</td>\n",
       "      <td>NaN</td>\n",
       "      <td>...</td>\n",
       "      <td>NaN</td>\n",
       "      <td>NaN</td>\n",
       "      <td>NaN</td>\n",
       "      <td>NaN</td>\n",
       "      <td>NaN</td>\n",
       "      <td>NaN</td>\n",
       "      <td>NaN</td>\n",
       "      <td>NaN</td>\n",
       "      <td>NaN</td>\n",
       "      <td>CONFORMING</td>\n",
       "    </tr>\n",
       "    <tr>\n",
       "      <th>4</th>\n",
       "      <td>54930001NSTOD85LT125</td>\n",
       "      <td>GUARANTEED RATE AFFINITY, LLC</td>\n",
       "      <td>en</td>\n",
       "      <td>NaN</td>\n",
       "      <td>NaN</td>\n",
       "      <td>NaN</td>\n",
       "      <td>NaN</td>\n",
       "      <td>NaN</td>\n",
       "      <td>NaN</td>\n",
       "      <td>NaN</td>\n",
       "      <td>...</td>\n",
       "      <td>NaN</td>\n",
       "      <td>NaN</td>\n",
       "      <td>NaN</td>\n",
       "      <td>NaN</td>\n",
       "      <td>NaN</td>\n",
       "      <td>NaN</td>\n",
       "      <td>NaN</td>\n",
       "      <td>NaN</td>\n",
       "      <td>NaN</td>\n",
       "      <td>NON_CONFORMING</td>\n",
       "    </tr>\n",
       "  </tbody>\n",
       "</table>\n",
       "<p>5 rows × 338 columns</p>\n",
       "</div>"
      ],
      "text/plain": [
       "                    LEI                           Entity.LegalName  \\\n",
       "0  7H6GLXDRUGQFU57RNE97  JPMorgan Chase Bank, National Association   \n",
       "1  98450040E5B6CD69C657                                 SIMPLICITY   \n",
       "2  98450087981AP406JG03                              CONVENTUS LLC   \n",
       "3  894500PCG3NCYFXK0D60                  Westby Co-op Credit Union   \n",
       "4  54930001NSTOD85LT125              GUARANTEED RATE AFFINITY, LLC   \n",
       "\n",
       "  Entity.LegalName.xmllang Entity.OtherEntityNames.OtherEntityName.1  \\\n",
       "0                       en                 JPMorgan Chase Bank, N.A.   \n",
       "1                       en                                       NaN   \n",
       "2                       en                                       NaN   \n",
       "3                       en                                       NaN   \n",
       "4                       en                                       NaN   \n",
       "\n",
       "  Entity.OtherEntityNames.OtherEntityName.1.xmllang  \\\n",
       "0                                                en   \n",
       "1                                               NaN   \n",
       "2                                               NaN   \n",
       "3                                               NaN   \n",
       "4                                               NaN   \n",
       "\n",
       "  Entity.OtherEntityNames.OtherEntityName.1.type  \\\n",
       "0                      TRADING_OR_OPERATING_NAME   \n",
       "1                                            NaN   \n",
       "2                                            NaN   \n",
       "3                                            NaN   \n",
       "4                                            NaN   \n",
       "\n",
       "  Entity.OtherEntityNames.OtherEntityName.2  \\\n",
       "0                      CHASE MANHATTAN BANK   \n",
       "1                                       NaN   \n",
       "2                                       NaN   \n",
       "3                                       NaN   \n",
       "4                                       NaN   \n",
       "\n",
       "  Entity.OtherEntityNames.OtherEntityName.2.xmllang  \\\n",
       "0                                                en   \n",
       "1                                               NaN   \n",
       "2                                               NaN   \n",
       "3                                               NaN   \n",
       "4                                               NaN   \n",
       "\n",
       "  Entity.OtherEntityNames.OtherEntityName.2.type  \\\n",
       "0                            PREVIOUS_LEGAL_NAME   \n",
       "1                                            NaN   \n",
       "2                                            NaN   \n",
       "3                                            NaN   \n",
       "4                                            NaN   \n",
       "\n",
       "  Entity.OtherEntityNames.OtherEntityName.3  ...  \\\n",
       "0                             CHEMICAL BANK  ...   \n",
       "1                                       NaN  ...   \n",
       "2                                       NaN  ...   \n",
       "3                                       NaN  ...   \n",
       "4                                       NaN  ...   \n",
       "\n",
       "  Registration.OtherValidationAuthorities.OtherValidationAuthority.3.ValidationAuthorityID  \\\n",
       "0                                                NaN                                         \n",
       "1                                                NaN                                         \n",
       "2                                                NaN                                         \n",
       "3                                                NaN                                         \n",
       "4                                                NaN                                         \n",
       "\n",
       "  Registration.OtherValidationAuthorities.OtherValidationAuthority.3.OtherValidationAuthorityID  \\\n",
       "0                                                NaN                                              \n",
       "1                                                NaN                                              \n",
       "2                                                NaN                                              \n",
       "3                                                NaN                                              \n",
       "4                                                NaN                                              \n",
       "\n",
       "  Registration.OtherValidationAuthorities.OtherValidationAuthority.3.ValidationAuthorityEntityID  \\\n",
       "0                                                NaN                                               \n",
       "1                                                NaN                                               \n",
       "2                                                NaN                                               \n",
       "3                                                NaN                                               \n",
       "4                                                NaN                                               \n",
       "\n",
       "  Registration.OtherValidationAuthorities.OtherValidationAuthority.4.ValidationAuthorityID  \\\n",
       "0                                                NaN                                         \n",
       "1                                                NaN                                         \n",
       "2                                                NaN                                         \n",
       "3                                                NaN                                         \n",
       "4                                                NaN                                         \n",
       "\n",
       "  Registration.OtherValidationAuthorities.OtherValidationAuthority.4.OtherValidationAuthorityID  \\\n",
       "0                                                NaN                                              \n",
       "1                                                NaN                                              \n",
       "2                                                NaN                                              \n",
       "3                                                NaN                                              \n",
       "4                                                NaN                                              \n",
       "\n",
       "  Registration.OtherValidationAuthorities.OtherValidationAuthority.4.ValidationAuthorityEntityID  \\\n",
       "0                                                NaN                                               \n",
       "1                                                NaN                                               \n",
       "2                                                NaN                                               \n",
       "3                                                NaN                                               \n",
       "4                                                NaN                                               \n",
       "\n",
       "  Registration.OtherValidationAuthorities.OtherValidationAuthority.5.ValidationAuthorityID  \\\n",
       "0                                                NaN                                         \n",
       "1                                                NaN                                         \n",
       "2                                                NaN                                         \n",
       "3                                                NaN                                         \n",
       "4                                                NaN                                         \n",
       "\n",
       "  Registration.OtherValidationAuthorities.OtherValidationAuthority.5.OtherValidationAuthorityID  \\\n",
       "0                                                NaN                                              \n",
       "1                                                NaN                                              \n",
       "2                                                NaN                                              \n",
       "3                                                NaN                                              \n",
       "4                                                NaN                                              \n",
       "\n",
       "  Registration.OtherValidationAuthorities.OtherValidationAuthority.5.ValidationAuthorityEntityID  \\\n",
       "0                                                NaN                                               \n",
       "1                                                NaN                                               \n",
       "2                                                NaN                                               \n",
       "3                                                NaN                                               \n",
       "4                                                NaN                                               \n",
       "\n",
       "   ConformityFlag  \n",
       "0      CONFORMING  \n",
       "1      CONFORMING  \n",
       "2  NON_CONFORMING  \n",
       "3      CONFORMING  \n",
       "4  NON_CONFORMING  \n",
       "\n",
       "[5 rows x 338 columns]"
      ]
     },
     "execution_count": 15,
     "metadata": {},
     "output_type": "execute_result"
    }
   ],
   "source": [
    "import glob\n",
    "matching_files = glob.glob('./data/lei/gleif_lei2_*.csv')\n",
    "lei_df_list = []\n",
    "for lei_file in matching_files: \n",
    "    print(f\"Searching {lei_file} for matches\")\n",
    "    lei_df = pd.read_csv(lei_file)\n",
    "    matching_rows = lei_df[lei_df['LEI'].isin(unique_legal_entity_identifier_list)]\n",
    "    lei_df_list.append(matching_rows)\n",
    "lei_df = pd.concat(lei_df_list, ignore_index=True)\n",
    "lei_df.head()"
   ]
  },
  {
   "cell_type": "code",
   "execution_count": 63,
   "id": "957fc972",
   "metadata": {},
   "outputs": [
    {
     "data": {
      "text/plain": [
       "loan_type\n",
       "1    24217\n",
       "2     3520\n",
       "3      938\n",
       "4       20\n",
       "Name: count, dtype: int64"
      ]
     },
     "execution_count": 63,
     "metadata": {},
     "output_type": "execute_result"
    }
   ],
   "source": [
    "## loan_type analysis\n",
    "df['loan_type'].value_counts()"
   ]
  },
  {
   "cell_type": "code",
   "execution_count": 64,
   "id": "848793c7",
   "metadata": {},
   "outputs": [
    {
     "data": {
      "text/plain": [
       "loan_purpose\n",
       "1     13240\n",
       "4      4479\n",
       "32     4207\n",
       "2      4006\n",
       "31     2707\n",
       "5        56\n",
       "Name: count, dtype: int64"
      ]
     },
     "execution_count": 64,
     "metadata": {},
     "output_type": "execute_result"
    }
   ],
   "source": [
    "## loan_purpose analysis\n",
    "df['loan_purpose'].value_counts()"
   ]
  },
  {
   "cell_type": "code",
   "execution_count": 65,
   "id": "1d321033",
   "metadata": {},
   "outputs": [
    {
     "data": {
      "text/plain": [
       "preapproval\n",
       "2    27066\n",
       "1     1629\n",
       "Name: count, dtype: int64"
      ]
     },
     "execution_count": 65,
     "metadata": {},
     "output_type": "execute_result"
    }
   ],
   "source": [
    "## preapproval analysis\n",
    "df['preapproval'].value_counts()"
   ]
  },
  {
   "cell_type": "code",
   "execution_count": 66,
   "id": "80596a05",
   "metadata": {},
   "outputs": [
    {
     "data": {
      "text/plain": [
       "construction_method\n",
       "1    28581\n",
       "2      114\n",
       "Name: count, dtype: int64"
      ]
     },
     "execution_count": 66,
     "metadata": {},
     "output_type": "execute_result"
    }
   ],
   "source": [
    "## construction_method analysis\n",
    "df['construction_method'].value_counts()"
   ]
  },
  {
   "cell_type": "code",
   "execution_count": 67,
   "id": "56982d3f",
   "metadata": {},
   "outputs": [
    {
     "data": {
      "text/plain": [
       "occupancy_type\n",
       "1    25228\n",
       "3     3267\n",
       "2      200\n",
       "Name: count, dtype: int64"
      ]
     },
     "execution_count": 67,
     "metadata": {},
     "output_type": "execute_result"
    }
   ],
   "source": [
    "## occupancy_type analysis\n",
    "df['occupancy_type'].value_counts()"
   ]
  },
  {
   "cell_type": "code",
   "execution_count": 68,
   "id": "87de6042",
   "metadata": {},
   "outputs": [
    {
     "data": {
      "text/plain": [
       "loan_amount\n",
       "55000      1762\n",
       "25000      1475\n",
       "35000      1434\n",
       "105000     1360\n",
       "45000      1255\n",
       "           ... \n",
       "3785000       1\n",
       "6605000       1\n",
       "2495000       1\n",
       "2435000       1\n",
       "1255000       1\n",
       "Name: count, Length: 253, dtype: int64"
      ]
     },
     "execution_count": 68,
     "metadata": {},
     "output_type": "execute_result"
    }
   ],
   "source": [
    "## loan_amount analysis\n",
    "df['loan_amount'].value_counts()"
   ]
  },
  {
   "cell_type": "code",
   "execution_count": 69,
   "id": "7988b4f2",
   "metadata": {},
   "outputs": [
    {
     "data": {
      "text/plain": [
       "action_taken\n",
       "1    16456\n",
       "3     5292\n",
       "4     3137\n",
       "6     1961\n",
       "2      973\n",
       "5      774\n",
       "8       66\n",
       "7       36\n",
       "Name: count, dtype: int64"
      ]
     },
     "execution_count": 69,
     "metadata": {},
     "output_type": "execute_result"
    }
   ],
   "source": [
    "## action_taken analysis\n",
    "df['action_taken'].value_counts()"
   ]
  },
  {
   "cell_type": "code",
   "execution_count": 72,
   "id": "4c98a0a2",
   "metadata": {},
   "outputs": [
    {
     "data": {
      "text/plain": [
       "census_tract\n",
       "55079150100    313\n",
       "55079050101    312\n",
       "55079000202    265\n",
       "55079160202    259\n",
       "55079150301    251\n",
       "              ... \n",
       "55079014800      8\n",
       "55079014700      7\n",
       "55079014600      6\n",
       "55079186400      3\n",
       "55079014100      2\n",
       "Name: count, Length: 300, dtype: int64"
      ]
     },
     "execution_count": 72,
     "metadata": {},
     "output_type": "execute_result"
    }
   ],
   "source": [
    "## census_tract analysis\n",
    "df['census_tract'].value_counts()"
   ]
  },
  {
   "cell_type": "code",
   "execution_count": 73,
   "id": "f30b3bdb",
   "metadata": {},
   "outputs": [
    {
     "data": {
      "text/plain": [
       "8"
      ]
     },
     "execution_count": 73,
     "metadata": {},
     "output_type": "execute_result"
    }
   ],
   "source": [
    "df['census_tract'].isnull().sum()"
   ]
  },
  {
   "cell_type": "code",
   "execution_count": 74,
   "id": "df3506da",
   "metadata": {},
   "outputs": [
    {
     "data": {
      "text/plain": [
       "borrower_one_ethnicity\n",
       "2     19280\n",
       "1      3145\n",
       "3      3026\n",
       "4      2929\n",
       "11      144\n",
       "14       95\n",
       "12       65\n",
       "13        2\n",
       "Name: count, dtype: int64"
      ]
     },
     "execution_count": 74,
     "metadata": {},
     "output_type": "execute_result"
    }
   ],
   "source": [
    "## borrower_one_ethnicity\n",
    "df['borrower_one_ethnicity'].value_counts()"
   ]
  },
  {
   "cell_type": "code",
   "execution_count": 75,
   "id": "7199b22c",
   "metadata": {},
   "outputs": [
    {
     "data": {
      "text/plain": [
       "9"
      ]
     },
     "execution_count": 75,
     "metadata": {},
     "output_type": "execute_result"
    }
   ],
   "source": [
    "df['borrower_one_ethnicity'].isnull().sum()"
   ]
  },
  {
   "cell_type": "code",
   "execution_count": 76,
   "id": "18030a4a",
   "metadata": {},
   "outputs": [
    {
     "data": {
      "text/plain": [
       "co_borrower_one_ethnicity\n",
       "5     17259\n",
       "2      7194\n",
       "4      1760\n",
       "1      1197\n",
       "3      1181\n",
       "11       55\n",
       "14       24\n",
       "12       23\n",
       "Name: count, dtype: int64"
      ]
     },
     "execution_count": 76,
     "metadata": {},
     "output_type": "execute_result"
    }
   ],
   "source": [
    "## co_borrower_one_ethnicity analysis\n",
    "df['co_borrower_one_ethnicity'].value_counts()"
   ]
  },
  {
   "cell_type": "code",
   "execution_count": 77,
   "id": "a9912259",
   "metadata": {},
   "outputs": [
    {
     "data": {
      "text/plain": [
       "2"
      ]
     },
     "execution_count": 77,
     "metadata": {},
     "output_type": "execute_result"
    }
   ],
   "source": [
    "df['co_borrower_one_ethnicity'].isnull().sum()"
   ]
  },
  {
   "cell_type": "code",
   "execution_count": 78,
   "id": "ef11c6c7",
   "metadata": {},
   "outputs": [
    {
     "data": {
      "text/plain": [
       "borrower_ethnicity_based_on_obs\n",
       "2    23728\n",
       "3     4129\n",
       "1      838\n",
       "Name: count, dtype: int64"
      ]
     },
     "execution_count": 78,
     "metadata": {},
     "output_type": "execute_result"
    }
   ],
   "source": [
    "## borrower_ethnicity_based_on_obs\n",
    "df['borrower_ethnicity_based_on_obs'].value_counts()"
   ]
  },
  {
   "cell_type": "code",
   "execution_count": 79,
   "id": "5bdb77a6",
   "metadata": {},
   "outputs": [
    {
     "data": {
      "text/plain": [
       "co_borrower_ethnicity_based_on_obs\n",
       "4    17259\n",
       "2     8919\n",
       "3     2243\n",
       "1      274\n",
       "Name: count, dtype: int64"
      ]
     },
     "execution_count": 79,
     "metadata": {},
     "output_type": "execute_result"
    }
   ],
   "source": [
    "## co_borrower_ethnicity_based_on_obs analysis\n",
    "df['co_borrower_ethnicity_based_on_obs'].value_counts()"
   ]
  },
  {
   "cell_type": "code",
   "execution_count": 80,
   "id": "2397e988",
   "metadata": {},
   "outputs": [
    {
     "data": {
      "text/plain": [
       "borrower_one_race\n",
       "5     16233\n",
       "3      4755\n",
       "6      3304\n",
       "7      2933\n",
       "2      1034\n",
       "1       218\n",
       "21       75\n",
       "27       56\n",
       "4        37\n",
       "26       16\n",
       "44        9\n",
       "23        7\n",
       "25        6\n",
       "22        6\n",
       "24        2\n",
       "Name: count, dtype: int64"
      ]
     },
     "execution_count": 80,
     "metadata": {},
     "output_type": "execute_result"
    }
   ],
   "source": [
    "## borrower_one_race analysis\n",
    "df['borrower_one_race'].value_counts()"
   ]
  },
  {
   "cell_type": "code",
   "execution_count": 81,
   "id": "79752ed4",
   "metadata": {},
   "outputs": [
    {
     "data": {
      "text/plain": [
       "4"
      ]
     },
     "execution_count": 81,
     "metadata": {},
     "output_type": "execute_result"
    }
   ],
   "source": [
    "df['borrower_one_race'].isnull().sum()"
   ]
  },
  {
   "cell_type": "code",
   "execution_count": 17,
   "id": "507183b1",
   "metadata": {},
   "outputs": [
    {
     "data": {
      "text/plain": [
       "co_borrower_one_race\n",
       "8     17257\n",
       "5      7004\n",
       "7      1764\n",
       "6      1259\n",
       "3       891\n",
       "2       373\n",
       "1        60\n",
       "21       30\n",
       "27       24\n",
       "23        8\n",
       "26        8\n",
       "4         5\n",
       "22        4\n",
       "44        4\n",
       "25        2\n",
       "Name: count, dtype: int64"
      ]
     },
     "execution_count": 17,
     "metadata": {},
     "output_type": "execute_result"
    }
   ],
   "source": [
    "## co_borrower_one_race analysis\n",
    "df['co_borrower_one_race'].value_counts()"
   ]
  },
  {
   "cell_type": "code",
   "execution_count": 18,
   "id": "05b48757",
   "metadata": {},
   "outputs": [
    {
     "data": {
      "text/plain": [
       "2"
      ]
     },
     "execution_count": 18,
     "metadata": {},
     "output_type": "execute_result"
    }
   ],
   "source": [
    "df['co_borrower_one_race'].isnull().sum()"
   ]
  },
  {
   "cell_type": "code",
   "execution_count": 19,
   "id": "9e2d40a7",
   "metadata": {},
   "outputs": [
    {
     "data": {
      "text/plain": [
       "borrower_race_based_on_obs\n",
       "2    23705\n",
       "3     4137\n",
       "1      853\n",
       "Name: count, dtype: int64"
      ]
     },
     "execution_count": 19,
     "metadata": {},
     "output_type": "execute_result"
    }
   ],
   "source": [
    "## borrower_race_based_on_obs\n",
    "df['borrower_race_based_on_obs'].value_counts()"
   ]
  },
  {
   "cell_type": "code",
   "execution_count": 20,
   "id": "6836b9b0",
   "metadata": {},
   "outputs": [
    {
     "data": {
      "text/plain": [
       "co_borrower_race_based_on_obs\n",
       "4    17257\n",
       "2     8910\n",
       "3     2245\n",
       "1      283\n",
       "Name: count, dtype: int64"
      ]
     },
     "execution_count": 20,
     "metadata": {},
     "output_type": "execute_result"
    }
   ],
   "source": [
    "df['co_borrower_race_based_on_obs'].value_counts()"
   ]
  },
  {
   "cell_type": "code",
   "execution_count": 21,
   "id": "3b903eb1",
   "metadata": {},
   "outputs": [
    {
     "data": {
      "text/plain": [
       "borrower_gender\n",
       "1    13878\n",
       "2    10412\n",
       "4     2930\n",
       "3     1460\n",
       "6       15\n",
       "Name: count, dtype: int64"
      ]
     },
     "execution_count": 21,
     "metadata": {},
     "output_type": "execute_result"
    }
   ],
   "source": [
    "## borrower_gender analysis\n",
    "df['borrower_gender'].value_counts()"
   ]
  },
  {
   "cell_type": "code",
   "execution_count": 24,
   "id": "4cb4a791",
   "metadata": {},
   "outputs": [
    {
     "data": {
      "text/plain": [
       "borrower_gender_based_on_obs\n",
       "2    23701\n",
       "3     4141\n",
       "1      853\n",
       "Name: count, dtype: int64"
      ]
     },
     "execution_count": 24,
     "metadata": {},
     "output_type": "execute_result"
    }
   ],
   "source": [
    "## co_borrower_gender_based_on_obs analysis\n",
    "df['borrower_gender_based_on_obs'].value_counts()"
   ]
  },
  {
   "cell_type": "code",
   "execution_count": 25,
   "id": "9a41b5b8",
   "metadata": {},
   "outputs": [
    {
     "data": {
      "text/plain": [
       "borrower_age\n",
       "35-44    6635\n",
       "25-34    5824\n",
       "45-54    5347\n",
       "55-64    3788\n",
       "8888     3033\n",
       "65-74    2320\n",
       "<25       892\n",
       ">74       856\n",
       "Name: count, dtype: int64"
      ]
     },
     "execution_count": 25,
     "metadata": {},
     "output_type": "execute_result"
    }
   ],
   "source": [
    "## borrower_age analysis\n",
    "df['borrower_age'].value_counts()"
   ]
  },
  {
   "cell_type": "code",
   "execution_count": 26,
   "id": "0e38e017",
   "metadata": {},
   "outputs": [
    {
     "data": {
      "text/plain": [
       "0"
      ]
     },
     "execution_count": 26,
     "metadata": {},
     "output_type": "execute_result"
    }
   ],
   "source": [
    "df['borrower_age'].isnull().sum()"
   ]
  },
  {
   "cell_type": "code",
   "execution_count": 27,
   "id": "223e7b64",
   "metadata": {},
   "outputs": [
    {
     "data": {
      "text/plain": [
       "is_borrower_62_or_older\n",
       "No     21496\n",
       "Yes     4166\n",
       "Name: count, dtype: int64"
      ]
     },
     "execution_count": 27,
     "metadata": {},
     "output_type": "execute_result"
    }
   ],
   "source": [
    "## is_borrower_62_or_older analysis\n",
    "df['is_borrower_62_or_older'].value_counts()"
   ]
  },
  {
   "cell_type": "code",
   "execution_count": 28,
   "id": "68dc74df",
   "metadata": {},
   "outputs": [
    {
     "data": {
      "text/plain": [
       "3033"
      ]
     },
     "execution_count": 28,
     "metadata": {},
     "output_type": "execute_result"
    }
   ],
   "source": [
    "df['is_borrower_62_or_older'].isnull().sum()"
   ]
  },
  {
   "cell_type": "code",
   "execution_count": 29,
   "id": "c0cc5e7f",
   "metadata": {},
   "outputs": [
    {
     "data": {
      "text/plain": [
       "co_borrower_age\n",
       "9999     17185\n",
       "35-44     2458\n",
       "25-34     2255\n",
       "45-54     1948\n",
       "8888      1859\n",
       "55-64     1479\n",
       "65-74      922\n",
       ">74        310\n",
       "<25        279\n",
       "Name: count, dtype: int64"
      ]
     },
     "execution_count": 29,
     "metadata": {},
     "output_type": "execute_result"
    }
   ],
   "source": [
    "## co_borrower_age analysis\n",
    "df['co_borrower_age'].value_counts()"
   ]
  },
  {
   "cell_type": "code",
   "execution_count": 30,
   "id": "4edf9d20",
   "metadata": {},
   "outputs": [
    {
     "data": {
      "text/plain": [
       "0"
      ]
     },
     "execution_count": 30,
     "metadata": {},
     "output_type": "execute_result"
    }
   ],
   "source": [
    "df['co_borrower_age'].isnull().sum()"
   ]
  },
  {
   "cell_type": "code",
   "execution_count": 31,
   "id": "91be58cb",
   "metadata": {},
   "outputs": [
    {
     "data": {
      "text/plain": [
       "is_co_borrower_62_or_older\n",
       "No     8009\n",
       "Yes    1642\n",
       "Name: count, dtype: int64"
      ]
     },
     "execution_count": 31,
     "metadata": {},
     "output_type": "execute_result"
    }
   ],
   "source": [
    "## is_co_borrower_62_or_older analysis\n",
    "df['is_co_borrower_62_or_older'].value_counts()"
   ]
  },
  {
   "cell_type": "code",
   "execution_count": 32,
   "id": "bc42727c",
   "metadata": {},
   "outputs": [
    {
     "data": {
      "text/plain": [
       "19044"
      ]
     },
     "execution_count": 32,
     "metadata": {},
     "output_type": "execute_result"
    }
   ],
   "source": [
    "df['is_co_borrower_62_or_older'].isnull().sum()"
   ]
  },
  {
   "cell_type": "code",
   "execution_count": 33,
   "id": "11a72e42",
   "metadata": {},
   "outputs": [
    {
     "data": {
      "text/plain": [
       "income\n",
       "60      380\n",
       "65      347\n",
       "80      336\n",
       "75      326\n",
       "52      292\n",
       "       ... \n",
       "436       1\n",
       "825       1\n",
       "4000      1\n",
       "494       1\n",
       "836       1\n",
       "Name: count, Length: 684, dtype: int64"
      ]
     },
     "execution_count": 33,
     "metadata": {},
     "output_type": "execute_result"
    }
   ],
   "source": [
    "## income analysis\n",
    "df['income'].value_counts()"
   ]
  },
  {
   "cell_type": "code",
   "execution_count": 34,
   "id": "dbcb9717",
   "metadata": {},
   "outputs": [
    {
     "data": {
      "text/plain": [
       "3355"
      ]
     },
     "execution_count": 34,
     "metadata": {},
     "output_type": "execute_result"
    }
   ],
   "source": [
    "df['income'].isnull().sum()"
   ]
  },
  {
   "cell_type": "code",
   "execution_count": 35,
   "id": "d2741801",
   "metadata": {},
   "outputs": [
    {
     "data": {
      "text/plain": [
       "type_of_purchaser\n",
       "0     19813\n",
       "1      2029\n",
       "3      1874\n",
       "71     1633\n",
       "2      1460\n",
       "9       913\n",
       "6       498\n",
       "5       238\n",
       "8       141\n",
       "72       96\n",
       "Name: count, dtype: int64"
      ]
     },
     "execution_count": 35,
     "metadata": {},
     "output_type": "execute_result"
    }
   ],
   "source": [
    "## type_of_purchaser analysis\n",
    "df['type_of_purchaser'].value_counts()"
   ]
  },
  {
   "cell_type": "code",
   "execution_count": 36,
   "id": "944d4e1a",
   "metadata": {},
   "outputs": [
    {
     "data": {
      "text/plain": [
       "0"
      ]
     },
     "execution_count": 36,
     "metadata": {},
     "output_type": "execute_result"
    }
   ],
   "source": [
    "df['type_of_purchaser'].isnull().sum()"
   ]
  },
  {
   "cell_type": "code",
   "execution_count": 40,
   "id": "79f0e357",
   "metadata": {},
   "outputs": [
    {
     "data": {
      "text/plain": [
       "['0.236',\n",
       " '4.57',\n",
       " '2.127',\n",
       " '0.278',\n",
       " nan,\n",
       " '-0.142',\n",
       " '1.428',\n",
       " '0.504',\n",
       " '-0.009',\n",
       " '-0.516',\n",
       " '5.037',\n",
       " '0.398',\n",
       " '0.001',\n",
       " '1.168',\n",
       " '20.772',\n",
       " '0.033',\n",
       " '7.775',\n",
       " '0.47',\n",
       " '0.751',\n",
       " '0.676',\n",
       " '0.712',\n",
       " '0.359',\n",
       " '5.372',\n",
       " '1.08',\n",
       " '6.276',\n",
       " '0.435',\n",
       " '-0.514',\n",
       " '1.701',\n",
       " '-0.022',\n",
       " '-0.517',\n",
       " '1.015',\n",
       " '-0.842',\n",
       " '0.112',\n",
       " '1.287',\n",
       " '1.633',\n",
       " '-0.455',\n",
       " '0.675',\n",
       " '0.41',\n",
       " '1.16',\n",
       " '-1.043',\n",
       " '0.289',\n",
       " '0.606',\n",
       " '0.015',\n",
       " '0.155',\n",
       " '0.324',\n",
       " '1.218',\n",
       " '-0.305',\n",
       " '1.114',\n",
       " '1.088',\n",
       " '0.162',\n",
       " '0.962',\n",
       " '0.704',\n",
       " '1.381',\n",
       " '0.956',\n",
       " '0.047',\n",
       " '0.007',\n",
       " '0.782',\n",
       " '0.381',\n",
       " '0.178',\n",
       " '0.277',\n",
       " '0.406',\n",
       " '-0.1',\n",
       " 'Exempt',\n",
       " '1.398',\n",
       " '1.897',\n",
       " '1.17',\n",
       " '-0.093',\n",
       " '1.02',\n",
       " '1.092',\n",
       " '-0.193',\n",
       " '1.624',\n",
       " '1.008',\n",
       " '0.575',\n",
       " '1.715',\n",
       " '0.515',\n",
       " '1.27',\n",
       " '1.529',\n",
       " '1.347',\n",
       " '0.665',\n",
       " '0.31',\n",
       " '0.696',\n",
       " '1.255',\n",
       " '1.131',\n",
       " '1.578',\n",
       " '-0.061',\n",
       " '1.705',\n",
       " '0.993',\n",
       " '-0.803',\n",
       " '1.64',\n",
       " '0.321',\n",
       " '0.625',\n",
       " '0.263',\n",
       " '0.534',\n",
       " '-0.564',\n",
       " '1.636',\n",
       " '0.89',\n",
       " '0.259',\n",
       " '-0.141',\n",
       " '0.449',\n",
       " '0.519',\n",
       " '0.0',\n",
       " '0.779',\n",
       " '1.129',\n",
       " '-0.271',\n",
       " '-0.091',\n",
       " '0.374',\n",
       " '0.471',\n",
       " '0.288',\n",
       " '0.365',\n",
       " '1.009',\n",
       " '0.21',\n",
       " '0.147',\n",
       " '0.072',\n",
       " '1.15',\n",
       " '0.345',\n",
       " '0.252',\n",
       " '0.131',\n",
       " '0.862',\n",
       " '0.016',\n",
       " '-0.118',\n",
       " '-0.175',\n",
       " '0.964',\n",
       " '0.383',\n",
       " '0.646',\n",
       " '-0.012',\n",
       " '0.046',\n",
       " '0.275',\n",
       " '0.057',\n",
       " '0.172',\n",
       " '0.295',\n",
       " '0.042',\n",
       " '-0.02',\n",
       " '0.087',\n",
       " '-0.065',\n",
       " '0.497',\n",
       " '0.059',\n",
       " '0.479',\n",
       " '0.177',\n",
       " '0.182',\n",
       " '0.291',\n",
       " '0.16',\n",
       " '0.336',\n",
       " '0.234',\n",
       " '0.181',\n",
       " '0.081',\n",
       " '0.11',\n",
       " '0.166',\n",
       " '-0.034',\n",
       " '0.111',\n",
       " '0.657',\n",
       " '-0.094',\n",
       " '-0.035',\n",
       " '-0.352',\n",
       " '0.441',\n",
       " '0.75',\n",
       " '0.798',\n",
       " '1.099',\n",
       " '0.542',\n",
       " '0.843',\n",
       " '0.645',\n",
       " '-0.173',\n",
       " '-7.54',\n",
       " '3.19',\n",
       " '-4.14',\n",
       " '-3.17',\n",
       " '-4.17',\n",
       " '-3.55',\n",
       " '4.55',\n",
       " '-4.23',\n",
       " '-7.36',\n",
       " '-4.55',\n",
       " '3.46',\n",
       " '3.21',\n",
       " '-6.02',\n",
       " '-4.19',\n",
       " '-7.18',\n",
       " '-3.37',\n",
       " '-7.22',\n",
       " '-4.21',\n",
       " '-0.361',\n",
       " '-3.23',\n",
       " '-4.29',\n",
       " '4.07',\n",
       " '-4.37',\n",
       " '-3.19',\n",
       " '-6.05',\n",
       " '1.95',\n",
       " '-3.21',\n",
       " '-4.22',\n",
       " '-0.45',\n",
       " '0.715',\n",
       " '2.57',\n",
       " '-2.87',\n",
       " '3.37',\n",
       " '-5.87',\n",
       " '3.24',\n",
       " '0.78',\n",
       " '0.325',\n",
       " '-4.26',\n",
       " '0.79',\n",
       " '-4.45',\n",
       " '3.149',\n",
       " '-3.45',\n",
       " '1.21',\n",
       " '-0.23',\n",
       " '1.04',\n",
       " '-7.51',\n",
       " '-6.14',\n",
       " '5.3',\n",
       " '-6.86',\n",
       " '-7.63',\n",
       " '-4.3',\n",
       " '3.34',\n",
       " '1.28',\n",
       " '-0.17',\n",
       " '-0.21',\n",
       " '0.71',\n",
       " '3.27',\n",
       " '-3.29',\n",
       " '-3.26',\n",
       " '3.22',\n",
       " '-4.24',\n",
       " '0.87',\n",
       " '-4.03',\n",
       " '-7.2',\n",
       " '3.71',\n",
       " '0.25',\n",
       " '2.24',\n",
       " '1.25',\n",
       " '-0.55',\n",
       " '1.19',\n",
       " '2.26',\n",
       " '-3.02',\n",
       " '2.21',\n",
       " '4.14',\n",
       " '3.77',\n",
       " '1.29',\n",
       " '3.89',\n",
       " '0.066',\n",
       " '0.386',\n",
       " '-0.252',\n",
       " '0.083',\n",
       " '0.23',\n",
       " '-0.432',\n",
       " '0.221',\n",
       " '-0.072',\n",
       " '-0.49',\n",
       " '1.246',\n",
       " '0.423',\n",
       " '0.599',\n",
       " '-0.138',\n",
       " '-0.001',\n",
       " '-0.256',\n",
       " '-0.038',\n",
       " '-0.368',\n",
       " '-0.289',\n",
       " '0.642',\n",
       " '0.38',\n",
       " '-0.208',\n",
       " '-0.032',\n",
       " '0.251',\n",
       " '0.37',\n",
       " '0.604',\n",
       " '0.254',\n",
       " '-0.063',\n",
       " '0.229',\n",
       " '0.063',\n",
       " '0.156',\n",
       " '-0.127',\n",
       " '-0.462',\n",
       " '-0.527',\n",
       " '0.088',\n",
       " '-0.107',\n",
       " '0.021',\n",
       " '-0.226',\n",
       " '0.26',\n",
       " '0.208',\n",
       " '-0.394',\n",
       " '0.168',\n",
       " '-0.086',\n",
       " '0.086',\n",
       " '0.461',\n",
       " '0.202',\n",
       " '0.292',\n",
       " '-0.03',\n",
       " '-0.378',\n",
       " '-0.376',\n",
       " '-0.198',\n",
       " '0.329',\n",
       " '0.029',\n",
       " '-0.353',\n",
       " '0.437',\n",
       " '0.419',\n",
       " '-0.214',\n",
       " '-0.025',\n",
       " '-0.089',\n",
       " '0.07',\n",
       " '-0.314',\n",
       " '-0.286',\n",
       " '-0.09',\n",
       " '-5.56',\n",
       " '-7.05',\n",
       " '2.8',\n",
       " '-5.58',\n",
       " '-6.19',\n",
       " '-5.73',\n",
       " '-7.07',\n",
       " '-7.68',\n",
       " '-7.94',\n",
       " '-5.55',\n",
       " '-7.85',\n",
       " '-7.04',\n",
       " '-3.05',\n",
       " '-7.82',\n",
       " '1.842',\n",
       " '3.96',\n",
       " '0.122',\n",
       " '0.65',\n",
       " '3.14',\n",
       " '-6.36',\n",
       " '-7.81',\n",
       " '-7.78',\n",
       " '5.47',\n",
       " '2.43',\n",
       " '-6.12',\n",
       " '4.45',\n",
       " '-6.29',\n",
       " '5.95',\n",
       " '1.073',\n",
       " '-6.45',\n",
       " '3.87',\n",
       " '2.78',\n",
       " '-7.61',\n",
       " '-6.32',\n",
       " '5.37',\n",
       " '2.44',\n",
       " '3.97',\n",
       " '-3.12',\n",
       " '-3.32',\n",
       " '0.705',\n",
       " '-6.33',\n",
       " '3.49',\n",
       " '4.43',\n",
       " '-3.52',\n",
       " '-2.55',\n",
       " '5.24',\n",
       " '0.19',\n",
       " '-2.73',\n",
       " '-5.37',\n",
       " '-5.95',\n",
       " '2.95',\n",
       " '3.39',\n",
       " '3.95',\n",
       " '0.857',\n",
       " '0.537',\n",
       " '-2.58',\n",
       " '0.28',\n",
       " '-7.44',\n",
       " '0.265',\n",
       " '-3.14',\n",
       " '5.78',\n",
       " '0.475',\n",
       " '0.518',\n",
       " '1.251',\n",
       " '-5.86',\n",
       " '0.378',\n",
       " '0.077',\n",
       " '0.446',\n",
       " '0.942',\n",
       " '0.888',\n",
       " '-0.036',\n",
       " '0.662',\n",
       " '0.487',\n",
       " '-0.064',\n",
       " '0.138',\n",
       " '-0.194',\n",
       " '0.218',\n",
       " '0.214',\n",
       " '1.046',\n",
       " '-0.211',\n",
       " '-0.066',\n",
       " '-0.612',\n",
       " '-0.082',\n",
       " '0.739',\n",
       " '0.205',\n",
       " '-0.144',\n",
       " '-0.236',\n",
       " '0.032',\n",
       " '-0.231',\n",
       " '1.463',\n",
       " '1.059',\n",
       " '0.511',\n",
       " '-0.136',\n",
       " '-0.05',\n",
       " '-0.255',\n",
       " '0.483',\n",
       " '0.433',\n",
       " '0.073',\n",
       " '0.148',\n",
       " '0.845',\n",
       " '0.274',\n",
       " '0.694',\n",
       " '-0.185',\n",
       " '-0.108',\n",
       " '0.919',\n",
       " '0.452',\n",
       " '0.034',\n",
       " '0.18',\n",
       " '0.051',\n",
       " '-7.02',\n",
       " '0.773',\n",
       " '0.094',\n",
       " '0.164',\n",
       " '1.062',\n",
       " '0.478',\n",
       " '2.46',\n",
       " '-7.97',\n",
       " '-8.02',\n",
       " '-6.59',\n",
       " '-8.0',\n",
       " '-8.04',\n",
       " '0.347',\n",
       " '-8.08',\n",
       " '-6.48',\n",
       " '-8.05',\n",
       " '2.25',\n",
       " '-3.48',\n",
       " '2.45',\n",
       " '0.784',\n",
       " '-3.53',\n",
       " '3.43',\n",
       " '-6.55',\n",
       " '1.339',\n",
       " '3.189',\n",
       " '4.4',\n",
       " '2.28',\n",
       " '-6.53',\n",
       " '1.42',\n",
       " '0.42',\n",
       " '3.056',\n",
       " '-6.56',\n",
       " '0.908',\n",
       " '0.45',\n",
       " '-3.51',\n",
       " '-3.56',\n",
       " '-6.72',\n",
       " '3.67',\n",
       " '1.48',\n",
       " '-8.19',\n",
       " '0.73',\n",
       " '0.81',\n",
       " '-3.7',\n",
       " '-6.51',\n",
       " '-6.7',\n",
       " '3.397',\n",
       " '3.31',\n",
       " '1.46',\n",
       " '3.81',\n",
       " '3.9',\n",
       " '2.56',\n",
       " '0.46',\n",
       " '0.48',\n",
       " '0.603',\n",
       " '0.133',\n",
       " '0.136',\n",
       " '0.143',\n",
       " '0.025',\n",
       " '0.468',\n",
       " '0.404',\n",
       " '-0.113',\n",
       " '0.726',\n",
       " '1.122',\n",
       " '0.451',\n",
       " '-0.42',\n",
       " '0.212',\n",
       " '-0.189',\n",
       " '0.392',\n",
       " '-0.139',\n",
       " '-0.079',\n",
       " '-0.437',\n",
       " '0.416',\n",
       " '0.576',\n",
       " '0.385',\n",
       " '0.35',\n",
       " '0.318',\n",
       " '0.303',\n",
       " '1.425',\n",
       " '0.013',\n",
       " '0.036',\n",
       " '0.938',\n",
       " '0.302',\n",
       " '-0.585',\n",
       " '-0.534',\n",
       " '-0.124',\n",
       " '0.01',\n",
       " '-0.24',\n",
       " '-0.19',\n",
       " '-8.21',\n",
       " '3.138',\n",
       " '3.26',\n",
       " '5.26',\n",
       " '0.06',\n",
       " '0.17',\n",
       " '-0.22',\n",
       " '0.54',\n",
       " '0.27',\n",
       " '0.03',\n",
       " '0.804',\n",
       " '0.02',\n",
       " '3.53',\n",
       " '-0.28',\n",
       " '3.035',\n",
       " '1.31',\n",
       " '0.76',\n",
       " '1.38',\n",
       " '2.27',\n",
       " '0.77',\n",
       " '-0.26',\n",
       " '-8.18',\n",
       " '-6.69',\n",
       " '4.26',\n",
       " '0.49',\n",
       " '2.29',\n",
       " '1.26',\n",
       " '0.53',\n",
       " '1.45',\n",
       " '0.72',\n",
       " '1.24',\n",
       " '1.01',\n",
       " '2.31',\n",
       " '-3.59',\n",
       " '3.32',\n",
       " '0.51',\n",
       " '-0.01',\n",
       " '0.806',\n",
       " '3.74',\n",
       " '0.56',\n",
       " '0.22',\n",
       " '-8.24',\n",
       " '1.03',\n",
       " '0.74',\n",
       " '0.24',\n",
       " '0.29',\n",
       " '0.355',\n",
       " '2.32',\n",
       " '-0.04',\n",
       " '3.136',\n",
       " '0.57',\n",
       " '-0.29',\n",
       " '0.97',\n",
       " '5.42',\n",
       " '4.31',\n",
       " '0.644',\n",
       " '-0.165',\n",
       " '0.583',\n",
       " '0.643',\n",
       " '-0.37',\n",
       " '-0.515',\n",
       " '-0.183',\n",
       " '1.147',\n",
       " '-0.315',\n",
       " '-0.095',\n",
       " '0.184',\n",
       " '-0.145',\n",
       " '0.689',\n",
       " '0.089',\n",
       " '0.194',\n",
       " '-0.112',\n",
       " '-1.13',\n",
       " '4.043',\n",
       " '3.825',\n",
       " '3.855',\n",
       " '0.055',\n",
       " '0.287',\n",
       " '0.333',\n",
       " '-0.019',\n",
       " '-0.16',\n",
       " '-0.033',\n",
       " '1.106',\n",
       " '-0.293',\n",
       " '0.317',\n",
       " '-0.062',\n",
       " '0.613',\n",
       " '0.8',\n",
       " '0.926',\n",
       " '-0.265',\n",
       " '-0.057',\n",
       " '0.188',\n",
       " '0.009',\n",
       " '1.071',\n",
       " '0.39',\n",
       " '0.429',\n",
       " '0.152',\n",
       " '-0.298',\n",
       " '0.038',\n",
       " '1.239',\n",
       " '-0.046',\n",
       " '1.037',\n",
       " '0.565',\n",
       " '0.356',\n",
       " '-0.329',\n",
       " '-0.308',\n",
       " '1.012',\n",
       " '0.298',\n",
       " '-0.2',\n",
       " '0.462',\n",
       " '0.196',\n",
       " '0.593',\n",
       " '0.332',\n",
       " '0.268',\n",
       " '0.493',\n",
       " '-0.494',\n",
       " '0.115',\n",
       " '1.094',\n",
       " '-0.181',\n",
       " '0.163',\n",
       " '0.569',\n",
       " '0.658',\n",
       " '-0.406',\n",
       " '1.307',\n",
       " '0.079',\n",
       " '0.85',\n",
       " '0.507',\n",
       " '-0.104',\n",
       " '0.071',\n",
       " '0.005',\n",
       " '0.018',\n",
       " '0.632',\n",
       " '0.085',\n",
       " '-0.117',\n",
       " '-0.424',\n",
       " '0.076',\n",
       " '0.651',\n",
       " '1.397',\n",
       " '-0.483',\n",
       " '0.907',\n",
       " '0.673',\n",
       " '-0.339',\n",
       " '0.554',\n",
       " '-0.25',\n",
       " '0.539',\n",
       " '-0.27',\n",
       " '0.932',\n",
       " '-0.068',\n",
       " '0.271',\n",
       " '0.137',\n",
       " '-0.915',\n",
       " '0.524',\n",
       " '0.024',\n",
       " '0.933',\n",
       " '0.169',\n",
       " '1.465',\n",
       " '-0.184',\n",
       " '0.116',\n",
       " '-0.232',\n",
       " '-6.96',\n",
       " '-0.418',\n",
       " '-0.631',\n",
       " '0.682',\n",
       " '0.587',\n",
       " '-0.632',\n",
       " '-0.443',\n",
       " '0.661',\n",
       " '0.821',\n",
       " '0.418',\n",
       " '-0.106',\n",
       " '0.656',\n",
       " '0.669',\n",
       " '0.13',\n",
       " '0.547',\n",
       " '-0.023',\n",
       " '0.119',\n",
       " '-0.445',\n",
       " '-0.259',\n",
       " '0.075',\n",
       " '0.109',\n",
       " '-0.412',\n",
       " '0.315',\n",
       " '-0.045',\n",
       " '-0.777',\n",
       " '-0.11',\n",
       " '0.264',\n",
       " '-0.35',\n",
       " '-0.026',\n",
       " '1.37',\n",
       " '0.585',\n",
       " '-0.076',\n",
       " '-0.171',\n",
       " '0.004',\n",
       " '0.638',\n",
       " '1.148',\n",
       " '0.957',\n",
       " '0.146',\n",
       " '0.596',\n",
       " '-0.166',\n",
       " '0.505',\n",
       " '0.159',\n",
       " '0.615',\n",
       " '0.807',\n",
       " '-0.168',\n",
       " '-1.07',\n",
       " '0.216',\n",
       " '-0.109',\n",
       " '-0.384',\n",
       " '1.665',\n",
       " '0.226',\n",
       " '0.279',\n",
       " '0.035',\n",
       " '0.415',\n",
       " '0.477',\n",
       " '0.307',\n",
       " '0.403',\n",
       " '0.469',\n",
       " '0.424',\n",
       " '0.58',\n",
       " '0.761',\n",
       " '0.225',\n",
       " '0.818',\n",
       " '-0.716',\n",
       " '1.562',\n",
       " '0.906',\n",
       " '-0.648',\n",
       " '-0.178',\n",
       " '0.174',\n",
       " '1.418',\n",
       " '1.295',\n",
       " '0.084',\n",
       " '0.835',\n",
       " '-0.299',\n",
       " '-0.147',\n",
       " '0.763',\n",
       " '0.242',\n",
       " '-0.116',\n",
       " '-0.13',\n",
       " '-0.75',\n",
       " '-0.054',\n",
       " '0.343',\n",
       " '-0.207',\n",
       " '1.435',\n",
       " '0.299',\n",
       " '1.889',\n",
       " '0.822',\n",
       " '-0.217',\n",
       " '-0.128',\n",
       " '1.318',\n",
       " '0.627',\n",
       " '6.015',\n",
       " '1.07',\n",
       " '1.424',\n",
       " '1.002',\n",
       " '0.43',\n",
       " '-0.598',\n",
       " '1.387',\n",
       " '-0.458',\n",
       " '1.698',\n",
       " '1.308',\n",
       " '-0.338',\n",
       " '0.912',\n",
       " '-0.307',\n",
       " '1.305',\n",
       " '-0.008',\n",
       " '0.923',\n",
       " '0.634',\n",
       " '0.937',\n",
       " '1.256',\n",
       " '1.267',\n",
       " '-0.247',\n",
       " '0.262',\n",
       " '1.119',\n",
       " '-0.005',\n",
       " '-0.292',\n",
       " '0.572',\n",
       " '0.028',\n",
       " '-0.111',\n",
       " '-0.397',\n",
       " '1.652',\n",
       " '-0.122',\n",
       " '-0.017',\n",
       " '-0.584',\n",
       " '0.069',\n",
       " '-0.096',\n",
       " '-0.148',\n",
       " '-0.004',\n",
       " '0.141',\n",
       " '-0.273',\n",
       " '-0.215',\n",
       " '0.494',\n",
       " '0.139',\n",
       " '-3.73',\n",
       " '-3.76',\n",
       " '-2.19',\n",
       " '-3.67',\n",
       " '-2.23',\n",
       " '-3.8',\n",
       " '-3.71',\n",
       " '-2.52',\n",
       " '-2.17',\n",
       " '-2.64',\n",
       " '-3.64',\n",
       " '0.83',\n",
       " '-3.22',\n",
       " '-6.01',\n",
       " '-3.87',\n",
       " '0.33',\n",
       " '-2.14',\n",
       " '-2.69',\n",
       " '-2.21',\n",
       " '-2.72',\n",
       " '-2.67',\n",
       " '-2.26',\n",
       " '-3.95',\n",
       " '-2.3',\n",
       " '-2.22',\n",
       " '2.14',\n",
       " '-3.79',\n",
       " '-2.37',\n",
       " '-4.05',\n",
       " '-3.69',\n",
       " '-2.45',\n",
       " '-2.76',\n",
       " '3.17',\n",
       " '3.08',\n",
       " '0.63',\n",
       " '1.62',\n",
       " '-3.72',\n",
       " '-3.3',\n",
       " '-2.71',\n",
       " '-0.209',\n",
       " '0.183',\n",
       " '-0.083',\n",
       " '0.231',\n",
       " '0.393',\n",
       " '-0.356',\n",
       " '-0.085',\n",
       " '-0.074',\n",
       " '-0.234',\n",
       " '0.124',\n",
       " '0.023',\n",
       " '-0.238',\n",
       " '0.161',\n",
       " '-0.369',\n",
       " '-0.011',\n",
       " '-0.134',\n",
       " '0.342',\n",
       " '-0.582',\n",
       " '-0.38',\n",
       " '1.045',\n",
       " '-0.092',\n",
       " '0.32',\n",
       " '-0.505',\n",
       " '0.316',\n",
       " '-0.242',\n",
       " '-0.53',\n",
       " '0.144',\n",
       " '-0.097',\n",
       " '-0.3',\n",
       " '-0.276',\n",
       " '0.127',\n",
       " '-0.422',\n",
       " '0.273',\n",
       " '-0.205',\n",
       " '-0.388',\n",
       " '-0.261',\n",
       " '-0.132',\n",
       " '0.261',\n",
       " '0.091',\n",
       " '0.362',\n",
       " '-0.146',\n",
       " '0.101',\n",
       " '-0.313',\n",
       " '-0.285',\n",
       " '-0.348',\n",
       " '-0.282',\n",
       " '-0.254',\n",
       " '-0.5',\n",
       " '-0.278',\n",
       " '-0.521',\n",
       " '0.198',\n",
       " '0.022',\n",
       " '0.008',\n",
       " '-0.029',\n",
       " '0.256',\n",
       " '-0.152',\n",
       " '0.045',\n",
       " '-0.403',\n",
       " '-0.06',\n",
       " '0.185',\n",
       " '-0.126',\n",
       " '-0.245',\n",
       " '-0.014',\n",
       " '0.557',\n",
       " '0.044',\n",
       " '-0.12',\n",
       " '-0.518',\n",
       " '-0.323',\n",
       " '0.863',\n",
       " '-0.221',\n",
       " '-0.526',\n",
       " '-0.233',\n",
       " '-0.18',\n",
       " '-0.159',\n",
       " '0.465',\n",
       " '-0.319',\n",
       " '-3.08',\n",
       " '-2.08',\n",
       " '-2.83',\n",
       " '-3.62',\n",
       " '-3.06',\n",
       " '-5.54',\n",
       " '-2.95',\n",
       " '-2.86',\n",
       " '-2.82',\n",
       " '-2.05',\n",
       " '-2.06',\n",
       " '-6.04',\n",
       " '-1.86',\n",
       " '1.81',\n",
       " '1.97',\n",
       " '-2.62',\n",
       " '1.13',\n",
       " '-1.83',\n",
       " '-2.79',\n",
       " '-1.87',\n",
       " '-1.82',\n",
       " '-3.82',\n",
       " '-6.44',\n",
       " '0.82',\n",
       " '1.05',\n",
       " '-1.95',\n",
       " '1.14',\n",
       " '0.94',\n",
       " '-3.28',\n",
       " '0.389',\n",
       " '-0.309',\n",
       " '-0.218',\n",
       " '-0.135',\n",
       " '-0.246',\n",
       " '0.106',\n",
       " '0.04',\n",
       " '-0.182',\n",
       " '0.108',\n",
       " '0.484',\n",
       " '-0.007',\n",
       " '-0.197',\n",
       " '-0.416',\n",
       " '0.601',\n",
       " '-0.015',\n",
       " '0.2',\n",
       " '0.014',\n",
       " '-0.399',\n",
       " '-0.476',\n",
       " '0.053',\n",
       " '0.237',\n",
       " '-0.392',\n",
       " '-0.463',\n",
       " '-0.041',\n",
       " '-0.013',\n",
       " '0.344',\n",
       " '0.282',\n",
       " '-0.188',\n",
       " '0.284',\n",
       " '0.281',\n",
       " '-0.402',\n",
       " '0.337',\n",
       " '-0.024',\n",
       " '-0.482',\n",
       " '-1.98',\n",
       " '0.34',\n",
       " '-2.01',\n",
       " '-2.98',\n",
       " '-3.01',\n",
       " '-6.52',\n",
       " '-6.58',\n",
       " '0.7',\n",
       " '-3.03',\n",
       " '0.67',\n",
       " '-6.47',\n",
       " '-2.03',\n",
       " '1.32',\n",
       " '-0.08',\n",
       " '-6.54',\n",
       " '3.48',\n",
       " '0.05',\n",
       " '0.003',\n",
       " '0.255',\n",
       " '0.577',\n",
       " '-0.088',\n",
       " '0.875',\n",
       " '0.928',\n",
       " '-0.119',\n",
       " '-0.597',\n",
       " '0.408',\n",
       " '-0.446',\n",
       " '-0.48',\n",
       " '0.725',\n",
       " '-0.179',\n",
       " '-0.049',\n",
       " '0.08',\n",
       " '1.989',\n",
       " '0.062',\n",
       " ...]"
      ]
     },
     "execution_count": 40,
     "metadata": {},
     "output_type": "execute_result"
    }
   ],
   "source": [
    "## rate_spread analysis\n",
    "df['rate_spread'].unique().tolist()"
   ]
  },
  {
   "cell_type": "code",
   "execution_count": 38,
   "id": "51264d57",
   "metadata": {},
   "outputs": [
    {
     "data": {
      "text/plain": [
       "13525"
      ]
     },
     "execution_count": 38,
     "metadata": {},
     "output_type": "execute_result"
    }
   ],
   "source": [
    "df['rate_spread'].isnull().sum()"
   ]
  },
  {
   "cell_type": "code",
   "execution_count": 41,
   "id": "02153d75",
   "metadata": {},
   "outputs": [
    {
     "data": {
      "text/plain": [
       "hoepa_status\n",
       "2    16328\n",
       "3    12344\n",
       "1       23\n",
       "Name: count, dtype: int64"
      ]
     },
     "execution_count": 41,
     "metadata": {},
     "output_type": "execute_result"
    }
   ],
   "source": [
    "## hoepa_status analysis\n",
    "df['hoepa_status'].value_counts()"
   ]
  },
  {
   "cell_type": "code",
   "execution_count": 42,
   "id": "8c19fccf",
   "metadata": {},
   "outputs": [
    {
     "data": {
      "text/plain": [
       "0"
      ]
     },
     "execution_count": 42,
     "metadata": {},
     "output_type": "execute_result"
    }
   ],
   "source": [
    "df['hoepa_status'].isnull().sum()"
   ]
  },
  {
   "cell_type": "code",
   "execution_count": 43,
   "id": "a0002f0c",
   "metadata": {},
   "outputs": [
    {
     "data": {
      "text/plain": [
       "lien_status\n",
       "1    19982\n",
       "2     8713\n",
       "Name: count, dtype: int64"
      ]
     },
     "execution_count": 43,
     "metadata": {},
     "output_type": "execute_result"
    }
   ],
   "source": [
    "## lien_status analysis\n",
    "df['lien_status'].value_counts()"
   ]
  },
  {
   "cell_type": "code",
   "execution_count": 44,
   "id": "83efca53",
   "metadata": {},
   "outputs": [
    {
     "data": {
      "text/plain": [
       "0"
      ]
     },
     "execution_count": 44,
     "metadata": {},
     "output_type": "execute_result"
    }
   ],
   "source": [
    "df['lien_status'].isnull().sum()"
   ]
  },
  {
   "cell_type": "code",
   "execution_count": 45,
   "id": "318273e8",
   "metadata": {},
   "outputs": [
    {
     "data": {
      "text/plain": [
       "borrower_credit_score_model\n",
       "9       8328\n",
       "3       3913\n",
       "1       3863\n",
       "8       3790\n",
       "2       3318\n",
       "11      3213\n",
       "6       1232\n",
       "7        582\n",
       "1111     419\n",
       "4         29\n",
       "5          8\n",
       "Name: count, dtype: int64"
      ]
     },
     "execution_count": 45,
     "metadata": {},
     "output_type": "execute_result"
    }
   ],
   "source": [
    "## borrower_credit_score_model\n",
    "df['borrower_credit_score_model'].value_counts()"
   ]
  },
  {
   "cell_type": "code",
   "execution_count": 46,
   "id": "eaf86187",
   "metadata": {},
   "outputs": [
    {
     "data": {
      "text/plain": [
       "0"
      ]
     },
     "execution_count": 46,
     "metadata": {},
     "output_type": "execute_result"
    }
   ],
   "source": [
    "df['borrower_credit_score_model'].isnull().sum()"
   ]
  },
  {
   "cell_type": "code",
   "execution_count": 47,
   "id": "30d448c5",
   "metadata": {},
   "outputs": [
    {
     "data": {
      "text/plain": [
       "reason_for_denial_one\n",
       "10      23054\n",
       "1        1607\n",
       "3        1537\n",
       "4         813\n",
       "7         639\n",
       "9         357\n",
       "1111      353\n",
       "6         170\n",
       "5         105\n",
       "2          58\n",
       "8           2\n",
       "Name: count, dtype: int64"
      ]
     },
     "execution_count": 47,
     "metadata": {},
     "output_type": "execute_result"
    }
   ],
   "source": [
    "## reason_for_denial_one analysis\n",
    "df['reason_for_denial_one'].value_counts()"
   ]
  },
  {
   "cell_type": "code",
   "execution_count": 48,
   "id": "8753b119",
   "metadata": {},
   "outputs": [
    {
     "data": {
      "text/plain": [
       "0"
      ]
     },
     "execution_count": 48,
     "metadata": {},
     "output_type": "execute_result"
    }
   ],
   "source": [
    "df['reason_for_denial_one'].isnull().sum()"
   ]
  },
  {
   "cell_type": "code",
   "execution_count": 52,
   "id": "a3f570a9",
   "metadata": {},
   "outputs": [
    {
     "name": "stdout",
     "output_type": "stream",
     "text": [
      "total_loan_costs\n",
      "0.0        572\n",
      "Exempt     419\n",
      "101.0      244\n",
      "401.0       76\n",
      "351.0       40\n",
      "          ... \n",
      "7205.2       1\n",
      "3118.79      1\n",
      "4507.57      1\n",
      "5241.32      1\n",
      "3155.0       1\n",
      "Name: count, Length: 7714, dtype: int64\n",
      "17086\n",
      "total_points_and_fees\n",
      "Exempt      419\n",
      "799.0        10\n",
      "0.0           6\n",
      "517.0         3\n",
      "588.0         2\n",
      "13522.78      1\n",
      "18563.56      1\n",
      "1535.0        1\n",
      "585.0         1\n",
      "756.27        1\n",
      "1250.0        1\n",
      "552.0         1\n",
      "499.0         1\n",
      "1496.7        1\n",
      "Name: count, dtype: int64\n",
      "28246\n",
      "origination_charges\n",
      "0.0        1173\n",
      "Exempt      419\n",
      "1590.0      223\n",
      "365.0       206\n",
      "425.0       168\n",
      "           ... \n",
      "933.9         1\n",
      "2546.5        1\n",
      "3866.27       1\n",
      "1861.93       1\n",
      "3481.5        1\n",
      "Name: count, Length: 4675, dtype: int64\n",
      "17336\n",
      "discount_points\n",
      "Exempt     419\n",
      "1500.0      12\n",
      "2250.0       8\n",
      "1800.0       7\n",
      "375.0        7\n",
      "          ... \n",
      "4008.96      1\n",
      "6591.02      1\n",
      "1191.12      1\n",
      "1677.6       1\n",
      "1891.5       1\n",
      "Name: count, Length: 3911, dtype: int64\n",
      "23360\n",
      "lender_credits\n",
      "Exempt     419\n",
      "3.0        411\n",
      "500.0      303\n",
      "1000.0     292\n",
      "1250.0     175\n",
      "          ... \n",
      "604.0        1\n",
      "731.88       1\n",
      "3440.14      1\n",
      "2300.47      1\n",
      "2036.0       1\n",
      "Name: count, Length: 1628, dtype: int64\n",
      "23666\n",
      "interest_rate\n",
      "3.99     770\n",
      "6.625    745\n",
      "0.0      723\n",
      "6.5      705\n",
      "7.25     692\n",
      "        ... \n",
      "6.157      1\n",
      "6.511      1\n",
      "6.272      1\n",
      "5.032      1\n",
      "6.517      1\n",
      "Name: count, Length: 771, dtype: int64\n",
      "9162\n",
      "prepayment_penalty_term\n",
      "24        1873\n",
      "Exempt     419\n",
      "36         394\n",
      "12           4\n",
      "60           3\n",
      "2            1\n",
      "Name: count, dtype: int64\n",
      "26001\n",
      "debt_to_income_ratio\n",
      "20%-<30%    3641\n",
      "30%-<36%    3260\n",
      "<20%        1732\n",
      "50%-60%     1632\n",
      ">60%        1317\n",
      "42           812\n",
      "49           794\n",
      "41           780\n",
      "44           724\n",
      "43           716\n",
      "40           681\n",
      "39           662\n",
      "38           659\n",
      "37           644\n",
      "45           608\n",
      "36           603\n",
      "48           577\n",
      "46           564\n",
      "47           494\n",
      "Exempt       419\n",
      "Name: count, dtype: int64\n",
      "7376\n",
      "combined_loan_to_value_ratio\n",
      "80.0      1953\n",
      "95.0      1173\n",
      "75.0       930\n",
      "96.5       826\n",
      "90.0       786\n",
      "          ... \n",
      "43.636       1\n",
      "14.643       1\n",
      "57.085       1\n",
      "61.35        1\n",
      "87.342       1\n",
      "Name: count, Length: 9849, dtype: int64\n",
      "6804\n",
      "loan_term_months\n",
      "360    18485\n",
      "300     2207\n",
      "60      2200\n",
      "120     2101\n",
      "180      994\n",
      "       ...  \n",
      "346        1\n",
      "349        1\n",
      "135        1\n",
      "130        1\n",
      "364        1\n",
      "Name: count, Length: 136, dtype: int64\n",
      "227\n",
      "intro_rate_period\n",
      "1         3040\n",
      "12        2937\n",
      "60        1058\n",
      "6          748\n",
      "84         510\n",
      "Exempt     419\n",
      "3          253\n",
      "120        121\n",
      "61          99\n",
      "180         98\n",
      "36          78\n",
      "14          21\n",
      "13          18\n",
      "360         18\n",
      "2           14\n",
      "62           9\n",
      "15           7\n",
      "72           6\n",
      "24           5\n",
      "11           4\n",
      "95           3\n",
      "30           2\n",
      "85           2\n",
      "10           2\n",
      "168          2\n",
      "9            1\n",
      "720          1\n",
      "38           1\n",
      "48           1\n",
      "4            1\n",
      "5            1\n",
      "63           1\n",
      "108          1\n",
      "71           1\n",
      "16           1\n",
      "Name: count, dtype: int64\n",
      "19211\n",
      "balloon_payment\n",
      "2       26925\n",
      "1        1351\n",
      "1111      419\n",
      "Name: count, dtype: int64\n",
      "0\n",
      "interest_only_payments\n",
      "2       21581\n",
      "1        6695\n",
      "1111      419\n",
      "Name: count, dtype: int64\n",
      "0\n",
      "negative_amortization\n",
      "2       28261\n",
      "1111      419\n",
      "1          15\n",
      "Name: count, dtype: int64\n",
      "0\n",
      "other_non_amortizing_features\n",
      "2       28149\n",
      "1111      419\n",
      "1         127\n",
      "Name: count, dtype: int64\n",
      "0\n",
      "property_value\n",
      "255000      1043\n",
      "225000      1035\n",
      "245000      1023\n",
      "235000      1000\n",
      "205000       952\n",
      "            ... \n",
      "8065000        1\n",
      "9845000        1\n",
      "10115000       1\n",
      "5085000        1\n",
      "6375000        1\n",
      "Name: count, Length: 272, dtype: int64\n",
      "4630\n",
      "manufactured_home_property_type\n",
      "3       28162\n",
      "1111      419\n",
      "2         106\n",
      "1           8\n",
      "Name: count, dtype: int64\n",
      "0\n",
      "manufactured_home_land_property_interest\n",
      "5       28162\n",
      "1111      419\n",
      "3          74\n",
      "2          31\n",
      "1           9\n",
      "Name: count, dtype: int64\n",
      "0\n",
      "total_units\n",
      "1          24240\n",
      "2           3614\n",
      "4            252\n",
      "5-24         244\n",
      "3            220\n",
      "25-49         43\n",
      "50-99         40\n",
      "100-149       24\n",
      ">149          18\n",
      "Name: count, dtype: int64\n",
      "0\n",
      "multifamily_affordable_units\n",
      "Exempt    419\n",
      "0         236\n",
      "100        12\n",
      "78          2\n",
      "71          1\n",
      "86          1\n",
      "Name: count, dtype: int64\n",
      "28024\n",
      "submission_of_application\n",
      "1       24284\n",
      "2        2055\n",
      "3        1937\n",
      "1111      419\n",
      "Name: count, dtype: int64\n",
      "0\n",
      "is_init_payable_to_institution\n",
      "1       24881\n",
      "3        2577\n",
      "2         818\n",
      "1111      419\n",
      "Name: count, dtype: int64\n",
      "0\n",
      "auto_underwriting_system_one\n",
      "6       13566\n",
      "1        7125\n",
      "2        3273\n",
      "5        2086\n",
      "3        1560\n",
      "7         666\n",
      "1111      419\n",
      "Name: count, dtype: int64\n",
      "0\n",
      "auto_underwriting_system_two\n",
      "2    450\n",
      "1    390\n",
      "5    122\n",
      "3     33\n",
      "7      8\n",
      "Name: count, dtype: int64\n",
      "27692\n",
      "auto_underwriting_system_three\n",
      "5    168\n",
      "2     83\n",
      "1     32\n",
      "3     27\n",
      "Name: count, dtype: int64\n",
      "28385\n",
      "auto_underwriting_system_four\n",
      "3    25\n",
      "1    17\n",
      "2    10\n",
      "Name: count, dtype: int64\n",
      "28643\n",
      "auto_underwriting_system_five\n",
      "1    20\n",
      "3    20\n",
      "2     7\n",
      "Name: count, dtype: int64\n",
      "28648\n",
      "is_reverse_mortgage\n",
      "2       28244\n",
      "1111      419\n",
      "1          32\n",
      "Name: count, dtype: int64\n",
      "0\n",
      "is_open_end_line_of_credit\n",
      "2       19949\n",
      "1        8327\n",
      "1111      419\n",
      "Name: count, dtype: int64\n",
      "0\n",
      "is_for_business_purpose\n",
      "2       25996\n",
      "1        2280\n",
      "1111      419\n",
      "Name: count, dtype: int64\n",
      "0\n"
     ]
    }
   ],
   "source": [
    "remaining_list = df.columns.tolist()[55:]\n",
    "for item in remaining_list: \n",
    "    print(df[item].value_counts())\n",
    "    print(df[item].isnull().sum())"
   ]
  },
  {
   "cell_type": "code",
   "execution_count": 23,
   "id": "a41907d4",
   "metadata": {},
   "outputs": [
    {
     "name": "stdout",
     "output_type": "stream",
     "text": [
      "<class 'pandas.core.frame.DataFrame'>\n",
      "RangeIndex: 28695 entries, 0 to 28694\n",
      "Data columns (total 85 columns):\n",
      " #   Column                                    Non-Null Count  Dtype \n",
      "---  ------                                    --------------  ----- \n",
      " 0   activity_year                             28695 non-null  object\n",
      " 1   legal_entity_identifier                   28695 non-null  object\n",
      " 2   loan_type                                 28695 non-null  object\n",
      " 3   loan_purpose                              28695 non-null  object\n",
      " 4   preapproval                               28695 non-null  object\n",
      " 5   construction_method                       28695 non-null  object\n",
      " 6   occupancy_type                            28695 non-null  object\n",
      " 7   loan_amount                               28695 non-null  object\n",
      " 8   action_taken                              28695 non-null  object\n",
      " 9   property_state                            28695 non-null  object\n",
      " 10  property_county                           28695 non-null  object\n",
      " 11  census_tract                              28687 non-null  object\n",
      " 12  borrower_one_ethnicity                    28686 non-null  object\n",
      " 13  borrower_two_ethnicity                    2093 non-null   object\n",
      " 14  borrower_three_ethnicity                  44 non-null     object\n",
      " 15  borrower_four_ethnicity                   1 non-null      object\n",
      " 16  borrower_five_ethnicity                   0 non-null      object\n",
      " 17  co_borrower_one_ethnicity                 28693 non-null  object\n",
      " 18  co_borrower_two_ethnicity                 798 non-null    object\n",
      " 19  co_borrower_three_ethnicity               14 non-null     object\n",
      " 20  co_borrower_four_ethnicity                1 non-null      object\n",
      " 21  co_borrower_five_ethnicity                0 non-null      object\n",
      " 22  borrower_ethnicity_based_on_obs           28695 non-null  object\n",
      " 23  co_borrower_ethnicity_based_on_obs        28695 non-null  object\n",
      " 24  borrower_one_race                         28691 non-null  object\n",
      " 25  borrower_two_race                         951 non-null    object\n",
      " 26  borrower_three_race                       95 non-null     object\n",
      " 27  borrower_four_race                        11 non-null     object\n",
      " 28  borrower_five_race                        0 non-null      object\n",
      " 29  co_borrower_one_race                      28693 non-null  object\n",
      " 30  co_borrower_two_race                      312 non-null    object\n",
      " 31  co_borrower_three_race                    31 non-null     object\n",
      " 32  co_borrower_four_race                     9 non-null      object\n",
      " 33  co_borrower_five_race                     1 non-null      object\n",
      " 34  borrower_race_based_on_obs                28695 non-null  object\n",
      " 35  co_borrower_race_based_on_obs             28695 non-null  object\n",
      " 36  borrower_gender                           28695 non-null  object\n",
      " 37  co_borrower_gender                        28695 non-null  object\n",
      " 38  borrower_gender_based_on_obs              28695 non-null  object\n",
      " 39  co_borrower_gender_based_on_obs           28695 non-null  object\n",
      " 40  borrower_age                              28695 non-null  object\n",
      " 41  is_borrower_62_or_older                   25662 non-null  object\n",
      " 42  co_borrower_age                           28695 non-null  object\n",
      " 43  is_co_borrower_62_or_older                9651 non-null   object\n",
      " 44  income                                    25340 non-null  object\n",
      " 45  type_of_purchaser                         28695 non-null  object\n",
      " 46  rate_spread                               15170 non-null  object\n",
      " 47  hoepa_status                              28695 non-null  object\n",
      " 48  lien_status                               28695 non-null  object\n",
      " 49  borrower_credit_score_model               28695 non-null  object\n",
      " 50  co_borrower_credit_score_model            28695 non-null  object\n",
      " 51  reason_for_denial_one                     28695 non-null  object\n",
      " 52  reason_for_denial_two                     1188 non-null   object\n",
      " 53  reason_for_denial_three                   186 non-null    object\n",
      " 54  reason_for_denial_four                    14 non-null     object\n",
      " 55  total_loan_costs                          11609 non-null  object\n",
      " 56  total_points_and_fees                     449 non-null    object\n",
      " 57  origination_charges                       11359 non-null  object\n",
      " 58  discount_points                           5335 non-null   object\n",
      " 59  lender_credits                            5029 non-null   object\n",
      " 60  interest_rate                             19533 non-null  object\n",
      " 61  prepayment_penalty_term                   2694 non-null   object\n",
      " 62  debt_to_income_ratio                      21319 non-null  object\n",
      " 63  combined_loan_to_value_ratio              21891 non-null  object\n",
      " 64  loan_term_months                          28468 non-null  object\n",
      " 65  intro_rate_period                         9484 non-null   object\n",
      " 66  balloon_payment                           28695 non-null  object\n",
      " 67  interest_only_payments                    28695 non-null  object\n",
      " 68  negative_amortization                     28695 non-null  object\n",
      " 69  other_non_amortizing_features             28695 non-null  object\n",
      " 70  property_value                            24065 non-null  object\n",
      " 71  manufactured_home_property_type           28695 non-null  object\n",
      " 72  manufactured_home_land_property_interest  28695 non-null  object\n",
      " 73  total_units                               28695 non-null  object\n",
      " 74  multifamily_affordable_units              671 non-null    object\n",
      " 75  submission_of_application                 28695 non-null  object\n",
      " 76  is_init_payable_to_institution            28695 non-null  object\n",
      " 77  auto_underwriting_system_one              28695 non-null  object\n",
      " 78  auto_underwriting_system_two              1003 non-null   object\n",
      " 79  auto_underwriting_system_three            310 non-null    object\n",
      " 80  auto_underwriting_system_four             52 non-null     object\n",
      " 81  auto_underwriting_system_five             47 non-null     object\n",
      " 82  is_reverse_mortgage                       28695 non-null  object\n",
      " 83  is_open_end_line_of_credit                28695 non-null  object\n",
      " 84  is_for_business_purpose                   28695 non-null  object\n",
      "dtypes: object(85)\n",
      "memory usage: 18.6+ MB\n"
     ]
    }
   ],
   "source": [
    "df.info()"
   ]
  },
  {
   "cell_type": "code",
   "execution_count": null,
   "id": "6c8403db",
   "metadata": {},
   "outputs": [],
   "source": [
    "int_columns = ['activity_year', 'loan_type', 'loan_purpose', 'preapproval', 'construction_method', \n",
    "              'construction_method', 'occupancy_type', 'loan_amount', 'action_taken', 'property_county', \n",
    "              'census_tract', 'borrower_one_ethnicity', 'borrower_two_ethnicity', 'borrower_three_ethnicity', \n",
    "              'borrower_four_ethnicity', 'borrower_five_ethnicity', 'borrower_ethnicity_based_on_obs', \n",
    "              'co_borrower_one_ethnicity', 'co_borrower_two_ethnicity', 'co_borrower_three_ethnicity', \n",
    "              'co_borrower_four_ethnicity', 'co_borrower_five_ethnicity', 'co_borrower_ethnicity_based_on_obs', \n",
    "              'borrower_one_race', 'borrower_two_race', 'borrower_three_race', 'borrower_four_race', \n",
    "              'borrower_five_race', 'borrower_race_based_on_obs', 'co_borrower_race_based_on_obs', \n",
    "              'borrower_gender', 'co_borrower_gender', 'borrower_gender_based_on_obs', \n",
    "              'co_borrower_gender_based_on_obs', 'income', 'type_of_purchaser', 'hoepa_status', \n",
    "              'lien_status', 'borrower_credit_score_model', 'prepayment_penalty_term', 'loan_term_months', \n",
    "              'intro_rate_period', 'intro_rate_period', 'balloon_payment', 'property_value', \n",
    "              'interest_only_payments', 'negative_amortization', 'other_non_amortizing_features', \n",
    "              'manufactured_home_property_type', 'manufactured_home_land_property_interest', \n",
    "              'multifamily_affordable_units', 'submission_of_application', 'is_init_payable_to_institution', \n",
    "              'auto_underwriting_system_one', 'auto_underwriting_system_two', 'auto_underwriting_system_three', \n",
    "              'auto_underwriting_system_four', 'auto_underwriting_system_five', 'is_reverse_mortgage', \n",
    "              'is_open_end_line_of_credit', 'is_for_business_purpose']\n",
    "\n",
    "float_columns = ['rate_spread', 'total_loan_costs', 'origination_charges', 'discount_points', \n",
    "                'interest_rate', 'lender_credits', 'combined_loan_to_value_ratio']\n",
    "\n",
    "categorical_columns = ['legal_entity_identifier', 'property_state']\n",
    "\n",
    "str_to_categorical_conversion_columns = ['borrower_age', 'is_borrower_62_or_older', 'co_borrower_age', \n",
    "                                        'is_co_borrower_62_or_older', 'debt_to_income_ratio',\n",
    "                                        'total_units', ]"
   ]
  }
 ],
 "metadata": {
  "kernelspec": {
   "display_name": "Python 3 (ipykernel)",
   "language": "python",
   "name": "python3"
  },
  "language_info": {
   "codemirror_mode": {
    "name": "ipython",
    "version": 3
   },
   "file_extension": ".py",
   "mimetype": "text/x-python",
   "name": "python",
   "nbconvert_exporter": "python",
   "pygments_lexer": "ipython3",
   "version": "3.11.6"
  }
 },
 "nbformat": 4,
 "nbformat_minor": 5
}
