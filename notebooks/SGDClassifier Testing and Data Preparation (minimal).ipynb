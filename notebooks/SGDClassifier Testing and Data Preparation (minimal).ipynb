{
 "cells": [
  {
   "cell_type": "code",
   "execution_count": 43,
   "id": "b395a3e6",
   "metadata": {},
   "outputs": [],
   "source": [
    "import argparse\n",
    "import boto3\n",
    "import pandas as pd\n",
    "import s3fs\n",
    "import numpy as np \n",
    "import io \n",
    "import pyarrow as pa \n",
    "import pyarrow.parquet as pq\n",
    "import duckdb\n",
    "import os\n",
    "from sklearn.linear_model import SGDClassifier\n",
    "from sklearn.preprocessing import StandardScaler, OrdinalEncoder\n",
    "from sklearn.impute import SimpleImputer\n",
    "from sklearn.pipeline import make_pipeline\n",
    "from sklearn.compose import ColumnTransformer\n",
    "from sklearn.utils import shuffle\n",
    "from sklearn.metrics import classification_report\n",
    "from sklearn.utils.class_weight import compute_class_weight"
   ]
  },
  {
   "cell_type": "code",
   "execution_count": 44,
   "id": "3ff8bda5",
   "metadata": {},
   "outputs": [],
   "source": [
    "def execute_sql_return_df(sql_text): \n",
    "    df = con.execute(sql_text).fetchdf()\n",
    "    return df"
   ]
  },
  {
   "cell_type": "code",
   "execution_count": 51,
   "id": "98e2581a",
   "metadata": {},
   "outputs": [],
   "source": [
    "def execute_sql_print_result(sql_text): \n",
    "    results = con.execute(sql_text).fetchall()\n",
    "    print(results)"
   ]
  },
  {
   "cell_type": "code",
   "execution_count": 46,
   "id": "81363e63",
   "metadata": {},
   "outputs": [],
   "source": [
    "con = duckdb.connect('../hmda.duckdb')"
   ]
  },
  {
   "cell_type": "code",
   "execution_count": 47,
   "id": "eb6e8b5e",
   "metadata": {},
   "outputs": [
    {
     "name": "stdout",
     "output_type": "stream",
     "text": [
      "[('Fallout',), ('Origination',), ('Preapproval - Denial',), ('nan',), ('Preapproval - Approved not accepted',), ('Denied',), ('Purchased - Secondary Market',)]\n"
     ]
    }
   ],
   "source": [
    "text = '''\n",
    "select distinct action_taken_category\n",
    "from hmda_raw\n",
    "'''\n",
    "df = execute_sql_print_result(text)"
   ]
  },
  {
   "cell_type": "code",
   "execution_count": 48,
   "id": "87936fe5",
   "metadata": {},
   "outputs": [],
   "source": [
    "# declaring variables\n",
    "chunksize = 500_000\n",
    "target_column = \"action_taken_category\"\n",
    "positive_class_label = \"Origination\"\n",
    "negative_class_label = 'Denied'\n",
    "classes = np.array([0, 1])"
   ]
  },
  {
   "cell_type": "code",
   "execution_count": 49,
   "id": "ce8389b8",
   "metadata": {},
   "outputs": [
    {
     "data": {
      "application/vnd.jupyter.widget-view+json": {
       "model_id": "c2cfd424f282440daaa3392dbbc7e653",
       "version_major": 2,
       "version_minor": 0
      },
      "text/plain": [
       "FloatProgress(value=0.0, layout=Layout(width='auto'), style=ProgressStyle(bar_color='black'))"
      ]
     },
     "metadata": {},
     "output_type": "display_data"
    },
    {
     "data": {
      "text/plain": [
       "<duckdb.duckdb.DuckDBPyConnection at 0x31dd3c6f0>"
      ]
     },
     "execution_count": 49,
     "metadata": {},
     "output_type": "execute_result"
    }
   ],
   "source": [
    "# # Create new table and prefilter\n",
    "# con.execute('''\n",
    "# create table hmda_target\n",
    "# as \n",
    "# select *\n",
    "# from hmda_raw\n",
    "# where action_taken_category in ('Origination', 'Denied')\n",
    "# ''')"
   ]
  },
  {
   "cell_type": "code",
   "execution_count": 52,
   "id": "ec96631b",
   "metadata": {},
   "outputs": [
    {
     "name": "stdout",
     "output_type": "stream",
     "text": [
      "[(33288138,)]\n"
     ]
    }
   ],
   "source": [
    "text = '''\n",
    "select count(*)\n",
    "from hmda_target\n",
    "'''\n",
    "execute_sql_print_result(text)"
   ]
  },
  {
   "cell_type": "code",
   "execution_count": 54,
   "id": "038a7db8",
   "metadata": {},
   "outputs": [
    {
     "data": {
      "text/plain": [
       "<duckdb.duckdb.DuckDBPyConnection at 0x31dd3c6f0>"
      ]
     },
     "execution_count": 54,
     "metadata": {},
     "output_type": "execute_result"
    }
   ],
   "source": [
    "# # Assign random float to each row\n",
    "# con.execute('''\n",
    "# update hmda_target set split = random() where split is null;\n",
    "# ''')"
   ]
  },
  {
   "cell_type": "code",
   "execution_count": 63,
   "id": "801e87f6",
   "metadata": {},
   "outputs": [
    {
     "name": "stdout",
     "output_type": "stream",
     "text": [
      "[('Denied',), ('Origination',)]\n"
     ]
    }
   ],
   "source": [
    "# validate targets\n",
    "text = '''\n",
    "select distinct action_taken_category\n",
    "from hmda_target\n",
    "'''\n",
    "execute_sql_print_result(text)"
   ]
  },
  {
   "cell_type": "code",
   "execution_count": 69,
   "id": "a5dcb7e8",
   "metadata": {},
   "outputs": [],
   "source": [
    "# --- Feature selection ---\n",
    "categorical_features = [\n",
    "    \"loan_type_category\", \"loan_purpose_category\", \"lien_status_category\",\n",
    "    \"applicant_sex_category\", \"applicant_race_1_category\", \"applicant_ethnicity_1_category\",\n",
    "    \"occupancy_type_category\", \"manufactured_home_secured_property_type_category\",\n",
    "    \"reverse_mortgage_category\", \"open_end_line_of_credit_category\",\n",
    "    \"balloon_payment_category\", \"interest_only_payment_category\",\n",
    "    \"negative_amortization_category\"\n",
    "]\n",
    "numerical_features = [\n",
    "    \"loan_amount\", \"loan_to_value_ratio\", \"combined_loan_to_value_ratio\",\n",
    "    \"effective_ltv\", \"income\", \"debt_to_income_ratio\",\n",
    "    \"tract_minority_population_percent\", \"tract_to_msa_income_percentage\",\n",
    "    \"tract_owner_occupied_units\", \"tract_median_age_of_housing_units\"\n",
    "]"
   ]
  },
  {
   "cell_type": "code",
   "execution_count": 56,
   "id": "6ef183c4",
   "metadata": {},
   "outputs": [],
   "source": [
    "## Helper functions\n",
    "def clean_column(df, col):\n",
    "    \"\"\"Cleans a column by converting missing-like strings to NaN.\"\"\"\n",
    "    if col in df.columns:\n",
    "        df[col] = df[col].replace(\n",
    "            [\"\", \".\", \"-\", \"Exempt\", \"NA\", \"NaN\", \"nan\", \"null\", \"None\", \"n/a\"],\n",
    "            np.nan\n",
    "        )\n",
    "    return df\n",
    "\n",
    "def convert_percent_string(val):\n",
    "    try:\n",
    "        if isinstance(val, str):\n",
    "            return float(val.strip('%'))\n",
    "        return val\n",
    "    except:\n",
    "        return np.nan"
   ]
  },
  {
   "cell_type": "code",
   "execution_count": 57,
   "id": "ebe2f875",
   "metadata": {},
   "outputs": [],
   "source": [
    "# Preprocessing helper\n",
    "def preprocess_chunk(df):\n",
    "    \"\"\"Cleans and preprocesses the chunk.\"\"\"\n",
    "    # Handle missing and dirty values\n",
    "    for col in categorical_features + numerical_features + [target_column]:\n",
    "        df = clean_column(df, col)\n",
    "\n",
    "    # Convert string numerical fields\n",
    "    if \"debt_to_income_ratio\" in df.columns:\n",
    "        df[\"debt_to_income_ratio\"] = df[\"debt_to_income_ratio\"].apply(convert_percent_string)\n",
    "    return df"
   ]
  },
  {
   "cell_type": "code",
   "execution_count": 80,
   "id": "3a4e29d7",
   "metadata": {},
   "outputs": [],
   "source": [
    "# --- Preprocessing Pipelines ---\n",
    "num_pipe = make_pipeline(SimpleImputer(strategy=\"median\"), StandardScaler())\n",
    "cat_pipe = make_pipeline(\n",
    "    SimpleImputer(strategy=\"constant\", fill_value=\"missing\"),\n",
    "    OrdinalEncoder(handle_unknown=\"use_encoded_value\", unknown_value=-1)\n",
    ")\n",
    "\n",
    "preprocessor = ColumnTransformer([\n",
    "    (\"num\", num_pipe, numerical_features),\n",
    "    (\"cat\", cat_pipe, categorical_features)\n",
    "])"
   ]
  },
  {
   "cell_type": "code",
   "execution_count": 81,
   "id": "660471ed",
   "metadata": {},
   "outputs": [],
   "source": [
    "# --- Model ---\n",
    "clf = SGDClassifier(loss=\"log_loss\", penalty=\"l2\", max_iter=1000, learning_rate=\"optimal\")"
   ]
  },
  {
   "cell_type": "code",
   "execution_count": 82,
   "id": "1e3fad97",
   "metadata": {},
   "outputs": [],
   "source": [
    "## Validation set\n",
    "val_df = con.execute(f\"\"\"\n",
    "    SELECT {', '.join(categorical_features + numerical_features + [target_column])}\n",
    "    FROM hmda_target\n",
    "    WHERE split >= 0.98 AND split < 0.99\n",
    "      AND {target_column} IN ('{positive_class_label}', '{negative_class_label}')\n",
    "\"\"\").fetchdf()"
   ]
  },
  {
   "cell_type": "code",
   "execution_count": 83,
   "id": "cbf0d6ac",
   "metadata": {},
   "outputs": [
    {
     "name": "stderr",
     "output_type": "stream",
     "text": [
      "/var/folders/88/q8wq3ss94k3bvmkq1j1f_j0w0000gn/T/ipykernel_30017/1596352303.py:5: FutureWarning: Downcasting behavior in `replace` is deprecated and will be removed in a future version. To retain the old behavior, explicitly call `result.infer_objects(copy=False)`. To opt-in to the future behavior, set `pd.set_option('future.no_silent_downcasting', True)`\n",
      "  df[col] = df[col].replace(\n"
     ]
    }
   ],
   "source": [
    "# Process validation set\n",
    "val_df = preprocess_chunk(val_df)\n",
    "val_df[\"target\"] = (val_df[target_column] == positive_class_label).astype(int)\n",
    "X_val = val_df[categorical_features + numerical_features]\n",
    "y_val = val_df[\"target\"]"
   ]
  },
  {
   "cell_type": "code",
   "execution_count": 84,
   "id": "6ffa4fcc",
   "metadata": {},
   "outputs": [],
   "source": [
    "# first training chunk to fit encoder\n",
    "first_chunk = con.execute(f\"\"\"\n",
    "select {', '.join(categorical_features + numerical_features + [target_column])}\n",
    "from hmda_target\n",
    "where split < 0.98\n",
    "limit {chunksize}\n",
    "\"\"\").fetchdf()"
   ]
  },
  {
   "cell_type": "code",
   "execution_count": 85,
   "id": "3d3c298c",
   "metadata": {},
   "outputs": [
    {
     "name": "stderr",
     "output_type": "stream",
     "text": [
      "/var/folders/88/q8wq3ss94k3bvmkq1j1f_j0w0000gn/T/ipykernel_30017/1596352303.py:5: FutureWarning: Downcasting behavior in `replace` is deprecated and will be removed in a future version. To retain the old behavior, explicitly call `result.infer_objects(copy=False)`. To opt-in to the future behavior, set `pd.set_option('future.no_silent_downcasting', True)`\n",
      "  df[col] = df[col].replace(\n"
     ]
    }
   ],
   "source": [
    "# process first chunk\n",
    "first_chunk = preprocess_chunk(first_chunk)\n",
    "first_chunk['target'] = (first_chunk[target_column] == positive_class_label).astype(int)\n",
    "X_first = first_chunk[categorical_features + numerical_features]\n",
    "y_first = first_chunk['target']"
   ]
  },
  {
   "cell_type": "code",
   "execution_count": 86,
   "id": "6ecf76b6",
   "metadata": {},
   "outputs": [],
   "source": [
    "# compute class weights\n",
    "class_weights = compute_class_weight(\"balanced\", classes=classes, y=y_first)\n",
    "weight_dict = dict(zip(classes, class_weights))"
   ]
  },
  {
   "cell_type": "code",
   "execution_count": 87,
   "id": "2a94fb20",
   "metadata": {},
   "outputs": [
    {
     "name": "stderr",
     "output_type": "stream",
     "text": [
      "/Users/charlesclark/.pyenv/versions/3.11.6/lib/python3.11/site-packages/sklearn/impute/_base.py:577: UserWarning: Skipping features without any observed values: ['combined_loan_to_value_ratio' 'debt_to_income_ratio']. At least one non-missing value is needed for imputation with strategy='median'.\n",
      "  warnings.warn(\n"
     ]
    },
    {
     "data": {
      "text/html": [
       "<style>#sk-container-id-4 {\n",
       "  /* Definition of color scheme common for light and dark mode */\n",
       "  --sklearn-color-text: black;\n",
       "  --sklearn-color-line: gray;\n",
       "  /* Definition of color scheme for unfitted estimators */\n",
       "  --sklearn-color-unfitted-level-0: #fff5e6;\n",
       "  --sklearn-color-unfitted-level-1: #f6e4d2;\n",
       "  --sklearn-color-unfitted-level-2: #ffe0b3;\n",
       "  --sklearn-color-unfitted-level-3: chocolate;\n",
       "  /* Definition of color scheme for fitted estimators */\n",
       "  --sklearn-color-fitted-level-0: #f0f8ff;\n",
       "  --sklearn-color-fitted-level-1: #d4ebff;\n",
       "  --sklearn-color-fitted-level-2: #b3dbfd;\n",
       "  --sklearn-color-fitted-level-3: cornflowerblue;\n",
       "\n",
       "  /* Specific color for light theme */\n",
       "  --sklearn-color-text-on-default-background: var(--sg-text-color, var(--theme-code-foreground, var(--jp-content-font-color1, black)));\n",
       "  --sklearn-color-background: var(--sg-background-color, var(--theme-background, var(--jp-layout-color0, white)));\n",
       "  --sklearn-color-border-box: var(--sg-text-color, var(--theme-code-foreground, var(--jp-content-font-color1, black)));\n",
       "  --sklearn-color-icon: #696969;\n",
       "\n",
       "  @media (prefers-color-scheme: dark) {\n",
       "    /* Redefinition of color scheme for dark theme */\n",
       "    --sklearn-color-text-on-default-background: var(--sg-text-color, var(--theme-code-foreground, var(--jp-content-font-color1, white)));\n",
       "    --sklearn-color-background: var(--sg-background-color, var(--theme-background, var(--jp-layout-color0, #111)));\n",
       "    --sklearn-color-border-box: var(--sg-text-color, var(--theme-code-foreground, var(--jp-content-font-color1, white)));\n",
       "    --sklearn-color-icon: #878787;\n",
       "  }\n",
       "}\n",
       "\n",
       "#sk-container-id-4 {\n",
       "  color: var(--sklearn-color-text);\n",
       "}\n",
       "\n",
       "#sk-container-id-4 pre {\n",
       "  padding: 0;\n",
       "}\n",
       "\n",
       "#sk-container-id-4 input.sk-hidden--visually {\n",
       "  border: 0;\n",
       "  clip: rect(1px 1px 1px 1px);\n",
       "  clip: rect(1px, 1px, 1px, 1px);\n",
       "  height: 1px;\n",
       "  margin: -1px;\n",
       "  overflow: hidden;\n",
       "  padding: 0;\n",
       "  position: absolute;\n",
       "  width: 1px;\n",
       "}\n",
       "\n",
       "#sk-container-id-4 div.sk-dashed-wrapped {\n",
       "  border: 1px dashed var(--sklearn-color-line);\n",
       "  margin: 0 0.4em 0.5em 0.4em;\n",
       "  box-sizing: border-box;\n",
       "  padding-bottom: 0.4em;\n",
       "  background-color: var(--sklearn-color-background);\n",
       "}\n",
       "\n",
       "#sk-container-id-4 div.sk-container {\n",
       "  /* jupyter's `normalize.less` sets `[hidden] { display: none; }`\n",
       "     but bootstrap.min.css set `[hidden] { display: none !important; }`\n",
       "     so we also need the `!important` here to be able to override the\n",
       "     default hidden behavior on the sphinx rendered scikit-learn.org.\n",
       "     See: https://github.com/scikit-learn/scikit-learn/issues/21755 */\n",
       "  display: inline-block !important;\n",
       "  position: relative;\n",
       "}\n",
       "\n",
       "#sk-container-id-4 div.sk-text-repr-fallback {\n",
       "  display: none;\n",
       "}\n",
       "\n",
       "div.sk-parallel-item,\n",
       "div.sk-serial,\n",
       "div.sk-item {\n",
       "  /* draw centered vertical line to link estimators */\n",
       "  background-image: linear-gradient(var(--sklearn-color-text-on-default-background), var(--sklearn-color-text-on-default-background));\n",
       "  background-size: 2px 100%;\n",
       "  background-repeat: no-repeat;\n",
       "  background-position: center center;\n",
       "}\n",
       "\n",
       "/* Parallel-specific style estimator block */\n",
       "\n",
       "#sk-container-id-4 div.sk-parallel-item::after {\n",
       "  content: \"\";\n",
       "  width: 100%;\n",
       "  border-bottom: 2px solid var(--sklearn-color-text-on-default-background);\n",
       "  flex-grow: 1;\n",
       "}\n",
       "\n",
       "#sk-container-id-4 div.sk-parallel {\n",
       "  display: flex;\n",
       "  align-items: stretch;\n",
       "  justify-content: center;\n",
       "  background-color: var(--sklearn-color-background);\n",
       "  position: relative;\n",
       "}\n",
       "\n",
       "#sk-container-id-4 div.sk-parallel-item {\n",
       "  display: flex;\n",
       "  flex-direction: column;\n",
       "}\n",
       "\n",
       "#sk-container-id-4 div.sk-parallel-item:first-child::after {\n",
       "  align-self: flex-end;\n",
       "  width: 50%;\n",
       "}\n",
       "\n",
       "#sk-container-id-4 div.sk-parallel-item:last-child::after {\n",
       "  align-self: flex-start;\n",
       "  width: 50%;\n",
       "}\n",
       "\n",
       "#sk-container-id-4 div.sk-parallel-item:only-child::after {\n",
       "  width: 0;\n",
       "}\n",
       "\n",
       "/* Serial-specific style estimator block */\n",
       "\n",
       "#sk-container-id-4 div.sk-serial {\n",
       "  display: flex;\n",
       "  flex-direction: column;\n",
       "  align-items: center;\n",
       "  background-color: var(--sklearn-color-background);\n",
       "  padding-right: 1em;\n",
       "  padding-left: 1em;\n",
       "}\n",
       "\n",
       "\n",
       "/* Toggleable style: style used for estimator/Pipeline/ColumnTransformer box that is\n",
       "clickable and can be expanded/collapsed.\n",
       "- Pipeline and ColumnTransformer use this feature and define the default style\n",
       "- Estimators will overwrite some part of the style using the `sk-estimator` class\n",
       "*/\n",
       "\n",
       "/* Pipeline and ColumnTransformer style (default) */\n",
       "\n",
       "#sk-container-id-4 div.sk-toggleable {\n",
       "  /* Default theme specific background. It is overwritten whether we have a\n",
       "  specific estimator or a Pipeline/ColumnTransformer */\n",
       "  background-color: var(--sklearn-color-background);\n",
       "}\n",
       "\n",
       "/* Toggleable label */\n",
       "#sk-container-id-4 label.sk-toggleable__label {\n",
       "  cursor: pointer;\n",
       "  display: block;\n",
       "  width: 100%;\n",
       "  margin-bottom: 0;\n",
       "  padding: 0.5em;\n",
       "  box-sizing: border-box;\n",
       "  text-align: center;\n",
       "}\n",
       "\n",
       "#sk-container-id-4 label.sk-toggleable__label-arrow:before {\n",
       "  /* Arrow on the left of the label */\n",
       "  content: \"▸\";\n",
       "  float: left;\n",
       "  margin-right: 0.25em;\n",
       "  color: var(--sklearn-color-icon);\n",
       "}\n",
       "\n",
       "#sk-container-id-4 label.sk-toggleable__label-arrow:hover:before {\n",
       "  color: var(--sklearn-color-text);\n",
       "}\n",
       "\n",
       "/* Toggleable content - dropdown */\n",
       "\n",
       "#sk-container-id-4 div.sk-toggleable__content {\n",
       "  max-height: 0;\n",
       "  max-width: 0;\n",
       "  overflow: hidden;\n",
       "  text-align: left;\n",
       "  /* unfitted */\n",
       "  background-color: var(--sklearn-color-unfitted-level-0);\n",
       "}\n",
       "\n",
       "#sk-container-id-4 div.sk-toggleable__content.fitted {\n",
       "  /* fitted */\n",
       "  background-color: var(--sklearn-color-fitted-level-0);\n",
       "}\n",
       "\n",
       "#sk-container-id-4 div.sk-toggleable__content pre {\n",
       "  margin: 0.2em;\n",
       "  border-radius: 0.25em;\n",
       "  color: var(--sklearn-color-text);\n",
       "  /* unfitted */\n",
       "  background-color: var(--sklearn-color-unfitted-level-0);\n",
       "}\n",
       "\n",
       "#sk-container-id-4 div.sk-toggleable__content.fitted pre {\n",
       "  /* unfitted */\n",
       "  background-color: var(--sklearn-color-fitted-level-0);\n",
       "}\n",
       "\n",
       "#sk-container-id-4 input.sk-toggleable__control:checked~div.sk-toggleable__content {\n",
       "  /* Expand drop-down */\n",
       "  max-height: 200px;\n",
       "  max-width: 100%;\n",
       "  overflow: auto;\n",
       "}\n",
       "\n",
       "#sk-container-id-4 input.sk-toggleable__control:checked~label.sk-toggleable__label-arrow:before {\n",
       "  content: \"▾\";\n",
       "}\n",
       "\n",
       "/* Pipeline/ColumnTransformer-specific style */\n",
       "\n",
       "#sk-container-id-4 div.sk-label input.sk-toggleable__control:checked~label.sk-toggleable__label {\n",
       "  color: var(--sklearn-color-text);\n",
       "  background-color: var(--sklearn-color-unfitted-level-2);\n",
       "}\n",
       "\n",
       "#sk-container-id-4 div.sk-label.fitted input.sk-toggleable__control:checked~label.sk-toggleable__label {\n",
       "  background-color: var(--sklearn-color-fitted-level-2);\n",
       "}\n",
       "\n",
       "/* Estimator-specific style */\n",
       "\n",
       "/* Colorize estimator box */\n",
       "#sk-container-id-4 div.sk-estimator input.sk-toggleable__control:checked~label.sk-toggleable__label {\n",
       "  /* unfitted */\n",
       "  background-color: var(--sklearn-color-unfitted-level-2);\n",
       "}\n",
       "\n",
       "#sk-container-id-4 div.sk-estimator.fitted input.sk-toggleable__control:checked~label.sk-toggleable__label {\n",
       "  /* fitted */\n",
       "  background-color: var(--sklearn-color-fitted-level-2);\n",
       "}\n",
       "\n",
       "#sk-container-id-4 div.sk-label label.sk-toggleable__label,\n",
       "#sk-container-id-4 div.sk-label label {\n",
       "  /* The background is the default theme color */\n",
       "  color: var(--sklearn-color-text-on-default-background);\n",
       "}\n",
       "\n",
       "/* On hover, darken the color of the background */\n",
       "#sk-container-id-4 div.sk-label:hover label.sk-toggleable__label {\n",
       "  color: var(--sklearn-color-text);\n",
       "  background-color: var(--sklearn-color-unfitted-level-2);\n",
       "}\n",
       "\n",
       "/* Label box, darken color on hover, fitted */\n",
       "#sk-container-id-4 div.sk-label.fitted:hover label.sk-toggleable__label.fitted {\n",
       "  color: var(--sklearn-color-text);\n",
       "  background-color: var(--sklearn-color-fitted-level-2);\n",
       "}\n",
       "\n",
       "/* Estimator label */\n",
       "\n",
       "#sk-container-id-4 div.sk-label label {\n",
       "  font-family: monospace;\n",
       "  font-weight: bold;\n",
       "  display: inline-block;\n",
       "  line-height: 1.2em;\n",
       "}\n",
       "\n",
       "#sk-container-id-4 div.sk-label-container {\n",
       "  text-align: center;\n",
       "}\n",
       "\n",
       "/* Estimator-specific */\n",
       "#sk-container-id-4 div.sk-estimator {\n",
       "  font-family: monospace;\n",
       "  border: 1px dotted var(--sklearn-color-border-box);\n",
       "  border-radius: 0.25em;\n",
       "  box-sizing: border-box;\n",
       "  margin-bottom: 0.5em;\n",
       "  /* unfitted */\n",
       "  background-color: var(--sklearn-color-unfitted-level-0);\n",
       "}\n",
       "\n",
       "#sk-container-id-4 div.sk-estimator.fitted {\n",
       "  /* fitted */\n",
       "  background-color: var(--sklearn-color-fitted-level-0);\n",
       "}\n",
       "\n",
       "/* on hover */\n",
       "#sk-container-id-4 div.sk-estimator:hover {\n",
       "  /* unfitted */\n",
       "  background-color: var(--sklearn-color-unfitted-level-2);\n",
       "}\n",
       "\n",
       "#sk-container-id-4 div.sk-estimator.fitted:hover {\n",
       "  /* fitted */\n",
       "  background-color: var(--sklearn-color-fitted-level-2);\n",
       "}\n",
       "\n",
       "/* Specification for estimator info (e.g. \"i\" and \"?\") */\n",
       "\n",
       "/* Common style for \"i\" and \"?\" */\n",
       "\n",
       ".sk-estimator-doc-link,\n",
       "a:link.sk-estimator-doc-link,\n",
       "a:visited.sk-estimator-doc-link {\n",
       "  float: right;\n",
       "  font-size: smaller;\n",
       "  line-height: 1em;\n",
       "  font-family: monospace;\n",
       "  background-color: var(--sklearn-color-background);\n",
       "  border-radius: 1em;\n",
       "  height: 1em;\n",
       "  width: 1em;\n",
       "  text-decoration: none !important;\n",
       "  margin-left: 1ex;\n",
       "  /* unfitted */\n",
       "  border: var(--sklearn-color-unfitted-level-1) 1pt solid;\n",
       "  color: var(--sklearn-color-unfitted-level-1);\n",
       "}\n",
       "\n",
       ".sk-estimator-doc-link.fitted,\n",
       "a:link.sk-estimator-doc-link.fitted,\n",
       "a:visited.sk-estimator-doc-link.fitted {\n",
       "  /* fitted */\n",
       "  border: var(--sklearn-color-fitted-level-1) 1pt solid;\n",
       "  color: var(--sklearn-color-fitted-level-1);\n",
       "}\n",
       "\n",
       "/* On hover */\n",
       "div.sk-estimator:hover .sk-estimator-doc-link:hover,\n",
       ".sk-estimator-doc-link:hover,\n",
       "div.sk-label-container:hover .sk-estimator-doc-link:hover,\n",
       ".sk-estimator-doc-link:hover {\n",
       "  /* unfitted */\n",
       "  background-color: var(--sklearn-color-unfitted-level-3);\n",
       "  color: var(--sklearn-color-background);\n",
       "  text-decoration: none;\n",
       "}\n",
       "\n",
       "div.sk-estimator.fitted:hover .sk-estimator-doc-link.fitted:hover,\n",
       ".sk-estimator-doc-link.fitted:hover,\n",
       "div.sk-label-container:hover .sk-estimator-doc-link.fitted:hover,\n",
       ".sk-estimator-doc-link.fitted:hover {\n",
       "  /* fitted */\n",
       "  background-color: var(--sklearn-color-fitted-level-3);\n",
       "  color: var(--sklearn-color-background);\n",
       "  text-decoration: none;\n",
       "}\n",
       "\n",
       "/* Span, style for the box shown on hovering the info icon */\n",
       ".sk-estimator-doc-link span {\n",
       "  display: none;\n",
       "  z-index: 9999;\n",
       "  position: relative;\n",
       "  font-weight: normal;\n",
       "  right: .2ex;\n",
       "  padding: .5ex;\n",
       "  margin: .5ex;\n",
       "  width: min-content;\n",
       "  min-width: 20ex;\n",
       "  max-width: 50ex;\n",
       "  color: var(--sklearn-color-text);\n",
       "  box-shadow: 2pt 2pt 4pt #999;\n",
       "  /* unfitted */\n",
       "  background: var(--sklearn-color-unfitted-level-0);\n",
       "  border: .5pt solid var(--sklearn-color-unfitted-level-3);\n",
       "}\n",
       "\n",
       ".sk-estimator-doc-link.fitted span {\n",
       "  /* fitted */\n",
       "  background: var(--sklearn-color-fitted-level-0);\n",
       "  border: var(--sklearn-color-fitted-level-3);\n",
       "}\n",
       "\n",
       ".sk-estimator-doc-link:hover span {\n",
       "  display: block;\n",
       "}\n",
       "\n",
       "/* \"?\"-specific style due to the `<a>` HTML tag */\n",
       "\n",
       "#sk-container-id-4 a.estimator_doc_link {\n",
       "  float: right;\n",
       "  font-size: 1rem;\n",
       "  line-height: 1em;\n",
       "  font-family: monospace;\n",
       "  background-color: var(--sklearn-color-background);\n",
       "  border-radius: 1rem;\n",
       "  height: 1rem;\n",
       "  width: 1rem;\n",
       "  text-decoration: none;\n",
       "  /* unfitted */\n",
       "  color: var(--sklearn-color-unfitted-level-1);\n",
       "  border: var(--sklearn-color-unfitted-level-1) 1pt solid;\n",
       "}\n",
       "\n",
       "#sk-container-id-4 a.estimator_doc_link.fitted {\n",
       "  /* fitted */\n",
       "  border: var(--sklearn-color-fitted-level-1) 1pt solid;\n",
       "  color: var(--sklearn-color-fitted-level-1);\n",
       "}\n",
       "\n",
       "/* On hover */\n",
       "#sk-container-id-4 a.estimator_doc_link:hover {\n",
       "  /* unfitted */\n",
       "  background-color: var(--sklearn-color-unfitted-level-3);\n",
       "  color: var(--sklearn-color-background);\n",
       "  text-decoration: none;\n",
       "}\n",
       "\n",
       "#sk-container-id-4 a.estimator_doc_link.fitted:hover {\n",
       "  /* fitted */\n",
       "  background-color: var(--sklearn-color-fitted-level-3);\n",
       "}\n",
       "</style><div id=\"sk-container-id-4\" class=\"sk-top-container\"><div class=\"sk-text-repr-fallback\"><pre>SGDClassifier(loss=&#x27;log_loss&#x27;)</pre><b>In a Jupyter environment, please rerun this cell to show the HTML representation or trust the notebook. <br />On GitHub, the HTML representation is unable to render, please try loading this page with nbviewer.org.</b></div><div class=\"sk-container\" hidden><div class=\"sk-item\"><div class=\"sk-estimator fitted sk-toggleable\"><input class=\"sk-toggleable__control sk-hidden--visually\" id=\"sk-estimator-id-4\" type=\"checkbox\" checked><label for=\"sk-estimator-id-4\" class=\"sk-toggleable__label fitted sk-toggleable__label-arrow fitted\">&nbsp;&nbsp;SGDClassifier<a class=\"sk-estimator-doc-link fitted\" rel=\"noreferrer\" target=\"_blank\" href=\"https://scikit-learn.org/1.4/modules/generated/sklearn.linear_model.SGDClassifier.html\">?<span>Documentation for SGDClassifier</span></a><span class=\"sk-estimator-doc-link fitted\">i<span>Fitted</span></span></label><div class=\"sk-toggleable__content fitted\"><pre>SGDClassifier(loss=&#x27;log_loss&#x27;)</pre></div> </div></div></div></div>"
      ],
      "text/plain": [
       "SGDClassifier(loss='log_loss')"
      ]
     },
     "execution_count": 87,
     "metadata": {},
     "output_type": "execute_result"
    }
   ],
   "source": [
    "# fit preprocessor and model\n",
    "X_first_proc = preprocessor.fit_transform(X_first)\n",
    "clf.partial_fit(X_first_proc, y_first, classes=classes, sample_weight=y_first.map(weight_dict))"
   ]
  },
  {
   "cell_type": "code",
   "execution_count": 88,
   "id": "ab8dafe9",
   "metadata": {},
   "outputs": [
    {
     "name": "stderr",
     "output_type": "stream",
     "text": [
      "/Users/charlesclark/.pyenv/versions/3.11.6/lib/python3.11/site-packages/sklearn/impute/_base.py:577: UserWarning: Skipping features without any observed values: ['combined_loan_to_value_ratio' 'debt_to_income_ratio']. At least one non-missing value is needed for imputation with strategy='median'.\n",
      "  warnings.warn(\n"
     ]
    },
    {
     "name": "stdout",
     "output_type": "stream",
     "text": [
      "\n",
      "📊 Validation after first chunk:\n",
      "              precision    recall  f1-score   support\n",
      "\n",
      "           0       0.16      0.98      0.28     53889\n",
      "           1       0.88      0.02      0.04    279410\n",
      "\n",
      "    accuracy                           0.18    333299\n",
      "   macro avg       0.52      0.50      0.16    333299\n",
      "weighted avg       0.76      0.18      0.08    333299\n",
      "\n"
     ]
    }
   ],
   "source": [
    "# Validate after first chunk\n",
    "X_val_proc = preprocessor.transform(X_val)\n",
    "val_pred = clf.predict(X_val_proc)\n",
    "print(\"\\n📊 Validation after first chunk:\")\n",
    "print(classification_report(y_val, val_pred))"
   ]
  },
  {
   "cell_type": "code",
   "execution_count": 89,
   "id": "62c472ab",
   "metadata": {},
   "outputs": [
    {
     "name": "stderr",
     "output_type": "stream",
     "text": [
      "/var/folders/88/q8wq3ss94k3bvmkq1j1f_j0w0000gn/T/ipykernel_30017/1596352303.py:5: FutureWarning: Downcasting behavior in `replace` is deprecated and will be removed in a future version. To retain the old behavior, explicitly call `result.infer_objects(copy=False)`. To opt-in to the future behavior, set `pd.set_option('future.no_silent_downcasting', True)`\n",
      "  df[col] = df[col].replace(\n",
      "/Users/charlesclark/.pyenv/versions/3.11.6/lib/python3.11/site-packages/sklearn/impute/_base.py:577: UserWarning: Skipping features without any observed values: ['combined_loan_to_value_ratio' 'debt_to_income_ratio']. At least one non-missing value is needed for imputation with strategy='median'.\n",
      "  warnings.warn(\n"
     ]
    },
    {
     "name": "stdout",
     "output_type": "stream",
     "text": [
      "✅ Trained on 1000000 rows\n"
     ]
    },
    {
     "name": "stderr",
     "output_type": "stream",
     "text": [
      "/var/folders/88/q8wq3ss94k3bvmkq1j1f_j0w0000gn/T/ipykernel_30017/1596352303.py:5: FutureWarning: Downcasting behavior in `replace` is deprecated and will be removed in a future version. To retain the old behavior, explicitly call `result.infer_objects(copy=False)`. To opt-in to the future behavior, set `pd.set_option('future.no_silent_downcasting', True)`\n",
      "  df[col] = df[col].replace(\n",
      "/Users/charlesclark/.pyenv/versions/3.11.6/lib/python3.11/site-packages/sklearn/impute/_base.py:577: UserWarning: Skipping features without any observed values: ['combined_loan_to_value_ratio' 'debt_to_income_ratio']. At least one non-missing value is needed for imputation with strategy='median'.\n",
      "  warnings.warn(\n"
     ]
    },
    {
     "name": "stdout",
     "output_type": "stream",
     "text": [
      "✅ Trained on 1500000 rows\n"
     ]
    },
    {
     "name": "stderr",
     "output_type": "stream",
     "text": [
      "/var/folders/88/q8wq3ss94k3bvmkq1j1f_j0w0000gn/T/ipykernel_30017/1596352303.py:5: FutureWarning: Downcasting behavior in `replace` is deprecated and will be removed in a future version. To retain the old behavior, explicitly call `result.infer_objects(copy=False)`. To opt-in to the future behavior, set `pd.set_option('future.no_silent_downcasting', True)`\n",
      "  df[col] = df[col].replace(\n",
      "/Users/charlesclark/.pyenv/versions/3.11.6/lib/python3.11/site-packages/sklearn/impute/_base.py:577: UserWarning: Skipping features without any observed values: ['combined_loan_to_value_ratio' 'debt_to_income_ratio']. At least one non-missing value is needed for imputation with strategy='median'.\n",
      "  warnings.warn(\n"
     ]
    },
    {
     "name": "stdout",
     "output_type": "stream",
     "text": [
      "✅ Trained on 2000000 rows\n"
     ]
    },
    {
     "name": "stderr",
     "output_type": "stream",
     "text": [
      "/var/folders/88/q8wq3ss94k3bvmkq1j1f_j0w0000gn/T/ipykernel_30017/1596352303.py:5: FutureWarning: Downcasting behavior in `replace` is deprecated and will be removed in a future version. To retain the old behavior, explicitly call `result.infer_objects(copy=False)`. To opt-in to the future behavior, set `pd.set_option('future.no_silent_downcasting', True)`\n",
      "  df[col] = df[col].replace(\n",
      "/Users/charlesclark/.pyenv/versions/3.11.6/lib/python3.11/site-packages/sklearn/impute/_base.py:577: UserWarning: Skipping features without any observed values: ['combined_loan_to_value_ratio' 'debt_to_income_ratio']. At least one non-missing value is needed for imputation with strategy='median'.\n",
      "  warnings.warn(\n"
     ]
    },
    {
     "name": "stdout",
     "output_type": "stream",
     "text": [
      "✅ Trained on 2500000 rows\n",
      "\n",
      "📊 Validation after 2500000 rows:\n",
      "              precision    recall  f1-score   support\n",
      "\n",
      "           0       0.16      0.98      0.28     53889\n",
      "           1       0.87      0.03      0.06    279410\n",
      "\n",
      "    accuracy                           0.18    333299\n",
      "   macro avg       0.52      0.50      0.17    333299\n",
      "weighted avg       0.76      0.18      0.10    333299\n",
      "\n"
     ]
    },
    {
     "name": "stderr",
     "output_type": "stream",
     "text": [
      "/var/folders/88/q8wq3ss94k3bvmkq1j1f_j0w0000gn/T/ipykernel_30017/1596352303.py:5: FutureWarning: Downcasting behavior in `replace` is deprecated and will be removed in a future version. To retain the old behavior, explicitly call `result.infer_objects(copy=False)`. To opt-in to the future behavior, set `pd.set_option('future.no_silent_downcasting', True)`\n",
      "  df[col] = df[col].replace(\n",
      "/Users/charlesclark/.pyenv/versions/3.11.6/lib/python3.11/site-packages/sklearn/impute/_base.py:577: UserWarning: Skipping features without any observed values: ['combined_loan_to_value_ratio' 'debt_to_income_ratio']. At least one non-missing value is needed for imputation with strategy='median'.\n",
      "  warnings.warn(\n"
     ]
    },
    {
     "name": "stdout",
     "output_type": "stream",
     "text": [
      "✅ Trained on 3000000 rows\n"
     ]
    },
    {
     "name": "stderr",
     "output_type": "stream",
     "text": [
      "/var/folders/88/q8wq3ss94k3bvmkq1j1f_j0w0000gn/T/ipykernel_30017/1596352303.py:5: FutureWarning: Downcasting behavior in `replace` is deprecated and will be removed in a future version. To retain the old behavior, explicitly call `result.infer_objects(copy=False)`. To opt-in to the future behavior, set `pd.set_option('future.no_silent_downcasting', True)`\n",
      "  df[col] = df[col].replace(\n",
      "/Users/charlesclark/.pyenv/versions/3.11.6/lib/python3.11/site-packages/sklearn/impute/_base.py:577: UserWarning: Skipping features without any observed values: ['combined_loan_to_value_ratio' 'debt_to_income_ratio']. At least one non-missing value is needed for imputation with strategy='median'.\n",
      "  warnings.warn(\n"
     ]
    },
    {
     "name": "stdout",
     "output_type": "stream",
     "text": [
      "✅ Trained on 3500000 rows\n"
     ]
    },
    {
     "name": "stderr",
     "output_type": "stream",
     "text": [
      "/var/folders/88/q8wq3ss94k3bvmkq1j1f_j0w0000gn/T/ipykernel_30017/1596352303.py:5: FutureWarning: Downcasting behavior in `replace` is deprecated and will be removed in a future version. To retain the old behavior, explicitly call `result.infer_objects(copy=False)`. To opt-in to the future behavior, set `pd.set_option('future.no_silent_downcasting', True)`\n",
      "  df[col] = df[col].replace(\n",
      "/Users/charlesclark/.pyenv/versions/3.11.6/lib/python3.11/site-packages/sklearn/impute/_base.py:577: UserWarning: Skipping features without any observed values: ['combined_loan_to_value_ratio' 'debt_to_income_ratio']. At least one non-missing value is needed for imputation with strategy='median'.\n",
      "  warnings.warn(\n"
     ]
    },
    {
     "name": "stdout",
     "output_type": "stream",
     "text": [
      "✅ Trained on 4000000 rows\n"
     ]
    },
    {
     "name": "stderr",
     "output_type": "stream",
     "text": [
      "/var/folders/88/q8wq3ss94k3bvmkq1j1f_j0w0000gn/T/ipykernel_30017/1596352303.py:5: FutureWarning: Downcasting behavior in `replace` is deprecated and will be removed in a future version. To retain the old behavior, explicitly call `result.infer_objects(copy=False)`. To opt-in to the future behavior, set `pd.set_option('future.no_silent_downcasting', True)`\n",
      "  df[col] = df[col].replace(\n",
      "/Users/charlesclark/.pyenv/versions/3.11.6/lib/python3.11/site-packages/sklearn/impute/_base.py:577: UserWarning: Skipping features without any observed values: ['combined_loan_to_value_ratio' 'debt_to_income_ratio']. At least one non-missing value is needed for imputation with strategy='median'.\n",
      "  warnings.warn(\n"
     ]
    },
    {
     "name": "stdout",
     "output_type": "stream",
     "text": [
      "✅ Trained on 4500000 rows\n"
     ]
    },
    {
     "name": "stderr",
     "output_type": "stream",
     "text": [
      "/var/folders/88/q8wq3ss94k3bvmkq1j1f_j0w0000gn/T/ipykernel_30017/1596352303.py:5: FutureWarning: Downcasting behavior in `replace` is deprecated and will be removed in a future version. To retain the old behavior, explicitly call `result.infer_objects(copy=False)`. To opt-in to the future behavior, set `pd.set_option('future.no_silent_downcasting', True)`\n",
      "  df[col] = df[col].replace(\n",
      "/Users/charlesclark/.pyenv/versions/3.11.6/lib/python3.11/site-packages/sklearn/impute/_base.py:577: UserWarning: Skipping features without any observed values: ['combined_loan_to_value_ratio' 'debt_to_income_ratio']. At least one non-missing value is needed for imputation with strategy='median'.\n",
      "  warnings.warn(\n"
     ]
    },
    {
     "name": "stdout",
     "output_type": "stream",
     "text": [
      "✅ Trained on 5000000 rows\n",
      "\n",
      "📊 Validation after 5000000 rows:\n",
      "              precision    recall  f1-score   support\n",
      "\n",
      "           0       0.18      0.29      0.22     53889\n",
      "           1       0.85      0.75      0.80    279410\n",
      "\n",
      "    accuracy                           0.68    333299\n",
      "   macro avg       0.51      0.52      0.51    333299\n",
      "weighted avg       0.74      0.68      0.70    333299\n",
      "\n"
     ]
    },
    {
     "name": "stderr",
     "output_type": "stream",
     "text": [
      "/var/folders/88/q8wq3ss94k3bvmkq1j1f_j0w0000gn/T/ipykernel_30017/1596352303.py:5: FutureWarning: Downcasting behavior in `replace` is deprecated and will be removed in a future version. To retain the old behavior, explicitly call `result.infer_objects(copy=False)`. To opt-in to the future behavior, set `pd.set_option('future.no_silent_downcasting', True)`\n",
      "  df[col] = df[col].replace(\n",
      "/Users/charlesclark/.pyenv/versions/3.11.6/lib/python3.11/site-packages/sklearn/impute/_base.py:577: UserWarning: Skipping features without any observed values: ['combined_loan_to_value_ratio' 'debt_to_income_ratio']. At least one non-missing value is needed for imputation with strategy='median'.\n",
      "  warnings.warn(\n"
     ]
    },
    {
     "name": "stdout",
     "output_type": "stream",
     "text": [
      "✅ Trained on 5500000 rows\n"
     ]
    },
    {
     "name": "stderr",
     "output_type": "stream",
     "text": [
      "/var/folders/88/q8wq3ss94k3bvmkq1j1f_j0w0000gn/T/ipykernel_30017/1596352303.py:5: FutureWarning: Downcasting behavior in `replace` is deprecated and will be removed in a future version. To retain the old behavior, explicitly call `result.infer_objects(copy=False)`. To opt-in to the future behavior, set `pd.set_option('future.no_silent_downcasting', True)`\n",
      "  df[col] = df[col].replace(\n",
      "/Users/charlesclark/.pyenv/versions/3.11.6/lib/python3.11/site-packages/sklearn/impute/_base.py:577: UserWarning: Skipping features without any observed values: ['combined_loan_to_value_ratio' 'debt_to_income_ratio']. At least one non-missing value is needed for imputation with strategy='median'.\n",
      "  warnings.warn(\n"
     ]
    },
    {
     "name": "stdout",
     "output_type": "stream",
     "text": [
      "✅ Trained on 6000000 rows\n"
     ]
    },
    {
     "name": "stderr",
     "output_type": "stream",
     "text": [
      "/var/folders/88/q8wq3ss94k3bvmkq1j1f_j0w0000gn/T/ipykernel_30017/1596352303.py:5: FutureWarning: Downcasting behavior in `replace` is deprecated and will be removed in a future version. To retain the old behavior, explicitly call `result.infer_objects(copy=False)`. To opt-in to the future behavior, set `pd.set_option('future.no_silent_downcasting', True)`\n",
      "  df[col] = df[col].replace(\n",
      "/Users/charlesclark/.pyenv/versions/3.11.6/lib/python3.11/site-packages/sklearn/impute/_base.py:577: UserWarning: Skipping features without any observed values: ['combined_loan_to_value_ratio' 'debt_to_income_ratio']. At least one non-missing value is needed for imputation with strategy='median'.\n",
      "  warnings.warn(\n"
     ]
    },
    {
     "name": "stdout",
     "output_type": "stream",
     "text": [
      "✅ Trained on 6500000 rows\n"
     ]
    },
    {
     "name": "stderr",
     "output_type": "stream",
     "text": [
      "/var/folders/88/q8wq3ss94k3bvmkq1j1f_j0w0000gn/T/ipykernel_30017/1596352303.py:5: FutureWarning: Downcasting behavior in `replace` is deprecated and will be removed in a future version. To retain the old behavior, explicitly call `result.infer_objects(copy=False)`. To opt-in to the future behavior, set `pd.set_option('future.no_silent_downcasting', True)`\n",
      "  df[col] = df[col].replace(\n",
      "/Users/charlesclark/.pyenv/versions/3.11.6/lib/python3.11/site-packages/sklearn/impute/_base.py:577: UserWarning: Skipping features without any observed values: ['combined_loan_to_value_ratio' 'debt_to_income_ratio']. At least one non-missing value is needed for imputation with strategy='median'.\n",
      "  warnings.warn(\n"
     ]
    },
    {
     "name": "stdout",
     "output_type": "stream",
     "text": [
      "✅ Trained on 7000000 rows\n"
     ]
    },
    {
     "name": "stderr",
     "output_type": "stream",
     "text": [
      "/var/folders/88/q8wq3ss94k3bvmkq1j1f_j0w0000gn/T/ipykernel_30017/1596352303.py:5: FutureWarning: Downcasting behavior in `replace` is deprecated and will be removed in a future version. To retain the old behavior, explicitly call `result.infer_objects(copy=False)`. To opt-in to the future behavior, set `pd.set_option('future.no_silent_downcasting', True)`\n",
      "  df[col] = df[col].replace(\n",
      "/Users/charlesclark/.pyenv/versions/3.11.6/lib/python3.11/site-packages/sklearn/impute/_base.py:577: UserWarning: Skipping features without any observed values: ['combined_loan_to_value_ratio' 'debt_to_income_ratio']. At least one non-missing value is needed for imputation with strategy='median'.\n",
      "  warnings.warn(\n"
     ]
    },
    {
     "name": "stdout",
     "output_type": "stream",
     "text": [
      "✅ Trained on 7500000 rows\n",
      "\n",
      "📊 Validation after 7500000 rows:\n",
      "              precision    recall  f1-score   support\n",
      "\n",
      "           0       0.26      0.26      0.26     53889\n",
      "           1       0.86      0.86      0.86    279410\n",
      "\n",
      "    accuracy                           0.76    333299\n",
      "   macro avg       0.56      0.56      0.56    333299\n",
      "weighted avg       0.76      0.76      0.76    333299\n",
      "\n"
     ]
    },
    {
     "name": "stderr",
     "output_type": "stream",
     "text": [
      "/var/folders/88/q8wq3ss94k3bvmkq1j1f_j0w0000gn/T/ipykernel_30017/1596352303.py:5: FutureWarning: Downcasting behavior in `replace` is deprecated and will be removed in a future version. To retain the old behavior, explicitly call `result.infer_objects(copy=False)`. To opt-in to the future behavior, set `pd.set_option('future.no_silent_downcasting', True)`\n",
      "  df[col] = df[col].replace(\n",
      "/Users/charlesclark/.pyenv/versions/3.11.6/lib/python3.11/site-packages/sklearn/impute/_base.py:577: UserWarning: Skipping features without any observed values: ['combined_loan_to_value_ratio' 'debt_to_income_ratio']. At least one non-missing value is needed for imputation with strategy='median'.\n",
      "  warnings.warn(\n"
     ]
    },
    {
     "name": "stdout",
     "output_type": "stream",
     "text": [
      "✅ Trained on 8000000 rows\n"
     ]
    },
    {
     "name": "stderr",
     "output_type": "stream",
     "text": [
      "/var/folders/88/q8wq3ss94k3bvmkq1j1f_j0w0000gn/T/ipykernel_30017/1596352303.py:5: FutureWarning: Downcasting behavior in `replace` is deprecated and will be removed in a future version. To retain the old behavior, explicitly call `result.infer_objects(copy=False)`. To opt-in to the future behavior, set `pd.set_option('future.no_silent_downcasting', True)`\n",
      "  df[col] = df[col].replace(\n",
      "/Users/charlesclark/.pyenv/versions/3.11.6/lib/python3.11/site-packages/sklearn/impute/_base.py:577: UserWarning: Skipping features without any observed values: ['combined_loan_to_value_ratio' 'debt_to_income_ratio']. At least one non-missing value is needed for imputation with strategy='median'.\n",
      "  warnings.warn(\n"
     ]
    },
    {
     "name": "stdout",
     "output_type": "stream",
     "text": [
      "✅ Trained on 8500000 rows\n"
     ]
    },
    {
     "name": "stderr",
     "output_type": "stream",
     "text": [
      "/var/folders/88/q8wq3ss94k3bvmkq1j1f_j0w0000gn/T/ipykernel_30017/1596352303.py:5: FutureWarning: Downcasting behavior in `replace` is deprecated and will be removed in a future version. To retain the old behavior, explicitly call `result.infer_objects(copy=False)`. To opt-in to the future behavior, set `pd.set_option('future.no_silent_downcasting', True)`\n",
      "  df[col] = df[col].replace(\n",
      "/Users/charlesclark/.pyenv/versions/3.11.6/lib/python3.11/site-packages/sklearn/impute/_base.py:577: UserWarning: Skipping features without any observed values: ['combined_loan_to_value_ratio' 'debt_to_income_ratio']. At least one non-missing value is needed for imputation with strategy='median'.\n",
      "  warnings.warn(\n"
     ]
    },
    {
     "name": "stdout",
     "output_type": "stream",
     "text": [
      "✅ Trained on 9000000 rows\n"
     ]
    },
    {
     "name": "stderr",
     "output_type": "stream",
     "text": [
      "/var/folders/88/q8wq3ss94k3bvmkq1j1f_j0w0000gn/T/ipykernel_30017/1596352303.py:5: FutureWarning: Downcasting behavior in `replace` is deprecated and will be removed in a future version. To retain the old behavior, explicitly call `result.infer_objects(copy=False)`. To opt-in to the future behavior, set `pd.set_option('future.no_silent_downcasting', True)`\n",
      "  df[col] = df[col].replace(\n",
      "/Users/charlesclark/.pyenv/versions/3.11.6/lib/python3.11/site-packages/sklearn/impute/_base.py:577: UserWarning: Skipping features without any observed values: ['combined_loan_to_value_ratio' 'debt_to_income_ratio']. At least one non-missing value is needed for imputation with strategy='median'.\n",
      "  warnings.warn(\n"
     ]
    },
    {
     "name": "stdout",
     "output_type": "stream",
     "text": [
      "✅ Trained on 9500000 rows\n"
     ]
    },
    {
     "name": "stderr",
     "output_type": "stream",
     "text": [
      "/var/folders/88/q8wq3ss94k3bvmkq1j1f_j0w0000gn/T/ipykernel_30017/1596352303.py:5: FutureWarning: Downcasting behavior in `replace` is deprecated and will be removed in a future version. To retain the old behavior, explicitly call `result.infer_objects(copy=False)`. To opt-in to the future behavior, set `pd.set_option('future.no_silent_downcasting', True)`\n",
      "  df[col] = df[col].replace(\n",
      "/Users/charlesclark/.pyenv/versions/3.11.6/lib/python3.11/site-packages/sklearn/impute/_base.py:577: UserWarning: Skipping features without any observed values: ['combined_loan_to_value_ratio' 'debt_to_income_ratio']. At least one non-missing value is needed for imputation with strategy='median'.\n",
      "  warnings.warn(\n"
     ]
    },
    {
     "name": "stdout",
     "output_type": "stream",
     "text": [
      "✅ Trained on 10000000 rows\n",
      "\n",
      "📊 Validation after 10000000 rows:\n",
      "              precision    recall  f1-score   support\n",
      "\n",
      "           0       0.19      0.62      0.29     53889\n",
      "           1       0.87      0.48      0.62    279410\n",
      "\n",
      "    accuracy                           0.50    333299\n",
      "   macro avg       0.53      0.55      0.45    333299\n",
      "weighted avg       0.76      0.50      0.57    333299\n",
      "\n"
     ]
    },
    {
     "name": "stderr",
     "output_type": "stream",
     "text": [
      "/var/folders/88/q8wq3ss94k3bvmkq1j1f_j0w0000gn/T/ipykernel_30017/1596352303.py:5: FutureWarning: Downcasting behavior in `replace` is deprecated and will be removed in a future version. To retain the old behavior, explicitly call `result.infer_objects(copy=False)`. To opt-in to the future behavior, set `pd.set_option('future.no_silent_downcasting', True)`\n",
      "  df[col] = df[col].replace(\n",
      "/Users/charlesclark/.pyenv/versions/3.11.6/lib/python3.11/site-packages/sklearn/impute/_base.py:577: UserWarning: Skipping features without any observed values: ['combined_loan_to_value_ratio' 'debt_to_income_ratio']. At least one non-missing value is needed for imputation with strategy='median'.\n",
      "  warnings.warn(\n"
     ]
    },
    {
     "name": "stdout",
     "output_type": "stream",
     "text": [
      "✅ Trained on 10500000 rows\n"
     ]
    },
    {
     "name": "stderr",
     "output_type": "stream",
     "text": [
      "/var/folders/88/q8wq3ss94k3bvmkq1j1f_j0w0000gn/T/ipykernel_30017/1596352303.py:5: FutureWarning: Downcasting behavior in `replace` is deprecated and will be removed in a future version. To retain the old behavior, explicitly call `result.infer_objects(copy=False)`. To opt-in to the future behavior, set `pd.set_option('future.no_silent_downcasting', True)`\n",
      "  df[col] = df[col].replace(\n",
      "/Users/charlesclark/.pyenv/versions/3.11.6/lib/python3.11/site-packages/sklearn/impute/_base.py:577: UserWarning: Skipping features without any observed values: ['combined_loan_to_value_ratio' 'debt_to_income_ratio']. At least one non-missing value is needed for imputation with strategy='median'.\n",
      "  warnings.warn(\n"
     ]
    },
    {
     "name": "stdout",
     "output_type": "stream",
     "text": [
      "✅ Trained on 11000000 rows\n"
     ]
    },
    {
     "name": "stderr",
     "output_type": "stream",
     "text": [
      "/var/folders/88/q8wq3ss94k3bvmkq1j1f_j0w0000gn/T/ipykernel_30017/1596352303.py:5: FutureWarning: Downcasting behavior in `replace` is deprecated and will be removed in a future version. To retain the old behavior, explicitly call `result.infer_objects(copy=False)`. To opt-in to the future behavior, set `pd.set_option('future.no_silent_downcasting', True)`\n",
      "  df[col] = df[col].replace(\n",
      "/Users/charlesclark/.pyenv/versions/3.11.6/lib/python3.11/site-packages/sklearn/impute/_base.py:577: UserWarning: Skipping features without any observed values: ['combined_loan_to_value_ratio' 'debt_to_income_ratio']. At least one non-missing value is needed for imputation with strategy='median'.\n",
      "  warnings.warn(\n"
     ]
    },
    {
     "name": "stdout",
     "output_type": "stream",
     "text": [
      "✅ Trained on 11500000 rows\n"
     ]
    },
    {
     "name": "stderr",
     "output_type": "stream",
     "text": [
      "/var/folders/88/q8wq3ss94k3bvmkq1j1f_j0w0000gn/T/ipykernel_30017/1596352303.py:5: FutureWarning: Downcasting behavior in `replace` is deprecated and will be removed in a future version. To retain the old behavior, explicitly call `result.infer_objects(copy=False)`. To opt-in to the future behavior, set `pd.set_option('future.no_silent_downcasting', True)`\n",
      "  df[col] = df[col].replace(\n",
      "/Users/charlesclark/.pyenv/versions/3.11.6/lib/python3.11/site-packages/sklearn/impute/_base.py:577: UserWarning: Skipping features without any observed values: ['combined_loan_to_value_ratio' 'debt_to_income_ratio']. At least one non-missing value is needed for imputation with strategy='median'.\n",
      "  warnings.warn(\n"
     ]
    },
    {
     "name": "stdout",
     "output_type": "stream",
     "text": [
      "✅ Trained on 12000000 rows\n"
     ]
    },
    {
     "name": "stderr",
     "output_type": "stream",
     "text": [
      "/var/folders/88/q8wq3ss94k3bvmkq1j1f_j0w0000gn/T/ipykernel_30017/1596352303.py:5: FutureWarning: Downcasting behavior in `replace` is deprecated and will be removed in a future version. To retain the old behavior, explicitly call `result.infer_objects(copy=False)`. To opt-in to the future behavior, set `pd.set_option('future.no_silent_downcasting', True)`\n",
      "  df[col] = df[col].replace(\n",
      "/Users/charlesclark/.pyenv/versions/3.11.6/lib/python3.11/site-packages/sklearn/impute/_base.py:577: UserWarning: Skipping features without any observed values: ['combined_loan_to_value_ratio' 'debt_to_income_ratio']. At least one non-missing value is needed for imputation with strategy='median'.\n",
      "  warnings.warn(\n"
     ]
    },
    {
     "name": "stdout",
     "output_type": "stream",
     "text": [
      "✅ Trained on 12500000 rows\n",
      "\n",
      "📊 Validation after 12500000 rows:\n",
      "              precision    recall  f1-score   support\n",
      "\n",
      "           0       0.22      0.46      0.29     53889\n",
      "           1       0.87      0.68      0.76    279410\n",
      "\n",
      "    accuracy                           0.64    333299\n",
      "   macro avg       0.54      0.57      0.53    333299\n",
      "weighted avg       0.76      0.64      0.69    333299\n",
      "\n"
     ]
    },
    {
     "name": "stderr",
     "output_type": "stream",
     "text": [
      "/var/folders/88/q8wq3ss94k3bvmkq1j1f_j0w0000gn/T/ipykernel_30017/1596352303.py:5: FutureWarning: Downcasting behavior in `replace` is deprecated and will be removed in a future version. To retain the old behavior, explicitly call `result.infer_objects(copy=False)`. To opt-in to the future behavior, set `pd.set_option('future.no_silent_downcasting', True)`\n",
      "  df[col] = df[col].replace(\n",
      "/Users/charlesclark/.pyenv/versions/3.11.6/lib/python3.11/site-packages/sklearn/impute/_base.py:577: UserWarning: Skipping features without any observed values: ['combined_loan_to_value_ratio' 'debt_to_income_ratio']. At least one non-missing value is needed for imputation with strategy='median'.\n",
      "  warnings.warn(\n"
     ]
    },
    {
     "name": "stdout",
     "output_type": "stream",
     "text": [
      "✅ Trained on 13000000 rows\n"
     ]
    },
    {
     "name": "stderr",
     "output_type": "stream",
     "text": [
      "/var/folders/88/q8wq3ss94k3bvmkq1j1f_j0w0000gn/T/ipykernel_30017/1596352303.py:5: FutureWarning: Downcasting behavior in `replace` is deprecated and will be removed in a future version. To retain the old behavior, explicitly call `result.infer_objects(copy=False)`. To opt-in to the future behavior, set `pd.set_option('future.no_silent_downcasting', True)`\n",
      "  df[col] = df[col].replace(\n",
      "/Users/charlesclark/.pyenv/versions/3.11.6/lib/python3.11/site-packages/sklearn/impute/_base.py:577: UserWarning: Skipping features without any observed values: ['combined_loan_to_value_ratio' 'debt_to_income_ratio']. At least one non-missing value is needed for imputation with strategy='median'.\n",
      "  warnings.warn(\n"
     ]
    },
    {
     "name": "stdout",
     "output_type": "stream",
     "text": [
      "✅ Trained on 13500000 rows\n"
     ]
    },
    {
     "name": "stderr",
     "output_type": "stream",
     "text": [
      "/var/folders/88/q8wq3ss94k3bvmkq1j1f_j0w0000gn/T/ipykernel_30017/1596352303.py:5: FutureWarning: Downcasting behavior in `replace` is deprecated and will be removed in a future version. To retain the old behavior, explicitly call `result.infer_objects(copy=False)`. To opt-in to the future behavior, set `pd.set_option('future.no_silent_downcasting', True)`\n",
      "  df[col] = df[col].replace(\n",
      "/Users/charlesclark/.pyenv/versions/3.11.6/lib/python3.11/site-packages/sklearn/impute/_base.py:577: UserWarning: Skipping features without any observed values: ['combined_loan_to_value_ratio' 'debt_to_income_ratio']. At least one non-missing value is needed for imputation with strategy='median'.\n",
      "  warnings.warn(\n"
     ]
    },
    {
     "name": "stdout",
     "output_type": "stream",
     "text": [
      "✅ Trained on 14000000 rows\n"
     ]
    },
    {
     "name": "stderr",
     "output_type": "stream",
     "text": [
      "/var/folders/88/q8wq3ss94k3bvmkq1j1f_j0w0000gn/T/ipykernel_30017/1596352303.py:5: FutureWarning: Downcasting behavior in `replace` is deprecated and will be removed in a future version. To retain the old behavior, explicitly call `result.infer_objects(copy=False)`. To opt-in to the future behavior, set `pd.set_option('future.no_silent_downcasting', True)`\n",
      "  df[col] = df[col].replace(\n",
      "/Users/charlesclark/.pyenv/versions/3.11.6/lib/python3.11/site-packages/sklearn/impute/_base.py:577: UserWarning: Skipping features without any observed values: ['combined_loan_to_value_ratio' 'debt_to_income_ratio']. At least one non-missing value is needed for imputation with strategy='median'.\n",
      "  warnings.warn(\n"
     ]
    },
    {
     "name": "stdout",
     "output_type": "stream",
     "text": [
      "✅ Trained on 14500000 rows\n"
     ]
    },
    {
     "name": "stderr",
     "output_type": "stream",
     "text": [
      "/var/folders/88/q8wq3ss94k3bvmkq1j1f_j0w0000gn/T/ipykernel_30017/1596352303.py:5: FutureWarning: Downcasting behavior in `replace` is deprecated and will be removed in a future version. To retain the old behavior, explicitly call `result.infer_objects(copy=False)`. To opt-in to the future behavior, set `pd.set_option('future.no_silent_downcasting', True)`\n",
      "  df[col] = df[col].replace(\n",
      "/Users/charlesclark/.pyenv/versions/3.11.6/lib/python3.11/site-packages/sklearn/impute/_base.py:577: UserWarning: Skipping features without any observed values: ['combined_loan_to_value_ratio' 'debt_to_income_ratio']. At least one non-missing value is needed for imputation with strategy='median'.\n",
      "  warnings.warn(\n"
     ]
    },
    {
     "name": "stdout",
     "output_type": "stream",
     "text": [
      "✅ Trained on 15000000 rows\n",
      "\n",
      "📊 Validation after 15000000 rows:\n",
      "              precision    recall  f1-score   support\n",
      "\n",
      "           0       0.23      0.47      0.31     53889\n",
      "           1       0.87      0.70      0.78    279410\n",
      "\n",
      "    accuracy                           0.66    333299\n",
      "   macro avg       0.55      0.58      0.54    333299\n",
      "weighted avg       0.77      0.66      0.70    333299\n",
      "\n"
     ]
    },
    {
     "name": "stderr",
     "output_type": "stream",
     "text": [
      "/var/folders/88/q8wq3ss94k3bvmkq1j1f_j0w0000gn/T/ipykernel_30017/1596352303.py:5: FutureWarning: Downcasting behavior in `replace` is deprecated and will be removed in a future version. To retain the old behavior, explicitly call `result.infer_objects(copy=False)`. To opt-in to the future behavior, set `pd.set_option('future.no_silent_downcasting', True)`\n",
      "  df[col] = df[col].replace(\n",
      "/Users/charlesclark/.pyenv/versions/3.11.6/lib/python3.11/site-packages/sklearn/impute/_base.py:577: UserWarning: Skipping features without any observed values: ['combined_loan_to_value_ratio' 'debt_to_income_ratio']. At least one non-missing value is needed for imputation with strategy='median'.\n",
      "  warnings.warn(\n"
     ]
    },
    {
     "name": "stdout",
     "output_type": "stream",
     "text": [
      "✅ Trained on 15500000 rows\n"
     ]
    },
    {
     "name": "stderr",
     "output_type": "stream",
     "text": [
      "/var/folders/88/q8wq3ss94k3bvmkq1j1f_j0w0000gn/T/ipykernel_30017/1596352303.py:5: FutureWarning: Downcasting behavior in `replace` is deprecated and will be removed in a future version. To retain the old behavior, explicitly call `result.infer_objects(copy=False)`. To opt-in to the future behavior, set `pd.set_option('future.no_silent_downcasting', True)`\n",
      "  df[col] = df[col].replace(\n",
      "/Users/charlesclark/.pyenv/versions/3.11.6/lib/python3.11/site-packages/sklearn/impute/_base.py:577: UserWarning: Skipping features without any observed values: ['combined_loan_to_value_ratio' 'debt_to_income_ratio']. At least one non-missing value is needed for imputation with strategy='median'.\n",
      "  warnings.warn(\n"
     ]
    },
    {
     "name": "stdout",
     "output_type": "stream",
     "text": [
      "✅ Trained on 16000000 rows\n"
     ]
    },
    {
     "name": "stderr",
     "output_type": "stream",
     "text": [
      "/var/folders/88/q8wq3ss94k3bvmkq1j1f_j0w0000gn/T/ipykernel_30017/1596352303.py:5: FutureWarning: Downcasting behavior in `replace` is deprecated and will be removed in a future version. To retain the old behavior, explicitly call `result.infer_objects(copy=False)`. To opt-in to the future behavior, set `pd.set_option('future.no_silent_downcasting', True)`\n",
      "  df[col] = df[col].replace(\n",
      "/Users/charlesclark/.pyenv/versions/3.11.6/lib/python3.11/site-packages/sklearn/impute/_base.py:577: UserWarning: Skipping features without any observed values: ['combined_loan_to_value_ratio' 'debt_to_income_ratio']. At least one non-missing value is needed for imputation with strategy='median'.\n",
      "  warnings.warn(\n"
     ]
    },
    {
     "name": "stdout",
     "output_type": "stream",
     "text": [
      "✅ Trained on 16500000 rows\n"
     ]
    },
    {
     "name": "stderr",
     "output_type": "stream",
     "text": [
      "/var/folders/88/q8wq3ss94k3bvmkq1j1f_j0w0000gn/T/ipykernel_30017/1596352303.py:5: FutureWarning: Downcasting behavior in `replace` is deprecated and will be removed in a future version. To retain the old behavior, explicitly call `result.infer_objects(copy=False)`. To opt-in to the future behavior, set `pd.set_option('future.no_silent_downcasting', True)`\n",
      "  df[col] = df[col].replace(\n",
      "/Users/charlesclark/.pyenv/versions/3.11.6/lib/python3.11/site-packages/sklearn/impute/_base.py:577: UserWarning: Skipping features without any observed values: ['combined_loan_to_value_ratio' 'debt_to_income_ratio']. At least one non-missing value is needed for imputation with strategy='median'.\n",
      "  warnings.warn(\n"
     ]
    },
    {
     "name": "stdout",
     "output_type": "stream",
     "text": [
      "✅ Trained on 17000000 rows\n"
     ]
    },
    {
     "name": "stderr",
     "output_type": "stream",
     "text": [
      "/var/folders/88/q8wq3ss94k3bvmkq1j1f_j0w0000gn/T/ipykernel_30017/1596352303.py:5: FutureWarning: Downcasting behavior in `replace` is deprecated and will be removed in a future version. To retain the old behavior, explicitly call `result.infer_objects(copy=False)`. To opt-in to the future behavior, set `pd.set_option('future.no_silent_downcasting', True)`\n",
      "  df[col] = df[col].replace(\n",
      "/Users/charlesclark/.pyenv/versions/3.11.6/lib/python3.11/site-packages/sklearn/impute/_base.py:577: UserWarning: Skipping features without any observed values: ['combined_loan_to_value_ratio' 'debt_to_income_ratio']. At least one non-missing value is needed for imputation with strategy='median'.\n",
      "  warnings.warn(\n"
     ]
    },
    {
     "name": "stdout",
     "output_type": "stream",
     "text": [
      "✅ Trained on 17500000 rows\n",
      "\n",
      "📊 Validation after 17500000 rows:\n",
      "              precision    recall  f1-score   support\n",
      "\n",
      "           0       0.18      0.74      0.28     53889\n",
      "           1       0.87      0.32      0.47    279410\n",
      "\n",
      "    accuracy                           0.39    333299\n",
      "   macro avg       0.52      0.53      0.38    333299\n",
      "weighted avg       0.76      0.39      0.44    333299\n",
      "\n"
     ]
    },
    {
     "name": "stderr",
     "output_type": "stream",
     "text": [
      "/var/folders/88/q8wq3ss94k3bvmkq1j1f_j0w0000gn/T/ipykernel_30017/1596352303.py:5: FutureWarning: Downcasting behavior in `replace` is deprecated and will be removed in a future version. To retain the old behavior, explicitly call `result.infer_objects(copy=False)`. To opt-in to the future behavior, set `pd.set_option('future.no_silent_downcasting', True)`\n",
      "  df[col] = df[col].replace(\n",
      "/Users/charlesclark/.pyenv/versions/3.11.6/lib/python3.11/site-packages/sklearn/impute/_base.py:577: UserWarning: Skipping features without any observed values: ['combined_loan_to_value_ratio' 'debt_to_income_ratio']. At least one non-missing value is needed for imputation with strategy='median'.\n",
      "  warnings.warn(\n"
     ]
    },
    {
     "name": "stdout",
     "output_type": "stream",
     "text": [
      "✅ Trained on 18000000 rows\n"
     ]
    },
    {
     "name": "stderr",
     "output_type": "stream",
     "text": [
      "/var/folders/88/q8wq3ss94k3bvmkq1j1f_j0w0000gn/T/ipykernel_30017/1596352303.py:5: FutureWarning: Downcasting behavior in `replace` is deprecated and will be removed in a future version. To retain the old behavior, explicitly call `result.infer_objects(copy=False)`. To opt-in to the future behavior, set `pd.set_option('future.no_silent_downcasting', True)`\n",
      "  df[col] = df[col].replace(\n",
      "/Users/charlesclark/.pyenv/versions/3.11.6/lib/python3.11/site-packages/sklearn/impute/_base.py:577: UserWarning: Skipping features without any observed values: ['combined_loan_to_value_ratio' 'debt_to_income_ratio']. At least one non-missing value is needed for imputation with strategy='median'.\n",
      "  warnings.warn(\n"
     ]
    },
    {
     "name": "stdout",
     "output_type": "stream",
     "text": [
      "✅ Trained on 18500000 rows\n"
     ]
    },
    {
     "name": "stderr",
     "output_type": "stream",
     "text": [
      "/var/folders/88/q8wq3ss94k3bvmkq1j1f_j0w0000gn/T/ipykernel_30017/1596352303.py:5: FutureWarning: Downcasting behavior in `replace` is deprecated and will be removed in a future version. To retain the old behavior, explicitly call `result.infer_objects(copy=False)`. To opt-in to the future behavior, set `pd.set_option('future.no_silent_downcasting', True)`\n",
      "  df[col] = df[col].replace(\n",
      "/Users/charlesclark/.pyenv/versions/3.11.6/lib/python3.11/site-packages/sklearn/impute/_base.py:577: UserWarning: Skipping features without any observed values: ['combined_loan_to_value_ratio' 'debt_to_income_ratio']. At least one non-missing value is needed for imputation with strategy='median'.\n",
      "  warnings.warn(\n"
     ]
    },
    {
     "name": "stdout",
     "output_type": "stream",
     "text": [
      "✅ Trained on 19000000 rows\n"
     ]
    },
    {
     "name": "stderr",
     "output_type": "stream",
     "text": [
      "/var/folders/88/q8wq3ss94k3bvmkq1j1f_j0w0000gn/T/ipykernel_30017/1596352303.py:5: FutureWarning: Downcasting behavior in `replace` is deprecated and will be removed in a future version. To retain the old behavior, explicitly call `result.infer_objects(copy=False)`. To opt-in to the future behavior, set `pd.set_option('future.no_silent_downcasting', True)`\n",
      "  df[col] = df[col].replace(\n",
      "/Users/charlesclark/.pyenv/versions/3.11.6/lib/python3.11/site-packages/sklearn/impute/_base.py:577: UserWarning: Skipping features without any observed values: ['combined_loan_to_value_ratio' 'debt_to_income_ratio']. At least one non-missing value is needed for imputation with strategy='median'.\n",
      "  warnings.warn(\n"
     ]
    },
    {
     "name": "stdout",
     "output_type": "stream",
     "text": [
      "✅ Trained on 19500000 rows\n"
     ]
    },
    {
     "name": "stderr",
     "output_type": "stream",
     "text": [
      "/var/folders/88/q8wq3ss94k3bvmkq1j1f_j0w0000gn/T/ipykernel_30017/1596352303.py:5: FutureWarning: Downcasting behavior in `replace` is deprecated and will be removed in a future version. To retain the old behavior, explicitly call `result.infer_objects(copy=False)`. To opt-in to the future behavior, set `pd.set_option('future.no_silent_downcasting', True)`\n",
      "  df[col] = df[col].replace(\n",
      "/Users/charlesclark/.pyenv/versions/3.11.6/lib/python3.11/site-packages/sklearn/impute/_base.py:577: UserWarning: Skipping features without any observed values: ['combined_loan_to_value_ratio' 'debt_to_income_ratio']. At least one non-missing value is needed for imputation with strategy='median'.\n",
      "  warnings.warn(\n"
     ]
    },
    {
     "name": "stdout",
     "output_type": "stream",
     "text": [
      "✅ Trained on 20000000 rows\n",
      "\n",
      "📊 Validation after 20000000 rows:\n",
      "              precision    recall  f1-score   support\n",
      "\n",
      "           0       0.43      0.14      0.21     53889\n",
      "           1       0.85      0.96      0.91    279410\n",
      "\n",
      "    accuracy                           0.83    333299\n",
      "   macro avg       0.64      0.55      0.56    333299\n",
      "weighted avg       0.78      0.83      0.79    333299\n",
      "\n"
     ]
    },
    {
     "name": "stderr",
     "output_type": "stream",
     "text": [
      "/var/folders/88/q8wq3ss94k3bvmkq1j1f_j0w0000gn/T/ipykernel_30017/1596352303.py:5: FutureWarning: Downcasting behavior in `replace` is deprecated and will be removed in a future version. To retain the old behavior, explicitly call `result.infer_objects(copy=False)`. To opt-in to the future behavior, set `pd.set_option('future.no_silent_downcasting', True)`\n",
      "  df[col] = df[col].replace(\n",
      "/Users/charlesclark/.pyenv/versions/3.11.6/lib/python3.11/site-packages/sklearn/impute/_base.py:577: UserWarning: Skipping features without any observed values: ['combined_loan_to_value_ratio' 'debt_to_income_ratio']. At least one non-missing value is needed for imputation with strategy='median'.\n",
      "  warnings.warn(\n"
     ]
    },
    {
     "name": "stdout",
     "output_type": "stream",
     "text": [
      "✅ Trained on 20500000 rows\n"
     ]
    },
    {
     "name": "stderr",
     "output_type": "stream",
     "text": [
      "/var/folders/88/q8wq3ss94k3bvmkq1j1f_j0w0000gn/T/ipykernel_30017/1596352303.py:5: FutureWarning: Downcasting behavior in `replace` is deprecated and will be removed in a future version. To retain the old behavior, explicitly call `result.infer_objects(copy=False)`. To opt-in to the future behavior, set `pd.set_option('future.no_silent_downcasting', True)`\n",
      "  df[col] = df[col].replace(\n",
      "/Users/charlesclark/.pyenv/versions/3.11.6/lib/python3.11/site-packages/sklearn/impute/_base.py:577: UserWarning: Skipping features without any observed values: ['combined_loan_to_value_ratio' 'debt_to_income_ratio']. At least one non-missing value is needed for imputation with strategy='median'.\n",
      "  warnings.warn(\n"
     ]
    },
    {
     "name": "stdout",
     "output_type": "stream",
     "text": [
      "✅ Trained on 21000000 rows\n"
     ]
    },
    {
     "name": "stderr",
     "output_type": "stream",
     "text": [
      "/var/folders/88/q8wq3ss94k3bvmkq1j1f_j0w0000gn/T/ipykernel_30017/1596352303.py:5: FutureWarning: Downcasting behavior in `replace` is deprecated and will be removed in a future version. To retain the old behavior, explicitly call `result.infer_objects(copy=False)`. To opt-in to the future behavior, set `pd.set_option('future.no_silent_downcasting', True)`\n",
      "  df[col] = df[col].replace(\n",
      "/Users/charlesclark/.pyenv/versions/3.11.6/lib/python3.11/site-packages/sklearn/impute/_base.py:577: UserWarning: Skipping features without any observed values: ['combined_loan_to_value_ratio' 'debt_to_income_ratio']. At least one non-missing value is needed for imputation with strategy='median'.\n",
      "  warnings.warn(\n"
     ]
    },
    {
     "name": "stdout",
     "output_type": "stream",
     "text": [
      "✅ Trained on 21500000 rows\n"
     ]
    },
    {
     "name": "stderr",
     "output_type": "stream",
     "text": [
      "/var/folders/88/q8wq3ss94k3bvmkq1j1f_j0w0000gn/T/ipykernel_30017/1596352303.py:5: FutureWarning: Downcasting behavior in `replace` is deprecated and will be removed in a future version. To retain the old behavior, explicitly call `result.infer_objects(copy=False)`. To opt-in to the future behavior, set `pd.set_option('future.no_silent_downcasting', True)`\n",
      "  df[col] = df[col].replace(\n",
      "/Users/charlesclark/.pyenv/versions/3.11.6/lib/python3.11/site-packages/sklearn/impute/_base.py:577: UserWarning: Skipping features without any observed values: ['combined_loan_to_value_ratio' 'debt_to_income_ratio']. At least one non-missing value is needed for imputation with strategy='median'.\n",
      "  warnings.warn(\n"
     ]
    },
    {
     "name": "stdout",
     "output_type": "stream",
     "text": [
      "✅ Trained on 22000000 rows\n"
     ]
    },
    {
     "name": "stderr",
     "output_type": "stream",
     "text": [
      "/var/folders/88/q8wq3ss94k3bvmkq1j1f_j0w0000gn/T/ipykernel_30017/1596352303.py:5: FutureWarning: Downcasting behavior in `replace` is deprecated and will be removed in a future version. To retain the old behavior, explicitly call `result.infer_objects(copy=False)`. To opt-in to the future behavior, set `pd.set_option('future.no_silent_downcasting', True)`\n",
      "  df[col] = df[col].replace(\n",
      "/Users/charlesclark/.pyenv/versions/3.11.6/lib/python3.11/site-packages/sklearn/impute/_base.py:577: UserWarning: Skipping features without any observed values: ['combined_loan_to_value_ratio' 'debt_to_income_ratio']. At least one non-missing value is needed for imputation with strategy='median'.\n",
      "  warnings.warn(\n"
     ]
    },
    {
     "name": "stdout",
     "output_type": "stream",
     "text": [
      "✅ Trained on 22500000 rows\n",
      "\n",
      "📊 Validation after 22500000 rows:\n",
      "              precision    recall  f1-score   support\n",
      "\n",
      "           0       0.18      0.72      0.29     53889\n",
      "           1       0.88      0.38      0.53    279410\n",
      "\n",
      "    accuracy                           0.43    333299\n",
      "   macro avg       0.53      0.55      0.41    333299\n",
      "weighted avg       0.76      0.43      0.49    333299\n",
      "\n"
     ]
    },
    {
     "name": "stderr",
     "output_type": "stream",
     "text": [
      "/var/folders/88/q8wq3ss94k3bvmkq1j1f_j0w0000gn/T/ipykernel_30017/1596352303.py:5: FutureWarning: Downcasting behavior in `replace` is deprecated and will be removed in a future version. To retain the old behavior, explicitly call `result.infer_objects(copy=False)`. To opt-in to the future behavior, set `pd.set_option('future.no_silent_downcasting', True)`\n",
      "  df[col] = df[col].replace(\n",
      "/Users/charlesclark/.pyenv/versions/3.11.6/lib/python3.11/site-packages/sklearn/impute/_base.py:577: UserWarning: Skipping features without any observed values: ['combined_loan_to_value_ratio' 'debt_to_income_ratio']. At least one non-missing value is needed for imputation with strategy='median'.\n",
      "  warnings.warn(\n"
     ]
    },
    {
     "name": "stdout",
     "output_type": "stream",
     "text": [
      "✅ Trained on 23000000 rows\n"
     ]
    },
    {
     "name": "stderr",
     "output_type": "stream",
     "text": [
      "/var/folders/88/q8wq3ss94k3bvmkq1j1f_j0w0000gn/T/ipykernel_30017/1596352303.py:5: FutureWarning: Downcasting behavior in `replace` is deprecated and will be removed in a future version. To retain the old behavior, explicitly call `result.infer_objects(copy=False)`. To opt-in to the future behavior, set `pd.set_option('future.no_silent_downcasting', True)`\n",
      "  df[col] = df[col].replace(\n",
      "/Users/charlesclark/.pyenv/versions/3.11.6/lib/python3.11/site-packages/sklearn/impute/_base.py:577: UserWarning: Skipping features without any observed values: ['combined_loan_to_value_ratio' 'debt_to_income_ratio']. At least one non-missing value is needed for imputation with strategy='median'.\n",
      "  warnings.warn(\n"
     ]
    },
    {
     "name": "stdout",
     "output_type": "stream",
     "text": [
      "✅ Trained on 23500000 rows\n"
     ]
    },
    {
     "name": "stderr",
     "output_type": "stream",
     "text": [
      "/var/folders/88/q8wq3ss94k3bvmkq1j1f_j0w0000gn/T/ipykernel_30017/1596352303.py:5: FutureWarning: Downcasting behavior in `replace` is deprecated and will be removed in a future version. To retain the old behavior, explicitly call `result.infer_objects(copy=False)`. To opt-in to the future behavior, set `pd.set_option('future.no_silent_downcasting', True)`\n",
      "  df[col] = df[col].replace(\n",
      "/Users/charlesclark/.pyenv/versions/3.11.6/lib/python3.11/site-packages/sklearn/impute/_base.py:577: UserWarning: Skipping features without any observed values: ['combined_loan_to_value_ratio' 'debt_to_income_ratio']. At least one non-missing value is needed for imputation with strategy='median'.\n",
      "  warnings.warn(\n"
     ]
    },
    {
     "name": "stdout",
     "output_type": "stream",
     "text": [
      "✅ Trained on 24000000 rows\n"
     ]
    },
    {
     "name": "stderr",
     "output_type": "stream",
     "text": [
      "/var/folders/88/q8wq3ss94k3bvmkq1j1f_j0w0000gn/T/ipykernel_30017/1596352303.py:5: FutureWarning: Downcasting behavior in `replace` is deprecated and will be removed in a future version. To retain the old behavior, explicitly call `result.infer_objects(copy=False)`. To opt-in to the future behavior, set `pd.set_option('future.no_silent_downcasting', True)`\n",
      "  df[col] = df[col].replace(\n",
      "/Users/charlesclark/.pyenv/versions/3.11.6/lib/python3.11/site-packages/sklearn/impute/_base.py:577: UserWarning: Skipping features without any observed values: ['combined_loan_to_value_ratio' 'debt_to_income_ratio']. At least one non-missing value is needed for imputation with strategy='median'.\n",
      "  warnings.warn(\n"
     ]
    },
    {
     "name": "stdout",
     "output_type": "stream",
     "text": [
      "✅ Trained on 24500000 rows\n"
     ]
    },
    {
     "name": "stderr",
     "output_type": "stream",
     "text": [
      "/var/folders/88/q8wq3ss94k3bvmkq1j1f_j0w0000gn/T/ipykernel_30017/1596352303.py:5: FutureWarning: Downcasting behavior in `replace` is deprecated and will be removed in a future version. To retain the old behavior, explicitly call `result.infer_objects(copy=False)`. To opt-in to the future behavior, set `pd.set_option('future.no_silent_downcasting', True)`\n",
      "  df[col] = df[col].replace(\n",
      "/Users/charlesclark/.pyenv/versions/3.11.6/lib/python3.11/site-packages/sklearn/impute/_base.py:577: UserWarning: Skipping features without any observed values: ['combined_loan_to_value_ratio' 'debt_to_income_ratio']. At least one non-missing value is needed for imputation with strategy='median'.\n",
      "  warnings.warn(\n"
     ]
    },
    {
     "name": "stdout",
     "output_type": "stream",
     "text": [
      "✅ Trained on 25000000 rows\n",
      "\n",
      "📊 Validation after 25000000 rows:\n",
      "              precision    recall  f1-score   support\n",
      "\n",
      "           0       0.20      0.50      0.28     53889\n",
      "           1       0.86      0.61      0.71    279410\n",
      "\n",
      "    accuracy                           0.59    333299\n",
      "   macro avg       0.53      0.56      0.50    333299\n",
      "weighted avg       0.76      0.59      0.65    333299\n",
      "\n"
     ]
    },
    {
     "name": "stderr",
     "output_type": "stream",
     "text": [
      "/var/folders/88/q8wq3ss94k3bvmkq1j1f_j0w0000gn/T/ipykernel_30017/1596352303.py:5: FutureWarning: Downcasting behavior in `replace` is deprecated and will be removed in a future version. To retain the old behavior, explicitly call `result.infer_objects(copy=False)`. To opt-in to the future behavior, set `pd.set_option('future.no_silent_downcasting', True)`\n",
      "  df[col] = df[col].replace(\n",
      "/Users/charlesclark/.pyenv/versions/3.11.6/lib/python3.11/site-packages/sklearn/impute/_base.py:577: UserWarning: Skipping features without any observed values: ['combined_loan_to_value_ratio' 'debt_to_income_ratio']. At least one non-missing value is needed for imputation with strategy='median'.\n",
      "  warnings.warn(\n"
     ]
    },
    {
     "name": "stdout",
     "output_type": "stream",
     "text": [
      "✅ Trained on 25500000 rows\n"
     ]
    },
    {
     "name": "stderr",
     "output_type": "stream",
     "text": [
      "/var/folders/88/q8wq3ss94k3bvmkq1j1f_j0w0000gn/T/ipykernel_30017/1596352303.py:5: FutureWarning: Downcasting behavior in `replace` is deprecated and will be removed in a future version. To retain the old behavior, explicitly call `result.infer_objects(copy=False)`. To opt-in to the future behavior, set `pd.set_option('future.no_silent_downcasting', True)`\n",
      "  df[col] = df[col].replace(\n",
      "/Users/charlesclark/.pyenv/versions/3.11.6/lib/python3.11/site-packages/sklearn/impute/_base.py:577: UserWarning: Skipping features without any observed values: ['combined_loan_to_value_ratio' 'debt_to_income_ratio']. At least one non-missing value is needed for imputation with strategy='median'.\n",
      "  warnings.warn(\n"
     ]
    },
    {
     "name": "stdout",
     "output_type": "stream",
     "text": [
      "✅ Trained on 26000000 rows\n"
     ]
    },
    {
     "name": "stderr",
     "output_type": "stream",
     "text": [
      "/var/folders/88/q8wq3ss94k3bvmkq1j1f_j0w0000gn/T/ipykernel_30017/1596352303.py:5: FutureWarning: Downcasting behavior in `replace` is deprecated and will be removed in a future version. To retain the old behavior, explicitly call `result.infer_objects(copy=False)`. To opt-in to the future behavior, set `pd.set_option('future.no_silent_downcasting', True)`\n",
      "  df[col] = df[col].replace(\n",
      "/Users/charlesclark/.pyenv/versions/3.11.6/lib/python3.11/site-packages/sklearn/impute/_base.py:577: UserWarning: Skipping features without any observed values: ['combined_loan_to_value_ratio' 'debt_to_income_ratio']. At least one non-missing value is needed for imputation with strategy='median'.\n",
      "  warnings.warn(\n"
     ]
    },
    {
     "name": "stdout",
     "output_type": "stream",
     "text": [
      "✅ Trained on 26500000 rows\n"
     ]
    },
    {
     "name": "stderr",
     "output_type": "stream",
     "text": [
      "/var/folders/88/q8wq3ss94k3bvmkq1j1f_j0w0000gn/T/ipykernel_30017/1596352303.py:5: FutureWarning: Downcasting behavior in `replace` is deprecated and will be removed in a future version. To retain the old behavior, explicitly call `result.infer_objects(copy=False)`. To opt-in to the future behavior, set `pd.set_option('future.no_silent_downcasting', True)`\n",
      "  df[col] = df[col].replace(\n",
      "/Users/charlesclark/.pyenv/versions/3.11.6/lib/python3.11/site-packages/sklearn/impute/_base.py:577: UserWarning: Skipping features without any observed values: ['combined_loan_to_value_ratio' 'debt_to_income_ratio']. At least one non-missing value is needed for imputation with strategy='median'.\n",
      "  warnings.warn(\n"
     ]
    },
    {
     "name": "stdout",
     "output_type": "stream",
     "text": [
      "✅ Trained on 27000000 rows\n"
     ]
    },
    {
     "name": "stderr",
     "output_type": "stream",
     "text": [
      "/var/folders/88/q8wq3ss94k3bvmkq1j1f_j0w0000gn/T/ipykernel_30017/1596352303.py:5: FutureWarning: Downcasting behavior in `replace` is deprecated and will be removed in a future version. To retain the old behavior, explicitly call `result.infer_objects(copy=False)`. To opt-in to the future behavior, set `pd.set_option('future.no_silent_downcasting', True)`\n",
      "  df[col] = df[col].replace(\n",
      "/Users/charlesclark/.pyenv/versions/3.11.6/lib/python3.11/site-packages/sklearn/impute/_base.py:577: UserWarning: Skipping features without any observed values: ['combined_loan_to_value_ratio' 'debt_to_income_ratio']. At least one non-missing value is needed for imputation with strategy='median'.\n",
      "  warnings.warn(\n"
     ]
    },
    {
     "name": "stdout",
     "output_type": "stream",
     "text": [
      "✅ Trained on 27500000 rows\n",
      "\n",
      "📊 Validation after 27500000 rows:\n",
      "              precision    recall  f1-score   support\n",
      "\n",
      "           0       0.20      0.65      0.31     53889\n",
      "           1       0.88      0.50      0.63    279410\n",
      "\n",
      "    accuracy                           0.52    333299\n",
      "   macro avg       0.54      0.57      0.47    333299\n",
      "weighted avg       0.77      0.52      0.58    333299\n",
      "\n"
     ]
    },
    {
     "name": "stderr",
     "output_type": "stream",
     "text": [
      "/var/folders/88/q8wq3ss94k3bvmkq1j1f_j0w0000gn/T/ipykernel_30017/1596352303.py:5: FutureWarning: Downcasting behavior in `replace` is deprecated and will be removed in a future version. To retain the old behavior, explicitly call `result.infer_objects(copy=False)`. To opt-in to the future behavior, set `pd.set_option('future.no_silent_downcasting', True)`\n",
      "  df[col] = df[col].replace(\n",
      "/Users/charlesclark/.pyenv/versions/3.11.6/lib/python3.11/site-packages/sklearn/impute/_base.py:577: UserWarning: Skipping features without any observed values: ['combined_loan_to_value_ratio' 'debt_to_income_ratio']. At least one non-missing value is needed for imputation with strategy='median'.\n",
      "  warnings.warn(\n"
     ]
    },
    {
     "name": "stdout",
     "output_type": "stream",
     "text": [
      "✅ Trained on 28000000 rows\n"
     ]
    },
    {
     "name": "stderr",
     "output_type": "stream",
     "text": [
      "/var/folders/88/q8wq3ss94k3bvmkq1j1f_j0w0000gn/T/ipykernel_30017/1596352303.py:5: FutureWarning: Downcasting behavior in `replace` is deprecated and will be removed in a future version. To retain the old behavior, explicitly call `result.infer_objects(copy=False)`. To opt-in to the future behavior, set `pd.set_option('future.no_silent_downcasting', True)`\n",
      "  df[col] = df[col].replace(\n",
      "/Users/charlesclark/.pyenv/versions/3.11.6/lib/python3.11/site-packages/sklearn/impute/_base.py:577: UserWarning: Skipping features without any observed values: ['combined_loan_to_value_ratio' 'debt_to_income_ratio']. At least one non-missing value is needed for imputation with strategy='median'.\n",
      "  warnings.warn(\n"
     ]
    },
    {
     "name": "stdout",
     "output_type": "stream",
     "text": [
      "✅ Trained on 28500000 rows\n"
     ]
    },
    {
     "name": "stderr",
     "output_type": "stream",
     "text": [
      "/var/folders/88/q8wq3ss94k3bvmkq1j1f_j0w0000gn/T/ipykernel_30017/1596352303.py:5: FutureWarning: Downcasting behavior in `replace` is deprecated and will be removed in a future version. To retain the old behavior, explicitly call `result.infer_objects(copy=False)`. To opt-in to the future behavior, set `pd.set_option('future.no_silent_downcasting', True)`\n",
      "  df[col] = df[col].replace(\n",
      "/Users/charlesclark/.pyenv/versions/3.11.6/lib/python3.11/site-packages/sklearn/impute/_base.py:577: UserWarning: Skipping features without any observed values: ['combined_loan_to_value_ratio' 'debt_to_income_ratio']. At least one non-missing value is needed for imputation with strategy='median'.\n",
      "  warnings.warn(\n"
     ]
    },
    {
     "name": "stdout",
     "output_type": "stream",
     "text": [
      "✅ Trained on 29000000 rows\n"
     ]
    },
    {
     "name": "stderr",
     "output_type": "stream",
     "text": [
      "/var/folders/88/q8wq3ss94k3bvmkq1j1f_j0w0000gn/T/ipykernel_30017/1596352303.py:5: FutureWarning: Downcasting behavior in `replace` is deprecated and will be removed in a future version. To retain the old behavior, explicitly call `result.infer_objects(copy=False)`. To opt-in to the future behavior, set `pd.set_option('future.no_silent_downcasting', True)`\n",
      "  df[col] = df[col].replace(\n",
      "/Users/charlesclark/.pyenv/versions/3.11.6/lib/python3.11/site-packages/sklearn/impute/_base.py:577: UserWarning: Skipping features without any observed values: ['combined_loan_to_value_ratio' 'debt_to_income_ratio']. At least one non-missing value is needed for imputation with strategy='median'.\n",
      "  warnings.warn(\n"
     ]
    },
    {
     "name": "stdout",
     "output_type": "stream",
     "text": [
      "✅ Trained on 29500000 rows\n"
     ]
    },
    {
     "name": "stderr",
     "output_type": "stream",
     "text": [
      "/var/folders/88/q8wq3ss94k3bvmkq1j1f_j0w0000gn/T/ipykernel_30017/1596352303.py:5: FutureWarning: Downcasting behavior in `replace` is deprecated and will be removed in a future version. To retain the old behavior, explicitly call `result.infer_objects(copy=False)`. To opt-in to the future behavior, set `pd.set_option('future.no_silent_downcasting', True)`\n",
      "  df[col] = df[col].replace(\n",
      "/Users/charlesclark/.pyenv/versions/3.11.6/lib/python3.11/site-packages/sklearn/impute/_base.py:577: UserWarning: Skipping features without any observed values: ['combined_loan_to_value_ratio' 'debt_to_income_ratio']. At least one non-missing value is needed for imputation with strategy='median'.\n",
      "  warnings.warn(\n"
     ]
    },
    {
     "name": "stdout",
     "output_type": "stream",
     "text": [
      "✅ Trained on 30000000 rows\n",
      "\n",
      "📊 Validation after 30000000 rows:\n",
      "              precision    recall  f1-score   support\n",
      "\n",
      "           0       0.17      0.89      0.28     53889\n",
      "           1       0.87      0.15      0.25    279410\n",
      "\n",
      "    accuracy                           0.27    333299\n",
      "   macro avg       0.52      0.52      0.27    333299\n",
      "weighted avg       0.76      0.27      0.26    333299\n",
      "\n"
     ]
    },
    {
     "name": "stderr",
     "output_type": "stream",
     "text": [
      "/var/folders/88/q8wq3ss94k3bvmkq1j1f_j0w0000gn/T/ipykernel_30017/1596352303.py:5: FutureWarning: Downcasting behavior in `replace` is deprecated and will be removed in a future version. To retain the old behavior, explicitly call `result.infer_objects(copy=False)`. To opt-in to the future behavior, set `pd.set_option('future.no_silent_downcasting', True)`\n",
      "  df[col] = df[col].replace(\n",
      "/Users/charlesclark/.pyenv/versions/3.11.6/lib/python3.11/site-packages/sklearn/impute/_base.py:577: UserWarning: Skipping features without any observed values: ['combined_loan_to_value_ratio' 'debt_to_income_ratio']. At least one non-missing value is needed for imputation with strategy='median'.\n",
      "  warnings.warn(\n"
     ]
    },
    {
     "name": "stdout",
     "output_type": "stream",
     "text": [
      "✅ Trained on 30500000 rows\n"
     ]
    },
    {
     "name": "stderr",
     "output_type": "stream",
     "text": [
      "/var/folders/88/q8wq3ss94k3bvmkq1j1f_j0w0000gn/T/ipykernel_30017/1596352303.py:5: FutureWarning: Downcasting behavior in `replace` is deprecated and will be removed in a future version. To retain the old behavior, explicitly call `result.infer_objects(copy=False)`. To opt-in to the future behavior, set `pd.set_option('future.no_silent_downcasting', True)`\n",
      "  df[col] = df[col].replace(\n",
      "/Users/charlesclark/.pyenv/versions/3.11.6/lib/python3.11/site-packages/sklearn/impute/_base.py:577: UserWarning: Skipping features without any observed values: ['combined_loan_to_value_ratio' 'debt_to_income_ratio']. At least one non-missing value is needed for imputation with strategy='median'.\n",
      "  warnings.warn(\n"
     ]
    },
    {
     "name": "stdout",
     "output_type": "stream",
     "text": [
      "✅ Trained on 31000000 rows\n"
     ]
    },
    {
     "name": "stderr",
     "output_type": "stream",
     "text": [
      "/var/folders/88/q8wq3ss94k3bvmkq1j1f_j0w0000gn/T/ipykernel_30017/1596352303.py:5: FutureWarning: Downcasting behavior in `replace` is deprecated and will be removed in a future version. To retain the old behavior, explicitly call `result.infer_objects(copy=False)`. To opt-in to the future behavior, set `pd.set_option('future.no_silent_downcasting', True)`\n",
      "  df[col] = df[col].replace(\n",
      "/Users/charlesclark/.pyenv/versions/3.11.6/lib/python3.11/site-packages/sklearn/impute/_base.py:577: UserWarning: Skipping features without any observed values: ['combined_loan_to_value_ratio' 'debt_to_income_ratio']. At least one non-missing value is needed for imputation with strategy='median'.\n",
      "  warnings.warn(\n"
     ]
    },
    {
     "name": "stdout",
     "output_type": "stream",
     "text": [
      "✅ Trained on 31500000 rows\n"
     ]
    },
    {
     "name": "stderr",
     "output_type": "stream",
     "text": [
      "/var/folders/88/q8wq3ss94k3bvmkq1j1f_j0w0000gn/T/ipykernel_30017/1596352303.py:5: FutureWarning: Downcasting behavior in `replace` is deprecated and will be removed in a future version. To retain the old behavior, explicitly call `result.infer_objects(copy=False)`. To opt-in to the future behavior, set `pd.set_option('future.no_silent_downcasting', True)`\n",
      "  df[col] = df[col].replace(\n",
      "/Users/charlesclark/.pyenv/versions/3.11.6/lib/python3.11/site-packages/sklearn/impute/_base.py:577: UserWarning: Skipping features without any observed values: ['combined_loan_to_value_ratio' 'debt_to_income_ratio']. At least one non-missing value is needed for imputation with strategy='median'.\n",
      "  warnings.warn(\n"
     ]
    },
    {
     "name": "stdout",
     "output_type": "stream",
     "text": [
      "✅ Trained on 32000000 rows\n"
     ]
    },
    {
     "name": "stderr",
     "output_type": "stream",
     "text": [
      "/var/folders/88/q8wq3ss94k3bvmkq1j1f_j0w0000gn/T/ipykernel_30017/1596352303.py:5: FutureWarning: Downcasting behavior in `replace` is deprecated and will be removed in a future version. To retain the old behavior, explicitly call `result.infer_objects(copy=False)`. To opt-in to the future behavior, set `pd.set_option('future.no_silent_downcasting', True)`\n",
      "  df[col] = df[col].replace(\n",
      "/Users/charlesclark/.pyenv/versions/3.11.6/lib/python3.11/site-packages/sklearn/impute/_base.py:577: UserWarning: Skipping features without any observed values: ['combined_loan_to_value_ratio' 'debt_to_income_ratio']. At least one non-missing value is needed for imputation with strategy='median'.\n",
      "  warnings.warn(\n"
     ]
    },
    {
     "name": "stdout",
     "output_type": "stream",
     "text": [
      "✅ Trained on 32500000 rows\n",
      "\n",
      "📊 Validation after 32500000 rows:\n",
      "              precision    recall  f1-score   support\n",
      "\n",
      "           0       0.16      0.53      0.25     53889\n",
      "           1       0.84      0.48      0.61    279410\n",
      "\n",
      "    accuracy                           0.49    333299\n",
      "   macro avg       0.50      0.50      0.43    333299\n",
      "weighted avg       0.73      0.49      0.55    333299\n",
      "\n"
     ]
    },
    {
     "name": "stderr",
     "output_type": "stream",
     "text": [
      "/var/folders/88/q8wq3ss94k3bvmkq1j1f_j0w0000gn/T/ipykernel_30017/1596352303.py:5: FutureWarning: Downcasting behavior in `replace` is deprecated and will be removed in a future version. To retain the old behavior, explicitly call `result.infer_objects(copy=False)`. To opt-in to the future behavior, set `pd.set_option('future.no_silent_downcasting', True)`\n",
      "  df[col] = df[col].replace(\n",
      "/Users/charlesclark/.pyenv/versions/3.11.6/lib/python3.11/site-packages/sklearn/impute/_base.py:577: UserWarning: Skipping features without any observed values: ['combined_loan_to_value_ratio' 'debt_to_income_ratio']. At least one non-missing value is needed for imputation with strategy='median'.\n",
      "  warnings.warn(\n"
     ]
    },
    {
     "name": "stdout",
     "output_type": "stream",
     "text": [
      "✅ Trained on 33000000 rows\n"
     ]
    }
   ],
   "source": [
    "# Train on remaining chunks\n",
    "offset = chunksize\n",
    "while True: \n",
    "    query = f\"\"\"\n",
    "    select {', '.join(categorical_features + numerical_features + [target_column])}\n",
    "    from hmda_target\n",
    "    where split < 0.98\n",
    "    limit {chunksize} offset {offset}\n",
    "    \"\"\"\n",
    "    chunk = con.execute(query).fetchdf()\n",
    "    if chunk.empty: \n",
    "        break \n",
    "    \n",
    "    chunk = preprocess_chunk(chunk)\n",
    "    chunk[\"target\"] = (chunk[target_column] == positive_class_label).astype(int)\n",
    "    X_chunk = chunk[categorical_features + numerical_features]\n",
    "    y_chunk = chunk[\"target\"]\n",
    "\n",
    "    X_chunk_proc = preprocessor.transform(X_chunk)\n",
    "    sample_weight = y_chunk.map(weight_dict)\n",
    "    clf.partial_fit(X_chunk_proc, y_chunk, sample_weight=sample_weight)\n",
    "\n",
    "    offset += chunksize\n",
    "    print(f\"✅ Trained on {offset} rows\")\n",
    "    \n",
    "    # Validate periodically\n",
    "    if offset % (5 * chunksize) == 0:\n",
    "        val_pred = clf.predict(X_val_proc)\n",
    "        print(f\"\\n📊 Validation after {offset} rows:\")\n",
    "        print(classification_report(y_val, val_pred))"
   ]
  },
  {
   "cell_type": "code",
   "execution_count": 91,
   "id": "a8dc0938",
   "metadata": {},
   "outputs": [],
   "source": [
    "# Final evaluation\n",
    "test_df = con.execute(f\"\"\"\n",
    "    SELECT {', '.join(categorical_features + numerical_features + [target_column])}\n",
    "    FROM hmda_target\n",
    "    WHERE split >= 0.99\n",
    "\"\"\").fetchdf()"
   ]
  },
  {
   "cell_type": "code",
   "execution_count": 92,
   "id": "92adcf89",
   "metadata": {},
   "outputs": [
    {
     "name": "stderr",
     "output_type": "stream",
     "text": [
      "/var/folders/88/q8wq3ss94k3bvmkq1j1f_j0w0000gn/T/ipykernel_30017/1596352303.py:5: FutureWarning: Downcasting behavior in `replace` is deprecated and will be removed in a future version. To retain the old behavior, explicitly call `result.infer_objects(copy=False)`. To opt-in to the future behavior, set `pd.set_option('future.no_silent_downcasting', True)`\n",
      "  df[col] = df[col].replace(\n",
      "/Users/charlesclark/.pyenv/versions/3.11.6/lib/python3.11/site-packages/sklearn/impute/_base.py:577: UserWarning: Skipping features without any observed values: ['combined_loan_to_value_ratio' 'debt_to_income_ratio']. At least one non-missing value is needed for imputation with strategy='median'.\n",
      "  warnings.warn(\n"
     ]
    }
   ],
   "source": [
    "test_df = preprocess_chunk(test_df)\n",
    "test_df[\"target\"] = (test_df[target_column] == positive_class_label).astype(int)\n",
    "X_test = test_df[categorical_features + numerical_features]\n",
    "y_test = test_df[\"target\"]\n",
    "X_test_proc = preprocessor.transform(X_test)\n",
    "y_pred = clf.predict(X_test_proc)"
   ]
  },
  {
   "cell_type": "code",
   "execution_count": 93,
   "id": "717cc6e0",
   "metadata": {},
   "outputs": [
    {
     "name": "stdout",
     "output_type": "stream",
     "text": [
      "\n",
      "🧪 Final Evaluation on Test Set:\n",
      "              precision    recall  f1-score   support\n",
      "\n",
      "           0       0.17      0.46      0.25     53728\n",
      "           1       0.84      0.56      0.67    278129\n",
      "\n",
      "    accuracy                           0.54    331857\n",
      "   macro avg       0.51      0.51      0.46    331857\n",
      "weighted avg       0.73      0.54      0.60    331857\n",
      "\n"
     ]
    }
   ],
   "source": [
    "print(\"\\n🧪 Final Evaluation on Test Set:\")\n",
    "print(classification_report(y_test, y_pred))"
   ]
  },
  {
   "cell_type": "code",
   "execution_count": 94,
   "id": "bf0ad0ba",
   "metadata": {},
   "outputs": [
    {
     "data": {
      "image/png": "[encoded data removed]",
      "text/plain": [
       "<Figure size 640x480 with 2 Axes>"
      ]
     },
     "metadata": {},
     "output_type": "display_data"
    }
   ],
   "source": [
    "# Create confusion matrix\n",
    "from sklearn.metrics import confusion_matrix, ConfusionMatrixDisplay\n",
    "import matplotlib.pyplot as plt\n",
    "\n",
    "# y_test: true labels (0 = denied, 1 = originated)\n",
    "# y_pred: predicted labels\n",
    "\n",
    "cm = confusion_matrix(y_test, y_pred, labels=[0, 1])\n",
    "disp = ConfusionMatrixDisplay(confusion_matrix=cm, display_labels=[\"Denied\", \"Approved\"])\n",
    "disp.plot(cmap=\"Blues\", values_format=\",.0f\")\n",
    "plt.title(\"Confusion Matrix: HMDA Logistic Regression\")\n",
    "plt.grid(False)\n",
    "plt.tight_layout()\n",
    "plt.show()"
   ]
  },
  {
   "cell_type": "code",
   "execution_count": 95,
   "id": "adbfb823",
   "metadata": {},
   "outputs": [
    {
     "data": {
      "image/png": "[encoded data removed]",
      "text/plain": [
       "<Figure size 800x600 with 1 Axes>"
      ]
     },
     "metadata": {},
     "output_type": "display_data"
    }
   ],
   "source": [
    "# Precision recall curve\n",
    "from sklearn.metrics import precision_recall_curve, average_precision_score\n",
    "import matplotlib.pyplot as plt\n",
    "\n",
    "# Get decision scores for the positive class (Loan Originated = 1)\n",
    "# If you've calibrated your model, use predict_proba. Otherwise:\n",
    "y_scores = clf.decision_function(X_test_proc)\n",
    "\n",
    "# Calculate precision-recall pairs\n",
    "precision, recall, thresholds = precision_recall_curve(y_test, y_scores)\n",
    "\n",
    "# Average precision is the area under the PR curve\n",
    "avg_precision = average_precision_score(y_test, y_scores)\n",
    "\n",
    "# Plot\n",
    "plt.figure(figsize=(8, 6))\n",
    "plt.plot(recall, precision, color=\"blue\", lw=2, label=f\"Avg Precision = {avg_precision:.3f}\")\n",
    "plt.xlabel(\"Recall (Sensitivity)\")\n",
    "plt.ylabel(\"Precision (PPV)\")\n",
    "plt.title(\"Precision-Recall Curve: HMDA Logistic Regression\")\n",
    "plt.grid(True)\n",
    "plt.legend()\n",
    "plt.tight_layout()\n",
    "plt.show()"
   ]
  },
  {
   "cell_type": "code",
   "execution_count": 96,
   "id": "7e9d96eb",
   "metadata": {},
   "outputs": [],
   "source": [
    "con.close()"
   ]
  }
 ],
 "metadata": {
  "kernelspec": {
   "display_name": "Python 3 (ipykernel)",
   "language": "python",
   "name": "python3"
  },
  "language_info": {
   "codemirror_mode": {
    "name": "ipython",
    "version": 3
   },
   "file_extension": ".py",
   "mimetype": "text/x-python",
   "name": "python",
   "nbconvert_exporter": "python",
   "pygments_lexer": "ipython3",
   "version": "3.11.6"
  }
 },
 "nbformat": 4,
 "nbformat_minor": 5
}
