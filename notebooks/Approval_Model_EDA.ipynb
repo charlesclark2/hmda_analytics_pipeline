{
 "cells": [
  {
   "cell_type": "code",
   "execution_count": 2,
   "id": "baa4190c",
   "metadata": {},
   "outputs": [],
   "source": [
    "import argparse\n",
    "import boto3\n",
    "import pandas as pd\n",
    "import s3fs\n",
    "import numpy as np \n",
    "import io \n",
    "import pyarrow as pa \n",
    "import pyarrow.parquet as pq\n",
    "import duckdb\n",
    "import os"
   ]
  },
  {
   "cell_type": "code",
   "execution_count": 2,
   "id": "63807ad1",
   "metadata": {},
   "outputs": [],
   "source": [
    "fs = s3fs.S3FileSystem(profile='AdministratorAccess-769392325318')\n",
    "paths = fs.glob('mortgage-data-refined/light_transformations/hmda/2018/*.parquet')\n",
    "duckdb_paths = [f\"s3://{p}\" for p in paths]"
   ]
  },
  {
   "cell_type": "code",
   "execution_count": 3,
   "id": "562c5817",
   "metadata": {},
   "outputs": [],
   "source": [
    "session = boto3.Session(profile_name='AdministratorAccess-769392325318')\n",
    "creds = session.get_credentials().get_frozen_credentials()"
   ]
  },
  {
   "cell_type": "code",
   "execution_count": 4,
   "id": "77904f4f",
   "metadata": {},
   "outputs": [],
   "source": [
    "s3 = session.client('s3')\n",
    "_ = s3.list_objects_v2(Bucket='mortgage-data-refined', MaxKeys=1)"
   ]
  },
  {
   "cell_type": "code",
   "execution_count": 5,
   "id": "0bc25782",
   "metadata": {},
   "outputs": [],
   "source": [
    "def build_canonical_schema(canonical_types):\n",
    "    \"\"\"\n",
    "    Returns a pyarrow schema object with desired column names and types.\n",
    "    \"\"\"\n",
    "    type_map = {\n",
    "        \"string\": pa.string(),\n",
    "        \"float64\": pa.float64(),\n",
    "        \"int64\": pa.int64()\n",
    "    }\n",
    "    return pa.schema([(col, type_map[dtype]) for col, dtype in canonical_types.items()])\n"
   ]
  },
  {
   "cell_type": "code",
   "execution_count": 3,
   "id": "d875cad2",
   "metadata": {},
   "outputs": [],
   "source": [
    "# Connect to the database\n",
    "con = duckdb.connect(\"hmda.duckdb\")"
   ]
  },
  {
   "cell_type": "code",
   "execution_count": 6,
   "id": "3fe4507c",
   "metadata": {},
   "outputs": [],
   "source": [
    "def align_table_to_schema(table, canonical_schema, file_path=None, diagnostics=None):\n",
    "    \"\"\"\n",
    "    Aligns a PyArrow table to the canonical schema.\n",
    "    Tracks and logs any type mismatches, failed casts, or missing columns.\n",
    "    \"\"\"\n",
    "    arrays = []\n",
    "    table_column_names = table.schema.names\n",
    "\n",
    "    for field in canonical_schema:\n",
    "        col_name = field.name\n",
    "        desired_type = field.type\n",
    "        issue = None\n",
    "\n",
    "        if col_name in table_column_names:\n",
    "            current_col = table.column(col_name)\n",
    "            current_type = table.schema.field(col_name).type\n",
    "\n",
    "            # Force _category/_bucketed suffixes to string\n",
    "            if col_name.endswith(\"_category\") or col_name.endswith(\"_bucketed\"):\n",
    "                if not pa.types.is_string(current_type):\n",
    "                    try:\n",
    "                        current_col = current_col.cast(pa.string())\n",
    "                        issue = \"cast_to_string_due_to_suffix\"\n",
    "                    except Exception:\n",
    "                        current_col = pa.nulls(len(table), type=pa.string())\n",
    "                        issue = \"failed_cast_to_string_due_to_suffix\"\n",
    "            elif str(current_type) != str(desired_type):\n",
    "                try:\n",
    "                    current_col = current_col.cast(desired_type)\n",
    "                    issue = f\"cast_{current_type}_to_{desired_type}\"\n",
    "                except Exception:\n",
    "                    current_col = pa.nulls(len(table), type=desired_type)\n",
    "                    issue = f\"failed_cast_{current_type}_to_{desired_type}\"\n",
    "\n",
    "            arrays.append(current_col)\n",
    "\n",
    "        else:\n",
    "            # Missing column\n",
    "            fill_type = (\n",
    "                pa.string() if col_name.endswith(\"_category\") or col_name.endswith(\"_bucketed\")\n",
    "                else desired_type\n",
    "            )\n",
    "            arrays.append(pa.nulls(len(table), type=fill_type))\n",
    "            issue = f\"missing_column_filled_with_nulls\"\n",
    "\n",
    "        if diagnostics is not None and issue:\n",
    "            diagnostics.append({\n",
    "                \"column\": col_name,\n",
    "                \"expected_type\": str(desired_type),\n",
    "                \"issue\": issue,\n",
    "                \"file\": file_path\n",
    "            })\n",
    "\n",
    "    return pa.Table.from_arrays(arrays, schema=canonical_schema)\n"
   ]
  },
  {
   "cell_type": "code",
   "execution_count": 7,
   "id": "538bfe1b",
   "metadata": {},
   "outputs": [],
   "source": [
    "import pyarrow as pa\n",
    "import pyarrow.parquet as pq\n",
    "import s3fs\n",
    "import pandas as pd\n",
    "import io\n",
    "from collections import defaultdict\n",
    "\n",
    "def normalize_arrow_schema(schema):\n",
    "    return {field.name: str(field.type) for field in schema}\n",
    "\n",
    "def coerce_to_schema(df, canonical_schema):\n",
    "    for col, expected_type in canonical_schema.items():\n",
    "        if col not in df.columns:\n",
    "            df[col] = pd.NA\n",
    "        try:\n",
    "            if expected_type.startswith(\"int\"):\n",
    "                df[col] = pd.to_numeric(df[col], errors='coerce').astype(\"Int64\")\n",
    "            elif expected_type.startswith(\"float\"):\n",
    "                df[col] = pd.to_numeric(df[col], errors='coerce').astype(\"float64\")\n",
    "            elif expected_type == \"string\":\n",
    "                df[col] = df[col].astype(str)\n",
    "            else:\n",
    "                df[col] = df[col].astype(expected_type)\n",
    "        except Exception:\n",
    "            df[col] = pd.NA\n",
    "    return df[list(canonical_schema.keys())]\n",
    "\n",
    "def verify_parquet_schemas(s3_prefix, profile=None, verbose=True, auto_fix=False, dry_run=False):\n",
    "    fs = s3fs.S3FileSystem(profile=profile)\n",
    "    bucket, prefix = s3_prefix.split('/', 1)\n",
    "    files = fs.glob(f\"{bucket}/{prefix}/*.parquet\")\n",
    "\n",
    "    canonical_schema = None\n",
    "    mismatches = defaultdict(list)\n",
    "\n",
    "    for file in files:\n",
    "        with fs.open(file, 'rb') as f:\n",
    "            schema = pq.read_schema(f)\n",
    "            norm_schema = normalize_arrow_schema(schema)\n",
    "\n",
    "        if canonical_schema is None:\n",
    "            canonical_schema = norm_schema\n",
    "            continue\n",
    "\n",
    "        file_mismatch = False\n",
    "        for col, dtype in norm_schema.items():\n",
    "            if col not in canonical_schema:\n",
    "                mismatches[file].append((col, \"Unexpected\", dtype))\n",
    "                file_mismatch = True\n",
    "            elif canonical_schema[col] != dtype:\n",
    "                mismatches[file].append((col, \"TypeMismatch\", dtype, canonical_schema[col]))\n",
    "                file_mismatch = True\n",
    "        for col in canonical_schema:\n",
    "            if col not in norm_schema:\n",
    "                mismatches[file].append((col, \"Missing\", canonical_schema[col]))\n",
    "                file_mismatch = True\n",
    "\n",
    "        if file_mismatch and auto_fix:\n",
    "            if dry_run:\n",
    "                print(f\"🧪 Would fix: {file}\")\n",
    "            else:\n",
    "                try:\n",
    "                    with fs.open(file, 'rb') as f:\n",
    "                        df = pq.read_table(f).to_pandas()\n",
    "                    df = coerce_to_schema(df, canonical_schema)\n",
    "                    table = pa.Table.from_pandas(df)\n",
    "                    buf = io.BytesIO()\n",
    "                    pq.write_table(table, buf)\n",
    "                    fs.pipe(file, buf.getvalue())\n",
    "                    print(f\"🔁 Fixed and overwrote: {file}\")\n",
    "                except Exception as e:\n",
    "                    print(f\"❌ Failed to fix {file}: {e}\")\n",
    "\n",
    "    if mismatches:\n",
    "        if verbose:\n",
    "            print(\"\\n❌ Schema mismatches found:\")\n",
    "            for file, issues in mismatches.items():\n",
    "                print(f\"- {file}\")\n",
    "                for issue in issues:\n",
    "                    if issue[1] == \"Unexpected\":\n",
    "                        print(f\"    ➕ Unexpected column: {issue[0]} ({issue[2]})\")\n",
    "                    elif issue[1] == \"Missing\":\n",
    "                        print(f\"    ➖ Missing column: {issue[0]} (expected {issue[2]})\")\n",
    "                    elif issue[1] == \"TypeMismatch\":\n",
    "                        print(f\"    🔁 Type mismatch: {issue[0]} ({issue[2]} vs {issue[3]})\")\n",
    "        return False, canonical_schema\n",
    "\n",
    "    print(\"✅ All files have consistent schema.\")\n",
    "    return True, canonical_schema\n"
   ]
  },
  {
   "cell_type": "code",
   "execution_count": 11,
   "id": "eb591335",
   "metadata": {},
   "outputs": [],
   "source": [
    "def arrow_to_duckdb_type(pa_type):\n",
    "    if pa.types.is_string(pa_type):\n",
    "        return \"VARCHAR\"\n",
    "    elif pa.types.is_integer(pa_type):\n",
    "        return \"BIGINT\"\n",
    "    elif pa.types.is_floating(pa_type):\n",
    "        return \"DOUBLE\"\n",
    "    elif pa.types.is_boolean(pa_type):\n",
    "        return \"BOOLEAN\"\n",
    "    elif pa.types.is_timestamp(pa_type):\n",
    "        return \"TIMESTAMP\"\n",
    "    elif pa.types.is_date(pa_type):\n",
    "        return \"DATE\"\n",
    "    else:\n",
    "        return \"VARCHAR\"\n",
    "\n",
    "def generate_schema_across_years(base_s3_prefix, table_name, profile=None, years=range(2018, 2024), files_per_year=5):\n",
    "    import pyarrow as pa\n",
    "    import pyarrow.parquet as pq\n",
    "    import s3fs\n",
    "\n",
    "    def normalize_schema(schema: pa.Schema) -> pa.Schema:\n",
    "        new_fields = []\n",
    "        for field in schema:\n",
    "            name = field.name\n",
    "            dtype = field.type\n",
    "\n",
    "            # Normalize known inconsistent fields\n",
    "            if name in {\"total_units\"}: \n",
    "                new_fields.append(pa.field(name, pa.string()))\n",
    "            elif name in {\"income\", \"loan_to_value_ratio\"}:\n",
    "                new_fields.append(pa.field(name, pa.float64()))\n",
    "            elif name.endswith(\"_category\") or name.endswith(\"_bucketed\"):\n",
    "                new_fields.append(pa.field(name, pa.string()))\n",
    "            else:\n",
    "                new_fields.append(field)\n",
    "\n",
    "        return pa.schema(new_fields)\n",
    "\n",
    "    fs = s3fs.S3FileSystem(profile=profile)\n",
    "    schemas = []\n",
    "\n",
    "    for year in years:\n",
    "        path_prefix = f\"{base_s3_prefix}/{year}\"\n",
    "        bucket, prefix = path_prefix.split(\"/\", 1)\n",
    "        try:\n",
    "            files = fs.glob(f\"{bucket}/{prefix}/*.parquet\")[:files_per_year]\n",
    "            for path in files:\n",
    "                with fs.open(path, \"rb\") as f:\n",
    "                    raw_schema = pq.read_schema(f)\n",
    "                    coerced_schema = normalize_schema(raw_schema)\n",
    "                    schemas.append(coerced_schema)\n",
    "        except Exception as e:\n",
    "            print(f\"⚠️ Skipping {year} file {path}: {e}\")\n",
    "\n",
    "    if not schemas:\n",
    "        raise ValueError(\"❌ No valid schemas found across years.\")\n",
    "\n",
    "    unified_schema = pa.unify_schemas(schemas)\n",
    "\n",
    "    col_defs = []\n",
    "    for field in unified_schema:\n",
    "        duck_type = arrow_to_duckdb_type(field.type)\n",
    "        col_defs.append(f'\"{field.name}\" {duck_type}')\n",
    "\n",
    "    create_stmt = f'CREATE TABLE {table_name} (\\n  ' + ',\\n  '.join(col_defs) + '\\n);'\n",
    "    return create_stmt\n"
   ]
  },
  {
   "cell_type": "code",
   "execution_count": 12,
   "id": "38db0fdb",
   "metadata": {},
   "outputs": [
    {
     "name": "stdout",
     "output_type": "stream",
     "text": [
      "CREATE TABLE hmda_raw (\n",
      "  \"activity_year\" BIGINT,\n",
      "  \"lei\" VARCHAR,\n",
      "  \"derived_msa_md\" VARCHAR,\n",
      "  \"state_code\" VARCHAR,\n",
      "  \"county_code\" VARCHAR,\n",
      "  \"census_tract\" DOUBLE,\n",
      "  \"conforming_loan_limit\" BIGINT,\n",
      "  \"derived_loan_product_type\" VARCHAR,\n",
      "  \"derived_dwelling_category\" VARCHAR,\n",
      "  \"derived_ethnicity\" VARCHAR,\n",
      "  \"derived_race\" VARCHAR,\n",
      "  \"derived_sex\" VARCHAR,\n",
      "  \"action_taken\" DOUBLE,\n",
      "  \"purchaser_type\" DOUBLE,\n",
      "  \"preapproval\" DOUBLE,\n",
      "  \"loan_type\" DOUBLE,\n",
      "  \"loan_purpose\" DOUBLE,\n",
      "  \"lien_status\" DOUBLE,\n",
      "  \"reverse_mortgage\" DOUBLE,\n",
      "  \"open_end_line_of_credit\" DOUBLE,\n",
      "  \"business_or_commercial_purpose\" DOUBLE,\n",
      "  \"loan_amount\" DOUBLE,\n",
      "  \"loan_to_value_ratio\" DOUBLE,\n",
      "  \"interest_rate\" DOUBLE,\n",
      "  \"rate_spread\" DOUBLE,\n",
      "  \"hoepa_status\" DOUBLE,\n",
      "  \"total_loan_costs\" DOUBLE,\n",
      "  \"total_points_and_fees\" DOUBLE,\n",
      "  \"origination_charges\" DOUBLE,\n",
      "  \"discount_points\" DOUBLE,\n",
      "  \"lender_credits\" DOUBLE,\n",
      "  \"loan_term\" BIGINT,\n",
      "  \"prepayment_penalty_term\" BIGINT,\n",
      "  \"intro_rate_period\" BIGINT,\n",
      "  \"negative_amortization\" BIGINT,\n",
      "  \"interest_only_payment\" BIGINT,\n",
      "  \"balloon_payment\" BIGINT,\n",
      "  \"other_nonamortizing_features\" BIGINT,\n",
      "  \"property_value\" BIGINT,\n",
      "  \"construction_method\" BIGINT,\n",
      "  \"occupancy_type\" BIGINT,\n",
      "  \"manufactured_home_secured_property_type\" BIGINT,\n",
      "  \"manufactured_home_land_property_interest\" BIGINT,\n",
      "  \"total_units\" VARCHAR,\n",
      "  \"multifamily_affordable_units\" BIGINT,\n",
      "  \"income\" DOUBLE,\n",
      "  \"debt_to_income_ratio\" VARCHAR,\n",
      "  \"applicant_credit_score_type\" BIGINT,\n",
      "  \"co_applicant_credit_score_type\" BIGINT,\n",
      "  \"applicant_ethnicity_1\" BIGINT,\n",
      "  \"applicant_ethnicity_2\" BIGINT,\n",
      "  \"applicant_ethnicity_3\" BIGINT,\n",
      "  \"applicant_ethnicity_4\" BIGINT,\n",
      "  \"applicant_ethnicity_5\" BIGINT,\n",
      "  \"co_applicant_ethnicity_1\" BIGINT,\n",
      "  \"co_applicant_ethnicity_2\" BIGINT,\n",
      "  \"co_applicant_ethnicity_3\" BIGINT,\n",
      "  \"co_applicant_ethnicity_4\" BIGINT,\n",
      "  \"co_applicant_ethnicity_5\" BIGINT,\n",
      "  \"applicant_ethnicity_observed\" BIGINT,\n",
      "  \"co_applicant_ethnicity_observed\" BIGINT,\n",
      "  \"applicant_race_1\" BIGINT,\n",
      "  \"applicant_race_2\" BIGINT,\n",
      "  \"applicant_race_3\" BIGINT,\n",
      "  \"applicant_race_4\" BIGINT,\n",
      "  \"applicant_race_5\" BIGINT,\n",
      "  \"co_applicant_race_1\" BIGINT,\n",
      "  \"co_applicant_race_2\" BIGINT,\n",
      "  \"co_applicant_race_3\" BIGINT,\n",
      "  \"co_applicant_race_4\" BIGINT,\n",
      "  \"co_applicant_race_5\" BIGINT,\n",
      "  \"applicant_race_observed\" BIGINT,\n",
      "  \"co_applicant_race_observed\" BIGINT,\n",
      "  \"applicant_sex\" BIGINT,\n",
      "  \"co_applicant_sex\" BIGINT,\n",
      "  \"applicant_sex_observed\" BIGINT,\n",
      "  \"co_applicant_sex_observed\" BIGINT,\n",
      "  \"applicant_age\" VARCHAR,\n",
      "  \"co_applicant_age\" VARCHAR,\n",
      "  \"applicant_age_above_62\" BIGINT,\n",
      "  \"co_applicant_age_above_62\" BIGINT,\n",
      "  \"submission_of_application\" BIGINT,\n",
      "  \"initially_payable_to_institution\" BIGINT,\n",
      "  \"aus_1\" BIGINT,\n",
      "  \"aus_2\" BIGINT,\n",
      "  \"aus_3\" BIGINT,\n",
      "  \"aus_4\" BIGINT,\n",
      "  \"aus_5\" BIGINT,\n",
      "  \"denial_reason_1\" BIGINT,\n",
      "  \"denial_reason_2\" BIGINT,\n",
      "  \"denial_reason_3\" BIGINT,\n",
      "  \"denial_reason_4\" BIGINT,\n",
      "  \"tract_population\" DOUBLE,\n",
      "  \"tract_minority_population_percent\" DOUBLE,\n",
      "  \"ffiec_msa_md_median_family_income\" DOUBLE,\n",
      "  \"tract_to_msa_income_percentage\" DOUBLE,\n",
      "  \"tract_owner_occupied_units\" DOUBLE,\n",
      "  \"tract_one_to_four_family_homes\" DOUBLE,\n",
      "  \"tract_median_age_of_housing_units\" DOUBLE,\n",
      "  \"action_taken_category\" VARCHAR,\n",
      "  \"purchaser_category\" VARCHAR,\n",
      "  \"loan_type_category\" VARCHAR,\n",
      "  \"loan_purpose_category\" VARCHAR,\n",
      "  \"lien_status_category\" VARCHAR,\n",
      "  \"reverse_mortgage_category\" VARCHAR,\n",
      "  \"open_end_line_of_credit_category\" VARCHAR,\n",
      "  \"business_or_commercial_purpose_category\" VARCHAR,\n",
      "  \"combined_loan_to_value_ratio\" DOUBLE,\n",
      "  \"effective_ltv\" DOUBLE,\n",
      "  \"hopea_status_category\" VARCHAR,\n",
      "  \"total_units_bucketed\" VARCHAR,\n",
      "  \"negative_amortization_category\" VARCHAR,\n",
      "  \"interest_only_payment_category\" VARCHAR,\n",
      "  \"balloon_payment_category\" VARCHAR,\n",
      "  \"other_nonamortizing_features_category\" VARCHAR,\n",
      "  \"construction_method_category\" VARCHAR,\n",
      "  \"occupancy_type_category\" VARCHAR,\n",
      "  \"manufactured_home_secured_property_type_category\" VARCHAR,\n",
      "  \"manufactured_home_land_property_interest_category\" VARCHAR,\n",
      "  \"applicant_credit_score_type_category\" VARCHAR,\n",
      "  \"co_applicant_credit_score_type_category\" VARCHAR,\n",
      "  \"applicant_ethnicity_1_category\" VARCHAR,\n",
      "  \"co_applicant_ethnicity_1_category\" VARCHAR,\n",
      "  \"applicant_race_1_category\" VARCHAR,\n",
      "  \"applicant_race_1_category_grouped\" VARCHAR,\n",
      "  \"co_applicant_race_1_category\" VARCHAR,\n",
      "  \"co_applicant_race_1_category_grouped\" VARCHAR,\n",
      "  \"applicant_ethnicity_2_category\" VARCHAR,\n",
      "  \"co_applicant_ethnicity_2_category\" VARCHAR,\n",
      "  \"applicant_race_2_category\" VARCHAR,\n",
      "  \"applicant_race_2_category_grouped\" VARCHAR,\n",
      "  \"co_applicant_race_2_category\" VARCHAR,\n",
      "  \"co_applicant_race_2_category_grouped\" VARCHAR,\n",
      "  \"applicant_ethnicity_3_category\" VARCHAR,\n",
      "  \"co_applicant_ethnicity_3_category\" VARCHAR,\n",
      "  \"applicant_race_3_category\" VARCHAR,\n",
      "  \"applicant_race_3_category_grouped\" VARCHAR,\n",
      "  \"co_applicant_race_3_category\" VARCHAR,\n",
      "  \"co_applicant_race_3_category_grouped\" VARCHAR,\n",
      "  \"applicant_ethnicity_4_category\" VARCHAR,\n",
      "  \"co_applicant_ethnicity_4_category\" VARCHAR,\n",
      "  \"applicant_race_4_category\" VARCHAR,\n",
      "  \"applicant_race_4_category_grouped\" VARCHAR,\n",
      "  \"co_applicant_race_4_category\" VARCHAR,\n",
      "  \"co_applicant_race_4_category_grouped\" VARCHAR,\n",
      "  \"applicant_ethnicity_5_category\" VARCHAR,\n",
      "  \"co_applicant_ethnicity_5_category\" VARCHAR,\n",
      "  \"applicant_race_5_category\" VARCHAR,\n",
      "  \"applicant_race_5_category_grouped\" VARCHAR,\n",
      "  \"co_applicant_race_5_category\" VARCHAR,\n",
      "  \"co_applicant_race_5_category_grouped\" VARCHAR,\n",
      "  \"applicant_ethnicity_observed_category\" VARCHAR,\n",
      "  \"applicant_enthnicity_observed\" DOUBLE,\n",
      "  \"co_applicant_ethnicity_observed_category\" VARCHAR,\n",
      "  \"co_applicant_enthnicity_observed\" DOUBLE,\n",
      "  \"applicant_race_observed_category\" VARCHAR,\n",
      "  \"co_applicant_race_observed_category\" VARCHAR,\n",
      "  \"applicant_sex_category\" VARCHAR,\n",
      "  \"co_applicant_sex_category\" VARCHAR,\n",
      "  \"applicant_sex_observed_category\" VARCHAR,\n",
      "  \"co_applicant_sex_observed_category\" VARCHAR,\n",
      "  \"coapplicant_age_above_62\" BIGINT,\n",
      "  \"submission_of_application_category\" VARCHAR,\n",
      "  \"initially_payable_to_institution_category\" VARCHAR,\n",
      "  \"aus_1_category\" VARCHAR,\n",
      "  \"aus_2_category\" VARCHAR,\n",
      "  \"aus_3_category\" VARCHAR,\n",
      "  \"aus_4_category\" VARCHAR,\n",
      "  \"aus_5_category\" VARCHAR,\n",
      "  \"denial_reason_1_category\" VARCHAR,\n",
      "  \"denial_reason_2_category\" VARCHAR,\n",
      "  \"denial_reason_3_category\" VARCHAR,\n",
      "  \"denial_reason_4_category\" VARCHAR\n",
      ");\n"
     ]
    }
   ],
   "source": [
    "stmt = generate_schema_across_years(\n",
    "    base_s3_prefix=\"mortgage-data-refined/light_transformations/hmda\",\n",
    "    table_name=\"hmda_raw\",\n",
    "    profile=\"AdministratorAccess-769392325318\", \n",
    "    files_per_year=30\n",
    ")\n",
    "\n",
    "print(stmt)"
   ]
  },
  {
   "cell_type": "code",
   "execution_count": 13,
   "id": "c39af1ad",
   "metadata": {},
   "outputs": [],
   "source": [
    "import pyarrow.parquet as pq\n",
    "import s3fs\n",
    "\n",
    "def safe_insert_file(con, path, table_name, profile=None):\n",
    "    fs = s3fs.S3FileSystem(profile=profile)\n",
    "    with fs.open(path.replace(\"s3://\", \"\"), \"rb\") as f:\n",
    "        table = pq.read_table(f)\n",
    "        df = table.to_pandas()\n",
    "        con.register(\"temp_df\", df)\n",
    "        con.execute(f\"INSERT INTO {table_name} SELECT * FROM temp_df\")\n",
    "        con.unregister(\"temp_df\")\n"
   ]
  },
  {
   "cell_type": "code",
   "execution_count": 14,
   "id": "98329420",
   "metadata": {},
   "outputs": [
    {
     "data": {
      "text/plain": [
       "<duckdb.duckdb.DuckDBPyConnection at 0x12fa5cdb0>"
      ]
     },
     "execution_count": 14,
     "metadata": {},
     "output_type": "execute_result"
    }
   ],
   "source": [
    "# Start DuckDB\n",
    "con.execute(\"INSTALL httpfs; LOAD httpfs\")\n",
    "\n",
    "# Set credentials into DuckDB\n",
    "con.execute(f\"\"\"\n",
    "    SET s3_region='us-east-1';\n",
    "    SET s3_access_key_id='{creds.access_key}';\n",
    "    SET s3_secret_access_key='{creds.secret_key}';\n",
    "    SET s3_session_token='{creds.token}';\n",
    "\"\"\")"
   ]
  },
  {
   "cell_type": "code",
   "execution_count": 15,
   "id": "5b3ed25c",
   "metadata": {},
   "outputs": [
    {
     "data": {
      "text/plain": [
       "<duckdb.duckdb.DuckDBPyConnection at 0x12fa5cdb0>"
      ]
     },
     "execution_count": 15,
     "metadata": {},
     "output_type": "execute_result"
    }
   ],
   "source": [
    "con.execute(\"Drop table hmda_raw\")\n",
    "con.execute(stmt)"
   ]
  },
  {
   "cell_type": "code",
   "execution_count": 16,
   "id": "e7fc58a9",
   "metadata": {},
   "outputs": [],
   "source": [
    "import pyarrow.parquet as pq\n",
    "import pandas as pd\n",
    "import s3fs\n",
    "\n",
    "def insert_parquet_files_into_duckdb(con, table_name, s3_prefix, profile=None, max_files=None, file_filter=None):\n",
    "    \"\"\"\n",
    "    Read parquet files via PyArrow from S3, register in DuckDB, and insert into table.\n",
    "\n",
    "    Parameters:\n",
    "        con (duckdb.DuckDBPyConnection): Active DuckDB connection\n",
    "        table_name (str): Target DuckDB table\n",
    "        s3_prefix (str): Format 'bucket-name/path/to/files'\n",
    "        profile (str): Optional AWS profile for s3fs\n",
    "        max_files (int): Limit how many files to process\n",
    "        file_filter (callable): Optional filtering function on file paths\n",
    "    \"\"\"\n",
    "    fs = s3fs.S3FileSystem(profile=profile)\n",
    "    bucket, prefix = s3_prefix.split(\"/\", 1)\n",
    "    files = fs.glob(f\"{bucket}/{prefix}/*.parquet\")\n",
    "    s3_paths = [f\"s3://{f}\" for f in files]\n",
    "\n",
    "    if file_filter:\n",
    "        s3_paths = list(filter(file_filter, s3_paths))\n",
    "    if max_files:\n",
    "        s3_paths = s3_paths[:max_files]\n",
    "\n",
    "    print(f\"📦 Found {len(s3_paths)} files to insert into {table_name}\")\n",
    "\n",
    "    for path in s3_paths:\n",
    "        print(f\"🔄 Reading and inserting {path}\")\n",
    "        try:\n",
    "            with fs.open(path.replace(\"s3://\", \"\"), \"rb\") as f:\n",
    "                table = pq.read_table(f)\n",
    "                df = table.to_pandas()\n",
    "                if \"combined_laon_to_value_ratio\" in df.columns:\n",
    "                    df.rename(columns={\"combined_laon_to_value_ratio\": \"combined_loan_to_value_ratio\"}, inplace=True)\n",
    "\n",
    "                # Align to expected schema\n",
    "                expected_cols = con.execute(\"PRAGMA table_info('hmda_raw')\").fetchdf()[\"name\"].tolist()\n",
    "                for col in expected_cols:\n",
    "                    if col not in df.columns:\n",
    "                        df[col] = pd.NA\n",
    "                df = df[expected_cols]\n",
    "            con.register(\"temp_df\", df)\n",
    "            con.execute(f\"INSERT INTO {table_name} SELECT * FROM temp_df\")\n",
    "            con.unregister(\"temp_df\")\n",
    "        except Exception as e:\n",
    "            print(f\"❌ Failed to insert {path}: {e}\")\n"
   ]
  },
  {
   "cell_type": "code",
   "execution_count": 27,
   "id": "6686ee69",
   "metadata": {},
   "outputs": [
    {
     "name": "stdout",
     "output_type": "stream",
     "text": [
      "📦 Found 61 files to insert into hmda_raw\n",
      "🔄 Reading and inserting s3://mortgage-data-refined/light_transformations/hmda/2018/part_part0_0.parquet\n",
      "🔄 Reading and inserting s3://mortgage-data-refined/light_transformations/hmda/2018/part_part10_0.parquet\n",
      "🔄 Reading and inserting s3://mortgage-data-refined/light_transformations/hmda/2018/part_part11_0.parquet\n",
      "🔄 Reading and inserting s3://mortgage-data-refined/light_transformations/hmda/2018/part_part12_0.parquet\n",
      "🔄 Reading and inserting s3://mortgage-data-refined/light_transformations/hmda/2018/part_part13_0.parquet\n",
      "🔄 Reading and inserting s3://mortgage-data-refined/light_transformations/hmda/2018/part_part14_0.parquet\n",
      "🔄 Reading and inserting s3://mortgage-data-refined/light_transformations/hmda/2018/part_part15_0.parquet\n",
      "🔄 Reading and inserting s3://mortgage-data-refined/light_transformations/hmda/2018/part_part16_0.parquet\n",
      "🔄 Reading and inserting s3://mortgage-data-refined/light_transformations/hmda/2018/part_part17_0.parquet\n",
      "🔄 Reading and inserting s3://mortgage-data-refined/light_transformations/hmda/2018/part_part18_0.parquet\n",
      "🔄 Reading and inserting s3://mortgage-data-refined/light_transformations/hmda/2018/part_part19_0.parquet\n"
     ]
    },
    {
     "data": {
      "application/vnd.jupyter.widget-view+json": {
       "model_id": "16cfb693b7af467aac27539a8e77dd12",
       "version_major": 2,
       "version_minor": 0
      },
      "text/plain": [
       "FloatProgress(value=0.0, layout=Layout(width='auto'), style=ProgressStyle(bar_color='black'))"
      ]
     },
     "metadata": {},
     "output_type": "display_data"
    },
    {
     "name": "stdout",
     "output_type": "stream",
     "text": [
      "🔄 Reading and inserting s3://mortgage-data-refined/light_transformations/hmda/2018/part_part1_0.parquet\n",
      "🔄 Reading and inserting s3://mortgage-data-refined/light_transformations/hmda/2018/part_part20_0.parquet\n",
      "🔄 Reading and inserting s3://mortgage-data-refined/light_transformations/hmda/2018/part_part21_0.parquet\n",
      "🔄 Reading and inserting s3://mortgage-data-refined/light_transformations/hmda/2018/part_part22_0.parquet\n",
      "🔄 Reading and inserting s3://mortgage-data-refined/light_transformations/hmda/2018/part_part23_0.parquet\n",
      "🔄 Reading and inserting s3://mortgage-data-refined/light_transformations/hmda/2018/part_part24_0.parquet\n",
      "🔄 Reading and inserting s3://mortgage-data-refined/light_transformations/hmda/2018/part_part25_0.parquet\n",
      "🔄 Reading and inserting s3://mortgage-data-refined/light_transformations/hmda/2018/part_part26_0.parquet\n",
      "🔄 Reading and inserting s3://mortgage-data-refined/light_transformations/hmda/2018/part_part27_0.parquet\n",
      "🔄 Reading and inserting s3://mortgage-data-refined/light_transformations/hmda/2018/part_part28_0.parquet\n",
      "🔄 Reading and inserting s3://mortgage-data-refined/light_transformations/hmda/2018/part_part29_0.parquet\n",
      "🔄 Reading and inserting s3://mortgage-data-refined/light_transformations/hmda/2018/part_part2_0.parquet\n",
      "🔄 Reading and inserting s3://mortgage-data-refined/light_transformations/hmda/2018/part_part30_0.parquet\n",
      "🔄 Reading and inserting s3://mortgage-data-refined/light_transformations/hmda/2018/part_part31_0.parquet\n",
      "🔄 Reading and inserting s3://mortgage-data-refined/light_transformations/hmda/2018/part_part32_0.parquet\n",
      "🔄 Reading and inserting s3://mortgage-data-refined/light_transformations/hmda/2018/part_part33_0.parquet\n",
      "🔄 Reading and inserting s3://mortgage-data-refined/light_transformations/hmda/2018/part_part34_0.parquet\n",
      "🔄 Reading and inserting s3://mortgage-data-refined/light_transformations/hmda/2018/part_part35_0.parquet\n",
      "🔄 Reading and inserting s3://mortgage-data-refined/light_transformations/hmda/2018/part_part36_0.parquet\n",
      "🔄 Reading and inserting s3://mortgage-data-refined/light_transformations/hmda/2018/part_part37_0.parquet\n",
      "🔄 Reading and inserting s3://mortgage-data-refined/light_transformations/hmda/2018/part_part38_0.parquet\n",
      "🔄 Reading and inserting s3://mortgage-data-refined/light_transformations/hmda/2018/part_part39_0.parquet\n",
      "🔄 Reading and inserting s3://mortgage-data-refined/light_transformations/hmda/2018/part_part3_0.parquet\n",
      "🔄 Reading and inserting s3://mortgage-data-refined/light_transformations/hmda/2018/part_part40_0.parquet\n",
      "🔄 Reading and inserting s3://mortgage-data-refined/light_transformations/hmda/2018/part_part41_0.parquet\n"
     ]
    },
    {
     "data": {
      "application/vnd.jupyter.widget-view+json": {
       "model_id": "4ce8b8825e1b4f73a080a40af2602309",
       "version_major": 2,
       "version_minor": 0
      },
      "text/plain": [
       "FloatProgress(value=0.0, layout=Layout(width='auto'), style=ProgressStyle(bar_color='black'))"
      ]
     },
     "metadata": {},
     "output_type": "display_data"
    },
    {
     "name": "stdout",
     "output_type": "stream",
     "text": [
      "🔄 Reading and inserting s3://mortgage-data-refined/light_transformations/hmda/2018/part_part42_0.parquet\n"
     ]
    },
    {
     "data": {
      "application/vnd.jupyter.widget-view+json": {
       "model_id": "ecc2dfa7309540ff9065064b0716383e",
       "version_major": 2,
       "version_minor": 0
      },
      "text/plain": [
       "FloatProgress(value=0.0, layout=Layout(width='auto'), style=ProgressStyle(bar_color='black'))"
      ]
     },
     "metadata": {},
     "output_type": "display_data"
    },
    {
     "name": "stdout",
     "output_type": "stream",
     "text": [
      "🔄 Reading and inserting s3://mortgage-data-refined/light_transformations/hmda/2018/part_part43_0.parquet\n",
      "🔄 Reading and inserting s3://mortgage-data-refined/light_transformations/hmda/2018/part_part44_0.parquet\n",
      "🔄 Reading and inserting s3://mortgage-data-refined/light_transformations/hmda/2018/part_part45_0.parquet\n",
      "🔄 Reading and inserting s3://mortgage-data-refined/light_transformations/hmda/2018/part_part46_0.parquet\n"
     ]
    },
    {
     "data": {
      "application/vnd.jupyter.widget-view+json": {
       "model_id": "7ab22dcd746643bb9a09da38ffed8815",
       "version_major": 2,
       "version_minor": 0
      },
      "text/plain": [
       "FloatProgress(value=0.0, layout=Layout(width='auto'), style=ProgressStyle(bar_color='black'))"
      ]
     },
     "metadata": {},
     "output_type": "display_data"
    },
    {
     "name": "stdout",
     "output_type": "stream",
     "text": [
      "🔄 Reading and inserting s3://mortgage-data-refined/light_transformations/hmda/2018/part_part47_0.parquet\n",
      "🔄 Reading and inserting s3://mortgage-data-refined/light_transformations/hmda/2018/part_part48_0.parquet\n"
     ]
    },
    {
     "data": {
      "application/vnd.jupyter.widget-view+json": {
       "model_id": "607363e77517424695053a6dc14b333a",
       "version_major": 2,
       "version_minor": 0
      },
      "text/plain": [
       "FloatProgress(value=0.0, layout=Layout(width='auto'), style=ProgressStyle(bar_color='black'))"
      ]
     },
     "metadata": {},
     "output_type": "display_data"
    },
    {
     "name": "stdout",
     "output_type": "stream",
     "text": [
      "🔄 Reading and inserting s3://mortgage-data-refined/light_transformations/hmda/2018/part_part49_0.parquet\n",
      "🔄 Reading and inserting s3://mortgage-data-refined/light_transformations/hmda/2018/part_part4_0.parquet\n",
      "🔄 Reading and inserting s3://mortgage-data-refined/light_transformations/hmda/2018/part_part50_0.parquet\n",
      "🔄 Reading and inserting s3://mortgage-data-refined/light_transformations/hmda/2018/part_part51_0.parquet\n"
     ]
    },
    {
     "data": {
      "application/vnd.jupyter.widget-view+json": {
       "model_id": "e42c80ddd55f4ec3830aa634c63c54b2",
       "version_major": 2,
       "version_minor": 0
      },
      "text/plain": [
       "FloatProgress(value=0.0, layout=Layout(width='auto'), style=ProgressStyle(bar_color='black'))"
      ]
     },
     "metadata": {},
     "output_type": "display_data"
    },
    {
     "name": "stdout",
     "output_type": "stream",
     "text": [
      "🔄 Reading and inserting s3://mortgage-data-refined/light_transformations/hmda/2018/part_part52_0.parquet\n"
     ]
    },
    {
     "data": {
      "application/vnd.jupyter.widget-view+json": {
       "model_id": "883bcc0500944fd197208ad423eec18f",
       "version_major": 2,
       "version_minor": 0
      },
      "text/plain": [
       "FloatProgress(value=0.0, layout=Layout(width='auto'), style=ProgressStyle(bar_color='black'))"
      ]
     },
     "metadata": {},
     "output_type": "display_data"
    },
    {
     "name": "stdout",
     "output_type": "stream",
     "text": [
      "🔄 Reading and inserting s3://mortgage-data-refined/light_transformations/hmda/2018/part_part53_0.parquet\n",
      "🔄 Reading and inserting s3://mortgage-data-refined/light_transformations/hmda/2018/part_part54_0.parquet\n",
      "🔄 Reading and inserting s3://mortgage-data-refined/light_transformations/hmda/2018/part_part55_0.parquet\n",
      "🔄 Reading and inserting s3://mortgage-data-refined/light_transformations/hmda/2018/part_part56_0.parquet\n",
      "🔄 Reading and inserting s3://mortgage-data-refined/light_transformations/hmda/2018/part_part57_0.parquet\n",
      "🔄 Reading and inserting s3://mortgage-data-refined/light_transformations/hmda/2018/part_part58_0.parquet\n",
      "🔄 Reading and inserting s3://mortgage-data-refined/light_transformations/hmda/2018/part_part59_0.parquet\n"
     ]
    },
    {
     "data": {
      "application/vnd.jupyter.widget-view+json": {
       "model_id": "144c6b4f43864a93a240d8b398b2996e",
       "version_major": 2,
       "version_minor": 0
      },
      "text/plain": [
       "FloatProgress(value=0.0, layout=Layout(width='auto'), style=ProgressStyle(bar_color='black'))"
      ]
     },
     "metadata": {},
     "output_type": "display_data"
    },
    {
     "name": "stdout",
     "output_type": "stream",
     "text": [
      "🔄 Reading and inserting s3://mortgage-data-refined/light_transformations/hmda/2018/part_part5_0.parquet\n",
      "🔄 Reading and inserting s3://mortgage-data-refined/light_transformations/hmda/2018/part_part60_0.parquet\n",
      "🔄 Reading and inserting s3://mortgage-data-refined/light_transformations/hmda/2018/part_part6_0.parquet\n",
      "🔄 Reading and inserting s3://mortgage-data-refined/light_transformations/hmda/2018/part_part7_0.parquet\n",
      "🔄 Reading and inserting s3://mortgage-data-refined/light_transformations/hmda/2018/part_part8_0.parquet\n",
      "🔄 Reading and inserting s3://mortgage-data-refined/light_transformations/hmda/2018/part_part9_0.parquet\n"
     ]
    }
   ],
   "source": [
    "insert_parquet_files_into_duckdb(\n",
    "    con,\n",
    "    table_name=\"hmda_raw\",\n",
    "    s3_prefix=\"mortgage-data-refined/light_transformations/hmda/2018\",\n",
    "    profile=\"AdministratorAccess-769392325318\", \n",
    "    max_files=None\n",
    ")"
   ]
  },
  {
   "cell_type": "code",
   "execution_count": 17,
   "id": "c5b5ea35",
   "metadata": {},
   "outputs": [
    {
     "name": "stdout",
     "output_type": "stream",
     "text": [
      "Processing 2018\n",
      "📦 Found 61 files to insert into hmda_raw\n",
      "🔄 Reading and inserting s3://mortgage-data-refined/light_transformations/hmda/2018/part_part0_0.parquet\n",
      "🔄 Reading and inserting s3://mortgage-data-refined/light_transformations/hmda/2018/part_part10_0.parquet\n",
      "🔄 Reading and inserting s3://mortgage-data-refined/light_transformations/hmda/2018/part_part11_0.parquet\n",
      "🔄 Reading and inserting s3://mortgage-data-refined/light_transformations/hmda/2018/part_part12_0.parquet\n",
      "🔄 Reading and inserting s3://mortgage-data-refined/light_transformations/hmda/2018/part_part13_0.parquet\n",
      "🔄 Reading and inserting s3://mortgage-data-refined/light_transformations/hmda/2018/part_part14_0.parquet\n",
      "🔄 Reading and inserting s3://mortgage-data-refined/light_transformations/hmda/2018/part_part15_0.parquet\n",
      "🔄 Reading and inserting s3://mortgage-data-refined/light_transformations/hmda/2018/part_part16_0.parquet\n",
      "🔄 Reading and inserting s3://mortgage-data-refined/light_transformations/hmda/2018/part_part17_0.parquet\n",
      "🔄 Reading and inserting s3://mortgage-data-refined/light_transformations/hmda/2018/part_part18_0.parquet\n",
      "🔄 Reading and inserting s3://mortgage-data-refined/light_transformations/hmda/2018/part_part19_0.parquet\n",
      "🔄 Reading and inserting s3://mortgage-data-refined/light_transformations/hmda/2018/part_part1_0.parquet\n",
      "🔄 Reading and inserting s3://mortgage-data-refined/light_transformations/hmda/2018/part_part20_0.parquet\n",
      "🔄 Reading and inserting s3://mortgage-data-refined/light_transformations/hmda/2018/part_part21_0.parquet\n",
      "🔄 Reading and inserting s3://mortgage-data-refined/light_transformations/hmda/2018/part_part22_0.parquet\n",
      "🔄 Reading and inserting s3://mortgage-data-refined/light_transformations/hmda/2018/part_part23_0.parquet\n",
      "🔄 Reading and inserting s3://mortgage-data-refined/light_transformations/hmda/2018/part_part24_0.parquet\n",
      "🔄 Reading and inserting s3://mortgage-data-refined/light_transformations/hmda/2018/part_part25_0.parquet\n",
      "🔄 Reading and inserting s3://mortgage-data-refined/light_transformations/hmda/2018/part_part26_0.parquet\n",
      "🔄 Reading and inserting s3://mortgage-data-refined/light_transformations/hmda/2018/part_part27_0.parquet\n",
      "🔄 Reading and inserting s3://mortgage-data-refined/light_transformations/hmda/2018/part_part28_0.parquet\n",
      "🔄 Reading and inserting s3://mortgage-data-refined/light_transformations/hmda/2018/part_part29_0.parquet\n",
      "🔄 Reading and inserting s3://mortgage-data-refined/light_transformations/hmda/2018/part_part2_0.parquet\n",
      "🔄 Reading and inserting s3://mortgage-data-refined/light_transformations/hmda/2018/part_part30_0.parquet\n",
      "🔄 Reading and inserting s3://mortgage-data-refined/light_transformations/hmda/2018/part_part31_0.parquet\n",
      "🔄 Reading and inserting s3://mortgage-data-refined/light_transformations/hmda/2018/part_part32_0.parquet\n",
      "🔄 Reading and inserting s3://mortgage-data-refined/light_transformations/hmda/2018/part_part33_0.parquet\n",
      "🔄 Reading and inserting s3://mortgage-data-refined/light_transformations/hmda/2018/part_part34_0.parquet\n",
      "🔄 Reading and inserting s3://mortgage-data-refined/light_transformations/hmda/2018/part_part35_0.parquet\n",
      "🔄 Reading and inserting s3://mortgage-data-refined/light_transformations/hmda/2018/part_part36_0.parquet\n",
      "🔄 Reading and inserting s3://mortgage-data-refined/light_transformations/hmda/2018/part_part37_0.parquet\n",
      "🔄 Reading and inserting s3://mortgage-data-refined/light_transformations/hmda/2018/part_part38_0.parquet\n",
      "🔄 Reading and inserting s3://mortgage-data-refined/light_transformations/hmda/2018/part_part39_0.parquet\n",
      "🔄 Reading and inserting s3://mortgage-data-refined/light_transformations/hmda/2018/part_part3_0.parquet\n",
      "🔄 Reading and inserting s3://mortgage-data-refined/light_transformations/hmda/2018/part_part40_0.parquet\n",
      "🔄 Reading and inserting s3://mortgage-data-refined/light_transformations/hmda/2018/part_part41_0.parquet\n",
      "🔄 Reading and inserting s3://mortgage-data-refined/light_transformations/hmda/2018/part_part42_0.parquet\n",
      "🔄 Reading and inserting s3://mortgage-data-refined/light_transformations/hmda/2018/part_part43_0.parquet\n",
      "🔄 Reading and inserting s3://mortgage-data-refined/light_transformations/hmda/2018/part_part44_0.parquet\n",
      "🔄 Reading and inserting s3://mortgage-data-refined/light_transformations/hmda/2018/part_part45_0.parquet\n"
     ]
    },
    {
     "data": {
      "application/vnd.jupyter.widget-view+json": {
       "model_id": "b0803997a61146679bd0c4a5e6e28b9b",
       "version_major": 2,
       "version_minor": 0
      },
      "text/plain": [
       "FloatProgress(value=0.0, layout=Layout(width='auto'), style=ProgressStyle(bar_color='black'))"
      ]
     },
     "metadata": {},
     "output_type": "display_data"
    },
    {
     "name": "stdout",
     "output_type": "stream",
     "text": [
      "🔄 Reading and inserting s3://mortgage-data-refined/light_transformations/hmda/2018/part_part46_0.parquet\n",
      "🔄 Reading and inserting s3://mortgage-data-refined/light_transformations/hmda/2018/part_part47_0.parquet\n",
      "🔄 Reading and inserting s3://mortgage-data-refined/light_transformations/hmda/2018/part_part48_0.parquet\n",
      "🔄 Reading and inserting s3://mortgage-data-refined/light_transformations/hmda/2018/part_part49_0.parquet\n",
      "🔄 Reading and inserting s3://mortgage-data-refined/light_transformations/hmda/2018/part_part4_0.parquet\n",
      "🔄 Reading and inserting s3://mortgage-data-refined/light_transformations/hmda/2018/part_part50_0.parquet\n",
      "🔄 Reading and inserting s3://mortgage-data-refined/light_transformations/hmda/2018/part_part51_0.parquet\n",
      "🔄 Reading and inserting s3://mortgage-data-refined/light_transformations/hmda/2018/part_part52_0.parquet\n",
      "🔄 Reading and inserting s3://mortgage-data-refined/light_transformations/hmda/2018/part_part53_0.parquet\n",
      "🔄 Reading and inserting s3://mortgage-data-refined/light_transformations/hmda/2018/part_part54_0.parquet\n",
      "🔄 Reading and inserting s3://mortgage-data-refined/light_transformations/hmda/2018/part_part55_0.parquet\n",
      "🔄 Reading and inserting s3://mortgage-data-refined/light_transformations/hmda/2018/part_part56_0.parquet\n",
      "🔄 Reading and inserting s3://mortgage-data-refined/light_transformations/hmda/2018/part_part57_0.parquet\n",
      "🔄 Reading and inserting s3://mortgage-data-refined/light_transformations/hmda/2018/part_part58_0.parquet\n",
      "🔄 Reading and inserting s3://mortgage-data-refined/light_transformations/hmda/2018/part_part59_0.parquet\n",
      "🔄 Reading and inserting s3://mortgage-data-refined/light_transformations/hmda/2018/part_part5_0.parquet\n",
      "🔄 Reading and inserting s3://mortgage-data-refined/light_transformations/hmda/2018/part_part60_0.parquet\n",
      "🔄 Reading and inserting s3://mortgage-data-refined/light_transformations/hmda/2018/part_part6_0.parquet\n",
      "🔄 Reading and inserting s3://mortgage-data-refined/light_transformations/hmda/2018/part_part7_0.parquet\n",
      "🔄 Reading and inserting s3://mortgage-data-refined/light_transformations/hmda/2018/part_part8_0.parquet\n",
      "🔄 Reading and inserting s3://mortgage-data-refined/light_transformations/hmda/2018/part_part9_0.parquet\n",
      "Processing 2019\n",
      "📦 Found 71 files to insert into hmda_raw\n",
      "🔄 Reading and inserting s3://mortgage-data-refined/light_transformations/hmda/2019/part_part0_0.parquet\n",
      "🔄 Reading and inserting s3://mortgage-data-refined/light_transformations/hmda/2019/part_part10_0.parquet\n",
      "🔄 Reading and inserting s3://mortgage-data-refined/light_transformations/hmda/2019/part_part11_0.parquet\n",
      "🔄 Reading and inserting s3://mortgage-data-refined/light_transformations/hmda/2019/part_part12_0.parquet\n",
      "🔄 Reading and inserting s3://mortgage-data-refined/light_transformations/hmda/2019/part_part13_0.parquet\n"
     ]
    },
    {
     "data": {
      "application/vnd.jupyter.widget-view+json": {
       "model_id": "d2bb69b36acd479d96dd728bc5805168",
       "version_major": 2,
       "version_minor": 0
      },
      "text/plain": [
       "FloatProgress(value=0.0, layout=Layout(width='auto'), style=ProgressStyle(bar_color='black'))"
      ]
     },
     "metadata": {},
     "output_type": "display_data"
    },
    {
     "name": "stdout",
     "output_type": "stream",
     "text": [
      "🔄 Reading and inserting s3://mortgage-data-refined/light_transformations/hmda/2019/part_part14_0.parquet\n",
      "🔄 Reading and inserting s3://mortgage-data-refined/light_transformations/hmda/2019/part_part15_0.parquet\n",
      "🔄 Reading and inserting s3://mortgage-data-refined/light_transformations/hmda/2019/part_part16_0.parquet\n",
      "🔄 Reading and inserting s3://mortgage-data-refined/light_transformations/hmda/2019/part_part17_0.parquet\n",
      "🔄 Reading and inserting s3://mortgage-data-refined/light_transformations/hmda/2019/part_part18_0.parquet\n",
      "🔄 Reading and inserting s3://mortgage-data-refined/light_transformations/hmda/2019/part_part19_0.parquet\n",
      "🔄 Reading and inserting s3://mortgage-data-refined/light_transformations/hmda/2019/part_part1_0.parquet\n",
      "🔄 Reading and inserting s3://mortgage-data-refined/light_transformations/hmda/2019/part_part20_0.parquet\n",
      "🔄 Reading and inserting s3://mortgage-data-refined/light_transformations/hmda/2019/part_part21_0.parquet\n",
      "🔄 Reading and inserting s3://mortgage-data-refined/light_transformations/hmda/2019/part_part22_0.parquet\n",
      "🔄 Reading and inserting s3://mortgage-data-refined/light_transformations/hmda/2019/part_part23_0.parquet\n"
     ]
    },
    {
     "data": {
      "application/vnd.jupyter.widget-view+json": {
       "model_id": "c7eb11bdd730494e8a711c6fa55edf38",
       "version_major": 2,
       "version_minor": 0
      },
      "text/plain": [
       "FloatProgress(value=0.0, layout=Layout(width='auto'), style=ProgressStyle(bar_color='black'))"
      ]
     },
     "metadata": {},
     "output_type": "display_data"
    },
    {
     "name": "stdout",
     "output_type": "stream",
     "text": [
      "🔄 Reading and inserting s3://mortgage-data-refined/light_transformations/hmda/2019/part_part24_0.parquet\n",
      "🔄 Reading and inserting s3://mortgage-data-refined/light_transformations/hmda/2019/part_part25_0.parquet\n",
      "🔄 Reading and inserting s3://mortgage-data-refined/light_transformations/hmda/2019/part_part26_0.parquet\n",
      "🔄 Reading and inserting s3://mortgage-data-refined/light_transformations/hmda/2019/part_part27_0.parquet\n",
      "🔄 Reading and inserting s3://mortgage-data-refined/light_transformations/hmda/2019/part_part28_0.parquet\n",
      "🔄 Reading and inserting s3://mortgage-data-refined/light_transformations/hmda/2019/part_part29_0.parquet\n",
      "🔄 Reading and inserting s3://mortgage-data-refined/light_transformations/hmda/2019/part_part2_0.parquet\n",
      "🔄 Reading and inserting s3://mortgage-data-refined/light_transformations/hmda/2019/part_part30_0.parquet\n",
      "🔄 Reading and inserting s3://mortgage-data-refined/light_transformations/hmda/2019/part_part31_0.parquet\n",
      "🔄 Reading and inserting s3://mortgage-data-refined/light_transformations/hmda/2019/part_part32_0.parquet\n",
      "🔄 Reading and inserting s3://mortgage-data-refined/light_transformations/hmda/2019/part_part33_0.parquet\n",
      "🔄 Reading and inserting s3://mortgage-data-refined/light_transformations/hmda/2019/part_part34_0.parquet\n"
     ]
    },
    {
     "data": {
      "application/vnd.jupyter.widget-view+json": {
       "model_id": "d0180e19cbb444aa91f6d3a6ce14ead1",
       "version_major": 2,
       "version_minor": 0
      },
      "text/plain": [
       "FloatProgress(value=0.0, layout=Layout(width='auto'), style=ProgressStyle(bar_color='black'))"
      ]
     },
     "metadata": {},
     "output_type": "display_data"
    },
    {
     "name": "stdout",
     "output_type": "stream",
     "text": [
      "🔄 Reading and inserting s3://mortgage-data-refined/light_transformations/hmda/2019/part_part35_0.parquet\n"
     ]
    },
    {
     "data": {
      "application/vnd.jupyter.widget-view+json": {
       "model_id": "12139c6088fb476d82e417b7c58fc316",
       "version_major": 2,
       "version_minor": 0
      },
      "text/plain": [
       "FloatProgress(value=0.0, layout=Layout(width='auto'), style=ProgressStyle(bar_color='black'))"
      ]
     },
     "metadata": {},
     "output_type": "display_data"
    },
    {
     "name": "stdout",
     "output_type": "stream",
     "text": [
      "🔄 Reading and inserting s3://mortgage-data-refined/light_transformations/hmda/2019/part_part36_0.parquet\n",
      "🔄 Reading and inserting s3://mortgage-data-refined/light_transformations/hmda/2019/part_part37_0.parquet\n",
      "🔄 Reading and inserting s3://mortgage-data-refined/light_transformations/hmda/2019/part_part38_0.parquet\n",
      "🔄 Reading and inserting s3://mortgage-data-refined/light_transformations/hmda/2019/part_part39_0.parquet\n",
      "🔄 Reading and inserting s3://mortgage-data-refined/light_transformations/hmda/2019/part_part3_0.parquet\n",
      "🔄 Reading and inserting s3://mortgage-data-refined/light_transformations/hmda/2019/part_part40_0.parquet\n",
      "🔄 Reading and inserting s3://mortgage-data-refined/light_transformations/hmda/2019/part_part41_0.parquet\n",
      "🔄 Reading and inserting s3://mortgage-data-refined/light_transformations/hmda/2019/part_part42_0.parquet\n",
      "🔄 Reading and inserting s3://mortgage-data-refined/light_transformations/hmda/2019/part_part43_0.parquet\n",
      "🔄 Reading and inserting s3://mortgage-data-refined/light_transformations/hmda/2019/part_part44_0.parquet\n",
      "🔄 Reading and inserting s3://mortgage-data-refined/light_transformations/hmda/2019/part_part45_0.parquet\n",
      "🔄 Reading and inserting s3://mortgage-data-refined/light_transformations/hmda/2019/part_part46_0.parquet\n",
      "🔄 Reading and inserting s3://mortgage-data-refined/light_transformations/hmda/2019/part_part47_0.parquet\n",
      "🔄 Reading and inserting s3://mortgage-data-refined/light_transformations/hmda/2019/part_part48_0.parquet\n",
      "🔄 Reading and inserting s3://mortgage-data-refined/light_transformations/hmda/2019/part_part49_0.parquet\n",
      "🔄 Reading and inserting s3://mortgage-data-refined/light_transformations/hmda/2019/part_part4_0.parquet\n",
      "🔄 Reading and inserting s3://mortgage-data-refined/light_transformations/hmda/2019/part_part50_0.parquet\n",
      "🔄 Reading and inserting s3://mortgage-data-refined/light_transformations/hmda/2019/part_part51_0.parquet\n",
      "🔄 Reading and inserting s3://mortgage-data-refined/light_transformations/hmda/2019/part_part52_0.parquet\n",
      "🔄 Reading and inserting s3://mortgage-data-refined/light_transformations/hmda/2019/part_part53_0.parquet\n",
      "🔄 Reading and inserting s3://mortgage-data-refined/light_transformations/hmda/2019/part_part54_0.parquet\n",
      "🔄 Reading and inserting s3://mortgage-data-refined/light_transformations/hmda/2019/part_part55_0.parquet\n",
      "🔄 Reading and inserting s3://mortgage-data-refined/light_transformations/hmda/2019/part_part56_0.parquet\n",
      "🔄 Reading and inserting s3://mortgage-data-refined/light_transformations/hmda/2019/part_part57_0.parquet\n",
      "🔄 Reading and inserting s3://mortgage-data-refined/light_transformations/hmda/2019/part_part58_0.parquet\n",
      "🔄 Reading and inserting s3://mortgage-data-refined/light_transformations/hmda/2019/part_part59_0.parquet\n",
      "🔄 Reading and inserting s3://mortgage-data-refined/light_transformations/hmda/2019/part_part5_0.parquet\n",
      "🔄 Reading and inserting s3://mortgage-data-refined/light_transformations/hmda/2019/part_part60_0.parquet\n",
      "🔄 Reading and inserting s3://mortgage-data-refined/light_transformations/hmda/2019/part_part61_0.parquet\n",
      "🔄 Reading and inserting s3://mortgage-data-refined/light_transformations/hmda/2019/part_part62_0.parquet\n",
      "🔄 Reading and inserting s3://mortgage-data-refined/light_transformations/hmda/2019/part_part63_0.parquet\n",
      "🔄 Reading and inserting s3://mortgage-data-refined/light_transformations/hmda/2019/part_part64_0.parquet\n",
      "🔄 Reading and inserting s3://mortgage-data-refined/light_transformations/hmda/2019/part_part65_0.parquet\n"
     ]
    },
    {
     "data": {
      "application/vnd.jupyter.widget-view+json": {
       "model_id": "4bc7c3874e084765b9bbfeb9c4cdfd31",
       "version_major": 2,
       "version_minor": 0
      },
      "text/plain": [
       "FloatProgress(value=0.0, layout=Layout(width='auto'), style=ProgressStyle(bar_color='black'))"
      ]
     },
     "metadata": {},
     "output_type": "display_data"
    },
    {
     "name": "stdout",
     "output_type": "stream",
     "text": [
      "🔄 Reading and inserting s3://mortgage-data-refined/light_transformations/hmda/2019/part_part66_0.parquet\n",
      "🔄 Reading and inserting s3://mortgage-data-refined/light_transformations/hmda/2019/part_part67_0.parquet\n",
      "🔄 Reading and inserting s3://mortgage-data-refined/light_transformations/hmda/2019/part_part68_0.parquet\n",
      "🔄 Reading and inserting s3://mortgage-data-refined/light_transformations/hmda/2019/part_part69_0.parquet\n",
      "🔄 Reading and inserting s3://mortgage-data-refined/light_transformations/hmda/2019/part_part6_0.parquet\n",
      "🔄 Reading and inserting s3://mortgage-data-refined/light_transformations/hmda/2019/part_part70_0.parquet\n",
      "🔄 Reading and inserting s3://mortgage-data-refined/light_transformations/hmda/2019/part_part7_0.parquet\n",
      "🔄 Reading and inserting s3://mortgage-data-refined/light_transformations/hmda/2019/part_part8_0.parquet\n",
      "🔄 Reading and inserting s3://mortgage-data-refined/light_transformations/hmda/2019/part_part9_0.parquet\n",
      "Processing 2020\n",
      "📦 Found 103 files to insert into hmda_raw\n",
      "🔄 Reading and inserting s3://mortgage-data-refined/light_transformations/hmda/2020/part_part0_0.parquet\n",
      "🔄 Reading and inserting s3://mortgage-data-refined/light_transformations/hmda/2020/part_part100_0.parquet\n",
      "🔄 Reading and inserting s3://mortgage-data-refined/light_transformations/hmda/2020/part_part101_0.parquet\n",
      "🔄 Reading and inserting s3://mortgage-data-refined/light_transformations/hmda/2020/part_part102_0.parquet\n",
      "🔄 Reading and inserting s3://mortgage-data-refined/light_transformations/hmda/2020/part_part10_0.parquet\n",
      "🔄 Reading and inserting s3://mortgage-data-refined/light_transformations/hmda/2020/part_part11_0.parquet\n",
      "🔄 Reading and inserting s3://mortgage-data-refined/light_transformations/hmda/2020/part_part12_0.parquet\n",
      "🔄 Reading and inserting s3://mortgage-data-refined/light_transformations/hmda/2020/part_part13_0.parquet\n",
      "🔄 Reading and inserting s3://mortgage-data-refined/light_transformations/hmda/2020/part_part14_0.parquet\n",
      "🔄 Reading and inserting s3://mortgage-data-refined/light_transformations/hmda/2020/part_part15_0.parquet\n",
      "🔄 Reading and inserting s3://mortgage-data-refined/light_transformations/hmda/2020/part_part16_0.parquet\n",
      "🔄 Reading and inserting s3://mortgage-data-refined/light_transformations/hmda/2020/part_part17_0.parquet\n",
      "🔄 Reading and inserting s3://mortgage-data-refined/light_transformations/hmda/2020/part_part18_0.parquet\n",
      "🔄 Reading and inserting s3://mortgage-data-refined/light_transformations/hmda/2020/part_part19_0.parquet\n",
      "🔄 Reading and inserting s3://mortgage-data-refined/light_transformations/hmda/2020/part_part1_0.parquet\n",
      "🔄 Reading and inserting s3://mortgage-data-refined/light_transformations/hmda/2020/part_part20_0.parquet\n",
      "🔄 Reading and inserting s3://mortgage-data-refined/light_transformations/hmda/2020/part_part21_0.parquet\n",
      "🔄 Reading and inserting s3://mortgage-data-refined/light_transformations/hmda/2020/part_part22_0.parquet\n",
      "🔄 Reading and inserting s3://mortgage-data-refined/light_transformations/hmda/2020/part_part23_0.parquet\n",
      "🔄 Reading and inserting s3://mortgage-data-refined/light_transformations/hmda/2020/part_part24_0.parquet\n",
      "🔄 Reading and inserting s3://mortgage-data-refined/light_transformations/hmda/2020/part_part25_0.parquet\n",
      "🔄 Reading and inserting s3://mortgage-data-refined/light_transformations/hmda/2020/part_part26_0.parquet\n",
      "🔄 Reading and inserting s3://mortgage-data-refined/light_transformations/hmda/2020/part_part27_0.parquet\n",
      "🔄 Reading and inserting s3://mortgage-data-refined/light_transformations/hmda/2020/part_part28_0.parquet\n",
      "🔄 Reading and inserting s3://mortgage-data-refined/light_transformations/hmda/2020/part_part29_0.parquet\n",
      "🔄 Reading and inserting s3://mortgage-data-refined/light_transformations/hmda/2020/part_part2_0.parquet\n",
      "🔄 Reading and inserting s3://mortgage-data-refined/light_transformations/hmda/2020/part_part30_0.parquet\n",
      "🔄 Reading and inserting s3://mortgage-data-refined/light_transformations/hmda/2020/part_part31_0.parquet\n",
      "🔄 Reading and inserting s3://mortgage-data-refined/light_transformations/hmda/2020/part_part32_0.parquet\n",
      "🔄 Reading and inserting s3://mortgage-data-refined/light_transformations/hmda/2020/part_part33_0.parquet\n",
      "🔄 Reading and inserting s3://mortgage-data-refined/light_transformations/hmda/2020/part_part34_0.parquet\n",
      "🔄 Reading and inserting s3://mortgage-data-refined/light_transformations/hmda/2020/part_part35_0.parquet\n",
      "🔄 Reading and inserting s3://mortgage-data-refined/light_transformations/hmda/2020/part_part36_0.parquet\n",
      "🔄 Reading and inserting s3://mortgage-data-refined/light_transformations/hmda/2020/part_part37_0.parquet\n",
      "🔄 Reading and inserting s3://mortgage-data-refined/light_transformations/hmda/2020/part_part38_0.parquet\n",
      "🔄 Reading and inserting s3://mortgage-data-refined/light_transformations/hmda/2020/part_part39_0.parquet\n",
      "🔄 Reading and inserting s3://mortgage-data-refined/light_transformations/hmda/2020/part_part3_0.parquet\n"
     ]
    },
    {
     "data": {
      "application/vnd.jupyter.widget-view+json": {
       "model_id": "68f019876f83465b833961a49562a19c",
       "version_major": 2,
       "version_minor": 0
      },
      "text/plain": [
       "FloatProgress(value=0.0, layout=Layout(width='auto'), style=ProgressStyle(bar_color='black'))"
      ]
     },
     "metadata": {},
     "output_type": "display_data"
    },
    {
     "name": "stdout",
     "output_type": "stream",
     "text": [
      "🔄 Reading and inserting s3://mortgage-data-refined/light_transformations/hmda/2020/part_part40_0.parquet\n",
      "🔄 Reading and inserting s3://mortgage-data-refined/light_transformations/hmda/2020/part_part41_0.parquet\n",
      "🔄 Reading and inserting s3://mortgage-data-refined/light_transformations/hmda/2020/part_part42_0.parquet\n"
     ]
    },
    {
     "data": {
      "application/vnd.jupyter.widget-view+json": {
       "model_id": "893b32b90eb04eddaeab432a75ed406c",
       "version_major": 2,
       "version_minor": 0
      },
      "text/plain": [
       "FloatProgress(value=0.0, layout=Layout(width='auto'), style=ProgressStyle(bar_color='black'))"
      ]
     },
     "metadata": {},
     "output_type": "display_data"
    },
    {
     "name": "stdout",
     "output_type": "stream",
     "text": [
      "🔄 Reading and inserting s3://mortgage-data-refined/light_transformations/hmda/2020/part_part43_0.parquet\n"
     ]
    },
    {
     "data": {
      "application/vnd.jupyter.widget-view+json": {
       "model_id": "670ddd22ce0f45d18e816b44fd6f2495",
       "version_major": 2,
       "version_minor": 0
      },
      "text/plain": [
       "FloatProgress(value=0.0, layout=Layout(width='auto'), style=ProgressStyle(bar_color='black'))"
      ]
     },
     "metadata": {},
     "output_type": "display_data"
    },
    {
     "name": "stdout",
     "output_type": "stream",
     "text": [
      "🔄 Reading and inserting s3://mortgage-data-refined/light_transformations/hmda/2020/part_part44_0.parquet\n",
      "🔄 Reading and inserting s3://mortgage-data-refined/light_transformations/hmda/2020/part_part45_0.parquet\n",
      "🔄 Reading and inserting s3://mortgage-data-refined/light_transformations/hmda/2020/part_part46_0.parquet\n",
      "🔄 Reading and inserting s3://mortgage-data-refined/light_transformations/hmda/2020/part_part47_0.parquet\n",
      "🔄 Reading and inserting s3://mortgage-data-refined/light_transformations/hmda/2020/part_part48_0.parquet\n"
     ]
    },
    {
     "data": {
      "application/vnd.jupyter.widget-view+json": {
       "model_id": "35ca969469374a0bb3a2629029d6e804",
       "version_major": 2,
       "version_minor": 0
      },
      "text/plain": [
       "FloatProgress(value=0.0, layout=Layout(width='auto'), style=ProgressStyle(bar_color='black'))"
      ]
     },
     "metadata": {},
     "output_type": "display_data"
    },
    {
     "name": "stdout",
     "output_type": "stream",
     "text": [
      "🔄 Reading and inserting s3://mortgage-data-refined/light_transformations/hmda/2020/part_part49_0.parquet\n"
     ]
    },
    {
     "data": {
      "application/vnd.jupyter.widget-view+json": {
       "model_id": "5f2b08721a3445c3912792796c756f41",
       "version_major": 2,
       "version_minor": 0
      },
      "text/plain": [
       "FloatProgress(value=0.0, layout=Layout(width='auto'), style=ProgressStyle(bar_color='black'))"
      ]
     },
     "metadata": {},
     "output_type": "display_data"
    },
    {
     "name": "stdout",
     "output_type": "stream",
     "text": [
      "🔄 Reading and inserting s3://mortgage-data-refined/light_transformations/hmda/2020/part_part4_0.parquet\n"
     ]
    },
    {
     "data": {
      "application/vnd.jupyter.widget-view+json": {
       "model_id": "6faf3ff70523410c95d9ae8d246504d3",
       "version_major": 2,
       "version_minor": 0
      },
      "text/plain": [
       "FloatProgress(value=0.0, layout=Layout(width='auto'), style=ProgressStyle(bar_color='black'))"
      ]
     },
     "metadata": {},
     "output_type": "display_data"
    },
    {
     "name": "stdout",
     "output_type": "stream",
     "text": [
      "🔄 Reading and inserting s3://mortgage-data-refined/light_transformations/hmda/2020/part_part50_0.parquet\n"
     ]
    },
    {
     "data": {
      "application/vnd.jupyter.widget-view+json": {
       "model_id": "14b84b547c6e44a2bb9c520948f8c6ea",
       "version_major": 2,
       "version_minor": 0
      },
      "text/plain": [
       "FloatProgress(value=0.0, layout=Layout(width='auto'), style=ProgressStyle(bar_color='black'))"
      ]
     },
     "metadata": {},
     "output_type": "display_data"
    },
    {
     "name": "stdout",
     "output_type": "stream",
     "text": [
      "🔄 Reading and inserting s3://mortgage-data-refined/light_transformations/hmda/2020/part_part51_0.parquet\n",
      "🔄 Reading and inserting s3://mortgage-data-refined/light_transformations/hmda/2020/part_part52_0.parquet\n",
      "🔄 Reading and inserting s3://mortgage-data-refined/light_transformations/hmda/2020/part_part53_0.parquet\n",
      "🔄 Reading and inserting s3://mortgage-data-refined/light_transformations/hmda/2020/part_part54_0.parquet\n",
      "🔄 Reading and inserting s3://mortgage-data-refined/light_transformations/hmda/2020/part_part55_0.parquet\n"
     ]
    },
    {
     "data": {
      "application/vnd.jupyter.widget-view+json": {
       "model_id": "eb12e3d6818e4115951e793e42eb1ae1",
       "version_major": 2,
       "version_minor": 0
      },
      "text/plain": [
       "FloatProgress(value=0.0, layout=Layout(width='auto'), style=ProgressStyle(bar_color='black'))"
      ]
     },
     "metadata": {},
     "output_type": "display_data"
    },
    {
     "name": "stdout",
     "output_type": "stream",
     "text": [
      "🔄 Reading and inserting s3://mortgage-data-refined/light_transformations/hmda/2020/part_part56_0.parquet\n"
     ]
    },
    {
     "data": {
      "application/vnd.jupyter.widget-view+json": {
       "model_id": "d3191ffb0caf4a0fbf4e5553214b93b4",
       "version_major": 2,
       "version_minor": 0
      },
      "text/plain": [
       "FloatProgress(value=0.0, layout=Layout(width='auto'), style=ProgressStyle(bar_color='black'))"
      ]
     },
     "metadata": {},
     "output_type": "display_data"
    },
    {
     "name": "stdout",
     "output_type": "stream",
     "text": [
      "🔄 Reading and inserting s3://mortgage-data-refined/light_transformations/hmda/2020/part_part57_0.parquet\n",
      "🔄 Reading and inserting s3://mortgage-data-refined/light_transformations/hmda/2020/part_part58_0.parquet\n",
      "🔄 Reading and inserting s3://mortgage-data-refined/light_transformations/hmda/2020/part_part59_0.parquet\n"
     ]
    },
    {
     "data": {
      "application/vnd.jupyter.widget-view+json": {
       "model_id": "cc43884d680e4b1cb8ffd16ca0293624",
       "version_major": 2,
       "version_minor": 0
      },
      "text/plain": [
       "FloatProgress(value=0.0, layout=Layout(width='auto'), style=ProgressStyle(bar_color='black'))"
      ]
     },
     "metadata": {},
     "output_type": "display_data"
    },
    {
     "name": "stdout",
     "output_type": "stream",
     "text": [
      "🔄 Reading and inserting s3://mortgage-data-refined/light_transformations/hmda/2020/part_part5_0.parquet\n"
     ]
    },
    {
     "data": {
      "application/vnd.jupyter.widget-view+json": {
       "model_id": "7be39a6d47d44801a2d75c8cbbb7d6e5",
       "version_major": 2,
       "version_minor": 0
      },
      "text/plain": [
       "FloatProgress(value=0.0, layout=Layout(width='auto'), style=ProgressStyle(bar_color='black'))"
      ]
     },
     "metadata": {},
     "output_type": "display_data"
    },
    {
     "name": "stdout",
     "output_type": "stream",
     "text": [
      "🔄 Reading and inserting s3://mortgage-data-refined/light_transformations/hmda/2020/part_part60_0.parquet\n",
      "🔄 Reading and inserting s3://mortgage-data-refined/light_transformations/hmda/2020/part_part61_0.parquet\n",
      "🔄 Reading and inserting s3://mortgage-data-refined/light_transformations/hmda/2020/part_part62_0.parquet\n",
      "🔄 Reading and inserting s3://mortgage-data-refined/light_transformations/hmda/2020/part_part63_0.parquet\n",
      "🔄 Reading and inserting s3://mortgage-data-refined/light_transformations/hmda/2020/part_part64_0.parquet\n",
      "🔄 Reading and inserting s3://mortgage-data-refined/light_transformations/hmda/2020/part_part65_0.parquet\n",
      "🔄 Reading and inserting s3://mortgage-data-refined/light_transformations/hmda/2020/part_part66_0.parquet\n",
      "🔄 Reading and inserting s3://mortgage-data-refined/light_transformations/hmda/2020/part_part67_0.parquet\n",
      "🔄 Reading and inserting s3://mortgage-data-refined/light_transformations/hmda/2020/part_part68_0.parquet\n"
     ]
    },
    {
     "data": {
      "application/vnd.jupyter.widget-view+json": {
       "model_id": "1e15380279c74b37b3997019ff2cf7cd",
       "version_major": 2,
       "version_minor": 0
      },
      "text/plain": [
       "FloatProgress(value=0.0, layout=Layout(width='auto'), style=ProgressStyle(bar_color='black'))"
      ]
     },
     "metadata": {},
     "output_type": "display_data"
    },
    {
     "name": "stdout",
     "output_type": "stream",
     "text": [
      "🔄 Reading and inserting s3://mortgage-data-refined/light_transformations/hmda/2020/part_part69_0.parquet\n",
      "🔄 Reading and inserting s3://mortgage-data-refined/light_transformations/hmda/2020/part_part6_0.parquet\n",
      "🔄 Reading and inserting s3://mortgage-data-refined/light_transformations/hmda/2020/part_part70_0.parquet\n"
     ]
    },
    {
     "data": {
      "application/vnd.jupyter.widget-view+json": {
       "model_id": "f2ac704d2fc54bba83845e1633bbe143",
       "version_major": 2,
       "version_minor": 0
      },
      "text/plain": [
       "FloatProgress(value=0.0, layout=Layout(width='auto'), style=ProgressStyle(bar_color='black'))"
      ]
     },
     "metadata": {},
     "output_type": "display_data"
    },
    {
     "name": "stdout",
     "output_type": "stream",
     "text": [
      "🔄 Reading and inserting s3://mortgage-data-refined/light_transformations/hmda/2020/part_part71_0.parquet\n"
     ]
    },
    {
     "data": {
      "application/vnd.jupyter.widget-view+json": {
       "model_id": "fd16c320280940d19e4658b5dce8a306",
       "version_major": 2,
       "version_minor": 0
      },
      "text/plain": [
       "FloatProgress(value=0.0, layout=Layout(width='auto'), style=ProgressStyle(bar_color='black'))"
      ]
     },
     "metadata": {},
     "output_type": "display_data"
    },
    {
     "name": "stdout",
     "output_type": "stream",
     "text": [
      "🔄 Reading and inserting s3://mortgage-data-refined/light_transformations/hmda/2020/part_part72_0.parquet\n"
     ]
    },
    {
     "data": {
      "application/vnd.jupyter.widget-view+json": {
       "model_id": "80aef72d6e76419ebf8879e87e14280f",
       "version_major": 2,
       "version_minor": 0
      },
      "text/plain": [
       "FloatProgress(value=0.0, layout=Layout(width='auto'), style=ProgressStyle(bar_color='black'))"
      ]
     },
     "metadata": {},
     "output_type": "display_data"
    },
    {
     "name": "stdout",
     "output_type": "stream",
     "text": [
      "🔄 Reading and inserting s3://mortgage-data-refined/light_transformations/hmda/2020/part_part73_0.parquet\n",
      "🔄 Reading and inserting s3://mortgage-data-refined/light_transformations/hmda/2020/part_part74_0.parquet\n",
      "🔄 Reading and inserting s3://mortgage-data-refined/light_transformations/hmda/2020/part_part75_0.parquet\n"
     ]
    },
    {
     "data": {
      "application/vnd.jupyter.widget-view+json": {
       "model_id": "ef28948140e54fd097b3b22110252e64",
       "version_major": 2,
       "version_minor": 0
      },
      "text/plain": [
       "FloatProgress(value=0.0, layout=Layout(width='auto'), style=ProgressStyle(bar_color='black'))"
      ]
     },
     "metadata": {},
     "output_type": "display_data"
    },
    {
     "name": "stdout",
     "output_type": "stream",
     "text": [
      "🔄 Reading and inserting s3://mortgage-data-refined/light_transformations/hmda/2020/part_part76_0.parquet\n"
     ]
    },
    {
     "data": {
      "application/vnd.jupyter.widget-view+json": {
       "model_id": "2893d56c75fd424fb79645495e1278f0",
       "version_major": 2,
       "version_minor": 0
      },
      "text/plain": [
       "FloatProgress(value=0.0, layout=Layout(width='auto'), style=ProgressStyle(bar_color='black'))"
      ]
     },
     "metadata": {},
     "output_type": "display_data"
    },
    {
     "name": "stdout",
     "output_type": "stream",
     "text": [
      "🔄 Reading and inserting s3://mortgage-data-refined/light_transformations/hmda/2020/part_part77_0.parquet\n"
     ]
    },
    {
     "data": {
      "application/vnd.jupyter.widget-view+json": {
       "model_id": "59a84151d82f412c86f034e7765667a6",
       "version_major": 2,
       "version_minor": 0
      },
      "text/plain": [
       "FloatProgress(value=0.0, layout=Layout(width='auto'), style=ProgressStyle(bar_color='black'))"
      ]
     },
     "metadata": {},
     "output_type": "display_data"
    },
    {
     "name": "stdout",
     "output_type": "stream",
     "text": [
      "🔄 Reading and inserting s3://mortgage-data-refined/light_transformations/hmda/2020/part_part78_0.parquet\n"
     ]
    },
    {
     "data": {
      "application/vnd.jupyter.widget-view+json": {
       "model_id": "90274f85afaf44a182e20c077bfd6ce0",
       "version_major": 2,
       "version_minor": 0
      },
      "text/plain": [
       "FloatProgress(value=0.0, layout=Layout(width='auto'), style=ProgressStyle(bar_color='black'))"
      ]
     },
     "metadata": {},
     "output_type": "display_data"
    },
    {
     "name": "stdout",
     "output_type": "stream",
     "text": [
      "🔄 Reading and inserting s3://mortgage-data-refined/light_transformations/hmda/2020/part_part79_0.parquet\n"
     ]
    },
    {
     "data": {
      "application/vnd.jupyter.widget-view+json": {
       "model_id": "e086676c737240719e61f6912f718926",
       "version_major": 2,
       "version_minor": 0
      },
      "text/plain": [
       "FloatProgress(value=0.0, layout=Layout(width='auto'), style=ProgressStyle(bar_color='black'))"
      ]
     },
     "metadata": {},
     "output_type": "display_data"
    },
    {
     "name": "stdout",
     "output_type": "stream",
     "text": [
      "🔄 Reading and inserting s3://mortgage-data-refined/light_transformations/hmda/2020/part_part7_0.parquet\n",
      "🔄 Reading and inserting s3://mortgage-data-refined/light_transformations/hmda/2020/part_part80_0.parquet\n"
     ]
    },
    {
     "data": {
      "application/vnd.jupyter.widget-view+json": {
       "model_id": "7f0aeefd807b49109ca3e5489035e5ed",
       "version_major": 2,
       "version_minor": 0
      },
      "text/plain": [
       "FloatProgress(value=0.0, layout=Layout(width='auto'), style=ProgressStyle(bar_color='black'))"
      ]
     },
     "metadata": {},
     "output_type": "display_data"
    },
    {
     "name": "stdout",
     "output_type": "stream",
     "text": [
      "🔄 Reading and inserting s3://mortgage-data-refined/light_transformations/hmda/2020/part_part81_0.parquet\n",
      "🔄 Reading and inserting s3://mortgage-data-refined/light_transformations/hmda/2020/part_part82_0.parquet\n"
     ]
    },
    {
     "data": {
      "application/vnd.jupyter.widget-view+json": {
       "model_id": "86ed01fbf21249faa00e8667a9d690d4",
       "version_major": 2,
       "version_minor": 0
      },
      "text/plain": [
       "FloatProgress(value=0.0, layout=Layout(width='auto'), style=ProgressStyle(bar_color='black'))"
      ]
     },
     "metadata": {},
     "output_type": "display_data"
    },
    {
     "name": "stdout",
     "output_type": "stream",
     "text": [
      "🔄 Reading and inserting s3://mortgage-data-refined/light_transformations/hmda/2020/part_part83_0.parquet\n"
     ]
    },
    {
     "data": {
      "application/vnd.jupyter.widget-view+json": {
       "model_id": "5a8d84cd65f94f59943455ca0104c39f",
       "version_major": 2,
       "version_minor": 0
      },
      "text/plain": [
       "FloatProgress(value=0.0, layout=Layout(width='auto'), style=ProgressStyle(bar_color='black'))"
      ]
     },
     "metadata": {},
     "output_type": "display_data"
    },
    {
     "name": "stdout",
     "output_type": "stream",
     "text": [
      "🔄 Reading and inserting s3://mortgage-data-refined/light_transformations/hmda/2020/part_part84_0.parquet\n",
      "🔄 Reading and inserting s3://mortgage-data-refined/light_transformations/hmda/2020/part_part85_0.parquet\n",
      "🔄 Reading and inserting s3://mortgage-data-refined/light_transformations/hmda/2020/part_part86_0.parquet\n",
      "🔄 Reading and inserting s3://mortgage-data-refined/light_transformations/hmda/2020/part_part87_0.parquet\n"
     ]
    },
    {
     "data": {
      "application/vnd.jupyter.widget-view+json": {
       "model_id": "46d419c7076c420282e3751d6a3f8017",
       "version_major": 2,
       "version_minor": 0
      },
      "text/plain": [
       "FloatProgress(value=0.0, layout=Layout(width='auto'), style=ProgressStyle(bar_color='black'))"
      ]
     },
     "metadata": {},
     "output_type": "display_data"
    },
    {
     "name": "stdout",
     "output_type": "stream",
     "text": [
      "🔄 Reading and inserting s3://mortgage-data-refined/light_transformations/hmda/2020/part_part88_0.parquet\n"
     ]
    },
    {
     "data": {
      "application/vnd.jupyter.widget-view+json": {
       "model_id": "45cd3058b8f2488a9a41ba4902f3072c",
       "version_major": 2,
       "version_minor": 0
      },
      "text/plain": [
       "FloatProgress(value=0.0, layout=Layout(width='auto'), style=ProgressStyle(bar_color='black'))"
      ]
     },
     "metadata": {},
     "output_type": "display_data"
    },
    {
     "name": "stdout",
     "output_type": "stream",
     "text": [
      "🔄 Reading and inserting s3://mortgage-data-refined/light_transformations/hmda/2020/part_part89_0.parquet\n"
     ]
    },
    {
     "data": {
      "application/vnd.jupyter.widget-view+json": {
       "model_id": "7d7ef039d33d47c483f329a07282162e",
       "version_major": 2,
       "version_minor": 0
      },
      "text/plain": [
       "FloatProgress(value=0.0, layout=Layout(width='auto'), style=ProgressStyle(bar_color='black'))"
      ]
     },
     "metadata": {},
     "output_type": "display_data"
    },
    {
     "name": "stdout",
     "output_type": "stream",
     "text": [
      "🔄 Reading and inserting s3://mortgage-data-refined/light_transformations/hmda/2020/part_part8_0.parquet\n",
      "🔄 Reading and inserting s3://mortgage-data-refined/light_transformations/hmda/2020/part_part90_0.parquet\n",
      "🔄 Reading and inserting s3://mortgage-data-refined/light_transformations/hmda/2020/part_part91_0.parquet\n"
     ]
    },
    {
     "data": {
      "application/vnd.jupyter.widget-view+json": {
       "model_id": "72a805bb74c148cfba44e235d1bc80a9",
       "version_major": 2,
       "version_minor": 0
      },
      "text/plain": [
       "FloatProgress(value=0.0, layout=Layout(width='auto'), style=ProgressStyle(bar_color='black'))"
      ]
     },
     "metadata": {},
     "output_type": "display_data"
    },
    {
     "name": "stdout",
     "output_type": "stream",
     "text": [
      "🔄 Reading and inserting s3://mortgage-data-refined/light_transformations/hmda/2020/part_part92_0.parquet\n",
      "🔄 Reading and inserting s3://mortgage-data-refined/light_transformations/hmda/2020/part_part93_0.parquet\n",
      "🔄 Reading and inserting s3://mortgage-data-refined/light_transformations/hmda/2020/part_part94_0.parquet\n",
      "🔄 Reading and inserting s3://mortgage-data-refined/light_transformations/hmda/2020/part_part95_0.parquet\n",
      "🔄 Reading and inserting s3://mortgage-data-refined/light_transformations/hmda/2020/part_part96_0.parquet\n"
     ]
    },
    {
     "data": {
      "application/vnd.jupyter.widget-view+json": {
       "model_id": "f7238081e5514d7ebe9015298613c158",
       "version_major": 2,
       "version_minor": 0
      },
      "text/plain": [
       "FloatProgress(value=0.0, layout=Layout(width='auto'), style=ProgressStyle(bar_color='black'))"
      ]
     },
     "metadata": {},
     "output_type": "display_data"
    },
    {
     "name": "stdout",
     "output_type": "stream",
     "text": [
      "🔄 Reading and inserting s3://mortgage-data-refined/light_transformations/hmda/2020/part_part97_0.parquet\n"
     ]
    },
    {
     "data": {
      "application/vnd.jupyter.widget-view+json": {
       "model_id": "bf3bc0ef015b4547bcbb1736f2511f4d",
       "version_major": 2,
       "version_minor": 0
      },
      "text/plain": [
       "FloatProgress(value=0.0, layout=Layout(width='auto'), style=ProgressStyle(bar_color='black'))"
      ]
     },
     "metadata": {},
     "output_type": "display_data"
    },
    {
     "name": "stdout",
     "output_type": "stream",
     "text": [
      "🔄 Reading and inserting s3://mortgage-data-refined/light_transformations/hmda/2020/part_part98_0.parquet\n"
     ]
    },
    {
     "data": {
      "application/vnd.jupyter.widget-view+json": {
       "model_id": "8eb2759016a541018dca37131c5d831e",
       "version_major": 2,
       "version_minor": 0
      },
      "text/plain": [
       "FloatProgress(value=0.0, layout=Layout(width='auto'), style=ProgressStyle(bar_color='black'))"
      ]
     },
     "metadata": {},
     "output_type": "display_data"
    },
    {
     "name": "stdout",
     "output_type": "stream",
     "text": [
      "🔄 Reading and inserting s3://mortgage-data-refined/light_transformations/hmda/2020/part_part99_0.parquet\n",
      "🔄 Reading and inserting s3://mortgage-data-refined/light_transformations/hmda/2020/part_part9_0.parquet\n",
      "Processing 2021\n",
      "📦 Found 105 files to insert into hmda_raw\n",
      "🔄 Reading and inserting s3://mortgage-data-refined/light_transformations/hmda/2021/part_part0_0.parquet\n",
      "🔄 Reading and inserting s3://mortgage-data-refined/light_transformations/hmda/2021/part_part100_0.parquet\n",
      "🔄 Reading and inserting s3://mortgage-data-refined/light_transformations/hmda/2021/part_part101_0.parquet\n",
      "🔄 Reading and inserting s3://mortgage-data-refined/light_transformations/hmda/2021/part_part102_0.parquet\n",
      "🔄 Reading and inserting s3://mortgage-data-refined/light_transformations/hmda/2021/part_part103_0.parquet\n",
      "🔄 Reading and inserting s3://mortgage-data-refined/light_transformations/hmda/2021/part_part104_0.parquet\n",
      "🔄 Reading and inserting s3://mortgage-data-refined/light_transformations/hmda/2021/part_part10_0.parquet\n",
      "🔄 Reading and inserting s3://mortgage-data-refined/light_transformations/hmda/2021/part_part11_0.parquet\n"
     ]
    },
    {
     "data": {
      "application/vnd.jupyter.widget-view+json": {
       "model_id": "c40f08d3fbff4a2db78d68ba8f924cda",
       "version_major": 2,
       "version_minor": 0
      },
      "text/plain": [
       "FloatProgress(value=0.0, layout=Layout(width='auto'), style=ProgressStyle(bar_color='black'))"
      ]
     },
     "metadata": {},
     "output_type": "display_data"
    },
    {
     "name": "stdout",
     "output_type": "stream",
     "text": [
      "🔄 Reading and inserting s3://mortgage-data-refined/light_transformations/hmda/2021/part_part12_0.parquet\n"
     ]
    },
    {
     "data": {
      "application/vnd.jupyter.widget-view+json": {
       "model_id": "7ec1b812dd8f42fb890566192a2b85b5",
       "version_major": 2,
       "version_minor": 0
      },
      "text/plain": [
       "FloatProgress(value=0.0, layout=Layout(width='auto'), style=ProgressStyle(bar_color='black'))"
      ]
     },
     "metadata": {},
     "output_type": "display_data"
    },
    {
     "name": "stdout",
     "output_type": "stream",
     "text": [
      "🔄 Reading and inserting s3://mortgage-data-refined/light_transformations/hmda/2021/part_part13_0.parquet\n",
      "🔄 Reading and inserting s3://mortgage-data-refined/light_transformations/hmda/2021/part_part14_0.parquet\n",
      "🔄 Reading and inserting s3://mortgage-data-refined/light_transformations/hmda/2021/part_part15_0.parquet\n",
      "🔄 Reading and inserting s3://mortgage-data-refined/light_transformations/hmda/2021/part_part16_0.parquet\n",
      "🔄 Reading and inserting s3://mortgage-data-refined/light_transformations/hmda/2021/part_part17_0.parquet\n",
      "🔄 Reading and inserting s3://mortgage-data-refined/light_transformations/hmda/2021/part_part18_0.parquet\n",
      "🔄 Reading and inserting s3://mortgage-data-refined/light_transformations/hmda/2021/part_part19_0.parquet\n",
      "🔄 Reading and inserting s3://mortgage-data-refined/light_transformations/hmda/2021/part_part1_0.parquet\n",
      "🔄 Reading and inserting s3://mortgage-data-refined/light_transformations/hmda/2021/part_part20_0.parquet\n",
      "🔄 Reading and inserting s3://mortgage-data-refined/light_transformations/hmda/2021/part_part21_0.parquet\n",
      "🔄 Reading and inserting s3://mortgage-data-refined/light_transformations/hmda/2021/part_part22_0.parquet\n",
      "🔄 Reading and inserting s3://mortgage-data-refined/light_transformations/hmda/2021/part_part23_0.parquet\n",
      "🔄 Reading and inserting s3://mortgage-data-refined/light_transformations/hmda/2021/part_part24_0.parquet\n"
     ]
    },
    {
     "data": {
      "application/vnd.jupyter.widget-view+json": {
       "model_id": "3f1e9c6caf21480a9d17f4a1b06a06e9",
       "version_major": 2,
       "version_minor": 0
      },
      "text/plain": [
       "FloatProgress(value=0.0, layout=Layout(width='auto'), style=ProgressStyle(bar_color='black'))"
      ]
     },
     "metadata": {},
     "output_type": "display_data"
    },
    {
     "name": "stdout",
     "output_type": "stream",
     "text": [
      "🔄 Reading and inserting s3://mortgage-data-refined/light_transformations/hmda/2021/part_part25_0.parquet\n",
      "🔄 Reading and inserting s3://mortgage-data-refined/light_transformations/hmda/2021/part_part26_0.parquet\n",
      "🔄 Reading and inserting s3://mortgage-data-refined/light_transformations/hmda/2021/part_part27_0.parquet\n",
      "🔄 Reading and inserting s3://mortgage-data-refined/light_transformations/hmda/2021/part_part28_0.parquet\n",
      "🔄 Reading and inserting s3://mortgage-data-refined/light_transformations/hmda/2021/part_part29_0.parquet\n",
      "🔄 Reading and inserting s3://mortgage-data-refined/light_transformations/hmda/2021/part_part2_0.parquet\n",
      "🔄 Reading and inserting s3://mortgage-data-refined/light_transformations/hmda/2021/part_part30_0.parquet\n",
      "🔄 Reading and inserting s3://mortgage-data-refined/light_transformations/hmda/2021/part_part31_0.parquet\n",
      "🔄 Reading and inserting s3://mortgage-data-refined/light_transformations/hmda/2021/part_part32_0.parquet\n",
      "🔄 Reading and inserting s3://mortgage-data-refined/light_transformations/hmda/2021/part_part33_0.parquet\n",
      "🔄 Reading and inserting s3://mortgage-data-refined/light_transformations/hmda/2021/part_part34_0.parquet\n",
      "🔄 Reading and inserting s3://mortgage-data-refined/light_transformations/hmda/2021/part_part35_0.parquet\n",
      "🔄 Reading and inserting s3://mortgage-data-refined/light_transformations/hmda/2021/part_part36_0.parquet\n",
      "🔄 Reading and inserting s3://mortgage-data-refined/light_transformations/hmda/2021/part_part37_0.parquet\n",
      "🔄 Reading and inserting s3://mortgage-data-refined/light_transformations/hmda/2021/part_part38_0.parquet\n",
      "🔄 Reading and inserting s3://mortgage-data-refined/light_transformations/hmda/2021/part_part39_0.parquet\n",
      "🔄 Reading and inserting s3://mortgage-data-refined/light_transformations/hmda/2021/part_part3_0.parquet\n",
      "🔄 Reading and inserting s3://mortgage-data-refined/light_transformations/hmda/2021/part_part40_0.parquet\n",
      "🔄 Reading and inserting s3://mortgage-data-refined/light_transformations/hmda/2021/part_part41_0.parquet\n"
     ]
    },
    {
     "data": {
      "application/vnd.jupyter.widget-view+json": {
       "model_id": "84ef7e141d15497a98fc71f5dd772a43",
       "version_major": 2,
       "version_minor": 0
      },
      "text/plain": [
       "FloatProgress(value=0.0, layout=Layout(width='auto'), style=ProgressStyle(bar_color='black'))"
      ]
     },
     "metadata": {},
     "output_type": "display_data"
    },
    {
     "name": "stdout",
     "output_type": "stream",
     "text": [
      "🔄 Reading and inserting s3://mortgage-data-refined/light_transformations/hmda/2021/part_part42_0.parquet\n",
      "🔄 Reading and inserting s3://mortgage-data-refined/light_transformations/hmda/2021/part_part43_0.parquet\n",
      "🔄 Reading and inserting s3://mortgage-data-refined/light_transformations/hmda/2021/part_part44_0.parquet\n",
      "🔄 Reading and inserting s3://mortgage-data-refined/light_transformations/hmda/2021/part_part45_0.parquet\n",
      "🔄 Reading and inserting s3://mortgage-data-refined/light_transformations/hmda/2021/part_part46_0.parquet\n",
      "🔄 Reading and inserting s3://mortgage-data-refined/light_transformations/hmda/2021/part_part47_0.parquet\n",
      "🔄 Reading and inserting s3://mortgage-data-refined/light_transformations/hmda/2021/part_part48_0.parquet\n",
      "🔄 Reading and inserting s3://mortgage-data-refined/light_transformations/hmda/2021/part_part49_0.parquet\n",
      "🔄 Reading and inserting s3://mortgage-data-refined/light_transformations/hmda/2021/part_part4_0.parquet\n",
      "🔄 Reading and inserting s3://mortgage-data-refined/light_transformations/hmda/2021/part_part50_0.parquet\n",
      "🔄 Reading and inserting s3://mortgage-data-refined/light_transformations/hmda/2021/part_part51_0.parquet\n",
      "🔄 Reading and inserting s3://mortgage-data-refined/light_transformations/hmda/2021/part_part52_0.parquet\n",
      "🔄 Reading and inserting s3://mortgage-data-refined/light_transformations/hmda/2021/part_part53_0.parquet\n",
      "🔄 Reading and inserting s3://mortgage-data-refined/light_transformations/hmda/2021/part_part54_0.parquet\n"
     ]
    },
    {
     "data": {
      "application/vnd.jupyter.widget-view+json": {
       "model_id": "c478cd68600d4eeb8c503ac88595dcef",
       "version_major": 2,
       "version_minor": 0
      },
      "text/plain": [
       "FloatProgress(value=0.0, layout=Layout(width='auto'), style=ProgressStyle(bar_color='black'))"
      ]
     },
     "metadata": {},
     "output_type": "display_data"
    },
    {
     "name": "stdout",
     "output_type": "stream",
     "text": [
      "🔄 Reading and inserting s3://mortgage-data-refined/light_transformations/hmda/2021/part_part55_0.parquet\n"
     ]
    },
    {
     "data": {
      "application/vnd.jupyter.widget-view+json": {
       "model_id": "74d6b889d0d7415aa2af301133e341cf",
       "version_major": 2,
       "version_minor": 0
      },
      "text/plain": [
       "FloatProgress(value=0.0, layout=Layout(width='auto'), style=ProgressStyle(bar_color='black'))"
      ]
     },
     "metadata": {},
     "output_type": "display_data"
    },
    {
     "name": "stdout",
     "output_type": "stream",
     "text": [
      "🔄 Reading and inserting s3://mortgage-data-refined/light_transformations/hmda/2021/part_part56_0.parquet\n"
     ]
    },
    {
     "data": {
      "application/vnd.jupyter.widget-view+json": {
       "model_id": "b9590a3445574252ab066400acca96cd",
       "version_major": 2,
       "version_minor": 0
      },
      "text/plain": [
       "FloatProgress(value=0.0, layout=Layout(width='auto'), style=ProgressStyle(bar_color='black'))"
      ]
     },
     "metadata": {},
     "output_type": "display_data"
    },
    {
     "name": "stdout",
     "output_type": "stream",
     "text": [
      "🔄 Reading and inserting s3://mortgage-data-refined/light_transformations/hmda/2021/part_part57_0.parquet\n",
      "🔄 Reading and inserting s3://mortgage-data-refined/light_transformations/hmda/2021/part_part58_0.parquet\n",
      "🔄 Reading and inserting s3://mortgage-data-refined/light_transformations/hmda/2021/part_part59_0.parquet\n",
      "🔄 Reading and inserting s3://mortgage-data-refined/light_transformations/hmda/2021/part_part5_0.parquet\n",
      "🔄 Reading and inserting s3://mortgage-data-refined/light_transformations/hmda/2021/part_part60_0.parquet\n",
      "🔄 Reading and inserting s3://mortgage-data-refined/light_transformations/hmda/2021/part_part61_0.parquet\n",
      "🔄 Reading and inserting s3://mortgage-data-refined/light_transformations/hmda/2021/part_part62_0.parquet\n",
      "🔄 Reading and inserting s3://mortgage-data-refined/light_transformations/hmda/2021/part_part63_0.parquet\n"
     ]
    },
    {
     "data": {
      "application/vnd.jupyter.widget-view+json": {
       "model_id": "56acf48cbe9e4d448a8e7679dde3a504",
       "version_major": 2,
       "version_minor": 0
      },
      "text/plain": [
       "FloatProgress(value=0.0, layout=Layout(width='auto'), style=ProgressStyle(bar_color='black'))"
      ]
     },
     "metadata": {},
     "output_type": "display_data"
    },
    {
     "name": "stdout",
     "output_type": "stream",
     "text": [
      "🔄 Reading and inserting s3://mortgage-data-refined/light_transformations/hmda/2021/part_part64_0.parquet\n",
      "🔄 Reading and inserting s3://mortgage-data-refined/light_transformations/hmda/2021/part_part65_0.parquet\n",
      "🔄 Reading and inserting s3://mortgage-data-refined/light_transformations/hmda/2021/part_part66_0.parquet\n",
      "🔄 Reading and inserting s3://mortgage-data-refined/light_transformations/hmda/2021/part_part67_0.parquet\n",
      "🔄 Reading and inserting s3://mortgage-data-refined/light_transformations/hmda/2021/part_part68_0.parquet\n",
      "🔄 Reading and inserting s3://mortgage-data-refined/light_transformations/hmda/2021/part_part69_0.parquet\n",
      "🔄 Reading and inserting s3://mortgage-data-refined/light_transformations/hmda/2021/part_part6_0.parquet\n",
      "🔄 Reading and inserting s3://mortgage-data-refined/light_transformations/hmda/2021/part_part70_0.parquet\n",
      "🔄 Reading and inserting s3://mortgage-data-refined/light_transformations/hmda/2021/part_part71_0.parquet\n",
      "🔄 Reading and inserting s3://mortgage-data-refined/light_transformations/hmda/2021/part_part72_0.parquet\n",
      "🔄 Reading and inserting s3://mortgage-data-refined/light_transformations/hmda/2021/part_part73_0.parquet\n",
      "🔄 Reading and inserting s3://mortgage-data-refined/light_transformations/hmda/2021/part_part74_0.parquet\n",
      "🔄 Reading and inserting s3://mortgage-data-refined/light_transformations/hmda/2021/part_part75_0.parquet\n",
      "🔄 Reading and inserting s3://mortgage-data-refined/light_transformations/hmda/2021/part_part76_0.parquet\n",
      "🔄 Reading and inserting s3://mortgage-data-refined/light_transformations/hmda/2021/part_part77_0.parquet\n",
      "🔄 Reading and inserting s3://mortgage-data-refined/light_transformations/hmda/2021/part_part78_0.parquet\n",
      "🔄 Reading and inserting s3://mortgage-data-refined/light_transformations/hmda/2021/part_part79_0.parquet\n",
      "🔄 Reading and inserting s3://mortgage-data-refined/light_transformations/hmda/2021/part_part7_0.parquet\n",
      "🔄 Reading and inserting s3://mortgage-data-refined/light_transformations/hmda/2021/part_part80_0.parquet\n",
      "🔄 Reading and inserting s3://mortgage-data-refined/light_transformations/hmda/2021/part_part81_0.parquet\n",
      "🔄 Reading and inserting s3://mortgage-data-refined/light_transformations/hmda/2021/part_part82_0.parquet\n",
      "🔄 Reading and inserting s3://mortgage-data-refined/light_transformations/hmda/2021/part_part83_0.parquet\n",
      "🔄 Reading and inserting s3://mortgage-data-refined/light_transformations/hmda/2021/part_part84_0.parquet\n"
     ]
    },
    {
     "data": {
      "application/vnd.jupyter.widget-view+json": {
       "model_id": "170dc45cd058466a87b7b0ee85971e0f",
       "version_major": 2,
       "version_minor": 0
      },
      "text/plain": [
       "FloatProgress(value=0.0, layout=Layout(width='auto'), style=ProgressStyle(bar_color='black'))"
      ]
     },
     "metadata": {},
     "output_type": "display_data"
    },
    {
     "name": "stdout",
     "output_type": "stream",
     "text": [
      "🔄 Reading and inserting s3://mortgage-data-refined/light_transformations/hmda/2021/part_part85_0.parquet\n",
      "🔄 Reading and inserting s3://mortgage-data-refined/light_transformations/hmda/2021/part_part86_0.parquet\n",
      "🔄 Reading and inserting s3://mortgage-data-refined/light_transformations/hmda/2021/part_part87_0.parquet\n",
      "🔄 Reading and inserting s3://mortgage-data-refined/light_transformations/hmda/2021/part_part88_0.parquet\n",
      "🔄 Reading and inserting s3://mortgage-data-refined/light_transformations/hmda/2021/part_part89_0.parquet\n",
      "🔄 Reading and inserting s3://mortgage-data-refined/light_transformations/hmda/2021/part_part8_0.parquet\n",
      "🔄 Reading and inserting s3://mortgage-data-refined/light_transformations/hmda/2021/part_part90_0.parquet\n"
     ]
    },
    {
     "data": {
      "application/vnd.jupyter.widget-view+json": {
       "model_id": "071558b896d144a49b4908468a68fb53",
       "version_major": 2,
       "version_minor": 0
      },
      "text/plain": [
       "FloatProgress(value=0.0, layout=Layout(width='auto'), style=ProgressStyle(bar_color='black'))"
      ]
     },
     "metadata": {},
     "output_type": "display_data"
    },
    {
     "name": "stdout",
     "output_type": "stream",
     "text": [
      "🔄 Reading and inserting s3://mortgage-data-refined/light_transformations/hmda/2021/part_part91_0.parquet\n"
     ]
    },
    {
     "data": {
      "application/vnd.jupyter.widget-view+json": {
       "model_id": "dca94aac85774c6cbb5d44ce9703af51",
       "version_major": 2,
       "version_minor": 0
      },
      "text/plain": [
       "FloatProgress(value=0.0, layout=Layout(width='auto'), style=ProgressStyle(bar_color='black'))"
      ]
     },
     "metadata": {},
     "output_type": "display_data"
    },
    {
     "name": "stdout",
     "output_type": "stream",
     "text": [
      "🔄 Reading and inserting s3://mortgage-data-refined/light_transformations/hmda/2021/part_part92_0.parquet\n",
      "🔄 Reading and inserting s3://mortgage-data-refined/light_transformations/hmda/2021/part_part93_0.parquet\n",
      "🔄 Reading and inserting s3://mortgage-data-refined/light_transformations/hmda/2021/part_part94_0.parquet\n",
      "🔄 Reading and inserting s3://mortgage-data-refined/light_transformations/hmda/2021/part_part95_0.parquet\n",
      "🔄 Reading and inserting s3://mortgage-data-refined/light_transformations/hmda/2021/part_part96_0.parquet\n"
     ]
    },
    {
     "data": {
      "application/vnd.jupyter.widget-view+json": {
       "model_id": "6f5e353c01714f1ab2537141027cf4a8",
       "version_major": 2,
       "version_minor": 0
      },
      "text/plain": [
       "FloatProgress(value=0.0, layout=Layout(width='auto'), style=ProgressStyle(bar_color='black'))"
      ]
     },
     "metadata": {},
     "output_type": "display_data"
    },
    {
     "name": "stdout",
     "output_type": "stream",
     "text": [
      "🔄 Reading and inserting s3://mortgage-data-refined/light_transformations/hmda/2021/part_part97_0.parquet\n",
      "🔄 Reading and inserting s3://mortgage-data-refined/light_transformations/hmda/2021/part_part98_0.parquet\n",
      "🔄 Reading and inserting s3://mortgage-data-refined/light_transformations/hmda/2021/part_part99_0.parquet\n"
     ]
    },
    {
     "data": {
      "application/vnd.jupyter.widget-view+json": {
       "model_id": "cee68a8f5d964ba18b3d4bb84446783a",
       "version_major": 2,
       "version_minor": 0
      },
      "text/plain": [
       "FloatProgress(value=0.0, layout=Layout(width='auto'), style=ProgressStyle(bar_color='black'))"
      ]
     },
     "metadata": {},
     "output_type": "display_data"
    },
    {
     "name": "stdout",
     "output_type": "stream",
     "text": [
      "🔄 Reading and inserting s3://mortgage-data-refined/light_transformations/hmda/2021/part_part9_0.parquet\n",
      "Processing 2022\n",
      "📦 Found 65 files to insert into hmda_raw\n",
      "🔄 Reading and inserting s3://mortgage-data-refined/light_transformations/hmda/2022/part_part0_0.parquet\n",
      "🔄 Reading and inserting s3://mortgage-data-refined/light_transformations/hmda/2022/part_part10_0.parquet\n",
      "🔄 Reading and inserting s3://mortgage-data-refined/light_transformations/hmda/2022/part_part11_0.parquet\n",
      "🔄 Reading and inserting s3://mortgage-data-refined/light_transformations/hmda/2022/part_part12_0.parquet\n",
      "🔄 Reading and inserting s3://mortgage-data-refined/light_transformations/hmda/2022/part_part13_0.parquet\n",
      "🔄 Reading and inserting s3://mortgage-data-refined/light_transformations/hmda/2022/part_part14_0.parquet\n",
      "🔄 Reading and inserting s3://mortgage-data-refined/light_transformations/hmda/2022/part_part15_0.parquet\n",
      "🔄 Reading and inserting s3://mortgage-data-refined/light_transformations/hmda/2022/part_part16_0.parquet\n",
      "🔄 Reading and inserting s3://mortgage-data-refined/light_transformations/hmda/2022/part_part17_0.parquet\n",
      "🔄 Reading and inserting s3://mortgage-data-refined/light_transformations/hmda/2022/part_part18_0.parquet\n",
      "🔄 Reading and inserting s3://mortgage-data-refined/light_transformations/hmda/2022/part_part19_0.parquet\n",
      "🔄 Reading and inserting s3://mortgage-data-refined/light_transformations/hmda/2022/part_part1_0.parquet\n",
      "🔄 Reading and inserting s3://mortgage-data-refined/light_transformations/hmda/2022/part_part20_0.parquet\n",
      "🔄 Reading and inserting s3://mortgage-data-refined/light_transformations/hmda/2022/part_part21_0.parquet\n",
      "🔄 Reading and inserting s3://mortgage-data-refined/light_transformations/hmda/2022/part_part22_0.parquet\n",
      "🔄 Reading and inserting s3://mortgage-data-refined/light_transformations/hmda/2022/part_part23_0.parquet\n",
      "🔄 Reading and inserting s3://mortgage-data-refined/light_transformations/hmda/2022/part_part24_0.parquet\n",
      "🔄 Reading and inserting s3://mortgage-data-refined/light_transformations/hmda/2022/part_part25_0.parquet\n",
      "🔄 Reading and inserting s3://mortgage-data-refined/light_transformations/hmda/2022/part_part26_0.parquet\n",
      "🔄 Reading and inserting s3://mortgage-data-refined/light_transformations/hmda/2022/part_part27_0.parquet\n",
      "🔄 Reading and inserting s3://mortgage-data-refined/light_transformations/hmda/2022/part_part28_0.parquet\n",
      "🔄 Reading and inserting s3://mortgage-data-refined/light_transformations/hmda/2022/part_part29_0.parquet\n",
      "🔄 Reading and inserting s3://mortgage-data-refined/light_transformations/hmda/2022/part_part2_0.parquet\n",
      "🔄 Reading and inserting s3://mortgage-data-refined/light_transformations/hmda/2022/part_part30_0.parquet\n",
      "🔄 Reading and inserting s3://mortgage-data-refined/light_transformations/hmda/2022/part_part31_0.parquet\n",
      "🔄 Reading and inserting s3://mortgage-data-refined/light_transformations/hmda/2022/part_part32_0.parquet\n",
      "🔄 Reading and inserting s3://mortgage-data-refined/light_transformations/hmda/2022/part_part33_0.parquet\n",
      "🔄 Reading and inserting s3://mortgage-data-refined/light_transformations/hmda/2022/part_part34_0.parquet\n",
      "🔄 Reading and inserting s3://mortgage-data-refined/light_transformations/hmda/2022/part_part35_0.parquet\n",
      "🔄 Reading and inserting s3://mortgage-data-refined/light_transformations/hmda/2022/part_part36_0.parquet\n",
      "🔄 Reading and inserting s3://mortgage-data-refined/light_transformations/hmda/2022/part_part37_0.parquet\n",
      "🔄 Reading and inserting s3://mortgage-data-refined/light_transformations/hmda/2022/part_part38_0.parquet\n",
      "🔄 Reading and inserting s3://mortgage-data-refined/light_transformations/hmda/2022/part_part39_0.parquet\n",
      "🔄 Reading and inserting s3://mortgage-data-refined/light_transformations/hmda/2022/part_part3_0.parquet\n",
      "🔄 Reading and inserting s3://mortgage-data-refined/light_transformations/hmda/2022/part_part40_0.parquet\n",
      "🔄 Reading and inserting s3://mortgage-data-refined/light_transformations/hmda/2022/part_part41_0.parquet\n",
      "🔄 Reading and inserting s3://mortgage-data-refined/light_transformations/hmda/2022/part_part42_0.parquet\n",
      "🔄 Reading and inserting s3://mortgage-data-refined/light_transformations/hmda/2022/part_part43_0.parquet\n",
      "🔄 Reading and inserting s3://mortgage-data-refined/light_transformations/hmda/2022/part_part44_0.parquet\n",
      "🔄 Reading and inserting s3://mortgage-data-refined/light_transformations/hmda/2022/part_part45_0.parquet\n",
      "🔄 Reading and inserting s3://mortgage-data-refined/light_transformations/hmda/2022/part_part46_0.parquet\n",
      "🔄 Reading and inserting s3://mortgage-data-refined/light_transformations/hmda/2022/part_part47_0.parquet\n",
      "🔄 Reading and inserting s3://mortgage-data-refined/light_transformations/hmda/2022/part_part48_0.parquet\n",
      "🔄 Reading and inserting s3://mortgage-data-refined/light_transformations/hmda/2022/part_part49_0.parquet\n",
      "🔄 Reading and inserting s3://mortgage-data-refined/light_transformations/hmda/2022/part_part4_0.parquet\n",
      "🔄 Reading and inserting s3://mortgage-data-refined/light_transformations/hmda/2022/part_part50_0.parquet\n"
     ]
    },
    {
     "data": {
      "application/vnd.jupyter.widget-view+json": {
       "model_id": "aa336955da6a45feabe7339e201d3a99",
       "version_major": 2,
       "version_minor": 0
      },
      "text/plain": [
       "FloatProgress(value=0.0, layout=Layout(width='auto'), style=ProgressStyle(bar_color='black'))"
      ]
     },
     "metadata": {},
     "output_type": "display_data"
    },
    {
     "name": "stdout",
     "output_type": "stream",
     "text": [
      "🔄 Reading and inserting s3://mortgage-data-refined/light_transformations/hmda/2022/part_part51_0.parquet\n",
      "🔄 Reading and inserting s3://mortgage-data-refined/light_transformations/hmda/2022/part_part52_0.parquet\n",
      "🔄 Reading and inserting s3://mortgage-data-refined/light_transformations/hmda/2022/part_part53_0.parquet\n",
      "🔄 Reading and inserting s3://mortgage-data-refined/light_transformations/hmda/2022/part_part54_0.parquet\n",
      "🔄 Reading and inserting s3://mortgage-data-refined/light_transformations/hmda/2022/part_part55_0.parquet\n",
      "🔄 Reading and inserting s3://mortgage-data-refined/light_transformations/hmda/2022/part_part56_0.parquet\n",
      "🔄 Reading and inserting s3://mortgage-data-refined/light_transformations/hmda/2022/part_part57_0.parquet\n",
      "🔄 Reading and inserting s3://mortgage-data-refined/light_transformations/hmda/2022/part_part58_0.parquet\n",
      "🔄 Reading and inserting s3://mortgage-data-refined/light_transformations/hmda/2022/part_part59_0.parquet\n",
      "🔄 Reading and inserting s3://mortgage-data-refined/light_transformations/hmda/2022/part_part5_0.parquet\n",
      "🔄 Reading and inserting s3://mortgage-data-refined/light_transformations/hmda/2022/part_part60_0.parquet\n",
      "🔄 Reading and inserting s3://mortgage-data-refined/light_transformations/hmda/2022/part_part61_0.parquet\n",
      "🔄 Reading and inserting s3://mortgage-data-refined/light_transformations/hmda/2022/part_part62_0.parquet\n",
      "🔄 Reading and inserting s3://mortgage-data-refined/light_transformations/hmda/2022/part_part63_0.parquet\n",
      "🔄 Reading and inserting s3://mortgage-data-refined/light_transformations/hmda/2022/part_part64_0.parquet\n",
      "🔄 Reading and inserting s3://mortgage-data-refined/light_transformations/hmda/2022/part_part6_0.parquet\n"
     ]
    },
    {
     "data": {
      "application/vnd.jupyter.widget-view+json": {
       "model_id": "5e1c39f30a2c423abf4adc1bcaa92fd3",
       "version_major": 2,
       "version_minor": 0
      },
      "text/plain": [
       "FloatProgress(value=0.0, layout=Layout(width='auto'), style=ProgressStyle(bar_color='black'))"
      ]
     },
     "metadata": {},
     "output_type": "display_data"
    },
    {
     "name": "stdout",
     "output_type": "stream",
     "text": [
      "🔄 Reading and inserting s3://mortgage-data-refined/light_transformations/hmda/2022/part_part7_0.parquet\n",
      "🔄 Reading and inserting s3://mortgage-data-refined/light_transformations/hmda/2022/part_part8_0.parquet\n",
      "🔄 Reading and inserting s3://mortgage-data-refined/light_transformations/hmda/2022/part_part9_0.parquet\n",
      "Processing 2023\n",
      "📦 Found 46 files to insert into hmda_raw\n",
      "🔄 Reading and inserting s3://mortgage-data-refined/light_transformations/hmda/2023/part_part0_0.parquet\n",
      "🔄 Reading and inserting s3://mortgage-data-refined/light_transformations/hmda/2023/part_part10_0.parquet\n",
      "🔄 Reading and inserting s3://mortgage-data-refined/light_transformations/hmda/2023/part_part11_0.parquet\n",
      "🔄 Reading and inserting s3://mortgage-data-refined/light_transformations/hmda/2023/part_part12_0.parquet\n",
      "🔄 Reading and inserting s3://mortgage-data-refined/light_transformations/hmda/2023/part_part13_0.parquet\n",
      "🔄 Reading and inserting s3://mortgage-data-refined/light_transformations/hmda/2023/part_part14_0.parquet\n"
     ]
    },
    {
     "data": {
      "application/vnd.jupyter.widget-view+json": {
       "model_id": "3e995b8688de48538cfe7320b45ef445",
       "version_major": 2,
       "version_minor": 0
      },
      "text/plain": [
       "FloatProgress(value=0.0, layout=Layout(width='auto'), style=ProgressStyle(bar_color='black'))"
      ]
     },
     "metadata": {},
     "output_type": "display_data"
    },
    {
     "name": "stdout",
     "output_type": "stream",
     "text": [
      "🔄 Reading and inserting s3://mortgage-data-refined/light_transformations/hmda/2023/part_part15_0.parquet\n",
      "🔄 Reading and inserting s3://mortgage-data-refined/light_transformations/hmda/2023/part_part16_0.parquet\n",
      "🔄 Reading and inserting s3://mortgage-data-refined/light_transformations/hmda/2023/part_part17_0.parquet\n",
      "🔄 Reading and inserting s3://mortgage-data-refined/light_transformations/hmda/2023/part_part18_0.parquet\n",
      "🔄 Reading and inserting s3://mortgage-data-refined/light_transformations/hmda/2023/part_part19_0.parquet\n",
      "🔄 Reading and inserting s3://mortgage-data-refined/light_transformations/hmda/2023/part_part1_0.parquet\n",
      "🔄 Reading and inserting s3://mortgage-data-refined/light_transformations/hmda/2023/part_part20_0.parquet\n",
      "🔄 Reading and inserting s3://mortgage-data-refined/light_transformations/hmda/2023/part_part21_0.parquet\n",
      "🔄 Reading and inserting s3://mortgage-data-refined/light_transformations/hmda/2023/part_part22_0.parquet\n"
     ]
    },
    {
     "data": {
      "application/vnd.jupyter.widget-view+json": {
       "model_id": "4368d071ac634ac28451f8f2da233b88",
       "version_major": 2,
       "version_minor": 0
      },
      "text/plain": [
       "FloatProgress(value=0.0, layout=Layout(width='auto'), style=ProgressStyle(bar_color='black'))"
      ]
     },
     "metadata": {},
     "output_type": "display_data"
    },
    {
     "name": "stdout",
     "output_type": "stream",
     "text": [
      "🔄 Reading and inserting s3://mortgage-data-refined/light_transformations/hmda/2023/part_part23_0.parquet\n"
     ]
    },
    {
     "data": {
      "application/vnd.jupyter.widget-view+json": {
       "model_id": "ea17e92beb8d49ff9bd45775f06f9d74",
       "version_major": 2,
       "version_minor": 0
      },
      "text/plain": [
       "FloatProgress(value=0.0, layout=Layout(width='auto'), style=ProgressStyle(bar_color='black'))"
      ]
     },
     "metadata": {},
     "output_type": "display_data"
    },
    {
     "name": "stdout",
     "output_type": "stream",
     "text": [
      "🔄 Reading and inserting s3://mortgage-data-refined/light_transformations/hmda/2023/part_part24_0.parquet\n",
      "🔄 Reading and inserting s3://mortgage-data-refined/light_transformations/hmda/2023/part_part25_0.parquet\n"
     ]
    },
    {
     "data": {
      "application/vnd.jupyter.widget-view+json": {
       "model_id": "2d5dbcded7a94155b2467c0981f2716b",
       "version_major": 2,
       "version_minor": 0
      },
      "text/plain": [
       "FloatProgress(value=0.0, layout=Layout(width='auto'), style=ProgressStyle(bar_color='black'))"
      ]
     },
     "metadata": {},
     "output_type": "display_data"
    },
    {
     "name": "stdout",
     "output_type": "stream",
     "text": [
      "🔄 Reading and inserting s3://mortgage-data-refined/light_transformations/hmda/2023/part_part26_0.parquet\n"
     ]
    },
    {
     "data": {
      "application/vnd.jupyter.widget-view+json": {
       "model_id": "3a63aca512f74e3297846120b8c7ede2",
       "version_major": 2,
       "version_minor": 0
      },
      "text/plain": [
       "FloatProgress(value=0.0, layout=Layout(width='auto'), style=ProgressStyle(bar_color='black'))"
      ]
     },
     "metadata": {},
     "output_type": "display_data"
    },
    {
     "name": "stdout",
     "output_type": "stream",
     "text": [
      "🔄 Reading and inserting s3://mortgage-data-refined/light_transformations/hmda/2023/part_part27_0.parquet\n",
      "🔄 Reading and inserting s3://mortgage-data-refined/light_transformations/hmda/2023/part_part28_0.parquet\n",
      "🔄 Reading and inserting s3://mortgage-data-refined/light_transformations/hmda/2023/part_part29_0.parquet\n",
      "🔄 Reading and inserting s3://mortgage-data-refined/light_transformations/hmda/2023/part_part2_0.parquet\n",
      "🔄 Reading and inserting s3://mortgage-data-refined/light_transformations/hmda/2023/part_part30_0.parquet\n",
      "🔄 Reading and inserting s3://mortgage-data-refined/light_transformations/hmda/2023/part_part31_0.parquet\n",
      "🔄 Reading and inserting s3://mortgage-data-refined/light_transformations/hmda/2023/part_part32_0.parquet\n"
     ]
    },
    {
     "data": {
      "application/vnd.jupyter.widget-view+json": {
       "model_id": "4e062b4c06534a448a9c39b4ac00cf94",
       "version_major": 2,
       "version_minor": 0
      },
      "text/plain": [
       "FloatProgress(value=0.0, layout=Layout(width='auto'), style=ProgressStyle(bar_color='black'))"
      ]
     },
     "metadata": {},
     "output_type": "display_data"
    },
    {
     "name": "stdout",
     "output_type": "stream",
     "text": [
      "🔄 Reading and inserting s3://mortgage-data-refined/light_transformations/hmda/2023/part_part33_0.parquet\n",
      "🔄 Reading and inserting s3://mortgage-data-refined/light_transformations/hmda/2023/part_part34_0.parquet\n",
      "🔄 Reading and inserting s3://mortgage-data-refined/light_transformations/hmda/2023/part_part35_0.parquet\n",
      "🔄 Reading and inserting s3://mortgage-data-refined/light_transformations/hmda/2023/part_part36_0.parquet\n",
      "🔄 Reading and inserting s3://mortgage-data-refined/light_transformations/hmda/2023/part_part37_0.parquet\n",
      "🔄 Reading and inserting s3://mortgage-data-refined/light_transformations/hmda/2023/part_part38_0.parquet\n",
      "🔄 Reading and inserting s3://mortgage-data-refined/light_transformations/hmda/2023/part_part39_0.parquet\n"
     ]
    },
    {
     "data": {
      "application/vnd.jupyter.widget-view+json": {
       "model_id": "8aefcd33f07940c48854e088b21aba92",
       "version_major": 2,
       "version_minor": 0
      },
      "text/plain": [
       "FloatProgress(value=0.0, layout=Layout(width='auto'), style=ProgressStyle(bar_color='black'))"
      ]
     },
     "metadata": {},
     "output_type": "display_data"
    },
    {
     "name": "stdout",
     "output_type": "stream",
     "text": [
      "🔄 Reading and inserting s3://mortgage-data-refined/light_transformations/hmda/2023/part_part3_0.parquet\n",
      "🔄 Reading and inserting s3://mortgage-data-refined/light_transformations/hmda/2023/part_part40_0.parquet\n",
      "🔄 Reading and inserting s3://mortgage-data-refined/light_transformations/hmda/2023/part_part41_0.parquet\n",
      "🔄 Reading and inserting s3://mortgage-data-refined/light_transformations/hmda/2023/part_part42_0.parquet\n",
      "🔄 Reading and inserting s3://mortgage-data-refined/light_transformations/hmda/2023/part_part43_0.parquet\n",
      "🔄 Reading and inserting s3://mortgage-data-refined/light_transformations/hmda/2023/part_part44_0.parquet\n",
      "🔄 Reading and inserting s3://mortgage-data-refined/light_transformations/hmda/2023/part_part45_0.parquet\n",
      "🔄 Reading and inserting s3://mortgage-data-refined/light_transformations/hmda/2023/part_part4_0.parquet\n",
      "🔄 Reading and inserting s3://mortgage-data-refined/light_transformations/hmda/2023/part_part5_0.parquet\n",
      "🔄 Reading and inserting s3://mortgage-data-refined/light_transformations/hmda/2023/part_part6_0.parquet\n",
      "🔄 Reading and inserting s3://mortgage-data-refined/light_transformations/hmda/2023/part_part7_0.parquet\n",
      "🔄 Reading and inserting s3://mortgage-data-refined/light_transformations/hmda/2023/part_part8_0.parquet\n",
      "🔄 Reading and inserting s3://mortgage-data-refined/light_transformations/hmda/2023/part_part9_0.parquet\n"
     ]
    }
   ],
   "source": [
    "for year in range(2018, 2024): \n",
    "    print(f\"Processing {year}\")\n",
    "    insert_parquet_files_into_duckdb(\n",
    "        con,\n",
    "        table_name=\"hmda_raw\",\n",
    "        s3_prefix=f\"mortgage-data-refined/light_transformations/hmda/{year}\",\n",
    "        profile=\"AdministratorAccess-769392325318\", \n",
    "        max_files=None\n",
    "    )"
   ]
  },
  {
   "cell_type": "code",
   "execution_count": 18,
   "id": "2f4d702d",
   "metadata": {},
   "outputs": [],
   "source": [
    "def execute_sql_return_df(sql_text): \n",
    "    df = con.execute(sql_text).fetchdf()\n",
    "    return df"
   ]
  },
  {
   "cell_type": "code",
   "execution_count": 5,
   "id": "06bd259a",
   "metadata": {},
   "outputs": [],
   "source": [
    "def execute_sql_print_result(sql_text): \n",
    "    results = con.execute(sql_text).fetchall()\n",
    "    print(results)"
   ]
  },
  {
   "cell_type": "code",
   "execution_count": 7,
   "id": "07ac3012",
   "metadata": {},
   "outputs": [
    {
     "name": "stdout",
     "output_type": "stream",
     "text": [
      "[]\n"
     ]
    }
   ],
   "source": [
    "text = '''\n",
    "show all tables\n",
    "'''\n",
    "execute_sql_print_result(text)"
   ]
  },
  {
   "cell_type": "code",
   "execution_count": 8,
   "id": "c7fc1c41",
   "metadata": {},
   "outputs": [],
   "source": [
    "con.close()"
   ]
  },
  {
   "cell_type": "code",
   "execution_count": null,
   "id": "2b75c855",
   "metadata": {},
   "outputs": [],
   "source": []
  }
 ],
 "metadata": {
  "kernelspec": {
   "display_name": "Python 3 (ipykernel)",
   "language": "python",
   "name": "python3"
  },
  "language_info": {
   "codemirror_mode": {
    "name": "ipython",
    "version": 3
   },
   "file_extension": ".py",
   "mimetype": "text/x-python",
   "name": "python",
   "nbconvert_exporter": "python",
   "pygments_lexer": "ipython3",
   "version": "3.11.6"
  }
 },
 "nbformat": 4,
 "nbformat_minor": 5
}
