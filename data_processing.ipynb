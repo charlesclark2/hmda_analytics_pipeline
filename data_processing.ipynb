{
 "cells": [
  {
   "cell_type": "code",
   "execution_count": 1,
   "id": "22eef65a",
   "metadata": {},
   "outputs": [],
   "source": [
    "import pandas as pd\n",
    "import numpy as np\n",
    "import matplotlib.pyplot as plt\n",
    "import seaborn as sns"
   ]
  },
  {
   "cell_type": "code",
   "execution_count": 44,
   "id": "0e84e71d",
   "metadata": {},
   "outputs": [],
   "source": [
    "def split_txt_file(filepath, path_prefix='./data/hmda/', lines_per_file=100000, target_state=\"WI\", target_county=\"55079\"):\n",
    "    filenames = []\n",
    "    root_file_name = filepath.split('/')[-1].split('.txt')[0]\n",
    "    smallfile = None\n",
    "    file_counter = 0\n",
    "    line_counter = 0\n",
    "    with open(filepath, \"r\") as bigfile:\n",
    "        for line in bigfile: \n",
    "            columns = line.strip().split(\"|\")\n",
    "            if len(columns) > 9 and columns[9] == target_state and columns[10] == target_county: \n",
    "                if line_counter % lines_per_file == 0: \n",
    "                    if smallfile: \n",
    "                        smallfile.close()\n",
    "                    small_filename = f\"{path_prefix}{root_file_name}_part{file_counter}.txt\"\n",
    "                    smallfile = open(small_filename, \"w\")\n",
    "                    file_counter += 1\n",
    "                    filenames.append(small_filename)\n",
    "                smallfile.write(line)\n",
    "                line_counter += 1\n",
    "                \n",
    "    if smallfile: \n",
    "        smallfile.close()\n",
    "    return filenames"
   ]
  },
  {
   "cell_type": "code",
   "execution_count": 45,
   "id": "e1f0b159",
   "metadata": {},
   "outputs": [],
   "source": [
    "comb_mlar_filenames = split_txt_file(\"./data/hmda/2023_hmda_combined_mlar_raw.txt\")"
   ]
  },
  {
   "cell_type": "code",
   "execution_count": 46,
   "id": "26cb720e",
   "metadata": {},
   "outputs": [],
   "source": [
    "combined_mlar_cols = [\n",
    "    'activity_year', \n",
    "    'legal_entity_identifier', \n",
    "    'loan_type', \n",
    "    'loan_purpose', \n",
    "    'preapproval', \n",
    "    'construction_method', \n",
    "    'occupancy_type', \n",
    "    'loan_amount', \n",
    "    'action_taken', \n",
    "    'property_state', \n",
    "    'property_county', \n",
    "    'census_tract', \n",
    "    'borrower_one_ethnicity', \n",
    "    'borrower_two_ethnicity', \n",
    "    'borrower_three_ethnicity', \n",
    "    'borrower_four_ethnicity', \n",
    "    'borrower_five_ethnicity', \n",
    "    'co_borrower_one_ethnicity', \n",
    "    'co_borrower_two_ethnicity', \n",
    "    'co_borrower_three_ethnicity', \n",
    "    'co_borrower_four_ethnicity', \n",
    "    'co_borrower_five_ethnicity', \n",
    "    'borrower_ethnicity_based_on_obs', \n",
    "    'co_borrower_ethnicity_based_on_obs', \n",
    "    'borrower_one_race', \n",
    "    'borrower_two_race', \n",
    "    'borrower_three_race', \n",
    "    'borrower_four_race', \n",
    "    'borrower_five_race', \n",
    "    'co_borrower_one_race', \n",
    "    'co_borrower_two_race', \n",
    "    'co_borrower_three_race', \n",
    "    'co_borrower_four_race', \n",
    "    'co_borrower_five_race', \n",
    "    'borrower_race_based_on_obs', \n",
    "    'co_borrower_race_based_on_obs',\n",
    "    'borrower_gender', \n",
    "    'co_borrower_gender', \n",
    "    'borrower_gender_based_on_obs', \n",
    "    'co_borrower_gender_based_on_obs',\n",
    "    'borrower_age', \n",
    "    'is_borrower_62_or_older', \n",
    "    'co_borrower_age', \n",
    "    'is_co_borrower_62_or_older', \n",
    "    'income', \n",
    "    'type_of_purchaser', \n",
    "    'rate_spread', \n",
    "    'hoepa_status', \n",
    "    'lien_status', \n",
    "    'borrower_credit_score_model', \n",
    "    'co_borrower_credit_score_model', \n",
    "    'reason_for_denial_one',\n",
    "    'reason_for_denial_two', \n",
    "    'reason_for_denial_three', \n",
    "    'reason_for_denial_four', \n",
    "    'total_loan_costs', \n",
    "    'total_points_and_fees', \n",
    "    'origination_charges', \n",
    "    'discount_points', \n",
    "    'lender_credits', \n",
    "    'interest_rate', \n",
    "    'prepayment_penalty_term', \n",
    "    'debt_to_income_ratio', \n",
    "    'combined_loan_to_value_ratio', \n",
    "    'loan_term_months', \n",
    "    'intro_rate_period', \n",
    "    'balloon_payment', \n",
    "    'interest_only_payments', \n",
    "    'negative_amortization', \n",
    "    'other_non_amortizing_features', \n",
    "    'property_value', \n",
    "    'manufactured_home_property_type', \n",
    "    'manufactured_home_land_property_interest', \n",
    "    'total_units', \n",
    "    'multifamily_affordable_units', \n",
    "    'submission_of_application', \n",
    "    'is_init_payable_to_institution', \n",
    "    'auto_underwriting_system_one', \n",
    "    'auto_underwriting_system_two', \n",
    "    'auto_underwriting_system_three', \n",
    "    'auto_underwriting_system_four', \n",
    "    'auto_underwriting_system_five', \n",
    "    'is_reverse_mortgage', \n",
    "    'is_open_end_line_of_credit', \n",
    "    'is_for_business_purpose'\n",
    "]"
   ]
  },
  {
   "cell_type": "code",
   "execution_count": 47,
   "id": "c752e3f9",
   "metadata": {},
   "outputs": [
    {
     "data": {
      "text/html": [
       "<div>\n",
       "<style scoped>\n",
       "    .dataframe tbody tr th:only-of-type {\n",
       "        vertical-align: middle;\n",
       "    }\n",
       "\n",
       "    .dataframe tbody tr th {\n",
       "        vertical-align: top;\n",
       "    }\n",
       "\n",
       "    .dataframe thead th {\n",
       "        text-align: right;\n",
       "    }\n",
       "</style>\n",
       "<table border=\"1\" class=\"dataframe\">\n",
       "  <thead>\n",
       "    <tr style=\"text-align: right;\">\n",
       "      <th></th>\n",
       "      <th>activity_year</th>\n",
       "      <th>legal_entity_identifier</th>\n",
       "      <th>loan_type</th>\n",
       "      <th>loan_purpose</th>\n",
       "      <th>preapproval</th>\n",
       "      <th>construction_method</th>\n",
       "      <th>occupancy_type</th>\n",
       "      <th>loan_amount</th>\n",
       "      <th>action_taken</th>\n",
       "      <th>property_state</th>\n",
       "      <th>...</th>\n",
       "      <th>submission_of_application</th>\n",
       "      <th>is_init_payable_to_institution</th>\n",
       "      <th>auto_underwriting_system_one</th>\n",
       "      <th>auto_underwriting_system_two</th>\n",
       "      <th>auto_underwriting_system_three</th>\n",
       "      <th>auto_underwriting_system_four</th>\n",
       "      <th>auto_underwriting_system_five</th>\n",
       "      <th>is_reverse_mortgage</th>\n",
       "      <th>is_open_end_line_of_credit</th>\n",
       "      <th>is_for_business_purpose</th>\n",
       "    </tr>\n",
       "  </thead>\n",
       "  <tbody>\n",
       "    <tr>\n",
       "      <th>0</th>\n",
       "      <td>2023</td>\n",
       "      <td>549300HN58ONH5KNJJ12</td>\n",
       "      <td>1</td>\n",
       "      <td>31</td>\n",
       "      <td>2</td>\n",
       "      <td>1</td>\n",
       "      <td>1</td>\n",
       "      <td>595000</td>\n",
       "      <td>1</td>\n",
       "      <td>WI</td>\n",
       "      <td>...</td>\n",
       "      <td>1</td>\n",
       "      <td>1</td>\n",
       "      <td>1</td>\n",
       "      <td>NaN</td>\n",
       "      <td>NaN</td>\n",
       "      <td>NaN</td>\n",
       "      <td>NaN</td>\n",
       "      <td>2</td>\n",
       "      <td>2</td>\n",
       "      <td>2</td>\n",
       "    </tr>\n",
       "    <tr>\n",
       "      <th>1</th>\n",
       "      <td>2023</td>\n",
       "      <td>549300HN58ONH5KNJJ12</td>\n",
       "      <td>1</td>\n",
       "      <td>1</td>\n",
       "      <td>1</td>\n",
       "      <td>1</td>\n",
       "      <td>1</td>\n",
       "      <td>75000</td>\n",
       "      <td>1</td>\n",
       "      <td>WI</td>\n",
       "      <td>...</td>\n",
       "      <td>1</td>\n",
       "      <td>1</td>\n",
       "      <td>6</td>\n",
       "      <td>NaN</td>\n",
       "      <td>NaN</td>\n",
       "      <td>NaN</td>\n",
       "      <td>NaN</td>\n",
       "      <td>2</td>\n",
       "      <td>2</td>\n",
       "      <td>2</td>\n",
       "    </tr>\n",
       "    <tr>\n",
       "      <th>2</th>\n",
       "      <td>2023</td>\n",
       "      <td>549300HN58ONH5KNJJ12</td>\n",
       "      <td>1</td>\n",
       "      <td>1</td>\n",
       "      <td>1</td>\n",
       "      <td>1</td>\n",
       "      <td>1</td>\n",
       "      <td>135000</td>\n",
       "      <td>1</td>\n",
       "      <td>WI</td>\n",
       "      <td>...</td>\n",
       "      <td>1</td>\n",
       "      <td>1</td>\n",
       "      <td>6</td>\n",
       "      <td>NaN</td>\n",
       "      <td>NaN</td>\n",
       "      <td>NaN</td>\n",
       "      <td>NaN</td>\n",
       "      <td>2</td>\n",
       "      <td>2</td>\n",
       "      <td>2</td>\n",
       "    </tr>\n",
       "    <tr>\n",
       "      <th>3</th>\n",
       "      <td>2023</td>\n",
       "      <td>549300HN58ONH5KNJJ12</td>\n",
       "      <td>1</td>\n",
       "      <td>1</td>\n",
       "      <td>1</td>\n",
       "      <td>1</td>\n",
       "      <td>1</td>\n",
       "      <td>205000</td>\n",
       "      <td>1</td>\n",
       "      <td>WI</td>\n",
       "      <td>...</td>\n",
       "      <td>1</td>\n",
       "      <td>1</td>\n",
       "      <td>2</td>\n",
       "      <td>NaN</td>\n",
       "      <td>NaN</td>\n",
       "      <td>NaN</td>\n",
       "      <td>NaN</td>\n",
       "      <td>2</td>\n",
       "      <td>2</td>\n",
       "      <td>2</td>\n",
       "    </tr>\n",
       "    <tr>\n",
       "      <th>4</th>\n",
       "      <td>2023</td>\n",
       "      <td>549300HN58ONH5KNJJ12</td>\n",
       "      <td>1</td>\n",
       "      <td>1</td>\n",
       "      <td>2</td>\n",
       "      <td>1</td>\n",
       "      <td>1</td>\n",
       "      <td>255000</td>\n",
       "      <td>4</td>\n",
       "      <td>WI</td>\n",
       "      <td>...</td>\n",
       "      <td>1</td>\n",
       "      <td>3</td>\n",
       "      <td>6</td>\n",
       "      <td>NaN</td>\n",
       "      <td>NaN</td>\n",
       "      <td>NaN</td>\n",
       "      <td>NaN</td>\n",
       "      <td>2</td>\n",
       "      <td>2</td>\n",
       "      <td>2</td>\n",
       "    </tr>\n",
       "  </tbody>\n",
       "</table>\n",
       "<p>5 rows × 85 columns</p>\n",
       "</div>"
      ],
      "text/plain": [
       "  activity_year legal_entity_identifier loan_type loan_purpose preapproval  \\\n",
       "0          2023    549300HN58ONH5KNJJ12         1           31           2   \n",
       "1          2023    549300HN58ONH5KNJJ12         1            1           1   \n",
       "2          2023    549300HN58ONH5KNJJ12         1            1           1   \n",
       "3          2023    549300HN58ONH5KNJJ12         1            1           1   \n",
       "4          2023    549300HN58ONH5KNJJ12         1            1           2   \n",
       "\n",
       "  construction_method occupancy_type loan_amount action_taken property_state  \\\n",
       "0                   1              1      595000            1             WI   \n",
       "1                   1              1       75000            1             WI   \n",
       "2                   1              1      135000            1             WI   \n",
       "3                   1              1      205000            1             WI   \n",
       "4                   1              1      255000            4             WI   \n",
       "\n",
       "   ... submission_of_application is_init_payable_to_institution  \\\n",
       "0  ...                         1                              1   \n",
       "1  ...                         1                              1   \n",
       "2  ...                         1                              1   \n",
       "3  ...                         1                              1   \n",
       "4  ...                         1                              3   \n",
       "\n",
       "  auto_underwriting_system_one auto_underwriting_system_two  \\\n",
       "0                            1                          NaN   \n",
       "1                            6                          NaN   \n",
       "2                            6                          NaN   \n",
       "3                            2                          NaN   \n",
       "4                            6                          NaN   \n",
       "\n",
       "  auto_underwriting_system_three auto_underwriting_system_four  \\\n",
       "0                            NaN                           NaN   \n",
       "1                            NaN                           NaN   \n",
       "2                            NaN                           NaN   \n",
       "3                            NaN                           NaN   \n",
       "4                            NaN                           NaN   \n",
       "\n",
       "  auto_underwriting_system_five is_reverse_mortgage  \\\n",
       "0                           NaN                   2   \n",
       "1                           NaN                   2   \n",
       "2                           NaN                   2   \n",
       "3                           NaN                   2   \n",
       "4                           NaN                   2   \n",
       "\n",
       "  is_open_end_line_of_credit is_for_business_purpose  \n",
       "0                          2                       2  \n",
       "1                          2                       2  \n",
       "2                          2                       2  \n",
       "3                          2                       2  \n",
       "4                          2                       2  \n",
       "\n",
       "[5 rows x 85 columns]"
      ]
     },
     "execution_count": 47,
     "metadata": {},
     "output_type": "execute_result"
    }
   ],
   "source": [
    "df = pd.read_csv(comb_mlar_filenames[0], delimiter='|', header=None, names=combined_mlar_cols, dtype=str)\n",
    "df.head()"
   ]
  },
  {
   "cell_type": "code",
   "execution_count": 31,
   "id": "e63e6ac0",
   "metadata": {},
   "outputs": [
    {
     "data": {
      "text/plain": [
       "property_county\n",
       "55025    13936\n",
       "55079    12542\n",
       "55133     7002\n",
       "55009     3263\n",
       "55105     3161\n",
       "         ...  \n",
       "55065      147\n",
       "55023      146\n",
       "55091      122\n",
       "55037       82\n",
       "55078       47\n",
       "Name: count, Length: 72, dtype: int64"
      ]
     },
     "execution_count": 31,
     "metadata": {},
     "output_type": "execute_result"
    }
   ],
   "source": [
    "df.property_county.value_counts()"
   ]
  },
  {
   "cell_type": "code",
   "execution_count": 30,
   "id": "4a887711",
   "metadata": {},
   "outputs": [
    {
     "data": {
      "text/plain": [
       "property_state\n",
       "WI    100000\n",
       "Name: count, dtype: int64"
      ]
     },
     "execution_count": 30,
     "metadata": {},
     "output_type": "execute_result"
    }
   ],
   "source": [
    "df.property_state.value_counts()"
   ]
  },
  {
   "cell_type": "code",
   "execution_count": 36,
   "id": "738aac94",
   "metadata": {},
   "outputs": [],
   "source": [
    "import requests\n",
    "from io import StringIO\n",
    "fips_url = \"https://www2.census.gov/geo/docs/reference/codes2020/cou/st55_wi_cou2020.txt\"\n",
    "headers = {\n",
    "    \"User-Agent\": \"Mozilla/5.0 (Windows NT 10.0; Win64; x64) AppleWebKit/537.36 (KHTML, like Gecko) Chrome/98.0.4758.102 Safari/537.36\"\n",
    "}\n",
    "\n",
    "response = requests.get(fips_url, headers=headers)\n",
    "\n",
    "if response.status_code == 200: \n",
    "    file_content = StringIO(response.text)\n",
    "    fips_wi_df = pd.read_csv(file_content, delimiter=\"|\", header=0, dtype=str)\n",
    "    fips_wi_df.columns = [\n",
    "        \"state_abbr\", \n",
    "        \"state_fips_cd\", \n",
    "        \"county_fips_cd\", \n",
    "        \"county_ns_cd\", \n",
    "        \"county_name\", \n",
    "        \"fips_class_cd\", \n",
    "        \"functional_status\"\n",
    "    ]\n",
    "else: \n",
    "    print(f\"Failed to download file: Status code {response.status_code}\")"
   ]
  },
  {
   "cell_type": "code",
   "execution_count": 37,
   "id": "43b9fa7b",
   "metadata": {},
   "outputs": [
    {
     "data": {
      "text/html": [
       "<div>\n",
       "<style scoped>\n",
       "    .dataframe tbody tr th:only-of-type {\n",
       "        vertical-align: middle;\n",
       "    }\n",
       "\n",
       "    .dataframe tbody tr th {\n",
       "        vertical-align: top;\n",
       "    }\n",
       "\n",
       "    .dataframe thead th {\n",
       "        text-align: right;\n",
       "    }\n",
       "</style>\n",
       "<table border=\"1\" class=\"dataframe\">\n",
       "  <thead>\n",
       "    <tr style=\"text-align: right;\">\n",
       "      <th></th>\n",
       "      <th>state_abbr</th>\n",
       "      <th>state_fips_cd</th>\n",
       "      <th>county_fips_cd</th>\n",
       "      <th>county_ns_cd</th>\n",
       "      <th>county_name</th>\n",
       "      <th>fips_class_cd</th>\n",
       "      <th>functional_status</th>\n",
       "    </tr>\n",
       "  </thead>\n",
       "  <tbody>\n",
       "    <tr>\n",
       "      <th>0</th>\n",
       "      <td>WI</td>\n",
       "      <td>55</td>\n",
       "      <td>001</td>\n",
       "      <td>01581060</td>\n",
       "      <td>Adams County</td>\n",
       "      <td>H1</td>\n",
       "      <td>A</td>\n",
       "    </tr>\n",
       "    <tr>\n",
       "      <th>1</th>\n",
       "      <td>WI</td>\n",
       "      <td>55</td>\n",
       "      <td>003</td>\n",
       "      <td>01581061</td>\n",
       "      <td>Ashland County</td>\n",
       "      <td>H1</td>\n",
       "      <td>A</td>\n",
       "    </tr>\n",
       "    <tr>\n",
       "      <th>2</th>\n",
       "      <td>WI</td>\n",
       "      <td>55</td>\n",
       "      <td>005</td>\n",
       "      <td>01581062</td>\n",
       "      <td>Barron County</td>\n",
       "      <td>H1</td>\n",
       "      <td>A</td>\n",
       "    </tr>\n",
       "    <tr>\n",
       "      <th>3</th>\n",
       "      <td>WI</td>\n",
       "      <td>55</td>\n",
       "      <td>007</td>\n",
       "      <td>01581063</td>\n",
       "      <td>Bayfield County</td>\n",
       "      <td>H1</td>\n",
       "      <td>A</td>\n",
       "    </tr>\n",
       "    <tr>\n",
       "      <th>4</th>\n",
       "      <td>WI</td>\n",
       "      <td>55</td>\n",
       "      <td>009</td>\n",
       "      <td>01581064</td>\n",
       "      <td>Brown County</td>\n",
       "      <td>H1</td>\n",
       "      <td>A</td>\n",
       "    </tr>\n",
       "  </tbody>\n",
       "</table>\n",
       "</div>"
      ],
      "text/plain": [
       "  state_abbr state_fips_cd county_fips_cd county_ns_cd      county_name  \\\n",
       "0         WI            55            001     01581060     Adams County   \n",
       "1         WI            55            003     01581061   Ashland County   \n",
       "2         WI            55            005     01581062    Barron County   \n",
       "3         WI            55            007     01581063  Bayfield County   \n",
       "4         WI            55            009     01581064     Brown County   \n",
       "\n",
       "  fips_class_cd functional_status  \n",
       "0            H1                 A  \n",
       "1            H1                 A  \n",
       "2            H1                 A  \n",
       "3            H1                 A  \n",
       "4            H1                 A  "
      ]
     },
     "execution_count": 37,
     "metadata": {},
     "output_type": "execute_result"
    }
   ],
   "source": [
    "fips_wi_df.head()"
   ]
  },
  {
   "cell_type": "code",
   "execution_count": 41,
   "id": "1979f7e7",
   "metadata": {},
   "outputs": [],
   "source": [
    "fips_wi_df['census_county_cd'] = fips_wi_df['state_fips_cd'] + fips_wi_df['county_fips_cd']"
   ]
  },
  {
   "cell_type": "code",
   "execution_count": 42,
   "id": "ccbe6539",
   "metadata": {},
   "outputs": [
    {
     "data": {
      "text/plain": [
       "census_county_cd\n",
       "55001    1\n",
       "55003    1\n",
       "55103    1\n",
       "55101    1\n",
       "55099    1\n",
       "        ..\n",
       "55047    1\n",
       "55045    1\n",
       "55043    1\n",
       "55041    1\n",
       "55141    1\n",
       "Name: count, Length: 72, dtype: int64"
      ]
     },
     "execution_count": 42,
     "metadata": {},
     "output_type": "execute_result"
    }
   ],
   "source": [
    "fips_wi_df.census_county_cd.value_counts()"
   ]
  },
  {
   "cell_type": "code",
   "execution_count": 43,
   "id": "759da183",
   "metadata": {},
   "outputs": [
    {
     "data": {
      "text/html": [
       "<div>\n",
       "<style scoped>\n",
       "    .dataframe tbody tr th:only-of-type {\n",
       "        vertical-align: middle;\n",
       "    }\n",
       "\n",
       "    .dataframe tbody tr th {\n",
       "        vertical-align: top;\n",
       "    }\n",
       "\n",
       "    .dataframe thead th {\n",
       "        text-align: right;\n",
       "    }\n",
       "</style>\n",
       "<table border=\"1\" class=\"dataframe\">\n",
       "  <thead>\n",
       "    <tr style=\"text-align: right;\">\n",
       "      <th></th>\n",
       "      <th>state_abbr</th>\n",
       "      <th>state_fips_cd</th>\n",
       "      <th>county_fips_cd</th>\n",
       "      <th>county_ns_cd</th>\n",
       "      <th>county_name</th>\n",
       "      <th>fips_class_cd</th>\n",
       "      <th>functional_status</th>\n",
       "      <th>census_county_cd</th>\n",
       "    </tr>\n",
       "  </thead>\n",
       "  <tbody>\n",
       "    <tr>\n",
       "      <th>40</th>\n",
       "      <td>WI</td>\n",
       "      <td>55</td>\n",
       "      <td>079</td>\n",
       "      <td>01581100</td>\n",
       "      <td>Milwaukee County</td>\n",
       "      <td>H1</td>\n",
       "      <td>A</td>\n",
       "      <td>55079</td>\n",
       "    </tr>\n",
       "  </tbody>\n",
       "</table>\n",
       "</div>"
      ],
      "text/plain": [
       "   state_abbr state_fips_cd county_fips_cd county_ns_cd       county_name  \\\n",
       "40         WI            55            079     01581100  Milwaukee County   \n",
       "\n",
       "   fips_class_cd functional_status census_county_cd  \n",
       "40            H1                 A            55079  "
      ]
     },
     "execution_count": 43,
     "metadata": {},
     "output_type": "execute_result"
    }
   ],
   "source": [
    "fips_wi_df.query(\"county_name == 'Milwaukee County'\")"
   ]
  },
  {
   "cell_type": "code",
   "execution_count": 55,
   "id": "52e451fd",
   "metadata": {},
   "outputs": [
    {
     "data": {
      "text/plain": [
       "451"
      ]
     },
     "execution_count": 55,
     "metadata": {},
     "output_type": "execute_result"
    }
   ],
   "source": [
    "### LEI Work\n",
    "unique_legal_entity_identifier_list = df['legal_entity_identifier'].unique().tolist()\n",
    "len(unique_legal_entity_identifier_listity_identifier_list)"
   ]
  },
  {
   "cell_type": "code",
   "execution_count": 54,
   "id": "b8e42553",
   "metadata": {},
   "outputs": [],
   "source": [
    "import warnings\n",
    "warnings.simplefilter(action='ignore', category=Warning)\n",
    "rows_per_chunk = 100000\n",
    "reader = pd.read_csv('./data/20250426-0000-gleif-goldencopy-lei2-golden-copy.csv', chunksize=rows_per_chunk)\n",
    "for i, chunk in enumerate(reader): \n",
    "    chunk.to_csv(f\"./data/gleif_lei2_{i}.csv\", index=False)"
   ]
  },
  {
   "cell_type": "code",
   "execution_count": 60,
   "id": "5f48d2f7",
   "metadata": {},
   "outputs": [
    {
     "name": "stdout",
     "output_type": "stream",
     "text": [
      "Searching ./data/gleif_lei2_9.csv for matches\n",
      "Searching ./data/gleif_lei2_8.csv for matches\n",
      "Searching ./data/gleif_lei2_19.csv for matches\n",
      "Searching ./data/gleif_lei2_25.csv for matches\n",
      "Searching ./data/gleif_lei2_24.csv for matches\n",
      "Searching ./data/gleif_lei2_18.csv for matches\n",
      "Searching ./data/gleif_lei2_26.csv for matches\n",
      "Searching ./data/gleif_lei2_27.csv for matches\n",
      "Searching ./data/gleif_lei2_23.csv for matches\n",
      "Searching ./data/gleif_lei2_22.csv for matches\n",
      "Searching ./data/gleif_lei2_20.csv for matches\n",
      "Searching ./data/gleif_lei2_21.csv for matches\n",
      "Searching ./data/gleif_lei2_10.csv for matches\n",
      "Searching ./data/gleif_lei2_11.csv for matches\n",
      "Searching ./data/gleif_lei2_13.csv for matches\n",
      "Searching ./data/gleif_lei2_12.csv for matches\n",
      "Searching ./data/gleif_lei2_16.csv for matches\n",
      "Searching ./data/gleif_lei2_17.csv for matches\n",
      "Searching ./data/gleif_lei2_15.csv for matches\n",
      "Searching ./data/gleif_lei2_29.csv for matches\n",
      "Searching ./data/gleif_lei2_28.csv for matches\n",
      "Searching ./data/gleif_lei2_14.csv for matches\n",
      "Searching ./data/gleif_lei2_0.csv for matches\n",
      "Searching ./data/gleif_lei2_1.csv for matches\n",
      "Searching ./data/gleif_lei2_3.csv for matches\n",
      "Searching ./data/gleif_lei2_2.csv for matches\n",
      "Searching ./data/gleif_lei2_6.csv for matches\n",
      "Searching ./data/gleif_lei2_7.csv for matches\n",
      "Searching ./data/gleif_lei2_5.csv for matches\n",
      "Searching ./data/gleif_lei2_4.csv for matches\n"
     ]
    },
    {
     "data": {
      "text/html": [
       "<div>\n",
       "<style scoped>\n",
       "    .dataframe tbody tr th:only-of-type {\n",
       "        vertical-align: middle;\n",
       "    }\n",
       "\n",
       "    .dataframe tbody tr th {\n",
       "        vertical-align: top;\n",
       "    }\n",
       "\n",
       "    .dataframe thead th {\n",
       "        text-align: right;\n",
       "    }\n",
       "</style>\n",
       "<table border=\"1\" class=\"dataframe\">\n",
       "  <thead>\n",
       "    <tr style=\"text-align: right;\">\n",
       "      <th></th>\n",
       "      <th>LEI</th>\n",
       "      <th>Entity.LegalName</th>\n",
       "      <th>Entity.LegalName.xmllang</th>\n",
       "      <th>Entity.OtherEntityNames.OtherEntityName.1</th>\n",
       "      <th>Entity.OtherEntityNames.OtherEntityName.1.xmllang</th>\n",
       "      <th>Entity.OtherEntityNames.OtherEntityName.1.type</th>\n",
       "      <th>Entity.OtherEntityNames.OtherEntityName.2</th>\n",
       "      <th>Entity.OtherEntityNames.OtherEntityName.2.xmllang</th>\n",
       "      <th>Entity.OtherEntityNames.OtherEntityName.2.type</th>\n",
       "      <th>Entity.OtherEntityNames.OtherEntityName.3</th>\n",
       "      <th>...</th>\n",
       "      <th>Registration.OtherValidationAuthorities.OtherValidationAuthority.3.ValidationAuthorityID</th>\n",
       "      <th>Registration.OtherValidationAuthorities.OtherValidationAuthority.3.OtherValidationAuthorityID</th>\n",
       "      <th>Registration.OtherValidationAuthorities.OtherValidationAuthority.3.ValidationAuthorityEntityID</th>\n",
       "      <th>Registration.OtherValidationAuthorities.OtherValidationAuthority.4.ValidationAuthorityID</th>\n",
       "      <th>Registration.OtherValidationAuthorities.OtherValidationAuthority.4.OtherValidationAuthorityID</th>\n",
       "      <th>Registration.OtherValidationAuthorities.OtherValidationAuthority.4.ValidationAuthorityEntityID</th>\n",
       "      <th>Registration.OtherValidationAuthorities.OtherValidationAuthority.5.ValidationAuthorityID</th>\n",
       "      <th>Registration.OtherValidationAuthorities.OtherValidationAuthority.5.OtherValidationAuthorityID</th>\n",
       "      <th>Registration.OtherValidationAuthorities.OtherValidationAuthority.5.ValidationAuthorityEntityID</th>\n",
       "      <th>ConformityFlag</th>\n",
       "    </tr>\n",
       "  </thead>\n",
       "  <tbody>\n",
       "    <tr>\n",
       "      <th>0</th>\n",
       "      <td>7H6GLXDRUGQFU57RNE97</td>\n",
       "      <td>JPMorgan Chase Bank, National Association</td>\n",
       "      <td>en</td>\n",
       "      <td>JPMorgan Chase Bank, N.A.</td>\n",
       "      <td>en</td>\n",
       "      <td>TRADING_OR_OPERATING_NAME</td>\n",
       "      <td>CHASE MANHATTAN BANK</td>\n",
       "      <td>en</td>\n",
       "      <td>PREVIOUS_LEGAL_NAME</td>\n",
       "      <td>CHEMICAL BANK</td>\n",
       "      <td>...</td>\n",
       "      <td>NaN</td>\n",
       "      <td>NaN</td>\n",
       "      <td>NaN</td>\n",
       "      <td>NaN</td>\n",
       "      <td>NaN</td>\n",
       "      <td>NaN</td>\n",
       "      <td>NaN</td>\n",
       "      <td>NaN</td>\n",
       "      <td>NaN</td>\n",
       "      <td>CONFORMING</td>\n",
       "    </tr>\n",
       "    <tr>\n",
       "      <th>1</th>\n",
       "      <td>98450040E5B6CD69C657</td>\n",
       "      <td>SIMPLICITY</td>\n",
       "      <td>en</td>\n",
       "      <td>NaN</td>\n",
       "      <td>NaN</td>\n",
       "      <td>NaN</td>\n",
       "      <td>NaN</td>\n",
       "      <td>NaN</td>\n",
       "      <td>NaN</td>\n",
       "      <td>NaN</td>\n",
       "      <td>...</td>\n",
       "      <td>NaN</td>\n",
       "      <td>NaN</td>\n",
       "      <td>NaN</td>\n",
       "      <td>NaN</td>\n",
       "      <td>NaN</td>\n",
       "      <td>NaN</td>\n",
       "      <td>NaN</td>\n",
       "      <td>NaN</td>\n",
       "      <td>NaN</td>\n",
       "      <td>CONFORMING</td>\n",
       "    </tr>\n",
       "    <tr>\n",
       "      <th>2</th>\n",
       "      <td>98450087981AP406JG03</td>\n",
       "      <td>CONVENTUS LLC</td>\n",
       "      <td>en</td>\n",
       "      <td>NaN</td>\n",
       "      <td>NaN</td>\n",
       "      <td>NaN</td>\n",
       "      <td>NaN</td>\n",
       "      <td>NaN</td>\n",
       "      <td>NaN</td>\n",
       "      <td>NaN</td>\n",
       "      <td>...</td>\n",
       "      <td>NaN</td>\n",
       "      <td>NaN</td>\n",
       "      <td>NaN</td>\n",
       "      <td>NaN</td>\n",
       "      <td>NaN</td>\n",
       "      <td>NaN</td>\n",
       "      <td>NaN</td>\n",
       "      <td>NaN</td>\n",
       "      <td>NaN</td>\n",
       "      <td>NON_CONFORMING</td>\n",
       "    </tr>\n",
       "    <tr>\n",
       "      <th>3</th>\n",
       "      <td>894500PCG3NCYFXK0D60</td>\n",
       "      <td>Westby Co-op Credit Union</td>\n",
       "      <td>en</td>\n",
       "      <td>NaN</td>\n",
       "      <td>NaN</td>\n",
       "      <td>NaN</td>\n",
       "      <td>NaN</td>\n",
       "      <td>NaN</td>\n",
       "      <td>NaN</td>\n",
       "      <td>NaN</td>\n",
       "      <td>...</td>\n",
       "      <td>NaN</td>\n",
       "      <td>NaN</td>\n",
       "      <td>NaN</td>\n",
       "      <td>NaN</td>\n",
       "      <td>NaN</td>\n",
       "      <td>NaN</td>\n",
       "      <td>NaN</td>\n",
       "      <td>NaN</td>\n",
       "      <td>NaN</td>\n",
       "      <td>CONFORMING</td>\n",
       "    </tr>\n",
       "    <tr>\n",
       "      <th>4</th>\n",
       "      <td>54930001NSTOD85LT125</td>\n",
       "      <td>GUARANTEED RATE AFFINITY, LLC</td>\n",
       "      <td>en</td>\n",
       "      <td>NaN</td>\n",
       "      <td>NaN</td>\n",
       "      <td>NaN</td>\n",
       "      <td>NaN</td>\n",
       "      <td>NaN</td>\n",
       "      <td>NaN</td>\n",
       "      <td>NaN</td>\n",
       "      <td>...</td>\n",
       "      <td>NaN</td>\n",
       "      <td>NaN</td>\n",
       "      <td>NaN</td>\n",
       "      <td>NaN</td>\n",
       "      <td>NaN</td>\n",
       "      <td>NaN</td>\n",
       "      <td>NaN</td>\n",
       "      <td>NaN</td>\n",
       "      <td>NaN</td>\n",
       "      <td>NON_CONFORMING</td>\n",
       "    </tr>\n",
       "  </tbody>\n",
       "</table>\n",
       "<p>5 rows × 338 columns</p>\n",
       "</div>"
      ],
      "text/plain": [
       "                    LEI                           Entity.LegalName  \\\n",
       "0  7H6GLXDRUGQFU57RNE97  JPMorgan Chase Bank, National Association   \n",
       "1  98450040E5B6CD69C657                                 SIMPLICITY   \n",
       "2  98450087981AP406JG03                              CONVENTUS LLC   \n",
       "3  894500PCG3NCYFXK0D60                  Westby Co-op Credit Union   \n",
       "4  54930001NSTOD85LT125              GUARANTEED RATE AFFINITY, LLC   \n",
       "\n",
       "  Entity.LegalName.xmllang Entity.OtherEntityNames.OtherEntityName.1  \\\n",
       "0                       en                 JPMorgan Chase Bank, N.A.   \n",
       "1                       en                                       NaN   \n",
       "2                       en                                       NaN   \n",
       "3                       en                                       NaN   \n",
       "4                       en                                       NaN   \n",
       "\n",
       "  Entity.OtherEntityNames.OtherEntityName.1.xmllang  \\\n",
       "0                                                en   \n",
       "1                                               NaN   \n",
       "2                                               NaN   \n",
       "3                                               NaN   \n",
       "4                                               NaN   \n",
       "\n",
       "  Entity.OtherEntityNames.OtherEntityName.1.type  \\\n",
       "0                      TRADING_OR_OPERATING_NAME   \n",
       "1                                            NaN   \n",
       "2                                            NaN   \n",
       "3                                            NaN   \n",
       "4                                            NaN   \n",
       "\n",
       "  Entity.OtherEntityNames.OtherEntityName.2  \\\n",
       "0                      CHASE MANHATTAN BANK   \n",
       "1                                       NaN   \n",
       "2                                       NaN   \n",
       "3                                       NaN   \n",
       "4                                       NaN   \n",
       "\n",
       "  Entity.OtherEntityNames.OtherEntityName.2.xmllang  \\\n",
       "0                                                en   \n",
       "1                                               NaN   \n",
       "2                                               NaN   \n",
       "3                                               NaN   \n",
       "4                                               NaN   \n",
       "\n",
       "  Entity.OtherEntityNames.OtherEntityName.2.type  \\\n",
       "0                            PREVIOUS_LEGAL_NAME   \n",
       "1                                            NaN   \n",
       "2                                            NaN   \n",
       "3                                            NaN   \n",
       "4                                            NaN   \n",
       "\n",
       "  Entity.OtherEntityNames.OtherEntityName.3  ...  \\\n",
       "0                             CHEMICAL BANK  ...   \n",
       "1                                       NaN  ...   \n",
       "2                                       NaN  ...   \n",
       "3                                       NaN  ...   \n",
       "4                                       NaN  ...   \n",
       "\n",
       "  Registration.OtherValidationAuthorities.OtherValidationAuthority.3.ValidationAuthorityID  \\\n",
       "0                                                NaN                                         \n",
       "1                                                NaN                                         \n",
       "2                                                NaN                                         \n",
       "3                                                NaN                                         \n",
       "4                                                NaN                                         \n",
       "\n",
       "  Registration.OtherValidationAuthorities.OtherValidationAuthority.3.OtherValidationAuthorityID  \\\n",
       "0                                                NaN                                              \n",
       "1                                                NaN                                              \n",
       "2                                                NaN                                              \n",
       "3                                                NaN                                              \n",
       "4                                                NaN                                              \n",
       "\n",
       "  Registration.OtherValidationAuthorities.OtherValidationAuthority.3.ValidationAuthorityEntityID  \\\n",
       "0                                                NaN                                               \n",
       "1                                                NaN                                               \n",
       "2                                                NaN                                               \n",
       "3                                                NaN                                               \n",
       "4                                                NaN                                               \n",
       "\n",
       "  Registration.OtherValidationAuthorities.OtherValidationAuthority.4.ValidationAuthorityID  \\\n",
       "0                                                NaN                                         \n",
       "1                                                NaN                                         \n",
       "2                                                NaN                                         \n",
       "3                                                NaN                                         \n",
       "4                                                NaN                                         \n",
       "\n",
       "  Registration.OtherValidationAuthorities.OtherValidationAuthority.4.OtherValidationAuthorityID  \\\n",
       "0                                                NaN                                              \n",
       "1                                                NaN                                              \n",
       "2                                                NaN                                              \n",
       "3                                                NaN                                              \n",
       "4                                                NaN                                              \n",
       "\n",
       "  Registration.OtherValidationAuthorities.OtherValidationAuthority.4.ValidationAuthorityEntityID  \\\n",
       "0                                                NaN                                               \n",
       "1                                                NaN                                               \n",
       "2                                                NaN                                               \n",
       "3                                                NaN                                               \n",
       "4                                                NaN                                               \n",
       "\n",
       "  Registration.OtherValidationAuthorities.OtherValidationAuthority.5.ValidationAuthorityID  \\\n",
       "0                                                NaN                                         \n",
       "1                                                NaN                                         \n",
       "2                                                NaN                                         \n",
       "3                                                NaN                                         \n",
       "4                                                NaN                                         \n",
       "\n",
       "  Registration.OtherValidationAuthorities.OtherValidationAuthority.5.OtherValidationAuthorityID  \\\n",
       "0                                                NaN                                              \n",
       "1                                                NaN                                              \n",
       "2                                                NaN                                              \n",
       "3                                                NaN                                              \n",
       "4                                                NaN                                              \n",
       "\n",
       "  Registration.OtherValidationAuthorities.OtherValidationAuthority.5.ValidationAuthorityEntityID  \\\n",
       "0                                                NaN                                               \n",
       "1                                                NaN                                               \n",
       "2                                                NaN                                               \n",
       "3                                                NaN                                               \n",
       "4                                                NaN                                               \n",
       "\n",
       "   ConformityFlag  \n",
       "0      CONFORMING  \n",
       "1      CONFORMING  \n",
       "2  NON_CONFORMING  \n",
       "3      CONFORMING  \n",
       "4  NON_CONFORMING  \n",
       "\n",
       "[5 rows x 338 columns]"
      ]
     },
     "execution_count": 60,
     "metadata": {},
     "output_type": "execute_result"
    }
   ],
   "source": [
    "import glob\n",
    "matching_files = glob.glob('./data/gleif_lei2_*.csv')\n",
    "lei_df_list = []\n",
    "for lei_file in matching_files: \n",
    "    print(f\"Searching {lei_file} for matches\")\n",
    "    lei_df = pd.read_csv(lei_file)\n",
    "    matching_rows = lei_df[lei_df['LEI'].isin(unique_legal_entity_identifier_list)]\n",
    "    lei_df_list.append(matching_rows)\n",
    "lei_df = pd.concat(lei_df_list, ignore_index=True)\n",
    "lei_df.head()"
   ]
  },
  {
   "cell_type": "code",
   "execution_count": 63,
   "id": "957fc972",
   "metadata": {},
   "outputs": [
    {
     "data": {
      "text/plain": [
       "loan_type\n",
       "1    24217\n",
       "2     3520\n",
       "3      938\n",
       "4       20\n",
       "Name: count, dtype: int64"
      ]
     },
     "execution_count": 63,
     "metadata": {},
     "output_type": "execute_result"
    }
   ],
   "source": [
    "## loan_type analysis\n",
    "df['loan_type'].value_counts()"
   ]
  },
  {
   "cell_type": "code",
   "execution_count": 64,
   "id": "848793c7",
   "metadata": {},
   "outputs": [
    {
     "data": {
      "text/plain": [
       "loan_purpose\n",
       "1     13240\n",
       "4      4479\n",
       "32     4207\n",
       "2      4006\n",
       "31     2707\n",
       "5        56\n",
       "Name: count, dtype: int64"
      ]
     },
     "execution_count": 64,
     "metadata": {},
     "output_type": "execute_result"
    }
   ],
   "source": [
    "## loan_purpose analysis\n",
    "df['loan_purpose'].value_counts()"
   ]
  },
  {
   "cell_type": "code",
   "execution_count": 65,
   "id": "1d321033",
   "metadata": {},
   "outputs": [
    {
     "data": {
      "text/plain": [
       "preapproval\n",
       "2    27066\n",
       "1     1629\n",
       "Name: count, dtype: int64"
      ]
     },
     "execution_count": 65,
     "metadata": {},
     "output_type": "execute_result"
    }
   ],
   "source": [
    "## preapproval analysis\n",
    "df['preapproval'].value_counts()"
   ]
  },
  {
   "cell_type": "code",
   "execution_count": 66,
   "id": "80596a05",
   "metadata": {},
   "outputs": [
    {
     "data": {
      "text/plain": [
       "construction_method\n",
       "1    28581\n",
       "2      114\n",
       "Name: count, dtype: int64"
      ]
     },
     "execution_count": 66,
     "metadata": {},
     "output_type": "execute_result"
    }
   ],
   "source": [
    "## construction_method analysis\n",
    "df['construction_method'].value_counts()"
   ]
  },
  {
   "cell_type": "code",
   "execution_count": 67,
   "id": "56982d3f",
   "metadata": {},
   "outputs": [
    {
     "data": {
      "text/plain": [
       "occupancy_type\n",
       "1    25228\n",
       "3     3267\n",
       "2      200\n",
       "Name: count, dtype: int64"
      ]
     },
     "execution_count": 67,
     "metadata": {},
     "output_type": "execute_result"
    }
   ],
   "source": [
    "## occupancy_type analysis\n",
    "df['occupancy_type'].value_counts()"
   ]
  },
  {
   "cell_type": "code",
   "execution_count": 68,
   "id": "87de6042",
   "metadata": {},
   "outputs": [
    {
     "data": {
      "text/plain": [
       "loan_amount\n",
       "55000      1762\n",
       "25000      1475\n",
       "35000      1434\n",
       "105000     1360\n",
       "45000      1255\n",
       "           ... \n",
       "3785000       1\n",
       "6605000       1\n",
       "2495000       1\n",
       "2435000       1\n",
       "1255000       1\n",
       "Name: count, Length: 253, dtype: int64"
      ]
     },
     "execution_count": 68,
     "metadata": {},
     "output_type": "execute_result"
    }
   ],
   "source": [
    "## loan_amount analysis\n",
    "df['loan_amount'].value_counts()"
   ]
  },
  {
   "cell_type": "code",
   "execution_count": 69,
   "id": "7988b4f2",
   "metadata": {},
   "outputs": [
    {
     "data": {
      "text/plain": [
       "action_taken\n",
       "1    16456\n",
       "3     5292\n",
       "4     3137\n",
       "6     1961\n",
       "2      973\n",
       "5      774\n",
       "8       66\n",
       "7       36\n",
       "Name: count, dtype: int64"
      ]
     },
     "execution_count": 69,
     "metadata": {},
     "output_type": "execute_result"
    }
   ],
   "source": [
    "## action_taken analysis\n",
    "df['action_taken'].value_counts()"
   ]
  },
  {
   "cell_type": "code",
   "execution_count": 72,
   "id": "4c98a0a2",
   "metadata": {},
   "outputs": [
    {
     "data": {
      "text/plain": [
       "census_tract\n",
       "55079150100    313\n",
       "55079050101    312\n",
       "55079000202    265\n",
       "55079160202    259\n",
       "55079150301    251\n",
       "              ... \n",
       "55079014800      8\n",
       "55079014700      7\n",
       "55079014600      6\n",
       "55079186400      3\n",
       "55079014100      2\n",
       "Name: count, Length: 300, dtype: int64"
      ]
     },
     "execution_count": 72,
     "metadata": {},
     "output_type": "execute_result"
    }
   ],
   "source": [
    "## census_tract analysis\n",
    "df['census_tract'].value_counts()"
   ]
  },
  {
   "cell_type": "code",
   "execution_count": 73,
   "id": "f30b3bdb",
   "metadata": {},
   "outputs": [
    {
     "data": {
      "text/plain": [
       "8"
      ]
     },
     "execution_count": 73,
     "metadata": {},
     "output_type": "execute_result"
    }
   ],
   "source": [
    "df['census_tract'].isnull().sum()"
   ]
  },
  {
   "cell_type": "code",
   "execution_count": 74,
   "id": "df3506da",
   "metadata": {},
   "outputs": [
    {
     "data": {
      "text/plain": [
       "borrower_one_ethnicity\n",
       "2     19280\n",
       "1      3145\n",
       "3      3026\n",
       "4      2929\n",
       "11      144\n",
       "14       95\n",
       "12       65\n",
       "13        2\n",
       "Name: count, dtype: int64"
      ]
     },
     "execution_count": 74,
     "metadata": {},
     "output_type": "execute_result"
    }
   ],
   "source": [
    "## borrower_one_ethnicity\n",
    "df['borrower_one_ethnicity'].value_counts()"
   ]
  },
  {
   "cell_type": "code",
   "execution_count": 75,
   "id": "7199b22c",
   "metadata": {},
   "outputs": [
    {
     "data": {
      "text/plain": [
       "9"
      ]
     },
     "execution_count": 75,
     "metadata": {},
     "output_type": "execute_result"
    }
   ],
   "source": [
    "df['borrower_one_ethnicity'].isnull().sum()"
   ]
  },
  {
   "cell_type": "code",
   "execution_count": 76,
   "id": "18030a4a",
   "metadata": {},
   "outputs": [
    {
     "data": {
      "text/plain": [
       "co_borrower_one_ethnicity\n",
       "5     17259\n",
       "2      7194\n",
       "4      1760\n",
       "1      1197\n",
       "3      1181\n",
       "11       55\n",
       "14       24\n",
       "12       23\n",
       "Name: count, dtype: int64"
      ]
     },
     "execution_count": 76,
     "metadata": {},
     "output_type": "execute_result"
    }
   ],
   "source": [
    "## co_borrower_one_ethnicity analysis\n",
    "df['co_borrower_one_ethnicity'].value_counts()"
   ]
  },
  {
   "cell_type": "code",
   "execution_count": 77,
   "id": "a9912259",
   "metadata": {},
   "outputs": [
    {
     "data": {
      "text/plain": [
       "2"
      ]
     },
     "execution_count": 77,
     "metadata": {},
     "output_type": "execute_result"
    }
   ],
   "source": [
    "df['co_borrower_one_ethnicity'].isnull().sum()"
   ]
  },
  {
   "cell_type": "code",
   "execution_count": 78,
   "id": "ef11c6c7",
   "metadata": {},
   "outputs": [
    {
     "data": {
      "text/plain": [
       "borrower_ethnicity_based_on_obs\n",
       "2    23728\n",
       "3     4129\n",
       "1      838\n",
       "Name: count, dtype: int64"
      ]
     },
     "execution_count": 78,
     "metadata": {},
     "output_type": "execute_result"
    }
   ],
   "source": [
    "## borrower_ethnicity_based_on_obs\n",
    "df['borrower_ethnicity_based_on_obs'].value_counts()"
   ]
  },
  {
   "cell_type": "code",
   "execution_count": 79,
   "id": "5bdb77a6",
   "metadata": {},
   "outputs": [
    {
     "data": {
      "text/plain": [
       "co_borrower_ethnicity_based_on_obs\n",
       "4    17259\n",
       "2     8919\n",
       "3     2243\n",
       "1      274\n",
       "Name: count, dtype: int64"
      ]
     },
     "execution_count": 79,
     "metadata": {},
     "output_type": "execute_result"
    }
   ],
   "source": [
    "## co_borrower_ethnicity_based_on_obs analysis\n",
    "df['co_borrower_ethnicity_based_on_obs'].value_counts()"
   ]
  },
  {
   "cell_type": "code",
   "execution_count": 80,
   "id": "2397e988",
   "metadata": {},
   "outputs": [
    {
     "data": {
      "text/plain": [
       "borrower_one_race\n",
       "5     16233\n",
       "3      4755\n",
       "6      3304\n",
       "7      2933\n",
       "2      1034\n",
       "1       218\n",
       "21       75\n",
       "27       56\n",
       "4        37\n",
       "26       16\n",
       "44        9\n",
       "23        7\n",
       "25        6\n",
       "22        6\n",
       "24        2\n",
       "Name: count, dtype: int64"
      ]
     },
     "execution_count": 80,
     "metadata": {},
     "output_type": "execute_result"
    }
   ],
   "source": [
    "## borrower_one_race analysis\n",
    "df['borrower_one_race'].value_counts()"
   ]
  },
  {
   "cell_type": "code",
   "execution_count": 81,
   "id": "79752ed4",
   "metadata": {},
   "outputs": [
    {
     "data": {
      "text/plain": [
       "4"
      ]
     },
     "execution_count": 81,
     "metadata": {},
     "output_type": "execute_result"
    }
   ],
   "source": [
    "df['borrower_one_race'].isnull().sum()"
   ]
  },
  {
   "cell_type": "code",
   "execution_count": 62,
   "id": "a41907d4",
   "metadata": {},
   "outputs": [
    {
     "name": "stdout",
     "output_type": "stream",
     "text": [
      "<class 'pandas.core.frame.DataFrame'>\n",
      "RangeIndex: 28695 entries, 0 to 28694\n",
      "Data columns (total 85 columns):\n",
      " #   Column                                    Non-Null Count  Dtype \n",
      "---  ------                                    --------------  ----- \n",
      " 0   activity_year                             28695 non-null  object\n",
      " 1   legal_entity_identifier                   28695 non-null  object\n",
      " 2   loan_type                                 28695 non-null  object\n",
      " 3   loan_purpose                              28695 non-null  object\n",
      " 4   preapproval                               28695 non-null  object\n",
      " 5   construction_method                       28695 non-null  object\n",
      " 6   occupancy_type                            28695 non-null  object\n",
      " 7   loan_amount                               28695 non-null  object\n",
      " 8   action_taken                              28695 non-null  object\n",
      " 9   property_state                            28695 non-null  object\n",
      " 10  property_county                           28695 non-null  object\n",
      " 11  census_tract                              28687 non-null  object\n",
      " 12  borrower_one_ethnicity                    28686 non-null  object\n",
      " 13  borrower_two_ethnicity                    2093 non-null   object\n",
      " 14  borrower_three_ethnicity                  44 non-null     object\n",
      " 15  borrower_four_ethnicity                   1 non-null      object\n",
      " 16  borrower_five_ethnicity                   0 non-null      object\n",
      " 17  co_borrower_one_ethnicity                 28693 non-null  object\n",
      " 18  co_borrower_two_ethnicity                 798 non-null    object\n",
      " 19  co_borrower_three_ethnicity               14 non-null     object\n",
      " 20  co_borrower_four_ethnicity                1 non-null      object\n",
      " 21  co_borrower_five_ethnicity                0 non-null      object\n",
      " 22  borrower_ethnicity_based_on_obs           28695 non-null  object\n",
      " 23  co_borrower_ethnicity_based_on_obs        28695 non-null  object\n",
      " 24  borrower_one_race                         28691 non-null  object\n",
      " 25  borrower_two_race                         951 non-null    object\n",
      " 26  borrower_three_race                       95 non-null     object\n",
      " 27  borrower_four_race                        11 non-null     object\n",
      " 28  borrower_five_race                        0 non-null      object\n",
      " 29  co_borrower_one_race                      28693 non-null  object\n",
      " 30  co_borrower_two_race                      312 non-null    object\n",
      " 31  co_borrower_three_race                    31 non-null     object\n",
      " 32  co_borrower_four_race                     9 non-null      object\n",
      " 33  co_borrower_five_race                     1 non-null      object\n",
      " 34  borrower_race_based_on_obs                28695 non-null  object\n",
      " 35  co_borrower_race_based_on_obs             28695 non-null  object\n",
      " 36  borrower_gender                           28695 non-null  object\n",
      " 37  co_borrower_gender                        28695 non-null  object\n",
      " 38  borrower_gender_based_on_obs              28695 non-null  object\n",
      " 39  co_borrower_gender_based_on_obs           28695 non-null  object\n",
      " 40  borrower_age                              28695 non-null  object\n",
      " 41  is_borrower_62_or_older                   25662 non-null  object\n",
      " 42  co_borrower_age                           28695 non-null  object\n",
      " 43  is_co_borrower_62_or_older                9651 non-null   object\n",
      " 44  income                                    25340 non-null  object\n",
      " 45  type_of_purchaser                         28695 non-null  object\n",
      " 46  rate_spread                               15170 non-null  object\n",
      " 47  hoepa_status                              28695 non-null  object\n",
      " 48  lien_status                               28695 non-null  object\n",
      " 49  borrower_credit_score_model               28695 non-null  object\n",
      " 50  co_borrower_credit_score_model            28695 non-null  object\n",
      " 51  reason_for_denial_one                     28695 non-null  object\n",
      " 52  reason_for_denial_two                     1188 non-null   object\n",
      " 53  reason_for_denial_three                   186 non-null    object\n",
      " 54  reason_for_denial_four                    14 non-null     object\n",
      " 55  total_loan_costs                          11609 non-null  object\n",
      " 56  total_points_and_fees                     449 non-null    object\n",
      " 57  origination_charges                       11359 non-null  object\n",
      " 58  discount_points                           5335 non-null   object\n",
      " 59  lender_credits                            5029 non-null   object\n",
      " 60  interest_rate                             19533 non-null  object\n",
      " 61  prepayment_penalty_term                   2694 non-null   object\n",
      " 62  debt_to_income_ratio                      21319 non-null  object\n",
      " 63  combined_loan_to_value_ratio              21891 non-null  object\n",
      " 64  loan_term_months                          28468 non-null  object\n",
      " 65  intro_rate_period                         9484 non-null   object\n",
      " 66  balloon_payment                           28695 non-null  object\n",
      " 67  interest_only_payments                    28695 non-null  object\n",
      " 68  negative_amortization                     28695 non-null  object\n",
      " 69  other_non_amortizing_features             28695 non-null  object\n",
      " 70  property_value                            24065 non-null  object\n",
      " 71  manufactured_home_property_type           28695 non-null  object\n",
      " 72  manufactured_home_land_property_interest  28695 non-null  object\n",
      " 73  total_units                               28695 non-null  object\n",
      " 74  multifamily_affordable_units              671 non-null    object\n",
      " 75  submission_of_application                 28695 non-null  object\n",
      " 76  is_init_payable_to_institution            28695 non-null  object\n",
      " 77  auto_underwriting_system_one              28695 non-null  object\n",
      " 78  auto_underwriting_system_two              1003 non-null   object\n",
      " 79  auto_underwriting_system_three            310 non-null    object\n",
      " 80  auto_underwriting_system_four             52 non-null     object\n",
      " 81  auto_underwriting_system_five             47 non-null     object\n",
      " 82  is_reverse_mortgage                       28695 non-null  object\n",
      " 83  is_open_end_line_of_credit                28695 non-null  object\n",
      " 84  is_for_business_purpose                   28695 non-null  object\n",
      "dtypes: object(85)\n",
      "memory usage: 18.6+ MB\n"
     ]
    }
   ],
   "source": [
    "df.info()"
   ]
  },
  {
   "cell_type": "code",
   "execution_count": null,
   "id": "6c8403db",
   "metadata": {},
   "outputs": [],
   "source": [
    "int_columns = ['activity_year', 'loan_type', 'loan_purpose', 'preapproval', 'construction_method', \n",
    "              'construction_method', 'occupancy_type', 'loan_amount', 'action_taken', 'property_county', \n",
    "              'census_tract', 'borrower_one_ethnicity', 'borrower_two_ethnicity', 'borrower_three_ethnicity', \n",
    "              'borrower_four_ethnicity', 'borrower_five_ethnicity', 'borrower_ethnicity_based_on_obs', \n",
    "              'co_borrower_one_ethnicity', 'co_borrower_two_ethnicity', 'co_borrower_three_ethnicity', \n",
    "              'co_borrower_four_ethnicity', 'co_borrower_five_ethnicity', 'co_borrower_ethnicity_based_on_obs', \n",
    "              'borrower_one_race', 'borrower_two_race', 'borrower_three_race', 'borrower_four_race', \n",
    "              'borrower_five_race']\n",
    "float_columns = []\n",
    "categorical_columns = ['legal_entity_identifier', 'property_state']"
   ]
  }
 ],
 "metadata": {
  "kernelspec": {
   "display_name": "Python 3 (ipykernel)",
   "language": "python",
   "name": "python3"
  },
  "language_info": {
   "codemirror_mode": {
    "name": "ipython",
    "version": 3
   },
   "file_extension": ".py",
   "mimetype": "text/x-python",
   "name": "python",
   "nbconvert_exporter": "python",
   "pygments_lexer": "ipython3",
   "version": "3.11.6"
  }
 },
 "nbformat": 4,
 "nbformat_minor": 5
}
