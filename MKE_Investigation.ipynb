{
 "cells": [
  {
   "cell_type": "code",
   "execution_count": 1,
   "id": "b21ab7a1",
   "metadata": {},
   "outputs": [],
   "source": [
    "import pandas as pd\n",
    "import numpy as np\n",
    "import s3fs\n",
    "import boto3\n",
    "import io\n",
    "from census import Census\n",
    "from us import states\n",
    "import re"
   ]
  },
  {
   "cell_type": "code",
   "execution_count": 2,
   "id": "eabbd995",
   "metadata": {},
   "outputs": [],
   "source": [
    "fs = s3fs.S3FileSystem(profile='AdministratorAccess-769392325318')  # or None for default profile\n",
    "\n",
    "parquet_files = fs.glob(\"mortgage-data-refined/mke_data/*.parquet\")\n",
    "\n",
    "dfs = [pd.read_parquet(f\"s3://{file}\", engine='pyarrow', filesystem=fs) for file in parquet_files]\n",
    "\n",
    "df = pd.concat(dfs, ignore_index=False)\n",
    "    "
   ]
  },
  {
   "cell_type": "code",
   "execution_count": 4,
   "id": "8e655548",
   "metadata": {},
   "outputs": [],
   "source": [
    "def send_dataframe_to_s3_csv(df, bucket, key, profile=None):\n",
    "    # Set up AWS session\n",
    "    session = boto3.Session(profile_name=profile) if profile else boto3.Session()\n",
    "    s3 = session.client('s3')\n",
    "\n",
    "    # Create in-memory CSV buffer\n",
    "    csv_buffer = io.StringIO()\n",
    "    df.to_csv(csv_buffer, index=False)\n",
    "\n",
    "    # Upload to S3\n",
    "    s3.put_object(Bucket=bucket, Key=key, Body=csv_buffer.getvalue())\n",
    "    print(f\"✅ Uploaded to s3://{bucket}/{key}\")\n"
   ]
  },
  {
   "cell_type": "code",
   "execution_count": 5,
   "id": "afba0460",
   "metadata": {},
   "outputs": [
    {
     "name": "stdout",
     "output_type": "stream",
     "text": [
      "✅ Uploaded to s3://mortgage-data-refined/mke_data/combined_hmda_2018_to_2023.csv\n"
     ]
    }
   ],
   "source": [
    "# Start by uploading this dataframe to S3\n",
    "file_key = \"mke_data/combined_hmda_2018_to_2023.csv\"\n",
    "bucket = 'mortgage-data-refined'\n",
    "send_dataframe_to_s3_csv(df, bucket, file_key, profile='AdministratorAccess-769392325318')"
   ]
  },
  {
   "cell_type": "code",
   "execution_count": 17,
   "id": "e88ecacf",
   "metadata": {},
   "outputs": [
    {
     "data": {
      "text/plain": [
       "dtype('float64')"
      ]
     },
     "execution_count": 17,
     "metadata": {},
     "output_type": "execute_result"
    }
   ],
   "source": [
    "df.county_code.dtypes"
   ]
  },
  {
   "cell_type": "code",
   "execution_count": 5,
   "id": "f7ec6816",
   "metadata": {},
   "outputs": [
    {
     "data": {
      "text/plain": [
       "(139293, 100)"
      ]
     },
     "execution_count": 5,
     "metadata": {},
     "output_type": "execute_result"
    }
   ],
   "source": [
    "df.shape"
   ]
  },
  {
   "cell_type": "code",
   "execution_count": 33,
   "id": "eb116afd",
   "metadata": {},
   "outputs": [
    {
     "data": {
      "text/plain": [
       "[1, 32, 2, 4, 31, 5]"
      ]
     },
     "execution_count": 33,
     "metadata": {},
     "output_type": "execute_result"
    }
   ],
   "source": [
    "df.loan_purpose.unique().tolist()"
   ]
  },
  {
   "cell_type": "code",
   "execution_count": 47,
   "id": "7a8687e2",
   "metadata": {},
   "outputs": [
    {
     "data": {
      "text/plain": [
       "hoepa_status\n",
       "2    65904\n",
       "3    57228\n",
       "1      198\n",
       "Name: count, dtype: int64"
      ]
     },
     "execution_count": 47,
     "metadata": {},
     "output_type": "execute_result"
    }
   ],
   "source": [
    "df.hoepa_status.value_counts()"
   ]
  },
  {
   "cell_type": "code",
   "execution_count": 46,
   "id": "10f835dc",
   "metadata": {},
   "outputs": [
    {
     "data": {
      "text/plain": [
       "0"
      ]
     },
     "execution_count": 46,
     "metadata": {},
     "output_type": "execute_result"
    }
   ],
   "source": [
    "df.hoepa_status.isnull().sum()"
   ]
  },
  {
   "cell_type": "code",
   "execution_count": 118,
   "id": "f35cd8bc",
   "metadata": {},
   "outputs": [],
   "source": [
    "cols_to_drop = ['rate_spread', 'hoepa_status', 'open_end_line_of_credit', 'interest_rate', 'rate_spread', \n",
    "               'hoepa_status', 'total_loan_costs', 'total_points_and_fees', 'origination_charges', \n",
    "               'discount_points', 'lender_credits', 'loan_term', 'prepayment_penalty_term', \n",
    "               'intro_rate_period', 'negative_amortization', 'interest_only_payment', \n",
    "               'balloon_payment', 'other_nonamortizing_features']"
   ]
  },
  {
   "cell_type": "code",
   "execution_count": 92,
   "id": "dc83cd40",
   "metadata": {},
   "outputs": [],
   "source": [
    "new_altered_columns_created = ['purchaser_type', 'loan_type', 'lien_status_category', 'loan_to_value_ratio', \n",
    "                              'combined_loan_to_value_ratio']"
   ]
  },
  {
   "cell_type": "code",
   "execution_count": 42,
   "id": "d2caccc4",
   "metadata": {},
   "outputs": [],
   "source": [
    "# Handle duplicates\n",
    "df.drop_duplicates(inplace=True)"
   ]
  },
  {
   "cell_type": "code",
   "execution_count": 14,
   "id": "7882ea7d",
   "metadata": {},
   "outputs": [],
   "source": [
    "# dropping non WI or nan rows - do this for the Milwaukee set only\n",
    "# df = df[~((df['state_code'] == 'CA') | (df['state_code'] == 'NV'))]\n",
    "df.loc[df['state_code'] == 'nan', 'state_code'] = np.nan"
   ]
  },
  {
   "cell_type": "code",
   "execution_count": 6,
   "id": "fd7dadc8",
   "metadata": {},
   "outputs": [],
   "source": [
    "# Cleaning instance of incorrect county_code - MKE set only\n",
    "# df.loc[df['county_code'] == 55075.0, 'county_code'] = 55079.0"
   ]
  },
  {
   "cell_type": "code",
   "execution_count": 21,
   "id": "00ce7ac1",
   "metadata": {},
   "outputs": [],
   "source": [
    "# converting county code to int\n",
    "df['county_code'] = df['county_code'].astype('Int64')"
   ]
  },
  {
   "cell_type": "code",
   "execution_count": 10,
   "id": "9b2af529",
   "metadata": {},
   "outputs": [],
   "source": [
    "# Dropping the one bad census_tract row - only for Milwaukee\n",
    "# df = df[~(df['census_tract'] == 55079)]"
   ]
  },
  {
   "cell_type": "code",
   "execution_count": 22,
   "id": "ba7a5c6d",
   "metadata": {},
   "outputs": [],
   "source": [
    "# Cleaning conforming_loan_limit\n",
    "df.loc[df['conforming_loan_limit'] == 'C', 'conforming_loan_limit'] = 1\n",
    "df.loc[df['conforming_loan_limit'] == 'NC', 'conforming_loan_limit'] = 0\n",
    "df['conforming_loan_limit'] = pd.to_numeric(df['conforming_loan_limit'], errors='coerce').astype('Int64')"
   ]
  },
  {
   "cell_type": "code",
   "execution_count": 23,
   "id": "b75bcdde",
   "metadata": {},
   "outputs": [],
   "source": [
    "# Alter action_taken slightly to group into origination, denial, or fallout and drop those that we don't care about\n",
    "# df = df[df['action_taken'].isin([1, 2, 3, 4, 5])] # Mke only\n",
    "df.loc[df['action_taken'] == 1, 'action_taken_category'] = 'Origination'\n",
    "df.loc[df['action_taken'] == 3, 'action_taken_category'] = 'Denied'\n",
    "df.loc[df['action_taken'] == 4, 'action_taken_category'] = 'Fallout'\n",
    "df.loc[df['action_taken'] == 5, 'action_taken_category'] = 'Fallout'\n",
    "df.loc[df['action_taken'] == 2, 'action_taken_category'] = 'Fallout'\n",
    "df.loc[df['action_taken'] == 6, 'action_taken_category'] = 'Purchased - Secondary Market'\n",
    "df.loc[df['action_taken'] == 7, 'action_taken_category'] = 'Preapproval - Denial'\n",
    "df.loc[df['action_taken'] == 8, 'action_taken_category'] = 'Preapproval - Approved not accepted'"
   ]
  },
  {
   "cell_type": "code",
   "execution_count": 25,
   "id": "5c0284ed",
   "metadata": {},
   "outputs": [],
   "source": [
    "# Create categories for purchaser_type\n",
    "def categorize_purchaser(code):\n",
    "    if code in [1, 3]:\n",
    "        return \"GSE\"\n",
    "    elif code == 2:\n",
    "        return \"Government\"\n",
    "    elif code == 0:\n",
    "        return \"Portfolio\"\n",
    "    elif code in [5, 7]:\n",
    "        return \"Private\"\n",
    "    elif code == 6:\n",
    "        return \"Depository\"\n",
    "    elif code == 8:\n",
    "        return \"Affiliate\"\n",
    "    else:\n",
    "        return \"Other\"\n",
    "\n",
    "df[\"purchaser_category\"] = df[\"purchaser_type\"].apply(categorize_purchaser)"
   ]
  },
  {
   "cell_type": "code",
   "execution_count": 29,
   "id": "8314d01d",
   "metadata": {},
   "outputs": [],
   "source": [
    "# Modifying preapproval column\n",
    "df.loc[df['preapproval'] == 2, 'preapproval'] = 0"
   ]
  },
  {
   "cell_type": "code",
   "execution_count": 30,
   "id": "c37fdcc4",
   "metadata": {},
   "outputs": [],
   "source": [
    "# Modifying loan_type\n",
    "def categorize_loan_type(code):\n",
    "    if code == 1:\n",
    "        return \"Conventional\"\n",
    "    elif code == 2:\n",
    "        return \"FHA\"\n",
    "    elif code == 3:\n",
    "        return \"VA\"\n",
    "    elif code == 4:\n",
    "        return \"USDA\"\n",
    "    else:\n",
    "        return \"Other\"\n",
    "\n",
    "df[\"loan_type_category\"] = df[\"loan_type\"].apply(categorize_loan_type)"
   ]
  },
  {
   "cell_type": "code",
   "execution_count": 34,
   "id": "dd5bb9af",
   "metadata": {},
   "outputs": [],
   "source": [
    "# only keeping loans which are purchased\n",
    "# df = df[df['loan_purpose'] == 1] - model only\n",
    "def categorize_loan_purpose(code): \n",
    "    if code == 1: \n",
    "        return 'Home Purchase'\n",
    "    elif code == 2: \n",
    "        return 'Home Improvement'\n",
    "    elif code in [31, 32]: \n",
    "        return 'Refinancing'\n",
    "    elif code == 5: \n",
    "        return np.nan\n",
    "    else: \n",
    "        return 'Other'\n",
    "\n",
    "df['loan_purpose_category'] = df['loan_purpose'].apply(categorize_loan_purpose)"
   ]
  },
  {
   "cell_type": "code",
   "execution_count": 35,
   "id": "59c46038",
   "metadata": {},
   "outputs": [],
   "source": [
    "# Categorizing lien_status\n",
    "def categorize_lien_status(code): \n",
    "    if code == 1: \n",
    "        return \"First Lien\"\n",
    "    elif code == 2: \n",
    "        return \"Subordinate Lien\"\n",
    "    else: \n",
    "        return \"Other\"\n",
    "\n",
    "df['lien_status_category'] = df['lien_status'].apply(categorize_lien_status)"
   ]
  },
  {
   "cell_type": "code",
   "execution_count": 36,
   "id": "16d46e1c",
   "metadata": {},
   "outputs": [],
   "source": [
    "# Handling reverse mortgages\n",
    "# df = df[~(df['reverse_mortgage'] == 1)] - Model only\n",
    "df.loc[df['reverse_mortgage'] == 1, 'reverse_mortgage_category'] = 'Reverse Mortgage'\n",
    "df.loc[df['reverse_mortgage'] == 2, 'reverse_mortgage_category'] = 'Not Reverse Mortgage'\n",
    "df.loc[df['reverse_mortgage'] == 1111, 'reverse_mortgage_category'] = 'Exempt'\n",
    "\n",
    "df.loc[df['reverse_mortgage'] == 1, 'reverse_mortgage'] = 1\n",
    "df.loc[df['reverse_mortgage'] == 2, 'reverse_mortgage'] = 0\n",
    "df.loc[df['reverse_mortgage'] == 1111, 'reverse_mortgage'] = np.nan"
   ]
  },
  {
   "cell_type": "code",
   "execution_count": 37,
   "id": "aaa10164",
   "metadata": {},
   "outputs": [],
   "source": [
    "# Handling open_end_line_of_credit\n",
    "# df = df[~(df['open_end_line_of_credit'] == 1)] - Model only\n",
    "df.loc[df['open_end_line_of_credit'] == 1, 'open_end_line_of_credit_category'] = 'Open Line of Credit'\n",
    "df.loc[df['open_end_line_of_credit'] == 2, 'open_end_line_of_credit_category'] = 'Not Open Line of Credit'\n",
    "df.loc[df['open_end_line_of_credit'] == 1111, 'open_end_line_of_credit_category'] = 'Exempt'\n",
    "\n",
    "df.loc[df['open_end_line_of_credit'] == 1, 'open_end_line_of_credit'] = 1\n",
    "df.loc[df['open_end_line_of_credit'] == 2, 'open_end_line_of_credit'] = 0\n",
    "df.loc[df['open_end_line_of_credit'] == 1111, 'open_end_line_of_credit'] = np.nan"
   ]
  },
  {
   "cell_type": "code",
   "execution_count": 38,
   "id": "43ab3a18",
   "metadata": {},
   "outputs": [],
   "source": [
    "# Handling business_or_commercial_purpose\n",
    "# df = df[~(df['business_or_commercial_purpose'] == 1)] - Model Only\n",
    "df.loc[df['business_or_commercial_purpose'] == 1, 'business_or_commercial_purpose_category'] = 'Business Purpose'\n",
    "df.loc[df['business_or_commercial_purpose'] == 2, 'business_or_commercial_purpose_category'] = 'Not Business Purpose'\n",
    "df.loc[df['business_or_commercial_purpose'] == 1111, 'business_or_commercial_purpose_category'] = 'Exempt'\n",
    "\n",
    "df.loc[df['business_or_commercial_purpose'] == 1, 'business_or_commercial_purpose'] = 1\n",
    "df.loc[df['business_or_commercial_purpose'] == 2, 'business_or_commercial_purpose'] = 0\n",
    "df.loc[df['business_or_commercial_purpose'] == 1111, 'business_or_commercial_purpose'] = np.nan"
   ]
  },
  {
   "cell_type": "code",
   "execution_count": 43,
   "id": "7ddf44c9",
   "metadata": {},
   "outputs": [],
   "source": [
    "# Handle the loan_to_value_ratio and combined_loan_to_value_ratio columns\n",
    "# Also create an effective ltv column\n",
    "df = df.reset_index(drop=True)\n",
    "df['combined_loan_to_value_ratio'] = pd.to_numeric(df['combined_loan_to_value_ratio'], errors='coerce')\n",
    "df['effective_ltv'] = df['loan_to_value_ratio']\n",
    "df.loc[df['effective_ltv'].isna(), 'effective_ltv'] = df['combined_loan_to_value_ratio']"
   ]
  },
  {
   "cell_type": "code",
   "execution_count": 44,
   "id": "2aa766a7",
   "metadata": {},
   "outputs": [],
   "source": [
    "# Fix the datatype for interest_rate\n",
    "df['interest_rate'] = pd.to_numeric(df['interest_rate'], errors='coerce')"
   ]
  },
  {
   "cell_type": "code",
   "execution_count": 45,
   "id": "cd29b1a9",
   "metadata": {},
   "outputs": [],
   "source": [
    "# rate_spread column\n",
    "df['rate_spread'] = pd.to_numeric(df['rate_spread'], errors='coerce')"
   ]
  },
  {
   "cell_type": "code",
   "execution_count": 49,
   "id": "a4dfabe0",
   "metadata": {},
   "outputs": [],
   "source": [
    "# hoepa_status\n",
    "df.loc[df['hoepa_status'] == 1, 'hopea_status_category'] = 'High Cost Mortgage'\n",
    "df.loc[df['hoepa_status'] == 2, 'hopea_status_category'] = 'Not a High Cost Mortgage'\n",
    "df.loc[df['hoepa_status'] == 3, 'hopea_status_category'] = np.nan\n",
    "\n",
    "df.loc[df['hoepa_status'] == 1, 'hopea_status'] = 1\n",
    "df.loc[df['hoepa_status'] == 2, 'hopea_status'] = 0\n",
    "df.loc[df['hoepa_status'] == 3, 'hopea_status'] = np.nan"
   ]
  },
  {
   "cell_type": "code",
   "execution_count": 54,
   "id": "ccf1d8a6",
   "metadata": {},
   "outputs": [],
   "source": [
    "# total_loan_costs\n",
    "df.loc[df['total_loan_costs'].isin(['nan', 'Exempt']), 'total_loan_costs'] = np.nan\n",
    "df['total_loan_costs'] = pd.to_numeric(df['total_loan_costs'], errors='coerce')"
   ]
  },
  {
   "cell_type": "code",
   "execution_count": 58,
   "id": "cf552b59",
   "metadata": {},
   "outputs": [],
   "source": [
    "# total_points_and_fees\n",
    "df.loc[df['total_points_and_fees'].isin(['nan', 'Exempt']), 'total_points_and_fees'] = np.nan\n",
    "df['total_points_and_fees'] = pd.to_numeric(df['total_points_and_fees'], errors='coerce')"
   ]
  },
  {
   "cell_type": "code",
   "execution_count": 62,
   "id": "b68db9af",
   "metadata": {},
   "outputs": [],
   "source": [
    "# origination_charges\n",
    "df.loc[df['origination_charges'].isin(['nan', 'Exempt']), 'origination_charges'] = np.nan\n",
    "df['origination_charges'] = pd.to_numeric(df['origination_charges'], errors='coerce')"
   ]
  },
  {
   "cell_type": "code",
   "execution_count": 66,
   "id": "e09e62f3",
   "metadata": {},
   "outputs": [],
   "source": [
    "# discount_points\n",
    "df.loc[df['discount_points'].isin(['nan', 'Exempt']), 'discount_points'] = np.nan\n",
    "df['discount_points'] = pd.to_numeric(df['discount_points'], errors='coerce')"
   ]
  },
  {
   "cell_type": "code",
   "execution_count": 70,
   "id": "d54d3fb7",
   "metadata": {},
   "outputs": [],
   "source": [
    "# lender_credits\n",
    "df.loc[df['lender_credits'].isin(['nan', 'Exempt']), 'lender_credits'] = np.nan\n",
    "df['lender_credits'] = pd.to_numeric(df['lender_credits'], errors='coerce')"
   ]
  },
  {
   "cell_type": "code",
   "execution_count": 75,
   "id": "504224af",
   "metadata": {},
   "outputs": [],
   "source": [
    "# loan_term\n",
    "df.loc[df['loan_term'].isin(['nan', 'Exempt']), 'loan_term'] = np.nan\n",
    "df['loan_term'] = pd.to_numeric(df['loan_term'], errors='coerce').astype('Int64')"
   ]
  },
  {
   "cell_type": "code",
   "execution_count": 79,
   "id": "06991487",
   "metadata": {},
   "outputs": [],
   "source": [
    "# prepayment_penalty_term\n",
    "df.loc[df['prepayment_penalty_term'].isin(['nan', 'Exempt']), 'prepayment_penalty_term'] = np.nan\n",
    "df['prepayment_penalty_term'] = pd.to_numeric(df['prepayment_penalty_term'], errors='coerce').astype('Int64')"
   ]
  },
  {
   "cell_type": "code",
   "execution_count": 83,
   "id": "2bab6ba8",
   "metadata": {},
   "outputs": [],
   "source": [
    "# intro_rate_period\n",
    "df.loc[df['intro_rate_period'].isin(['nan', 'Exempt']), 'intro_rate_period'] = np.nan\n",
    "df['intro_rate_period'] = pd.to_numeric(df['intro_rate_period'], errors='coerce').astype('Int64')"
   ]
  },
  {
   "cell_type": "code",
   "execution_count": 87,
   "id": "57ad1a5a",
   "metadata": {},
   "outputs": [],
   "source": [
    "# negative_amortization\n",
    "df.loc[df['negative_amortization'] == 1, 'negative_amortization_category'] = 'Negative Amortization Features'\n",
    "df.loc[df['negative_amortization'] == 2, 'negative_amortization_category'] = 'No Negative Amortization Features'\n",
    "df.loc[df['negative_amortization'] == 1111, 'negative_amortization_category'] = np.nan\n",
    "\n",
    "df.loc[df['negative_amortization'] == 1, 'negative_amortization'] = 1\n",
    "df.loc[df['negative_amortization'] == 2, 'negative_amortization'] = 0\n",
    "df.loc[df['negative_amortization'] == 1111, 'negative_amortization'] = np.nan"
   ]
  },
  {
   "cell_type": "code",
   "execution_count": 91,
   "id": "7e60b63d",
   "metadata": {},
   "outputs": [],
   "source": [
    "# interest_only_payment\n",
    "df.loc[df['interest_only_payment'] == 1, 'interest_only_payment_category'] = 'Interest-Only Payments'\n",
    "df.loc[df['interest_only_payment'] == 2, 'interest_only_payment_category'] = 'No Interest-Only Payments'\n",
    "df.loc[df['interest_only_payment'] == 1111, 'interest_only_payment_category'] = np.nan\n",
    "\n",
    "df.loc[df['interest_only_payment'] == 1, 'interest_only_payment'] = 1\n",
    "df.loc[df['interest_only_payment'] == 2, 'interest_only_payment'] = 0\n",
    "df.loc[df['interest_only_payment'] == 1111, 'interest_only_payment'] = np.nan"
   ]
  },
  {
   "cell_type": "code",
   "execution_count": 95,
   "id": "f8262850",
   "metadata": {},
   "outputs": [],
   "source": [
    "# interest_only_payment\n",
    "df.loc[df['balloon_payment'] == 1, 'balloon_payment_category'] = 'Balloon Payment'\n",
    "df.loc[df['balloon_payment'] == 2, 'balloon_payment_category'] = 'No Balloon Payment'\n",
    "df.loc[df['balloon_payment'] == 1111, 'balloon_payment_category'] = np.nan\n",
    "\n",
    "df.loc[df['balloon_payment'] == 1, 'balloon_payment'] = 1\n",
    "df.loc[df['balloon_payment'] == 2, 'balloon_payment'] = 0\n",
    "df.loc[df['balloon_payment'] == 1111, 'balloon_payment'] = np.nan"
   ]
  },
  {
   "cell_type": "code",
   "execution_count": 99,
   "id": "534e9ca8",
   "metadata": {},
   "outputs": [],
   "source": [
    "# other_nonamortizing_features\n",
    "df.loc[df['other_nonamortizing_features'] == 1, 'other_nonamortizing_features_category'] = 'Other non-fully amortizing features'\n",
    "df.loc[df['other_nonamortizing_features'] == 2, 'other_nonamortizing_features_category'] = 'No other non-fully amortizing features'\n",
    "df.loc[df['other_nonamortizing_features'] == 1111, 'other_nonamortizing_features_category'] = np.nan\n",
    "\n",
    "df.loc[df['other_nonamortizing_features'] == 1, 'other_nonamortizing_features'] = 1\n",
    "df.loc[df['other_nonamortizing_features'] == 2, 'other_nonamortizing_features'] = 0\n",
    "df.loc[df['other_nonamortizing_features'] == 1111, 'other_nonamortizing_features'] = np.nan"
   ]
  },
  {
   "cell_type": "code",
   "execution_count": 106,
   "id": "c5414b75",
   "metadata": {},
   "outputs": [],
   "source": [
    "# property_value\n",
    "df.loc[df['property_value'].isin(['nan', 'Exempt']), 'property_value'] = np.nan\n",
    "df['property_value'] = pd.to_numeric(df['property_value'], errors='coerce').astype('Int64')"
   ]
  },
  {
   "cell_type": "code",
   "execution_count": 119,
   "id": "25eccbcf",
   "metadata": {},
   "outputs": [],
   "source": [
    "# construction_method\n",
    "df.loc[df['construction_method'] == 1, 'construction_method_category'] = 'Site-built'\n",
    "df.loc[df['construction_method'] == 2, 'construction_method_category'] = 'Manufactured Home'"
   ]
  },
  {
   "cell_type": "code",
   "execution_count": 120,
   "id": "c4ed88a4",
   "metadata": {},
   "outputs": [],
   "source": [
    "# occupancy_type\n",
    "df.loc[df['occupancy_type'] == 1, 'occupancy_type_category'] = 'Principal Residence'\n",
    "df.loc[df['occupancy_type'] == 2, 'occupancy_type_category'] = 'Second Residence'\n",
    "df.loc[df['occupancy_type'] == 3, 'occupancy_type_category'] = 'Investment Property'"
   ]
  },
  {
   "cell_type": "code",
   "execution_count": 124,
   "id": "14663e0b",
   "metadata": {},
   "outputs": [],
   "source": [
    "# manufactured_home_secured_property_type\n",
    "df.loc[df['manufactured_home_secured_property_type'] == 1, 'manufactured_home_secured_property_type_category'] = 'Manufactured home and land'\n",
    "df.loc[df['manufactured_home_secured_property_type'] == 2, 'manufactured_home_secured_property_type_category'] = 'Manufactured Home - Not Land'\n",
    "df.loc[df['manufactured_home_secured_property_type'] == 3, 'manufactured_home_secured_property_type_category'] = np.nan\n",
    "df.loc[df['manufactured_home_secured_property_type'] == 1111, 'manufactured_home_secured_property_type_category'] = np.nan\n",
    "\n",
    "df.loc[df['manufactured_home_secured_property_type'] == 3, 'manufactured_home_secured_property_type'] = np.nan\n",
    "df.loc[df['manufactured_home_secured_property_type'] == 1111, 'manufactured_home_secured_property_type'] = np.nan"
   ]
  },
  {
   "cell_type": "code",
   "execution_count": 128,
   "id": "6c26b857",
   "metadata": {},
   "outputs": [],
   "source": [
    "# manufactured_home_land_property_interest\n",
    "df.loc[df['manufactured_home_land_property_interest'] == 1, 'manufactured_home_land_property_interest_category'] = 'Direct Ownership'\n",
    "df.loc[df['manufactured_home_land_property_interest'] == 2, 'manufactured_home_land_property_interest_category'] = 'Indirect Ownership'\n",
    "df.loc[df['manufactured_home_land_property_interest'] == 3, 'manufactured_home_land_property_interest_category'] = 'Paid Leasehold'\n",
    "df.loc[df['manufactured_home_land_property_interest'] == 4, 'manufactured_home_land_property_interest_category'] = 'Unpaid Leasehold'\n",
    "df.loc[df['manufactured_home_land_property_interest'] == 5, 'manufactured_home_land_property_interest_category'] = np.nan\n",
    "df.loc[df['manufactured_home_land_property_interest'] == 1111, 'manufactured_home_land_property_interest_category'] = np.nan\n",
    "\n",
    "df.loc[df['manufactured_home_land_property_interest'] == 5, 'manufactured_home_land_property_interest'] = np.nan\n",
    "df.loc[df['manufactured_home_land_property_interest'] == 1111, 'manufactured_home_land_property_interest'] = np.nan"
   ]
  },
  {
   "cell_type": "code",
   "execution_count": 147,
   "id": "a98c4b83",
   "metadata": {},
   "outputs": [],
   "source": [
    "# Cleaning up total_units\n",
    "df.loc[df['total_units'].isin([1, 1.0, '1']), 'total_units'] = 1\n",
    "df.loc[df['total_units'].isin([2, 2.0, '2']), 'total_units'] = 2\n",
    "df.loc[df['total_units'].isin([3, 4.0, '3']), 'total_units'] = 3\n",
    "df.loc[df['total_units'].isin([4, 4.0, '4']), 'total_units'] = 4\n",
    "\n",
    "# Create bucketed column\n",
    "def total_units_bucketed(code): \n",
    "    if pd.isna(code): \n",
    "        return \"Unknown\"\n",
    "    try: \n",
    "        val = int(code)\n",
    "        return str(val) if val <= 4 else \"5+\"\n",
    "    except: \n",
    "        return \"5+\"\n",
    "\n",
    "df['total_units_bucketed'] = df['total_units'].apply(total_units_bucketed)"
   ]
  },
  {
   "cell_type": "code",
   "execution_count": 154,
   "id": "ac954c99",
   "metadata": {},
   "outputs": [],
   "source": [
    "# multifamily_affordable_units\n",
    "df[\"multifamily_affordable_units\"] = pd.to_numeric(df[\"multifamily_affordable_units\"], errors=\"coerce\").astype('Int64')\n",
    "df[\"multifamily_affordable_units\"] = df[\"multifamily_affordable_units\"].fillna(0)"
   ]
  },
  {
   "cell_type": "code",
   "execution_count": 161,
   "id": "6d5b9510",
   "metadata": {},
   "outputs": [],
   "source": [
    "# income\n",
    "df['income'] = pd.to_numeric(df['income'], errors='coerce').astype('Int64')\n",
    "df['income'] = df['income'] * 1000"
   ]
  },
  {
   "cell_type": "code",
   "execution_count": 169,
   "id": "308d772c",
   "metadata": {},
   "outputs": [],
   "source": [
    "# debt_to_income_ratio\n",
    "def transform_dti(x): \n",
    "    x = str(x)\n",
    "    if x in ['nan', 'Exempt']: \n",
    "        return np.nan\n",
    "    try: \n",
    "        val = int(x)\n",
    "        if val < 20: \n",
    "            return '<20%'\n",
    "        elif val >= 20 and val < 30: \n",
    "            return '20%-<30%'\n",
    "        elif val >= 30 and val < 36: \n",
    "            return '30%-<36%'\n",
    "        elif val >= 36 and val < 40: \n",
    "            return '36%-<40%'\n",
    "        elif val >= 40 and val < 46: \n",
    "            return '40%-<46%'\n",
    "        elif val >= 46 and val < 50: \n",
    "            return '46%-<50%'\n",
    "        elif val >= 50 and val <= 60: \n",
    "            return '50%-60%'\n",
    "        elif val > 60: \n",
    "            return '>60%'\n",
    "        else: \n",
    "            return x\n",
    "    except: \n",
    "        return x \n",
    "\n",
    "df['debt_to_income_ratio'] = df['debt_to_income_ratio'].apply(transform_dti)"
   ]
  },
  {
   "cell_type": "code",
   "execution_count": 175,
   "id": "9842022d",
   "metadata": {},
   "outputs": [],
   "source": [
    "# applicant_credit_score_type\n",
    "df.loc[df['applicant_credit_score_type'] == 1, 'applicant_credit_score_type_category'] = 'Equifax Beacon 5.0'\n",
    "df.loc[df['applicant_credit_score_type'] == 2, 'applicant_credit_score_type_category'] = 'Experian Fair Isaac'\n",
    "df.loc[df['applicant_credit_score_type'] == 3, 'applicant_credit_score_type_category'] = 'FICO Risk Score Classic 04'\n",
    "df.loc[df['applicant_credit_score_type'] == 4, 'applicant_credit_score_type_category'] = 'FICO Risk Score Classic 98'\n",
    "df.loc[df['applicant_credit_score_type'] == 5, 'applicant_credit_score_type_category'] = 'VantageScore 2.0'\n",
    "df.loc[df['applicant_credit_score_type'] == 6, 'applicant_credit_score_type_category'] = 'VantageScore 3.0'\n",
    "df.loc[df['applicant_credit_score_type'] == 7, 'applicant_credit_score_type_category'] = 'More than one credit score model'\n",
    "df.loc[df['applicant_credit_score_type'] == 8, 'applicant_credit_score_type_category'] = 'Other credit scoring model'\n",
    "df.loc[df['applicant_credit_score_type'] == 9, 'applicant_credit_score_type_category'] = np.nan\n",
    "df.loc[df['applicant_credit_score_type'] == 1111, 'applicant_credit_score_type_category'] = np.nan\n",
    "\n",
    "df.loc[df['applicant_credit_score_type'] == 9, 'applicant_credit_score_type'] = np.nan\n",
    "df.loc[df['applicant_credit_score_type'] == 1111, 'applicant_credit_score_type'] = np.nan"
   ]
  },
  {
   "cell_type": "code",
   "execution_count": 177,
   "id": "79ef8068",
   "metadata": {},
   "outputs": [],
   "source": [
    "# co_applicant_credit_score_type\n",
    "df.loc[df['co_applicant_credit_score_type'] == 1, 'co_applicant_credit_score_type_category'] = 'Equifax Beacon 5.0'\n",
    "df.loc[df['co_applicant_credit_score_type'] == 2, 'co_applicant_credit_score_type_category'] = 'Experian Fair Isaac'\n",
    "df.loc[df['co_applicant_credit_score_type'] == 3, 'co_applicant_credit_score_type_category'] = 'FICO Risk Score Classic 04'\n",
    "df.loc[df['co_applicant_credit_score_type'] == 4, 'co_applicant_credit_score_type_category'] = 'FICO Risk Score Classic 98'\n",
    "df.loc[df['co_applicant_credit_score_type'] == 5, 'co_applicant_credit_score_type_category'] = 'VantageScore 2.0'\n",
    "df.loc[df['co_applicant_credit_score_type'] == 6, 'co_applicant_credit_score_type_category'] = 'VantageScore 3.0'\n",
    "df.loc[df['co_applicant_credit_score_type'] == 7, 'co_applicant_credit_score_type_category'] = 'More than one credit score model'\n",
    "df.loc[df['co_applicant_credit_score_type'] == 8, 'co_applicant_credit_score_type_category'] = 'Other credit scoring model'\n",
    "df.loc[df['co_applicant_credit_score_type'] == 9, 'co_applicant_credit_score_type_category'] = 'No Co-Applicant'\n",
    "df.loc[df['co_applicant_credit_score_type'] == 10, 'co_applicant_credit_score_type_category'] = np.nan\n",
    "df.loc[df['co_applicant_credit_score_type'] == 1111, 'co_applicant_credit_score_type_category'] = np.nan\n",
    "\n",
    "df.loc[df['co_applicant_credit_score_type'] == 9, 'co_applicant_credit_score_type'] = np.nan\n",
    "df.loc[df['co_applicant_credit_score_type'] == 1111, 'co_applicant_credit_score_type'] = np.nan"
   ]
  },
  {
   "cell_type": "code",
   "execution_count": 195,
   "id": "d5803339",
   "metadata": {},
   "outputs": [],
   "source": [
    "# applicant_ethnicity_X\n",
    "for x in range(1, 6): \n",
    "    df.loc[df[f\"applicant_ethnicity_{x}\"] == 1, f\"applicant_ethnicity_{x}_category\"] = 'Hispanic or Latino'\n",
    "    df.loc[df[f\"applicant_ethnicity_{x}\"] == 2, f\"applicant_ethnicity_{x}_category\"] = 'Not Hispanic or Latino'\n",
    "    df.loc[df[f\"applicant_ethnicity_{x}\"] == 3, f\"applicant_ethnicity_{x}_category\"] = np.nan\n",
    "    df.loc[df[f\"applicant_ethnicity_{x}\"] == 4, f\"applicant_ethnicity_{x}_category\"] = np.nan\n",
    "    df.loc[df[f\"applicant_ethnicity_{x}\"] == 11, f\"applicant_ethnicity_{x}_category\"] = 'Mexican'\n",
    "    df.loc[df[f\"applicant_ethnicity_{x}\"] == 12, f\"applicant_ethnicity_{x}_category\"] = 'Puerto Rican'\n",
    "    df.loc[df[f\"applicant_ethnicity_{x}\"] == 13, f\"applicant_ethnicity_{x}_category\"] = 'Cuban'\n",
    "    df.loc[df[f\"applicant_ethnicity_{x}\"] == 14, f\"applicant_ethnicity_{x}_category\"] = 'Other Hispanic or Latino'\n",
    "    \n",
    "    df.loc[df[f\"applicant_ethnicity_{x}\"] == 3, f\"applicant_ethnicity_{x}\"] = np.nan\n",
    "    df.loc[df[f\"applicant_ethnicity_{x}\"] == 4, f\"applicant_ethnicity_{x}\"] = np.nan\n",
    "    df[f\"applicant_ethnicity_{x}\"] = pd.to_numeric(df[f\"applicant_ethnicity_{x}\"], errors=\"coerce\").astype('Int64')\n"
   ]
  },
  {
   "cell_type": "code",
   "execution_count": 196,
   "id": "e2effa2e",
   "metadata": {},
   "outputs": [],
   "source": [
    "# co_applicant_ethnicity_X\n",
    "for x in range(1, 6): \n",
    "    df.loc[df[f\"co_applicant_ethnicity_{x}\"] == 1, f\"co_applicant_ethnicity_{x}_category\"] = 'Hispanic or Latino'\n",
    "    df.loc[df[f\"co_applicant_ethnicity_{x}\"] == 2, f\"co_applicant_ethnicity_{x}_category\"] = 'Not Hispanic or Latino'\n",
    "    df.loc[df[f\"co_applicant_ethnicity_{x}\"] == 3, f\"co_applicant_ethnicity_{x}_category\"] = np.nan\n",
    "    df.loc[df[f\"co_applicant_ethnicity_{x}\"] == 4, f\"co_applicant_ethnicity_{x}_category\"] = np.nan\n",
    "    df.loc[df[f\"co_applicant_ethnicity_{x}\"] == 5, f\"co_applicant_ethnicity_{x}_category\"] = np.nan\n",
    "    df.loc[df[f\"co_applicant_ethnicity_{x}\"] == 11, f\"co_applicant_ethnicity_{x}_category\"] = 'Mexican'\n",
    "    df.loc[df[f\"co_applicant_ethnicity_{x}\"] == 12, f\"co_applicant_ethnicity_{x}_category\"] = 'Puerto Rican'\n",
    "    df.loc[df[f\"co_applicant_ethnicity_{x}\"] == 13, f\"co_applicant_ethnicity_{x}_category\"] = 'Cuban'\n",
    "    df.loc[df[f\"co_applicant_ethnicity_{x}\"] == 14, f\"co_applicant_ethnicity_{x}_category\"] = 'Other Hispanic or Latino'\n",
    "    \n",
    "    df.loc[df[f\"co_applicant_ethnicity_{x}\"] == 3, f\"co_applicant_ethnicity_{x}\"] = np.nan\n",
    "    df.loc[df[f\"co_applicant_ethnicity_{x}\"] == 4, f\"co_applicant_ethnicity_{x}\"] = np.nan\n",
    "    df[f\"co_applicant_ethnicity_{x}\"] = pd.to_numeric(df[f\"co_applicant_ethnicity_{x}\"], errors=\"coerce\").astype('Int64')\n"
   ]
  },
  {
   "cell_type": "code",
   "execution_count": 198,
   "id": "d0732607",
   "metadata": {},
   "outputs": [],
   "source": [
    "# create no co applicant column\n",
    "df['co_applicant_present'] = (df['co_applicant_ethnicity_1'] != 5).astype('Int64')"
   ]
  },
  {
   "cell_type": "code",
   "execution_count": 206,
   "id": "e15a74d8",
   "metadata": {},
   "outputs": [],
   "source": [
    "# applicant_ethnicity_observed\n",
    "df.loc[df['applicant_ethnicity_observed'] == 1, 'applicant_ethnicity_observed_category'] = 'Ethnicity Collected on Basis of Observation'\n",
    "df.loc[df['applicant_ethnicity_observed'] == 2, 'applicant_ethnicity_observed_category'] = 'Ethnicity Not Based on Observation'\n",
    "df.loc[df['applicant_ethnicity_observed'] == 3, 'applicant_ethnicity_observed_category'] = np.nan\n",
    "\n",
    "df.loc[df['applicant_ethnicity_observed'] == 1, 'applicant_enthnicity_observed'] = 1\n",
    "df.loc[df['applicant_ethnicity_observed'] == 2, 'applicant_enthnicity_observed'] = 0\n",
    "df.loc[df['applicant_ethnicity_observed'] == 3, 'applicant_enthnicity_observed'] = np.nan"
   ]
  },
  {
   "cell_type": "code",
   "execution_count": 207,
   "id": "9c65cf58",
   "metadata": {},
   "outputs": [],
   "source": [
    "# co applicant_ethnicity_observed\n",
    "df.loc[df['co_applicant_ethnicity_observed'] == 1, 'co_applicant_ethnicity_observed_category'] = 'Ethnicity Collected on Basis of Observation'\n",
    "df.loc[df['co_applicant_ethnicity_observed'] == 2, 'co_applicant_ethnicity_observed_category'] = 'Ethnicity Not Based on Observation'\n",
    "df.loc[df['co_applicant_ethnicity_observed'] == 3, 'co_applicant_ethnicity_observed_category'] = np.nan\n",
    "df.loc[df['co_applicant_ethnicity_observed'] == 4, 'co_applicant_ethnicity_observed_category'] = np.nan\n",
    "\n",
    "df.loc[df['co_applicant_ethnicity_observed'] == 1, 'co_applicant_enthnicity_observed'] = 1\n",
    "df.loc[df['co_applicant_ethnicity_observed'] == 2, 'co_applicant_enthnicity_observed'] = 0\n",
    "df.loc[df['co_applicant_ethnicity_observed'] == 3, 'co_applicant_enthnicity_observed'] = np.nan\n",
    "df.loc[df['co_applicant_ethnicity_observed'] == 4, 'co_applicant_enthnicity_observed'] = np.nan"
   ]
  },
  {
   "cell_type": "code",
   "execution_count": 211,
   "id": "60eca305",
   "metadata": {},
   "outputs": [],
   "source": [
    "# applicant_race_X\n",
    "for x in range(1, 6): \n",
    "    df[f\"applicant_race_{x}\"] = pd.to_numeric(df[f\"applicant_race_{x}\"], errors=\"coerce\").astype('Int64')\n",
    "    df.loc[df[f\"applicant_race_{x}\"] == 1, f\"applicant_race_{x}_category\"] = 'American Indian or Alaska Native'\n",
    "    df.loc[df[f\"applicant_race_{x}\"] == 2, f\"applicant_race_{x}_category\"] = 'Asian'\n",
    "    df.loc[df[f\"applicant_race_{x}\"] == 21, f\"applicant_race_{x}_category\"] = 'Asian Indian'\n",
    "    df.loc[df[f\"applicant_race_{x}\"] == 22, f\"applicant_race_{x}_category\"] = 'Chinese'\n",
    "    df.loc[df[f\"applicant_race_{x}\"] == 23, f\"applicant_race_{x}_category\"] = 'Filipino'\n",
    "    df.loc[df[f\"applicant_race_{x}\"] == 24, f\"applicant_race_{x}_category\"] = 'Japanese'\n",
    "    df.loc[df[f\"applicant_race_{x}\"] == 25, f\"applicant_race_{x}_category\"] = 'Korean'\n",
    "    df.loc[df[f\"applicant_race_{x}\"] == 26, f\"applicant_race_{x}_category\"] = 'Vietnamese'\n",
    "    df.loc[df[f\"applicant_race_{x}\"] == 27, f\"applicant_race_{x}_category\"] = 'Other Asian'\n",
    "    df.loc[df[f\"applicant_race_{x}\"] == 3, f\"applicant_race_{x}_category\"] = 'Black or African American'\n",
    "    df.loc[df[f\"applicant_race_{x}\"] == 4, f\"applicant_race_{x}_category\"] = 'Native Hawaiian or Other Pacific Islander'\n",
    "    df.loc[df[f\"applicant_race_{x}\"] == 41, f\"applicant_race_{x}_category\"] = 'Native Hawaiian'\n",
    "    df.loc[df[f\"applicant_race_{x}\"] == 42, f\"applicant_race_{x}_category\"] = 'Guamanian or Chamorro'\n",
    "    df.loc[df[f\"applicant_race_{x}\"] == 43, f\"applicant_race_{x}_category\"] = 'Samoan'\n",
    "    df.loc[df[f\"applicant_race_{x}\"] == 44, f\"applicant_race_{x}_category\"] = 'Other Pacific Islander'\n",
    "    df.loc[df[f\"applicant_race_{x}\"] == 5, f\"applicant_race_{x}_category\"] = 'White'\n",
    "    df.loc[df[f\"applicant_race_{x}\"] == 6, f\"applicant_race_{x}_category\"] = np.nan\n",
    "    df.loc[df[f\"applicant_race_{x}\"] == 7, f\"applicant_race_{x}_category\"] = np.nan\n",
    "    \n",
    "    df.loc[df[f\"applicant_race_{x}\"] == 1, f\"applicant_race_{x}_category_grouped\"] = 'AAPI'\n",
    "    df.loc[df[f\"applicant_race_{x}\"] == 2, f\"applicant_race_{x}_category_grouped\"] = 'AAPI'\n",
    "    df.loc[df[f\"applicant_race_{x}\"] == 21, f\"applicant_race_{x}_category_grouped\"] = 'AAPI'\n",
    "    df.loc[df[f\"applicant_race_{x}\"] == 22, f\"applicant_race_{x}_category_grouped\"] = 'AAPI'\n",
    "    df.loc[df[f\"applicant_race_{x}\"] == 23, f\"applicant_race_{x}_category_grouped\"] = 'AAPI'\n",
    "    df.loc[df[f\"applicant_race_{x}\"] == 24, f\"applicant_race_{x}_category_grouped\"] = 'AAPI'\n",
    "    df.loc[df[f\"applicant_race_{x}\"] == 25, f\"applicant_race_{x}_category_grouped\"] = 'AAPI'\n",
    "    df.loc[df[f\"applicant_race_{x}\"] == 26, f\"applicant_race_{x}_category_grouped\"] = 'AAPI'\n",
    "    df.loc[df[f\"applicant_race_{x}\"] == 27, f\"applicant_race_{x}_category_grouped\"] = 'AAPI'\n",
    "    df.loc[df[f\"applicant_race_{x}\"] == 3, f\"applicant_race_{x}_category_grouped\"] = 'Black'\n",
    "    df.loc[df[f\"applicant_race_{x}\"] == 4, f\"applicant_race_{x}_category_grouped\"] = 'AAPI'\n",
    "    df.loc[df[f\"applicant_race_{x}\"] == 41, f\"applicant_race_{x}_category_grouped\"] = 'AAPI'\n",
    "    df.loc[df[f\"applicant_race_{x}\"] == 42, f\"applicant_race_{x}_category_grouped\"] = 'AAPI'\n",
    "    df.loc[df[f\"applicant_race_{x}\"] == 43, f\"applicant_race_{x}_category_grouped\"] = 'AAPI'\n",
    "    df.loc[df[f\"applicant_race_{x}\"] == 44, f\"applicant_race_{x}_category_grouped\"] = 'AAPI'\n",
    "    df.loc[df[f\"applicant_race_{x}\"] == 5, f\"applicant_race_{x}_category_grouped\"] = 'White'\n",
    "    df.loc[df[f\"applicant_race_{x}\"] == 6, f\"applicant_race_{x}_category_grouped\"] = np.nan\n",
    "    df.loc[df[f\"applicant_race_{x}\"] == 7, f\"applicant_race_{x}_category_grouped\"] = np.nan\n",
    "    df.loc[df[f\"applicant_race_{x}\"] == 8, f\"applicant_race_{x}_category_grouped\"] = np.nan\n",
    "    \n",
    "    df.loc[df[f\"applicant_race_{x}\"] == 6, f\"applicant_race_{x}\"] = np.nan\n",
    "    df.loc[df[f\"applicant_race_{x}\"] == 7, f\"applicant_race_{x}\"] = np.nan\n",
    "    df.loc[df[f\"applicant_race_{x}\"] == 8, f\"applicant_race_{x}\"] = np.nan"
   ]
  },
  {
   "cell_type": "code",
   "execution_count": 213,
   "id": "4bd25bb9",
   "metadata": {},
   "outputs": [],
   "source": [
    "# co_applicant_race_X\n",
    "for x in range(1, 6): \n",
    "    df[f\"co_applicant_race_{x}\"] = pd.to_numeric(df[f\"co_applicant_race_{x}\"], errors=\"coerce\").astype('Int64')\n",
    "    df.loc[df[f\"co_applicant_race_{x}\"] == 1, f\"co_applicant_race_{x}_category\"] = 'American Indian or Alaska Native'\n",
    "    df.loc[df[f\"co_applicant_race_{x}\"] == 2, f\"co_applicant_race_{x}_category\"] = 'Asian'\n",
    "    df.loc[df[f\"co_applicant_race_{x}\"] == 21, f\"co_applicant_race_{x}_category\"] = 'Asian Indian'\n",
    "    df.loc[df[f\"co_applicant_race_{x}\"] == 22, f\"co_applicant_race_{x}_category\"] = 'Chinese'\n",
    "    df.loc[df[f\"co_applicant_race_{x}\"] == 23, f\"co_applicant_race_{x}_category\"] = 'Filipino'\n",
    "    df.loc[df[f\"co_applicant_race_{x}\"] == 24, f\"co_applicant_race_{x}_category\"] = 'Japanese'\n",
    "    df.loc[df[f\"co_applicant_race_{x}\"] == 25, f\"co_applicant_race_{x}_category\"] = 'Korean'\n",
    "    df.loc[df[f\"co_applicant_race_{x}\"] == 26, f\"co_applicant_race_{x}_category\"] = 'Vietnamese'\n",
    "    df.loc[df[f\"co_applicant_race_{x}\"] == 27, f\"co_applicant_race_{x}_category\"] = 'Other Asian'\n",
    "    df.loc[df[f\"co_applicant_race_{x}\"] == 3, f\"co_applicant_race_{x}_category\"] = 'Black or African American'\n",
    "    df.loc[df[f\"co_applicant_race_{x}\"] == 4, f\"co_applicant_race_{x}_category\"] = 'Native Hawaiian or Other Pacific Islander'\n",
    "    df.loc[df[f\"co_applicant_race_{x}\"] == 41, f\"co_applicant_race_{x}_category\"] = 'Native Hawaiian'\n",
    "    df.loc[df[f\"co_applicant_race_{x}\"] == 42, f\"co_applicant_race_{x}_category\"] = 'Guamanian or Chamorro'\n",
    "    df.loc[df[f\"co_applicant_race_{x}\"] == 43, f\"co_applicant_race_{x}_category\"] = 'Samoan'\n",
    "    df.loc[df[f\"co_applicant_race_{x}\"] == 44, f\"co_applicant_race_{x}_category\"] = 'Other Pacific Islander'\n",
    "    df.loc[df[f\"co_applicant_race_{x}\"] == 5, f\"co_applicant_race_{x}_category\"] = 'White'\n",
    "    df.loc[df[f\"co_applicant_race_{x}\"] == 6, f\"co_applicant_race_{x}_category\"] = np.nan\n",
    "    df.loc[df[f\"co_applicant_race_{x}\"] == 7, f\"co_applicant_race_{x}_category\"] = np.nan\n",
    "    df.loc[df[f\"co_applicant_race_{x}\"] == 8, f\"co_applicant_race_{x}_category\"] = np.nan\n",
    "    \n",
    "    df.loc[df[f\"co_applicant_race_{x}\"] == 1, f\"co_applicant_race_{x}_category_grouped\"] = 'AAPI'\n",
    "    df.loc[df[f\"co_applicant_race_{x}\"] == 2, f\"co_applicant_race_{x}_category_grouped\"] = 'AAPI'\n",
    "    df.loc[df[f\"co_applicant_race_{x}\"] == 21, f\"co_applicant_race_{x}_category_grouped\"] = 'AAPI'\n",
    "    df.loc[df[f\"co_applicant_race_{x}\"] == 22, f\"co_applicant_race_{x}_category_grouped\"] = 'AAPI'\n",
    "    df.loc[df[f\"co_applicant_race_{x}\"] == 23, f\"co_applicant_race_{x}_category_grouped\"] = 'AAPI'\n",
    "    df.loc[df[f\"co_applicant_race_{x}\"] == 24, f\"co_applicant_race_{x}_category_grouped\"] = 'AAPI'\n",
    "    df.loc[df[f\"co_applicant_race_{x}\"] == 25, f\"co_applicant_race_{x}_category_grouped\"] = 'AAPI'\n",
    "    df.loc[df[f\"co_applicant_race_{x}\"] == 26, f\"co_applicant_race_{x}_category_grouped\"] = 'AAPI'\n",
    "    df.loc[df[f\"co_applicant_race_{x}\"] == 27, f\"co_applicant_race_{x}_category_grouped\"] = 'AAPI'\n",
    "    df.loc[df[f\"co_applicant_race_{x}\"] == 3, f\"co_applicant_race_{x}_category_grouped\"] = 'Black'\n",
    "    df.loc[df[f\"co_applicant_race_{x}\"] == 4, f\"co_applicant_race_{x}_category_grouped\"] = 'AAPI'\n",
    "    df.loc[df[f\"co_applicant_race_{x}\"] == 41, f\"co_applicant_race_{x}_category_grouped\"] = 'AAPI'\n",
    "    df.loc[df[f\"co_applicant_race_{x}\"] == 42, f\"co_applicant_race_{x}_category_grouped\"] = 'AAPI'\n",
    "    df.loc[df[f\"co_applicant_race_{x}\"] == 43, f\"co_applicant_race_{x}_category_grouped\"] = 'AAPI'\n",
    "    df.loc[df[f\"co_applicant_race_{x}\"] == 44, f\"co_applicant_race_{x}_category_grouped\"] = 'AAPI'\n",
    "    df.loc[df[f\"co_applicant_race_{x}\"] == 5, f\"co_applicant_race_{x}_category_grouped\"] = 'White'\n",
    "    df.loc[df[f\"co_applicant_race_{x}\"] == 6, f\"co_applicant_race_{x}_category_grouped\"] = np.nan\n",
    "    df.loc[df[f\"co_applicant_race_{x}\"] == 7, f\"co_applicant_race_{x}_category_grouped\"] = np.nan\n",
    "    df.loc[df[f\"co_applicant_race_{x}\"] == 8, f\"co_applicant_race_{x}_category_grouped\"] = np.nan\n",
    "    \n",
    "    df.loc[df[f\"co_applicant_race_{x}\"] == 6, f\"co_applicant_race_{x}\"] = np.nan\n",
    "    df.loc[df[f\"co_applicant_race_{x}\"] == 7, f\"co_applicant_race_{x}\"] = np.nan\n",
    "    df.loc[df[f\"co_applicant_race_{x}\"] == 8, f\"co_applicant_race_{x}\"] = np.nan"
   ]
  },
  {
   "cell_type": "code",
   "execution_count": 217,
   "id": "c2e5c6ae",
   "metadata": {},
   "outputs": [],
   "source": [
    "# applicant_race_observed\n",
    "df.loc[df['applicant_race_observed'] == 1, 'applicant_race_observed_category'] = 'Collected on basis of visual observation'\n",
    "df.loc[df['applicant_race_observed'] == 2, 'applicant_race_observed_category'] = 'Not Collected on basis of visual observation'\n",
    "df.loc[df['applicant_race_observed'] == 3, 'applicant_race_observed_category'] = np.nan\n",
    "\n",
    "df.loc[df['applicant_race_observed'] == 1, 'applicant_race_observed'] = 1\n",
    "df.loc[df['applicant_race_observed'] == 2, 'applicant_race_observed'] = 0\n",
    "df.loc[df['applicant_race_observed'] == 3, 'applicant_race_observed'] = np.nan"
   ]
  },
  {
   "cell_type": "code",
   "execution_count": 221,
   "id": "8f315dfb",
   "metadata": {},
   "outputs": [],
   "source": [
    "# applicant_race_observed\n",
    "df.loc[df['co_applicant_race_observed'] == 1, 'co_applicant_race_observed_category'] = 'Collected on basis of visual observation'\n",
    "df.loc[df['co_applicant_race_observed'] == 2, 'co_applicant_race_observed_category'] = 'Not Collected on basis of visual observation'\n",
    "df.loc[df['co_applicant_race_observed'] == 3, 'co_applicant_race_observed_category'] = np.nan\n",
    "df.loc[df['co_applicant_race_observed'] == 4, 'co_applicant_race_observed_category'] = np.nan\n",
    "\n",
    "df.loc[df['co_applicant_race_observed'] == 1, 'co_applicant_race_observed'] = 1\n",
    "df.loc[df['co_applicant_race_observed'] == 2, 'co_applicant_race_observed'] = 0\n",
    "df.loc[df['co_applicant_race_observed'] == 3, 'co_applicant_race_observed'] = np.nan\n",
    "df.loc[df['co_applicant_race_observed'] == 4, 'co_applicant_race_observed'] = np.nan"
   ]
  },
  {
   "cell_type": "code",
   "execution_count": 225,
   "id": "70aa8f94",
   "metadata": {},
   "outputs": [],
   "source": [
    "# applicant_sex\n",
    "df.loc[df['applicant_sex'] == 1, 'applicant_sex_category'] = 'Male'\n",
    "df.loc[df['applicant_sex'] == 2, 'applicant_sex_category'] = 'Female'\n",
    "df.loc[df['applicant_sex'] == 3, 'applicant_sex_category'] = np.nan\n",
    "df.loc[df['applicant_sex'] == 4, 'applicant_sex_category'] = np.nan\n",
    "df.loc[df['applicant_sex'] == 6, 'applicant_sex_category'] = 'Male and Female'\n",
    "\n",
    "df.loc[df['applicant_sex'] == 1, 'applicant_sex'] = 1\n",
    "df.loc[df['applicant_sex'] == 2, 'applicant_sex'] = 2\n",
    "df.loc[df['applicant_sex'] == 3, 'applicant_sex'] = np.nan\n",
    "df.loc[df['applicant_sex'] == 4, 'applicant_sex'] = np.nan\n",
    "df.loc[df['applicant_sex'] == 6, 'applicant_sex'] = 3"
   ]
  },
  {
   "cell_type": "code",
   "execution_count": 229,
   "id": "859e8b7e",
   "metadata": {},
   "outputs": [],
   "source": [
    "# co_applicant_sex\n",
    "df.loc[df['co_applicant_sex'] == 1, 'co_applicant_sex_category'] = 'Male'\n",
    "df.loc[df['co_applicant_sex'] == 2, 'co_applicant_sex_category'] = 'Female'\n",
    "df.loc[df['co_applicant_sex'] == 3, 'co_applicant_sex_category'] = np.nan\n",
    "df.loc[df['co_applicant_sex'] == 4, 'co_applicant_sex_category'] = np.nan\n",
    "df.loc[df['co_applicant_sex'] == 5, 'co_applicant_sex_category'] = np.nan\n",
    "df.loc[df['co_applicant_sex'] == 6, 'co_applicant_sex_category'] = 'Male and Female'\n",
    "\n",
    "df.loc[df['co_applicant_sex'] == 1, 'co_applicant_sex'] = 1\n",
    "df.loc[df['co_applicant_sex'] == 2, 'co_applicant_sex'] = 2\n",
    "df.loc[df['co_applicant_sex'] == 3, 'co_applicant_sex'] = np.nan\n",
    "df.loc[df['co_applicant_sex'] == 4, 'co_applicant_sex'] = np.nan\n",
    "df.loc[df['co_applicant_sex'] == 5, 'co_applicant_sex'] = np.nan\n",
    "df.loc[df['co_applicant_sex'] == 6, 'co_applicant_sex'] = 3"
   ]
  },
  {
   "cell_type": "code",
   "execution_count": 233,
   "id": "6a995212",
   "metadata": {},
   "outputs": [],
   "source": [
    "# applicant_sex_observed\n",
    "df.loc[df['applicant_sex_observed'] == 1, 'applicant_sex_observed_category'] = 'Collected on basis of visual observation'\n",
    "df.loc[df['applicant_sex_observed'] == 2, 'applicant_sex_observed_category'] = 'Not Collected on basis of visual observation'\n",
    "df.loc[df['applicant_sex_observed'] == 3, 'applicant_sex_observed_category'] = np.nan\n",
    "\n",
    "\n",
    "df.loc[df['applicant_sex_observed'] == 1, 'applicant_sex_observed'] = 1\n",
    "df.loc[df['applicant_sex_observed'] == 2, 'applicant_sex_observed'] = 0\n",
    "df.loc[df['applicant_sex_observed'] == 3, 'applicant_sex_observed'] = np.nan"
   ]
  },
  {
   "cell_type": "code",
   "execution_count": 234,
   "id": "07bee65c",
   "metadata": {},
   "outputs": [],
   "source": [
    "# co_applicant_sex_observed\n",
    "df.loc[df['co_applicant_sex_observed'] == 1, 'co_applicant_sex_observed_category'] = 'Collected on basis of visual observation'\n",
    "df.loc[df['co_applicant_sex_observed'] == 2, 'co_applicant_sex_observed_category'] = 'Not Collected on basis of visual observation'\n",
    "df.loc[df['co_applicant_sex_observed'] == 3, 'co_applicant_sex_observed_category'] = np.nan\n",
    "df.loc[df['co_applicant_sex_observed'] == 4, 'co_applicant_sex_observed_category'] = np.nan\n",
    "\n",
    "\n",
    "df.loc[df['co_applicant_sex_observed'] == 1, 'co_applicant_sex_observed'] = 1\n",
    "df.loc[df['co_applicant_sex_observed'] == 2, 'co_applicant_sex_observed'] = 0\n",
    "df.loc[df['co_applicant_sex_observed'] == 3, 'co_applicant_sex_observed'] = np.nan\n",
    "df.loc[df['co_applicant_sex_observed'] == 4, 'co_applicant_sex_observed'] = np.nan"
   ]
  },
  {
   "cell_type": "code",
   "execution_count": 245,
   "id": "b50ef61c",
   "metadata": {},
   "outputs": [],
   "source": [
    "# applicant_age\n",
    "df.loc[df['applicant_age'].astype('str') == '8888'] = np.nan\n",
    "df.loc[df['applicant_age'].astype('str') == '8888.0'] = np.nan\n",
    "    "
   ]
  },
  {
   "cell_type": "code",
   "execution_count": 249,
   "id": "7c3f778f",
   "metadata": {},
   "outputs": [],
   "source": [
    "# co_applicant_age\n",
    "df.loc[df['co_applicant_age'].astype('str') == '8888'] = np.nan\n",
    "df.loc[df['co_applicant_age'].astype('str') == '8888.0'] = np.nan\n",
    "df.loc[df['co_applicant_age'].astype('str') == '9999'] = np.nan\n",
    "df.loc[df['co_applicant_age'].astype('str') == '9999.0'] = np.nan"
   ]
  },
  {
   "cell_type": "code",
   "execution_count": 254,
   "id": "cd1fee7c",
   "metadata": {},
   "outputs": [],
   "source": [
    "# applicant_age_above_62\n",
    "df.loc[df['applicant_age_above_62'] == 'Yes', 'applicant_age_above_62'] = 1\n",
    "df.loc[df['applicant_age_above_62'] == 'No', 'applicant_age_above_62'] = 0\n",
    "df[f\"applicant_age_above_62\"] = pd.to_numeric(df[f\"applicant_age_above_62\"], errors=\"coerce\").astype('Int64')"
   ]
  },
  {
   "cell_type": "code",
   "execution_count": 261,
   "id": "1130db6b",
   "metadata": {},
   "outputs": [
    {
     "name": "stderr",
     "output_type": "stream",
     "text": [
      "/var/folders/88/q8wq3ss94k3bvmkq1j1f_j0w0000gn/T/ipykernel_91022/1508401795.py:4: PerformanceWarning: DataFrame is highly fragmented.  This is usually the result of calling `frame.insert` many times, which has poor performance.  Consider joining all columns at once using pd.concat(axis=1) instead. To get a de-fragmented frame, use `newframe = frame.copy()`\n",
      "  df[f\"coapplicant_age_above_62\"] = pd.to_numeric(df[f\"co_applicant_age_above_62\"], errors=\"coerce\").astype('Int64')\n"
     ]
    }
   ],
   "source": [
    "# co_applicant_age_above_62\n",
    "df.loc[df['co_applicant_age_above_62'] == 'Yes', 'co_applicant_age_above_62'] = 1\n",
    "df.loc[df['co_applicant_age_above_62'] == 'No', 'co_applicant_age_above_62'] = 0\n",
    "df[f\"coapplicant_age_above_62\"] = pd.to_numeric(df[f\"co_applicant_age_above_62\"], errors=\"coerce\").astype('Int64')"
   ]
  },
  {
   "cell_type": "code",
   "execution_count": 266,
   "id": "ad54fbf2",
   "metadata": {},
   "outputs": [],
   "source": [
    "# submission_of_application\n",
    "df[f\"submission_of_application\"] = pd.to_numeric(df[f\"submission_of_application\"], errors=\"coerce\").astype('Int64')\n",
    "df.loc[df['submission_of_application'] == 1, 'submission_of_application_category'] = 'Submitted directly to institution'\n",
    "df.loc[df['submission_of_application'] == 2, 'submission_of_application_category'] = 'Not Submitted to institution'\n",
    "df.loc[df['submission_of_application'] == 3, 'submission_of_application_category'] = np.nan\n",
    "df.loc[df['submission_of_application'] == 1111, 'submission_of_application_category'] = 'Exempt'\n",
    "\n",
    "df.loc[df['submission_of_application'] == 1, 'submission_of_application'] = 1\n",
    "df.loc[df['submission_of_application'] == 2, 'submission_of_application'] = 0\n",
    "df.loc[df['submission_of_application'] == 3, 'submission_of_application'] = np.nan\n",
    "df.loc[df['submission_of_application'] == 11111, 'submission_of_application'] = np.nan"
   ]
  },
  {
   "cell_type": "code",
   "execution_count": 271,
   "id": "c6baf165",
   "metadata": {},
   "outputs": [],
   "source": [
    "# initially_payable_to_institution\n",
    "df[f\"initially_payable_to_institution\"] = pd.to_numeric(df[f\"initially_payable_to_institution\"], errors=\"coerce\").astype('Int64')\n",
    "df.loc[df['initially_payable_to_institution'] == 1, 'initially_payable_to_institution_category'] = 'Initially Payable to Institution'\n",
    "df.loc[df['initially_payable_to_institution'] == 2, 'initially_payable_to_institution_category'] = 'Not Initially Payable to Institution'\n",
    "df.loc[df['initially_payable_to_institution'] == 3, 'initially_payable_to_institution_category'] = np.nan\n",
    "df.loc[df['initially_payable_to_institution'] == 1111, 'initially_payable_to_institution_category'] = 'Exempt'\n",
    "\n",
    "df.loc[df['initially_payable_to_institution'] == 1, 'initially_payable_to_institution'] = 1\n",
    "df.loc[df['initially_payable_to_institution'] == 2, 'initially_payable_to_institution'] = 0\n",
    "df.loc[df['initially_payable_to_institution'] == 3, 'initially_payable_to_institution'] = np.nan\n",
    "df.loc[df['initially_payable_to_institution'] == 1111, 'initially_payable_to_institution'] = np.nan"
   ]
  },
  {
   "cell_type": "code",
   "execution_count": 276,
   "id": "260ec5a4",
   "metadata": {},
   "outputs": [],
   "source": [
    "# aus_X\n",
    "for x in range(1, 6): \n",
    "    df[f\"aus_{x}\"] = pd.to_numeric(df[f\"aus_{x}\"], errors='coerce').astype('Int64')\n",
    "    df.loc[df[f\"aus_{x}\"] == 1, f\"aus_{x}_category\"] = 'Desktop Underwriter'\n",
    "    df.loc[df[f\"aus_{x}\"] == 2, f\"aus_{x}_category\"] = 'Loan Prospector or Loan Product Advisor'\n",
    "    df.loc[df[f\"aus_{x}\"] == 3, f\"aus_{x}_category\"] = 'Technology Open to Approved Lenders'\n",
    "    df.loc[df[f\"aus_{x}\"] == 4, f\"aus_{x}_category\"] = 'Guaranteed Underwriting System'\n",
    "    df.loc[df[f\"aus_{x}\"] == 5, f\"aus_{x}_category\"] = 'Other'\n",
    "    df.loc[df[f\"aus_{x}\"] == 6, f\"aus_{x}_category\"] = np.nan\n",
    "    df.loc[df[f\"aus_{x}\"] == 7, f\"aus_{x}_category\"] = 'Internal Proprietary System'\n",
    "    df.loc[df[f\"aus_{x}\"] == 1111, f\"aus_{x}_category\"] = 'Exempt'\n",
    "    \n",
    "    df.loc[df[f\"aus_{x}\"] == 6, f\"aus_{x}\"] = np.nan\n",
    "    df.loc[df[f\"aus_{x}\"] == 1111, f\"aus_{x}\"] = np.nan\n",
    "    "
   ]
  },
  {
   "cell_type": "code",
   "execution_count": 280,
   "id": "a8c6a21c",
   "metadata": {},
   "outputs": [],
   "source": [
    "# denial_reason_X\n",
    "for x in range(1, 5): \n",
    "    df[f\"denial_reason_{x}\"] = pd.to_numeric(df[f\"denial_reason_{x}\"], errors='coerce').astype('Int64')\n",
    "    df.loc[df[f\"denial_reason_{x}\"] == 1, f\"denial_reason_{x}_category\"] = 'Debt to Income Ratio'\n",
    "    df.loc[df[f\"denial_reason_{x}\"] == 2, f\"denial_reason_{x}_category\"] = 'Employment History'\n",
    "    df.loc[df[f\"denial_reason_{x}\"] == 3, f\"denial_reason_{x}_category\"] = 'Credit History'\n",
    "    df.loc[df[f\"denial_reason_{x}\"] == 4, f\"denial_reason_{x}_category\"] = 'Collateral'\n",
    "    df.loc[df[f\"denial_reason_{x}\"] == 5, f\"denial_reason_{x}_category\"] = 'Insufficient cash - downpayment or closing costs'\n",
    "    df.loc[df[f\"denial_reason_{x}\"] == 6, f\"denial_reason_{x}_category\"] = 'Unverifiable Information'\n",
    "    df.loc[df[f\"denial_reason_{x}\"] == 7, f\"denial_reason_{x}_category\"] = 'Credit application incomplete'\n",
    "    df.loc[df[f\"denial_reason_{x}\"] == 8, f\"denial_reason_{x}_category\"] = 'Mortgage insurance denied'\n",
    "    df.loc[df[f\"denial_reason_{x}\"] == 9, f\"denial_reason_{x}_category\"] = 'Other'\n",
    "    df.loc[df[f\"denial_reason_{x}\"] == 10, f\"denial_reason_{x}_category\"] = np.nan\n",
    "    \n",
    "    df.loc[df[f\"denial_reason_{x}\"] == 10, f\"denial_reason_{x}\"] = np.nan"
   ]
  },
  {
   "cell_type": "code",
   "execution_count": 284,
   "id": "3cfadb77",
   "metadata": {},
   "outputs": [],
   "source": [
    "# tract_population\n",
    "df['tract_population'] = pd.to_numeric(df['tract_population'], errors='coerce').astype('Int64')"
   ]
  },
  {
   "cell_type": "code",
   "execution_count": 291,
   "id": "e095b44f",
   "metadata": {},
   "outputs": [],
   "source": [
    "# ffiec_msa_md_median_family_income\n",
    "df['ffiec_msa_md_median_family_income'] = pd.to_numeric(df['ffiec_msa_md_median_family_income'], errors='coerce').astype('Int64')"
   ]
  },
  {
   "cell_type": "code",
   "execution_count": 298,
   "id": "d4272f98",
   "metadata": {},
   "outputs": [],
   "source": [
    "# tract_owner_occupied_units\n",
    "df['tract_owner_occupied_units'] = pd.to_numeric(df['tract_owner_occupied_units'], errors='coerce').astype('Int64')"
   ]
  },
  {
   "cell_type": "code",
   "execution_count": 302,
   "id": "eccdeb10",
   "metadata": {},
   "outputs": [],
   "source": [
    "# tract_one_to_four_family_homes\n",
    "df['tract_one_to_four_family_homes'] = pd.to_numeric(df['tract_one_to_four_family_homes'], errors='coerce').astype('Int64')"
   ]
  },
  {
   "cell_type": "code",
   "execution_count": 306,
   "id": "52f1ac76",
   "metadata": {},
   "outputs": [],
   "source": [
    "# tract_median_age_of_housing_units\n",
    "df['tract_median_age_of_housing_units'] = pd.to_numeric(df['tract_median_age_of_housing_units'], errors='coerce').astype('Int64')"
   ]
  },
  {
   "cell_type": "code",
   "execution_count": null,
   "id": "0121dc64",
   "metadata": {},
   "outputs": [],
   "source": []
  },
  {
   "cell_type": "code",
   "execution_count": 160,
   "id": "ffa01377",
   "metadata": {},
   "outputs": [
    {
     "data": {
      "text/html": [
       "<div>\n",
       "<style scoped>\n",
       "    .dataframe tbody tr th:only-of-type {\n",
       "        vertical-align: middle;\n",
       "    }\n",
       "\n",
       "    .dataframe tbody tr th {\n",
       "        vertical-align: top;\n",
       "    }\n",
       "\n",
       "    .dataframe thead th {\n",
       "        text-align: right;\n",
       "    }\n",
       "</style>\n",
       "<table border=\"1\" class=\"dataframe\">\n",
       "  <thead>\n",
       "    <tr style=\"text-align: right;\">\n",
       "      <th></th>\n",
       "      <th>activity_year</th>\n",
       "      <th>lei</th>\n",
       "      <th>derived_msa_md</th>\n",
       "      <th>state_code</th>\n",
       "      <th>county_code</th>\n",
       "      <th>census_tract</th>\n",
       "      <th>conforming_loan_limit</th>\n",
       "      <th>derived_loan_product_type</th>\n",
       "      <th>derived_dwelling_category</th>\n",
       "      <th>derived_ethnicity</th>\n",
       "      <th>...</th>\n",
       "      <th>hopea_status</th>\n",
       "      <th>negative_amortization_category</th>\n",
       "      <th>interest_only_payment_category</th>\n",
       "      <th>balloon_payment_category</th>\n",
       "      <th>other_nonamortizing_features_category</th>\n",
       "      <th>construction_method_category</th>\n",
       "      <th>occupancy_type_category</th>\n",
       "      <th>manufactured_home_secured_property_type_category</th>\n",
       "      <th>manufactured_home_land_property_interest_category</th>\n",
       "      <th>total_units_bucketed</th>\n",
       "    </tr>\n",
       "  </thead>\n",
       "  <tbody>\n",
       "  </tbody>\n",
       "</table>\n",
       "<p>0 rows × 120 columns</p>\n",
       "</div>"
      ],
      "text/plain": [
       "Empty DataFrame\n",
       "Columns: [activity_year, lei, derived_msa_md, state_code, county_code, census_tract, conforming_loan_limit, derived_loan_product_type, derived_dwelling_category, derived_ethnicity, derived_race, derived_sex, action_taken, purchaser_type, preapproval, loan_type, loan_purpose, lien_status, reverse_mortgage, open_end_line_of_credit, business_or_commercial_purpose, loan_amount, loan_to_value_ratio, interest_rate, rate_spread, hoepa_status, total_loan_costs, total_points_and_fees, origination_charges, discount_points, lender_credits, loan_term, prepayment_penalty_term, intro_rate_period, negative_amortization, interest_only_payment, balloon_payment, other_nonamortizing_features, property_value, construction_method, occupancy_type, manufactured_home_secured_property_type, manufactured_home_land_property_interest, total_units, multifamily_affordable_units, income, debt_to_income_ratio, applicant_credit_score_type, co_applicant_credit_score_type, applicant_ethnicity_1, applicant_ethnicity_2, applicant_ethnicity_3, applicant_ethnicity_4, applicant_ethnicity_5, co_applicant_ethnicity_1, co_applicant_ethnicity_2, co_applicant_ethnicity_3, co_applicant_ethnicity_4, co_applicant_ethnicity_5, applicant_ethnicity_observed, co_applicant_ethnicity_observed, applicant_race_1, applicant_race_2, applicant_race_3, applicant_race_4, applicant_race_5, co_applicant_race_1, co_applicant_race_2, co_applicant_race_3, co_applicant_race_4, co_applicant_race_5, applicant_race_observed, co_applicant_race_observed, applicant_sex, co_applicant_sex, applicant_sex_observed, co_applicant_sex_observed, applicant_age, co_applicant_age, applicant_age_above_62, co_applicant_age_above_62, submission_of_application, initially_payable_to_institution, aus_1, aus_2, aus_3, aus_4, aus_5, denial_reason_1, denial_reason_2, denial_reason_3, denial_reason_4, tract_population, tract_minority_population_percent, ffiec_msa_md_median_family_income, tract_to_msa_income_percentage, tract_owner_occupied_units, tract_one_to_four_family_homes, tract_median_age_of_housing_units, combined_loan_to_value_ratio, ...]\n",
       "Index: []\n",
       "\n",
       "[0 rows x 120 columns]"
      ]
     },
     "execution_count": 160,
     "metadata": {},
     "output_type": "execute_result"
    }
   ],
   "source": [
    "df.loc[df['income'] == 'Exempt']"
   ]
  },
  {
   "cell_type": "code",
   "execution_count": 307,
   "id": "817e3c5f",
   "metadata": {},
   "outputs": [
    {
     "data": {
      "text/plain": [
       "dtype('float64')"
      ]
     },
     "execution_count": 307,
     "metadata": {},
     "output_type": "execute_result"
    }
   ],
   "source": [
    "df.combined_loan_to_value_ratio.dtype"
   ]
  },
  {
   "cell_type": "code",
   "execution_count": 308,
   "id": "84b39859",
   "metadata": {},
   "outputs": [
    {
     "data": {
      "text/plain": [
       "99789"
      ]
     },
     "execution_count": 308,
     "metadata": {},
     "output_type": "execute_result"
    }
   ],
   "source": [
    "df.combined_loan_to_value_ratio.isnull().sum()"
   ]
  },
  {
   "cell_type": "code",
   "execution_count": 309,
   "id": "900c2863",
   "metadata": {},
   "outputs": [
    {
     "data": {
      "text/plain": [
       "combined_loan_to_value_ratio\n",
       "80.000    2165\n",
       "95.000    1504\n",
       "75.000    1189\n",
       "96.500     986\n",
       "90.000     860\n",
       "          ... \n",
       "64.921       1\n",
       "84.194       1\n",
       "90.466       1\n",
       "41.040       1\n",
       "51.688       1\n",
       "Name: count, Length: 10354, dtype: int64"
      ]
     },
     "execution_count": 309,
     "metadata": {},
     "output_type": "execute_result"
    }
   ],
   "source": [
    "df.combined_loan_to_value_ratio.value_counts()"
   ]
  }
 ],
 "metadata": {
  "kernelspec": {
   "display_name": "Python 3 (ipykernel)",
   "language": "python",
   "name": "python3"
  },
  "language_info": {
   "codemirror_mode": {
    "name": "ipython",
    "version": 3
   },
   "file_extension": ".py",
   "mimetype": "text/x-python",
   "name": "python",
   "nbconvert_exporter": "python",
   "pygments_lexer": "ipython3",
   "version": "3.11.6"
  }
 },
 "nbformat": 4,
 "nbformat_minor": 5
}
